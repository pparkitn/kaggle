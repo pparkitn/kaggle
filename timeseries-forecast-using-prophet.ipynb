{
 "cells": [
  {
   "cell_type": "code",
   "execution_count": 1,
   "id": "525f7790",
   "metadata": {
    "_cell_guid": "b1076dfc-b9ad-4769-8c92-a6c4dae69d19",
    "_uuid": "8f2839f25d086af736a60e9eeb907d3b93b6e0e5",
    "execution": {
     "iopub.execute_input": "2024-02-26T18:25:34.536386Z",
     "iopub.status.busy": "2024-02-26T18:25:34.535738Z",
     "iopub.status.idle": "2024-02-26T18:25:37.878280Z",
     "shell.execute_reply": "2024-02-26T18:25:37.876912Z"
    },
    "papermill": {
     "duration": 3.349963,
     "end_time": "2024-02-26T18:25:37.881080",
     "exception": false,
     "start_time": "2024-02-26T18:25:34.531117",
     "status": "completed"
    },
    "tags": []
   },
   "outputs": [],
   "source": [
    "import numpy as np # linear algebra\n",
    "import pandas as pd # data processing, CSV file I/O (e.g. pd.read_csv)\n",
    "\n",
    "from prophet import Prophet\n",
    "from prophet.plot import plot_plotly\n",
    "from prophet.plot import add_changepoints_to_plot\n",
    "\n",
    "\n",
    "import matplotlib.pyplot as plt\n",
    "\n",
    "import seaborn as sns\n",
    "import matplotlib"
   ]
  },
  {
   "cell_type": "code",
   "execution_count": 2,
   "id": "c45243fd",
   "metadata": {
    "execution": {
     "iopub.execute_input": "2024-02-26T18:25:37.887743Z",
     "iopub.status.busy": "2024-02-26T18:25:37.887041Z",
     "iopub.status.idle": "2024-02-26T18:25:37.893360Z",
     "shell.execute_reply": "2024-02-26T18:25:37.892066Z"
    },
    "papermill": {
     "duration": 0.012105,
     "end_time": "2024-02-26T18:25:37.895645",
     "exception": false,
     "start_time": "2024-02-26T18:25:37.883540",
     "status": "completed"
    },
    "tags": []
   },
   "outputs": [],
   "source": [
    "table_link = \"https://www150.statcan.gc.ca/t1/tbl1/en/dtl!downloadDbLoadingData-nonTraduit.action?pid=1810000401&latestN=0&startDate=20100901&endDate=20240101&csvLocale=en&selectedMembers=%5B%5B2%5D%2C%5B2%2C3%2C79%2C96%2C139%2C176%2C184%2C201%2C219%2C256%2C274%2C282%2C285%2C287%2C288%5D%5D&checkedLevels=\""
   ]
  },
  {
   "cell_type": "code",
   "execution_count": null,
   "id": "1040ad11",
   "metadata": {
    "papermill": {
     "duration": 0.002291,
     "end_time": "2024-02-26T18:25:37.900190",
     "exception": false,
     "start_time": "2024-02-26T18:25:37.897899",
     "status": "completed"
    },
    "tags": []
   },
   "outputs": [],
   "source": []
  }
 ],
 "metadata": {
  "kaggle": {
   "accelerator": "none",
   "dataSources": [],
   "dockerImageVersionId": 30646,
   "isGpuEnabled": false,
   "isInternetEnabled": true,
   "language": "python",
   "sourceType": "notebook"
  },
  "kernelspec": {
   "display_name": "Python 3",
   "language": "python",
   "name": "python3"
  },
  "language_info": {
   "codemirror_mode": {
    "name": "ipython",
    "version": 3
   },
   "file_extension": ".py",
   "mimetype": "text/x-python",
   "name": "python",
   "nbconvert_exporter": "python",
   "pygments_lexer": "ipython3",
   "version": "3.10.13"
  },
  "papermill": {
   "default_parameters": {},
   "duration": 7.310138,
   "end_time": "2024-02-26T18:25:38.626159",
   "environment_variables": {},
   "exception": null,
   "input_path": "__notebook__.ipynb",
   "output_path": "__notebook__.ipynb",
   "parameters": {},
   "start_time": "2024-02-26T18:25:31.316021",
   "version": "2.5.0"
  }
 },
 "nbformat": 4,
 "nbformat_minor": 5
}
