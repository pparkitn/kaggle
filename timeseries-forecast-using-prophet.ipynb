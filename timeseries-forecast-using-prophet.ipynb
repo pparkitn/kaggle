{
 "cells": [
  {
   "cell_type": "code",
   "execution_count": 1,
   "id": "118a55b9",
   "metadata": {
    "_cell_guid": "b1076dfc-b9ad-4769-8c92-a6c4dae69d19",
    "_uuid": "8f2839f25d086af736a60e9eeb907d3b93b6e0e5",
    "execution": {
     "iopub.execute_input": "2024-02-26T18:25:52.348946Z",
     "iopub.status.busy": "2024-02-26T18:25:52.348302Z",
     "iopub.status.idle": "2024-02-26T18:25:55.459273Z",
     "shell.execute_reply": "2024-02-26T18:25:55.458152Z"
    },
    "papermill": {
     "duration": 3.118617,
     "end_time": "2024-02-26T18:25:55.462140",
     "exception": false,
     "start_time": "2024-02-26T18:25:52.343523",
     "status": "completed"
    },
    "tags": []
   },
   "outputs": [],
   "source": [
    "import numpy as np # linear algebra\n",
    "import pandas as pd # data processing, CSV file I/O (e.g. pd.read_csv)\n",
    "import matplotlib.pyplot as plt\n",
    "import seaborn as sns\n",
    "import matplotlib\n",
    "\n",
    "from prophet import Prophet\n",
    "from prophet.plot import plot_plotly\n",
    "from prophet.plot import add_changepoints_to_plot"
   ]
  },
  {
   "cell_type": "code",
   "execution_count": 2,
   "id": "8624730d",
   "metadata": {
    "execution": {
     "iopub.execute_input": "2024-02-26T18:25:55.468276Z",
     "iopub.status.busy": "2024-02-26T18:25:55.467756Z",
     "iopub.status.idle": "2024-02-26T18:25:55.472457Z",
     "shell.execute_reply": "2024-02-26T18:25:55.471389Z"
    },
    "papermill": {
     "duration": 0.010149,
     "end_time": "2024-02-26T18:25:55.474669",
     "exception": false,
     "start_time": "2024-02-26T18:25:55.464520",
     "status": "completed"
    },
    "tags": []
   },
   "outputs": [],
   "source": [
    "table_link = \"https://www150.statcan.gc.ca/t1/tbl1/en/dtl!downloadDbLoadingData-nonTraduit.action?pid=1810000401&latestN=0&startDate=20100901&endDate=20240101&csvLocale=en&selectedMembers=%5B%5B2%5D%2C%5B2%2C3%2C79%2C96%2C139%2C176%2C184%2C201%2C219%2C256%2C274%2C282%2C285%2C287%2C288%5D%5D&checkedLevels=\""
   ]
  },
  {
   "cell_type": "code",
   "execution_count": null,
   "id": "4cd08c5a",
   "metadata": {
    "papermill": {
     "duration": 0.001834,
     "end_time": "2024-02-26T18:25:55.478682",
     "exception": false,
     "start_time": "2024-02-26T18:25:55.476848",
     "status": "completed"
    },
    "tags": []
   },
   "outputs": [],
   "source": []
  }
 ],
 "metadata": {
  "kaggle": {
   "accelerator": "none",
   "dataSources": [],
   "dockerImageVersionId": 30646,
   "isGpuEnabled": false,
   "isInternetEnabled": true,
   "language": "python",
   "sourceType": "notebook"
  },
  "kernelspec": {
   "display_name": "Python 3",
   "language": "python",
   "name": "python3"
  },
  "language_info": {
   "codemirror_mode": {
    "name": "ipython",
    "version": 3
   },
   "file_extension": ".py",
   "mimetype": "text/x-python",
   "name": "python",
   "nbconvert_exporter": "python",
   "pygments_lexer": "ipython3",
   "version": "3.10.13"
  },
  "papermill": {
   "default_parameters": {},
   "duration": 9.068543,
   "end_time": "2024-02-26T18:25:58.488021",
   "environment_variables": {},
   "exception": null,
   "input_path": "__notebook__.ipynb",
   "output_path": "__notebook__.ipynb",
   "parameters": {},
   "start_time": "2024-02-26T18:25:49.419478",
   "version": "2.5.0"
  }
 },
 "nbformat": 4,
 "nbformat_minor": 5
}
