{
 "cells": [
  {
   "cell_type": "code",
   "execution_count": 1,
   "id": "b153d2c8",
   "metadata": {
    "_kg_hide-input": true,
    "execution": {
     "iopub.execute_input": "2024-11-24T00:47:16.986172Z",
     "iopub.status.busy": "2024-11-24T00:47:16.985755Z",
     "iopub.status.idle": "2024-11-24T00:47:16.998756Z",
     "shell.execute_reply": "2024-11-24T00:47:16.997612Z"
    },
    "jupyter": {
     "source_hidden": true
    },
    "papermill": {
     "duration": 0.023547,
     "end_time": "2024-11-24T00:47:17.001124",
     "exception": false,
     "start_time": "2024-11-24T00:47:16.977577",
     "status": "completed"
    },
    "tags": []
   },
   "outputs": [
    {
     "data": {
      "text/html": [
       "<img src=\"https://github.com/pparkitn/kaggle/blob/0718c0df988ff8e94e8421ba218e07494d3e1682/Images/Customer_Matching.png?raw=true\" alt=\"Customer Matching\" style=\"max-width:100%;\">"
      ],
      "text/plain": [
       "<IPython.core.display.HTML object>"
      ]
     },
     "metadata": {},
     "output_type": "display_data"
    }
   ],
   "source": [
    "from IPython.display import HTML, display\n",
    "\n",
    "url = \"https://github.com/pparkitn/kaggle/blob/0718c0df988ff8e94e8421ba218e07494d3e1682/Images/Customer_Matching.png?raw=true\"\n",
    "display(HTML(f'<img src=\"{url}\" alt=\"Customer Matching\" style=\"max-width:100%;\">'))\n"
   ]
  },
  {
   "cell_type": "markdown",
   "id": "687591d7",
   "metadata": {
    "_cell_guid": "5d8ce3a6-38d0-408c-af8e-da9f91815f55",
    "_uuid": "96724569-d781-4713-a9f3-74b98a8f4259",
    "collapsed": false,
    "jupyter": {
     "outputs_hidden": false
    },
    "papermill": {
     "duration": 0.005509,
     "end_time": "2024-11-24T00:47:17.012778",
     "exception": false,
     "start_time": "2024-11-24T00:47:17.007269",
     "status": "completed"
    },
    "tags": []
   },
   "source": [
    "# Matching Customers\n",
    "- This code outlines a process for matching customers from a database based on various string similarity measures and leveraging record linkage techniques. The overall objective is to identify potential duplicate or matching customer records by comparing their details such as names, emails, and addresses.\n",
    "- Levenshtein: For computing string similarity using the Levenshtein distance.\n",
    "- fuzzymatcher: A library for record linkage (matching records from different datasets).\n",
    "- recordlinkage: Another package for record linkage, enabling comparison of potential matching records.\n",
    "\n",
    "## Key Concepts:\n",
    "- Record Linkage: The process of identifying records in a dataset that refer to the same entity but are not identical (e.g., duplicate records with slight variations).\n",
    "- String Similarity Metrics: Measures like Levenshtein distance and token-based ratios are used to quantify how similar two strings are, which is central to the matching process.\n",
    "- Thresholding and Scoring: Potential matches are scored, and only those above a defined threshold are retained for further analysis.\n",
    "\n",
    "In summary, this code demonstrates how to use string matching and record linkage techniques to identify and match similar customer records in a dataset, which is useful in applications like data cleaning, deduplication, or fraud detection."
   ]
  },
  {
   "cell_type": "code",
   "execution_count": 2,
   "id": "e16ce399",
   "metadata": {
    "_cell_guid": "e4a07929-6f68-4bd1-b907-eea52a21129b",
    "_kg_hide-input": true,
    "_uuid": "64be9d23-25b1-4ebd-9e97-3b63078be03a",
    "execution": {
     "iopub.execute_input": "2024-11-24T00:47:17.025584Z",
     "iopub.status.busy": "2024-11-24T00:47:17.025212Z",
     "iopub.status.idle": "2024-11-24T00:47:53.445892Z",
     "shell.execute_reply": "2024-11-24T00:47:53.444580Z"
    },
    "jupyter": {
     "source_hidden": true
    },
    "papermill": {
     "duration": 36.430118,
     "end_time": "2024-11-24T00:47:53.448510",
     "exception": false,
     "start_time": "2024-11-24T00:47:17.018392",
     "status": "completed"
    },
    "tags": []
   },
   "outputs": [
    {
     "name": "stdout",
     "output_type": "stream",
     "text": [
      "Collecting Levenshtein\r\n",
      "  Downloading levenshtein-0.26.1-cp310-cp310-manylinux_2_17_x86_64.manylinux2014_x86_64.whl.metadata (3.2 kB)\r\n",
      "Collecting rapidfuzz<4.0.0,>=3.9.0 (from Levenshtein)\r\n",
      "  Downloading rapidfuzz-3.10.1-cp310-cp310-manylinux_2_17_x86_64.manylinux2014_x86_64.whl.metadata (11 kB)\r\n",
      "Downloading levenshtein-0.26.1-cp310-cp310-manylinux_2_17_x86_64.manylinux2014_x86_64.whl (162 kB)\r\n",
      "\u001b[2K   \u001b[90m━━━━━━━━━━━━━━━━━━━━━━━━━━━━━━━━━━━━━━━━\u001b[0m \u001b[32m162.6/162.6 kB\u001b[0m \u001b[31m7.2 MB/s\u001b[0m eta \u001b[36m0:00:00\u001b[0m\r\n",
      "\u001b[?25hDownloading rapidfuzz-3.10.1-cp310-cp310-manylinux_2_17_x86_64.manylinux2014_x86_64.whl (3.1 MB)\r\n",
      "\u001b[2K   \u001b[90m━━━━━━━━━━━━━━━━━━━━━━━━━━━━━━━━━━━━━━━━\u001b[0m \u001b[32m3.1/3.1 MB\u001b[0m \u001b[31m67.3 MB/s\u001b[0m eta \u001b[36m0:00:00\u001b[0m\r\n",
      "\u001b[?25hInstalling collected packages: rapidfuzz, Levenshtein\r\n",
      "Successfully installed Levenshtein-0.26.1 rapidfuzz-3.10.1\r\n",
      "Collecting fuzzymatcher\r\n",
      "  Downloading fuzzymatcher-0.0.6-py3-none-any.whl.metadata (560 bytes)\r\n",
      "Requirement already satisfied: pandas in /opt/conda/lib/python3.10/site-packages (from fuzzymatcher) (2.2.3)\r\n",
      "Collecting metaphone (from fuzzymatcher)\r\n",
      "  Downloading Metaphone-0.6.tar.gz (14 kB)\r\n",
      "  Preparing metadata (setup.py) ... \u001b[?25l-\b \bdone\r\n",
      "\u001b[?25hCollecting python-Levenshtein (from fuzzymatcher)\r\n",
      "  Downloading python_Levenshtein-0.26.1-py3-none-any.whl.metadata (3.7 kB)\r\n",
      "Requirement already satisfied: rapidfuzz in /opt/conda/lib/python3.10/site-packages (from fuzzymatcher) (3.10.1)\r\n",
      "Requirement already satisfied: python-dateutil in /opt/conda/lib/python3.10/site-packages (from fuzzymatcher) (2.9.0.post0)\r\n",
      "Requirement already satisfied: numpy>=1.22.4 in /opt/conda/lib/python3.10/site-packages (from pandas->fuzzymatcher) (1.26.4)\r\n",
      "Requirement already satisfied: pytz>=2020.1 in /opt/conda/lib/python3.10/site-packages (from pandas->fuzzymatcher) (2024.1)\r\n",
      "Requirement already satisfied: tzdata>=2022.7 in /opt/conda/lib/python3.10/site-packages (from pandas->fuzzymatcher) (2024.1)\r\n",
      "Requirement already satisfied: six>=1.5 in /opt/conda/lib/python3.10/site-packages (from python-dateutil->fuzzymatcher) (1.16.0)\r\n",
      "Requirement already satisfied: Levenshtein==0.26.1 in /opt/conda/lib/python3.10/site-packages (from python-Levenshtein->fuzzymatcher) (0.26.1)\r\n",
      "Downloading fuzzymatcher-0.0.6-py3-none-any.whl (15 kB)\r\n",
      "Downloading python_Levenshtein-0.26.1-py3-none-any.whl (9.4 kB)\r\n",
      "Building wheels for collected packages: metaphone\r\n",
      "  Building wheel for metaphone (setup.py) ... \u001b[?25l-\b \b\\\b \bdone\r\n",
      "\u001b[?25h  Created wheel for metaphone: filename=Metaphone-0.6-py3-none-any.whl size=13902 sha256=def979576f712ace1bd79d273a350b9d39dd9ebbd59d79ea634a42234f6cb135\r\n",
      "  Stored in directory: /root/.cache/pip/wheels/23/dd/1d/6cdd346605db62bde1f60954155e9ce48f4681c243f265b704\r\n",
      "Successfully built metaphone\r\n",
      "Installing collected packages: metaphone, python-Levenshtein, fuzzymatcher\r\n",
      "Successfully installed fuzzymatcher-0.0.6 metaphone-0.6 python-Levenshtein-0.26.1\r\n",
      "Collecting recordlinkage\r\n",
      "  Downloading recordlinkage-0.16-py3-none-any.whl.metadata (8.1 kB)\r\n",
      "Collecting jellyfish>=1 (from recordlinkage)\r\n",
      "  Downloading jellyfish-1.1.0-cp310-cp310-manylinux_2_17_x86_64.manylinux2014_x86_64.whl.metadata (2.6 kB)\r\n",
      "Requirement already satisfied: numpy>=1.13 in /opt/conda/lib/python3.10/site-packages (from recordlinkage) (1.26.4)\r\n",
      "Requirement already satisfied: pandas<3,>=1 in /opt/conda/lib/python3.10/site-packages (from recordlinkage) (2.2.3)\r\n",
      "Requirement already satisfied: scipy>=1 in /opt/conda/lib/python3.10/site-packages (from recordlinkage) (1.14.1)\r\n",
      "Requirement already satisfied: scikit-learn>=1 in /opt/conda/lib/python3.10/site-packages (from recordlinkage) (1.2.2)\r\n",
      "Requirement already satisfied: joblib in /opt/conda/lib/python3.10/site-packages (from recordlinkage) (1.4.2)\r\n",
      "Requirement already satisfied: python-dateutil>=2.8.2 in /opt/conda/lib/python3.10/site-packages (from pandas<3,>=1->recordlinkage) (2.9.0.post0)\r\n",
      "Requirement already satisfied: pytz>=2020.1 in /opt/conda/lib/python3.10/site-packages (from pandas<3,>=1->recordlinkage) (2024.1)\r\n",
      "Requirement already satisfied: tzdata>=2022.7 in /opt/conda/lib/python3.10/site-packages (from pandas<3,>=1->recordlinkage) (2024.1)\r\n",
      "Requirement already satisfied: threadpoolctl>=2.0.0 in /opt/conda/lib/python3.10/site-packages (from scikit-learn>=1->recordlinkage) (3.5.0)\r\n",
      "Requirement already satisfied: six>=1.5 in /opt/conda/lib/python3.10/site-packages (from python-dateutil>=2.8.2->pandas<3,>=1->recordlinkage) (1.16.0)\r\n",
      "Downloading recordlinkage-0.16-py3-none-any.whl (926 kB)\r\n",
      "\u001b[2K   \u001b[90m━━━━━━━━━━━━━━━━━━━━━━━━━━━━━━━━━━━━━━━━\u001b[0m \u001b[32m926.9/926.9 kB\u001b[0m \u001b[31m24.4 MB/s\u001b[0m eta \u001b[36m0:00:00\u001b[0m\r\n",
      "\u001b[?25hDownloading jellyfish-1.1.0-cp310-cp310-manylinux_2_17_x86_64.manylinux2014_x86_64.whl (335 kB)\r\n",
      "\u001b[2K   \u001b[90m━━━━━━━━━━━━━━━━━━━━━━━━━━━━━━━━━━━━━━━━\u001b[0m \u001b[32m336.0/336.0 kB\u001b[0m \u001b[31m19.5 MB/s\u001b[0m eta \u001b[36m0:00:00\u001b[0m\r\n",
      "\u001b[?25hInstalling collected packages: jellyfish, recordlinkage\r\n",
      "Successfully installed jellyfish-1.1.0 recordlinkage-0.16\r\n"
     ]
    }
   ],
   "source": [
    "!pip install Levenshtein\n",
    "!pip install fuzzymatcher\n",
    "!pip install recordlinkage"
   ]
  },
  {
   "cell_type": "code",
   "execution_count": 3,
   "id": "d7f5fee2",
   "metadata": {
    "_cell_guid": "a0002f19-1466-4909-876a-49322a1f351e",
    "_kg_hide-input": true,
    "_uuid": "745e1fb2-fc11-4ba6-979d-c7ec7a85d8b2",
    "execution": {
     "iopub.execute_input": "2024-11-24T00:47:53.466775Z",
     "iopub.status.busy": "2024-11-24T00:47:53.466253Z",
     "iopub.status.idle": "2024-11-24T00:47:56.816584Z",
     "shell.execute_reply": "2024-11-24T00:47:56.815572Z"
    },
    "jupyter": {
     "source_hidden": true
    },
    "papermill": {
     "duration": 3.36328,
     "end_time": "2024-11-24T00:47:56.819220",
     "exception": false,
     "start_time": "2024-11-24T00:47:53.455940",
     "status": "completed"
    },
    "tags": []
   },
   "outputs": [],
   "source": [
    "from fuzzywuzzy import fuzz\n",
    "import math\n",
    "import pandas as pd\n",
    "import numpy as np\n",
    "import glob, os\n",
    "from datetime import datetime, timedelta\n",
    "import csv\n",
    "from tqdm import tqdm\n",
    "from cryptography.fernet import Fernet\n",
    "import Levenshtein as lev\n",
    "import getpass\n",
    "import base64\n",
    "import sqlalchemy as sa\n",
    "from sqlalchemy.engine import URL\n",
    "from sqlalchemy import create_engine\n",
    "\n",
    "# Database interaction imports\n",
    "import csv, sqlite3\n",
    "\n",
    "import pandas as pd\n",
    "from pathlib import Path\n",
    "import fuzzymatcher\n",
    "import recordlinkage"
   ]
  },
  {
   "cell_type": "markdown",
   "id": "0e8419d8",
   "metadata": {
    "papermill": {
     "duration": 0.006914,
     "end_time": "2024-11-24T00:47:56.833780",
     "exception": false,
     "start_time": "2024-11-24T00:47:56.826866",
     "status": "completed"
    },
    "tags": []
   },
   "source": [
    "## Read Data from Database\n",
    "- The SQLite database file Sonify_DB.db is read, and the Dim_Customers table is loaded into a pandas DataFrame. \n",
    "- Only the first 500 rows are selected for simplicity in processing."
   ]
  },
  {
   "cell_type": "code",
   "execution_count": 4,
   "id": "b44f7dae",
   "metadata": {
    "_cell_guid": "4609e0ad-330b-46e6-861a-4743c7ded8d2",
    "_uuid": "24d34be8-bd29-4672-a64a-50b866206dea",
    "collapsed": false,
    "execution": {
     "iopub.execute_input": "2024-11-24T00:47:56.849954Z",
     "iopub.status.busy": "2024-11-24T00:47:56.849453Z",
     "iopub.status.idle": "2024-11-24T00:47:57.162946Z",
     "shell.execute_reply": "2024-11-24T00:47:57.161831Z"
    },
    "jupyter": {
     "outputs_hidden": false
    },
    "papermill": {
     "duration": 0.324264,
     "end_time": "2024-11-24T00:47:57.165225",
     "exception": false,
     "start_time": "2024-11-24T00:47:56.840961",
     "status": "completed"
    },
    "tags": []
   },
   "outputs": [
    {
     "data": {
      "text/html": [
       "<div>\n",
       "<style scoped>\n",
       "    .dataframe tbody tr th:only-of-type {\n",
       "        vertical-align: middle;\n",
       "    }\n",
       "\n",
       "    .dataframe tbody tr th {\n",
       "        vertical-align: top;\n",
       "    }\n",
       "\n",
       "    .dataframe thead th {\n",
       "        text-align: right;\n",
       "    }\n",
       "</style>\n",
       "<table border=\"1\" class=\"dataframe\">\n",
       "  <thead>\n",
       "    <tr style=\"text-align: right;\">\n",
       "      <th></th>\n",
       "      <th>Customer_ID</th>\n",
       "      <th>Country</th>\n",
       "      <th>Province</th>\n",
       "      <th>FirstName</th>\n",
       "      <th>LastName</th>\n",
       "      <th>PostalCode</th>\n",
       "      <th>email</th>\n",
       "    </tr>\n",
       "  </thead>\n",
       "  <tbody>\n",
       "    <tr>\n",
       "      <th>0</th>\n",
       "      <td>100000</td>\n",
       "      <td>Canada</td>\n",
       "      <td>New Brunswick</td>\n",
       "      <td>Gabriel</td>\n",
       "      <td>Mitchell</td>\n",
       "      <td>D4Y 5L7</td>\n",
       "      <td>gabriel.mitchell@gmail.com</td>\n",
       "    </tr>\n",
       "  </tbody>\n",
       "</table>\n",
       "</div>"
      ],
      "text/plain": [
       "   Customer_ID Country       Province FirstName  LastName PostalCode  \\\n",
       "0       100000  Canada  New Brunswick   Gabriel  Mitchell    D4Y 5L7   \n",
       "\n",
       "                        email  \n",
       "0  gabriel.mitchell@gmail.com  "
      ]
     },
     "execution_count": 4,
     "metadata": {},
     "output_type": "execute_result"
    }
   ],
   "source": [
    "db_file = \"/kaggle/input/sonify-synthetic-music-service/Sonify_DB.db\"\n",
    "\n",
    "con = sqlite3.connect(db_file) \n",
    "Dim_Customers_df = pd.read_sql_query(\"\"\"SELECT * from Dim_Customers\"\"\", con)\n",
    "con.close()\n",
    "Dim_Customers_df = Dim_Customers_df.head(500)\n",
    "Dim_Customers_df.head(1)"
   ]
  },
  {
   "cell_type": "markdown",
   "id": "4f060de6",
   "metadata": {
    "papermill": {
     "duration": 0.007226,
     "end_time": "2024-11-24T00:47:57.180100",
     "exception": false,
     "start_time": "2024-11-24T00:47:57.172874",
     "status": "completed"
    },
    "tags": []
   },
   "source": [
    "## String Matching Examples\n",
    "- Several string matching methods are tested on two example strings ('Peter' and 'Peter2'):\n",
    "- token_set_ratio: Tokenizes strings and compares the sets.\n",
    "- Levenshtein ratio: Measures the distance between two strings.\n",
    "- fuzz.ratio, partial_ratio, and token_sort_ratio: Different comparison methods provided by the fuzzywuzzy library."
   ]
  },
  {
   "cell_type": "code",
   "execution_count": 5,
   "id": "cd1ed352",
   "metadata": {
    "_cell_guid": "72c3672d-6a33-4492-818d-8f4f96c9c00c",
    "_uuid": "91b2740d-4025-403c-a10a-d28ae1232322",
    "collapsed": false,
    "execution": {
     "iopub.execute_input": "2024-11-24T00:47:57.196976Z",
     "iopub.status.busy": "2024-11-24T00:47:57.196127Z",
     "iopub.status.idle": "2024-11-24T00:47:57.203364Z",
     "shell.execute_reply": "2024-11-24T00:47:57.202247Z"
    },
    "jupyter": {
     "outputs_hidden": false
    },
    "papermill": {
     "duration": 0.01865,
     "end_time": "2024-11-24T00:47:57.206086",
     "exception": false,
     "start_time": "2024-11-24T00:47:57.187436",
     "status": "completed"
    },
    "tags": []
   },
   "outputs": [
    {
     "name": "stdout",
     "output_type": "stream",
     "text": [
      "91\n",
      "0.9090909090909091\n",
      "91\n",
      "100\n",
      "91\n"
     ]
    }
   ],
   "source": [
    "str1 = 'Peter'\n",
    "str2 = 'Peter2'\n",
    "\n",
    "result = fuzz.token_set_ratio(str1,str2)\n",
    "print(result)\n",
    "\n",
    "result = lev.ratio(str1,str2)\n",
    "print(result)\n",
    "\n",
    "result = fuzz.ratio(str1,str2)\n",
    "print(result)\n",
    "\n",
    "result = fuzz.partial_ratio(str1,str2)\n",
    "print(result)\n",
    "\n",
    "result = fuzz.token_sort_ratio(str1,str2)    \n",
    "print(result)"
   ]
  },
  {
   "cell_type": "markdown",
   "id": "5f1231f5",
   "metadata": {
    "papermill": {
     "duration": 0.007199,
     "end_time": "2024-11-24T00:47:57.220926",
     "exception": false,
     "start_time": "2024-11-24T00:47:57.213727",
     "status": "completed"
    },
    "tags": []
   },
   "source": [
    "## Record Linkage Indexing\n",
    "- The recordlinkage.Index() class is used to create pairs of customer records (candidates) to be compared. This step generates pairs of rows from the Dim_Customers_df DataFrame for potential matching."
   ]
  },
  {
   "cell_type": "code",
   "execution_count": 6,
   "id": "71e2ca60",
   "metadata": {
    "_cell_guid": "3b3156de-f86a-4e22-8910-d194993afc2b",
    "_uuid": "6ed4584a-e030-42e3-b288-1db9f679ba85",
    "collapsed": false,
    "execution": {
     "iopub.execute_input": "2024-11-24T00:47:57.237871Z",
     "iopub.status.busy": "2024-11-24T00:47:57.237328Z",
     "iopub.status.idle": "2024-11-24T00:47:57.252280Z",
     "shell.execute_reply": "2024-11-24T00:47:57.251185Z"
    },
    "jupyter": {
     "outputs_hidden": false
    },
    "papermill": {
     "duration": 0.026035,
     "end_time": "2024-11-24T00:47:57.254406",
     "exception": false,
     "start_time": "2024-11-24T00:47:57.228371",
     "status": "completed"
    },
    "tags": []
   },
   "outputs": [
    {
     "name": "stdout",
     "output_type": "stream",
     "text": [
      "WARNING:recordlinkage:indexing - performance warning - A full index can result in large number of record pairs.\n",
      "250000\n"
     ]
    }
   ],
   "source": [
    "indexer = recordlinkage.Index()\n",
    "indexer.full()\n",
    "candidates = indexer.index(Dim_Customers_df, Dim_Customers_df)\n",
    "print(len(candidates))"
   ]
  },
  {
   "cell_type": "markdown",
   "id": "560f3bc2",
   "metadata": {
    "papermill": {
     "duration": 0.007354,
     "end_time": "2024-11-24T00:47:57.269520",
     "exception": false,
     "start_time": "2024-11-24T00:47:57.262166",
     "status": "completed"
    },
    "tags": []
   },
   "source": [
    "## Comparison of Customer Records\n",
    "- The Compare class from recordlinkage is used to define a set of comparisons between customer records:\n",
    "- Exact matches for columns like Province and email.\n",
    "- String comparisons for columns like FirstName, LastName, and Country, with a threshold of 0.85 for similarity."
   ]
  },
  {
   "cell_type": "code",
   "execution_count": 7,
   "id": "a5c06ff1",
   "metadata": {
    "_cell_guid": "2c401eb6-50a3-4931-90ba-7fc02bb51bad",
    "_uuid": "9b799eb1-4cf9-419d-a575-6bad9408be44",
    "collapsed": false,
    "execution": {
     "iopub.execute_input": "2024-11-24T00:47:57.286814Z",
     "iopub.status.busy": "2024-11-24T00:47:57.285992Z",
     "iopub.status.idle": "2024-11-24T00:48:02.502511Z",
     "shell.execute_reply": "2024-11-24T00:48:02.501109Z"
    },
    "jupyter": {
     "outputs_hidden": false
    },
    "papermill": {
     "duration": 5.228302,
     "end_time": "2024-11-24T00:48:02.505526",
     "exception": false,
     "start_time": "2024-11-24T00:47:57.277224",
     "status": "completed"
    },
    "tags": []
   },
   "outputs": [
    {
     "name": "stdout",
     "output_type": "stream",
     "text": [
      "CPU times: user 80.7 ms, sys: 118 ms, total: 199 ms\n",
      "Wall time: 5.21 s\n"
     ]
    },
    {
     "name": "stderr",
     "output_type": "stream",
     "text": [
      "INFO:recordlinkage:comparing [1/?] - time: 3.00s - pairs: 62500\n",
      "INFO:recordlinkage:comparing [1/?] - time: 3.00s - pairs_total: 62500\n",
      "INFO:recordlinkage:comparing [1/?] - time: 2.99s - pairs: 62500\n",
      "INFO:recordlinkage:comparing [1/?] - time: 2.99s - pairs_total: 62500\n",
      "INFO:recordlinkage:comparing [1/?] - time: 3.03s - pairs: 62500\n",
      "INFO:recordlinkage:comparing [1/?] - time: 3.03s - pairs_total: 62500\n",
      "INFO:recordlinkage:comparing [1/?] - time: 2.99s - pairs: 62500\n",
      "INFO:recordlinkage:comparing [1/?] - time: 2.99s - pairs_total: 62500\n"
     ]
    }
   ],
   "source": [
    "%%time\n",
    "\n",
    "# initialise class\n",
    "compare = recordlinkage.Compare(n_jobs=-1, non_empty=True)\n",
    "\n",
    "# initialise similarity measurement algorithms\n",
    "compare.exact('Province', 'Province', label='Province')\n",
    "compare.exact('email', 'email', label='email')\n",
    "compare.string('FirstName','FirstName',threshold=0.85,label='FirstName')\n",
    "compare.string('LastName','LastName',threshold=0.85,label='LastName')\n",
    "compare.string('Country','Country', method='levenshtein', threshold=0.85,label='Country')\n",
    "features = compare.compute(candidates, Dim_Customers_df, Dim_Customers_df)"
   ]
  },
  {
   "cell_type": "code",
   "execution_count": 8,
   "id": "ab609f34",
   "metadata": {
    "_cell_guid": "af46bcd1-4531-4f6a-9ffa-c488a8bf4da1",
    "_uuid": "cfaef927-6fed-4aca-bffd-0291fe287a68",
    "collapsed": false,
    "execution": {
     "iopub.execute_input": "2024-11-24T00:48:02.523267Z",
     "iopub.status.busy": "2024-11-24T00:48:02.522834Z",
     "iopub.status.idle": "2024-11-24T00:48:02.541007Z",
     "shell.execute_reply": "2024-11-24T00:48:02.539929Z"
    },
    "jupyter": {
     "outputs_hidden": false
    },
    "papermill": {
     "duration": 0.029619,
     "end_time": "2024-11-24T00:48:02.543089",
     "exception": false,
     "start_time": "2024-11-24T00:48:02.513470",
     "status": "completed"
    },
    "tags": []
   },
   "outputs": [
    {
     "data": {
      "text/html": [
       "<div>\n",
       "<style scoped>\n",
       "    .dataframe tbody tr th:only-of-type {\n",
       "        vertical-align: middle;\n",
       "    }\n",
       "\n",
       "    .dataframe tbody tr th {\n",
       "        vertical-align: top;\n",
       "    }\n",
       "\n",
       "    .dataframe thead th {\n",
       "        text-align: right;\n",
       "    }\n",
       "</style>\n",
       "<table border=\"1\" class=\"dataframe\">\n",
       "  <thead>\n",
       "    <tr style=\"text-align: right;\">\n",
       "      <th></th>\n",
       "      <th></th>\n",
       "      <th>Province</th>\n",
       "      <th>email</th>\n",
       "      <th>FirstName</th>\n",
       "      <th>LastName</th>\n",
       "      <th>Country</th>\n",
       "    </tr>\n",
       "  </thead>\n",
       "  <tbody>\n",
       "    <tr>\n",
       "      <th rowspan=\"5\" valign=\"top\">0</th>\n",
       "      <th>0</th>\n",
       "      <td>1</td>\n",
       "      <td>1</td>\n",
       "      <td>1.0</td>\n",
       "      <td>1.0</td>\n",
       "      <td>1.0</td>\n",
       "    </tr>\n",
       "    <tr>\n",
       "      <th>1</th>\n",
       "      <td>1</td>\n",
       "      <td>0</td>\n",
       "      <td>0.0</td>\n",
       "      <td>0.0</td>\n",
       "      <td>1.0</td>\n",
       "    </tr>\n",
       "    <tr>\n",
       "      <th>2</th>\n",
       "      <td>0</td>\n",
       "      <td>0</td>\n",
       "      <td>0.0</td>\n",
       "      <td>0.0</td>\n",
       "      <td>1.0</td>\n",
       "    </tr>\n",
       "    <tr>\n",
       "      <th>3</th>\n",
       "      <td>0</td>\n",
       "      <td>0</td>\n",
       "      <td>0.0</td>\n",
       "      <td>0.0</td>\n",
       "      <td>1.0</td>\n",
       "    </tr>\n",
       "    <tr>\n",
       "      <th>4</th>\n",
       "      <td>1</td>\n",
       "      <td>0</td>\n",
       "      <td>0.0</td>\n",
       "      <td>0.0</td>\n",
       "      <td>1.0</td>\n",
       "    </tr>\n",
       "    <tr>\n",
       "      <th>...</th>\n",
       "      <th>...</th>\n",
       "      <td>...</td>\n",
       "      <td>...</td>\n",
       "      <td>...</td>\n",
       "      <td>...</td>\n",
       "      <td>...</td>\n",
       "    </tr>\n",
       "    <tr>\n",
       "      <th rowspan=\"5\" valign=\"top\">499</th>\n",
       "      <th>495</th>\n",
       "      <td>0</td>\n",
       "      <td>0</td>\n",
       "      <td>0.0</td>\n",
       "      <td>0.0</td>\n",
       "      <td>1.0</td>\n",
       "    </tr>\n",
       "    <tr>\n",
       "      <th>496</th>\n",
       "      <td>1</td>\n",
       "      <td>0</td>\n",
       "      <td>0.0</td>\n",
       "      <td>0.0</td>\n",
       "      <td>1.0</td>\n",
       "    </tr>\n",
       "    <tr>\n",
       "      <th>497</th>\n",
       "      <td>0</td>\n",
       "      <td>0</td>\n",
       "      <td>0.0</td>\n",
       "      <td>0.0</td>\n",
       "      <td>1.0</td>\n",
       "    </tr>\n",
       "    <tr>\n",
       "      <th>498</th>\n",
       "      <td>0</td>\n",
       "      <td>0</td>\n",
       "      <td>0.0</td>\n",
       "      <td>0.0</td>\n",
       "      <td>1.0</td>\n",
       "    </tr>\n",
       "    <tr>\n",
       "      <th>499</th>\n",
       "      <td>1</td>\n",
       "      <td>1</td>\n",
       "      <td>1.0</td>\n",
       "      <td>1.0</td>\n",
       "      <td>1.0</td>\n",
       "    </tr>\n",
       "  </tbody>\n",
       "</table>\n",
       "<p>250000 rows × 5 columns</p>\n",
       "</div>"
      ],
      "text/plain": [
       "         Province  email  FirstName  LastName  Country\n",
       "0   0           1      1        1.0       1.0      1.0\n",
       "    1           1      0        0.0       0.0      1.0\n",
       "    2           0      0        0.0       0.0      1.0\n",
       "    3           0      0        0.0       0.0      1.0\n",
       "    4           1      0        0.0       0.0      1.0\n",
       "...           ...    ...        ...       ...      ...\n",
       "499 495         0      0        0.0       0.0      1.0\n",
       "    496         1      0        0.0       0.0      1.0\n",
       "    497         0      0        0.0       0.0      1.0\n",
       "    498         0      0        0.0       0.0      1.0\n",
       "    499         1      1        1.0       1.0      1.0\n",
       "\n",
       "[250000 rows x 5 columns]"
      ]
     },
     "execution_count": 8,
     "metadata": {},
     "output_type": "execute_result"
    }
   ],
   "source": [
    "features"
   ]
  },
  {
   "cell_type": "markdown",
   "id": "034bd1df",
   "metadata": {
    "papermill": {
     "duration": 0.007829,
     "end_time": "2024-11-24T00:48:02.559244",
     "exception": false,
     "start_time": "2024-11-24T00:48:02.551415",
     "status": "completed"
    },
    "tags": []
   },
   "source": [
    "## Examine Similarity Scores\n",
    "- The features DataFrame contains similarity scores for each pair of records. The code checks how many pairs meet a certain threshold and computes the sum of all feature matches across pairs."
   ]
  },
  {
   "cell_type": "code",
   "execution_count": 9,
   "id": "b3308aa3",
   "metadata": {
    "_cell_guid": "b359b290-a77a-4a1b-be29-df595ccaf8ac",
    "_uuid": "63119fd6-f44d-4efd-aa48-216423f2414c",
    "collapsed": false,
    "execution": {
     "iopub.execute_input": "2024-11-24T00:48:02.576999Z",
     "iopub.status.busy": "2024-11-24T00:48:02.576599Z",
     "iopub.status.idle": "2024-11-24T00:48:02.640202Z",
     "shell.execute_reply": "2024-11-24T00:48:02.639113Z"
    },
    "jupyter": {
     "outputs_hidden": false
    },
    "papermill": {
     "duration": 0.075352,
     "end_time": "2024-11-24T00:48:02.642626",
     "exception": false,
     "start_time": "2024-11-24T00:48:02.567274",
     "status": "completed"
    },
    "tags": []
   },
   "outputs": [
    {
     "data": {
      "text/plain": [
       "5.0       504\n",
       "4.0        70\n",
       "3.0       954\n",
       "2.0     31742\n",
       "1.0    216730\n",
       "Name: count, dtype: int64"
      ]
     },
     "execution_count": 9,
     "metadata": {},
     "output_type": "execute_result"
    }
   ],
   "source": [
    "features.sum(axis=1).value_counts().sort_index(ascending=False)"
   ]
  },
  {
   "cell_type": "markdown",
   "id": "acad7c72",
   "metadata": {
    "papermill": {
     "duration": 0.007937,
     "end_time": "2024-11-24T00:48:02.659112",
     "exception": false,
     "start_time": "2024-11-24T00:48:02.651175",
     "status": "completed"
    },
    "tags": []
   },
   "source": [
    "## Identify Potential Matches\n",
    "- Customer pairs that have a score greater than 1 are considered as potential matches.\n",
    "- A new Score column is created by summing the individual string similarity scores from different fields (FirstName, LastName, email)."
   ]
  },
  {
   "cell_type": "code",
   "execution_count": 10,
   "id": "b899e535",
   "metadata": {
    "_cell_guid": "bace9165-180c-47e2-a8be-d6f563b91730",
    "_uuid": "2869f3eb-b40c-47e4-9458-24642c40d33f",
    "collapsed": false,
    "execution": {
     "iopub.execute_input": "2024-11-24T00:48:02.677226Z",
     "iopub.status.busy": "2024-11-24T00:48:02.676828Z",
     "iopub.status.idle": "2024-11-24T00:48:02.734650Z",
     "shell.execute_reply": "2024-11-24T00:48:02.733488Z"
    },
    "jupyter": {
     "outputs_hidden": false
    },
    "papermill": {
     "duration": 0.069914,
     "end_time": "2024-11-24T00:48:02.737189",
     "exception": false,
     "start_time": "2024-11-24T00:48:02.667275",
     "status": "completed"
    },
    "tags": []
   },
   "outputs": [],
   "source": [
    "potential_matches = features[features.sum(axis=1) > 1].reset_index()\n",
    "potential_matches['Score'] = potential_matches['FirstName']+potential_matches['LastName']+potential_matches['email']"
   ]
  },
  {
   "cell_type": "code",
   "execution_count": 11,
   "id": "23e1a774",
   "metadata": {
    "_cell_guid": "d937f287-1174-4198-9f79-38bf376601f5",
    "_uuid": "dee6e7d2-98ed-451e-bf15-b9fe7d9ac96b",
    "collapsed": false,
    "execution": {
     "iopub.execute_input": "2024-11-24T00:48:02.756197Z",
     "iopub.status.busy": "2024-11-24T00:48:02.755776Z",
     "iopub.status.idle": "2024-11-24T00:48:02.769260Z",
     "shell.execute_reply": "2024-11-24T00:48:02.768248Z"
    },
    "jupyter": {
     "outputs_hidden": false
    },
    "papermill": {
     "duration": 0.025089,
     "end_time": "2024-11-24T00:48:02.771189",
     "exception": false,
     "start_time": "2024-11-24T00:48:02.746100",
     "status": "completed"
    },
    "tags": []
   },
   "outputs": [
    {
     "data": {
      "text/html": [
       "<div>\n",
       "<style scoped>\n",
       "    .dataframe tbody tr th:only-of-type {\n",
       "        vertical-align: middle;\n",
       "    }\n",
       "\n",
       "    .dataframe tbody tr th {\n",
       "        vertical-align: top;\n",
       "    }\n",
       "\n",
       "    .dataframe thead th {\n",
       "        text-align: right;\n",
       "    }\n",
       "</style>\n",
       "<table border=\"1\" class=\"dataframe\">\n",
       "  <thead>\n",
       "    <tr style=\"text-align: right;\">\n",
       "      <th></th>\n",
       "      <th>level_0</th>\n",
       "      <th>level_1</th>\n",
       "      <th>Province</th>\n",
       "      <th>email</th>\n",
       "      <th>FirstName</th>\n",
       "      <th>LastName</th>\n",
       "      <th>Country</th>\n",
       "      <th>Score</th>\n",
       "    </tr>\n",
       "  </thead>\n",
       "  <tbody>\n",
       "    <tr>\n",
       "      <th>0</th>\n",
       "      <td>0</td>\n",
       "      <td>0</td>\n",
       "      <td>1</td>\n",
       "      <td>1</td>\n",
       "      <td>1.0</td>\n",
       "      <td>1.0</td>\n",
       "      <td>1.0</td>\n",
       "      <td>3.0</td>\n",
       "    </tr>\n",
       "    <tr>\n",
       "      <th>1</th>\n",
       "      <td>0</td>\n",
       "      <td>1</td>\n",
       "      <td>1</td>\n",
       "      <td>0</td>\n",
       "      <td>0.0</td>\n",
       "      <td>0.0</td>\n",
       "      <td>1.0</td>\n",
       "      <td>0.0</td>\n",
       "    </tr>\n",
       "    <tr>\n",
       "      <th>2</th>\n",
       "      <td>0</td>\n",
       "      <td>4</td>\n",
       "      <td>1</td>\n",
       "      <td>0</td>\n",
       "      <td>0.0</td>\n",
       "      <td>0.0</td>\n",
       "      <td>1.0</td>\n",
       "      <td>0.0</td>\n",
       "    </tr>\n",
       "    <tr>\n",
       "      <th>3</th>\n",
       "      <td>0</td>\n",
       "      <td>9</td>\n",
       "      <td>1</td>\n",
       "      <td>0</td>\n",
       "      <td>0.0</td>\n",
       "      <td>0.0</td>\n",
       "      <td>1.0</td>\n",
       "      <td>0.0</td>\n",
       "    </tr>\n",
       "    <tr>\n",
       "      <th>4</th>\n",
       "      <td>0</td>\n",
       "      <td>10</td>\n",
       "      <td>0</td>\n",
       "      <td>0</td>\n",
       "      <td>0.0</td>\n",
       "      <td>1.0</td>\n",
       "      <td>1.0</td>\n",
       "      <td>1.0</td>\n",
       "    </tr>\n",
       "  </tbody>\n",
       "</table>\n",
       "</div>"
      ],
      "text/plain": [
       "   level_0  level_1  Province  email  FirstName  LastName  Country  Score\n",
       "0        0        0         1      1        1.0       1.0      1.0    3.0\n",
       "1        0        1         1      0        0.0       0.0      1.0    0.0\n",
       "2        0        4         1      0        0.0       0.0      1.0    0.0\n",
       "3        0        9         1      0        0.0       0.0      1.0    0.0\n",
       "4        0       10         0      0        0.0       1.0      1.0    1.0"
      ]
     },
     "execution_count": 11,
     "metadata": {},
     "output_type": "execute_result"
    }
   ],
   "source": [
    "potential_matches.head(5)"
   ]
  },
  {
   "cell_type": "markdown",
   "id": "7dab9e5c",
   "metadata": {
    "papermill": {
     "duration": 0.008353,
     "end_time": "2024-11-24T00:48:02.788946",
     "exception": false,
     "start_time": "2024-11-24T00:48:02.780593",
     "status": "completed"
    },
    "tags": []
   },
   "source": [
    "## Filter Matches Based on Score\n",
    "- Potential matches with a total score below a threshold (2 in this case) are removed."
   ]
  },
  {
   "cell_type": "code",
   "execution_count": 12,
   "id": "bf2a16d9",
   "metadata": {
    "_cell_guid": "975694f5-9110-47f2-a3e8-e22726fca4fa",
    "_uuid": "3e133bce-467d-4a74-a11b-a46f5e74b719",
    "collapsed": false,
    "execution": {
     "iopub.execute_input": "2024-11-24T00:48:02.807746Z",
     "iopub.status.busy": "2024-11-24T00:48:02.807363Z",
     "iopub.status.idle": "2024-11-24T00:48:02.825309Z",
     "shell.execute_reply": "2024-11-24T00:48:02.824033Z"
    },
    "jupyter": {
     "outputs_hidden": false
    },
    "papermill": {
     "duration": 0.030256,
     "end_time": "2024-11-24T00:48:02.827731",
     "exception": false,
     "start_time": "2024-11-24T00:48:02.797475",
     "status": "completed"
    },
    "tags": []
   },
   "outputs": [
    {
     "data": {
      "text/html": [
       "<div>\n",
       "<style scoped>\n",
       "    .dataframe tbody tr th:only-of-type {\n",
       "        vertical-align: middle;\n",
       "    }\n",
       "\n",
       "    .dataframe tbody tr th {\n",
       "        vertical-align: top;\n",
       "    }\n",
       "\n",
       "    .dataframe thead th {\n",
       "        text-align: right;\n",
       "    }\n",
       "</style>\n",
       "<table border=\"1\" class=\"dataframe\">\n",
       "  <thead>\n",
       "    <tr style=\"text-align: right;\">\n",
       "      <th></th>\n",
       "      <th>level_0</th>\n",
       "      <th>level_1</th>\n",
       "      <th>Province</th>\n",
       "      <th>email</th>\n",
       "      <th>FirstName</th>\n",
       "      <th>LastName</th>\n",
       "      <th>Country</th>\n",
       "      <th>Score</th>\n",
       "    </tr>\n",
       "  </thead>\n",
       "  <tbody>\n",
       "    <tr>\n",
       "      <th>0</th>\n",
       "      <td>0</td>\n",
       "      <td>0</td>\n",
       "      <td>1</td>\n",
       "      <td>1</td>\n",
       "      <td>1.0</td>\n",
       "      <td>1.0</td>\n",
       "      <td>1.0</td>\n",
       "      <td>3.0</td>\n",
       "    </tr>\n",
       "    <tr>\n",
       "      <th>65</th>\n",
       "      <td>1</td>\n",
       "      <td>1</td>\n",
       "      <td>1</td>\n",
       "      <td>1</td>\n",
       "      <td>1.0</td>\n",
       "      <td>1.0</td>\n",
       "      <td>1.0</td>\n",
       "      <td>3.0</td>\n",
       "    </tr>\n",
       "    <tr>\n",
       "      <th>126</th>\n",
       "      <td>2</td>\n",
       "      <td>2</td>\n",
       "      <td>1</td>\n",
       "      <td>1</td>\n",
       "      <td>1.0</td>\n",
       "      <td>1.0</td>\n",
       "      <td>1.0</td>\n",
       "      <td>3.0</td>\n",
       "    </tr>\n",
       "    <tr>\n",
       "      <th>203</th>\n",
       "      <td>3</td>\n",
       "      <td>3</td>\n",
       "      <td>1</td>\n",
       "      <td>1</td>\n",
       "      <td>1.0</td>\n",
       "      <td>1.0</td>\n",
       "      <td>1.0</td>\n",
       "      <td>3.0</td>\n",
       "    </tr>\n",
       "    <tr>\n",
       "      <th>269</th>\n",
       "      <td>4</td>\n",
       "      <td>4</td>\n",
       "      <td>1</td>\n",
       "      <td>1</td>\n",
       "      <td>1.0</td>\n",
       "      <td>1.0</td>\n",
       "      <td>1.0</td>\n",
       "      <td>3.0</td>\n",
       "    </tr>\n",
       "    <tr>\n",
       "      <th>...</th>\n",
       "      <td>...</td>\n",
       "      <td>...</td>\n",
       "      <td>...</td>\n",
       "      <td>...</td>\n",
       "      <td>...</td>\n",
       "      <td>...</td>\n",
       "      <td>...</td>\n",
       "      <td>...</td>\n",
       "    </tr>\n",
       "    <tr>\n",
       "      <th>33032</th>\n",
       "      <td>495</td>\n",
       "      <td>495</td>\n",
       "      <td>1</td>\n",
       "      <td>1</td>\n",
       "      <td>1.0</td>\n",
       "      <td>1.0</td>\n",
       "      <td>1.0</td>\n",
       "      <td>3.0</td>\n",
       "    </tr>\n",
       "    <tr>\n",
       "      <th>33084</th>\n",
       "      <td>496</td>\n",
       "      <td>496</td>\n",
       "      <td>1</td>\n",
       "      <td>1</td>\n",
       "      <td>1.0</td>\n",
       "      <td>1.0</td>\n",
       "      <td>1.0</td>\n",
       "      <td>3.0</td>\n",
       "    </tr>\n",
       "    <tr>\n",
       "      <th>33155</th>\n",
       "      <td>497</td>\n",
       "      <td>497</td>\n",
       "      <td>1</td>\n",
       "      <td>1</td>\n",
       "      <td>1.0</td>\n",
       "      <td>1.0</td>\n",
       "      <td>1.0</td>\n",
       "      <td>3.0</td>\n",
       "    </tr>\n",
       "    <tr>\n",
       "      <th>33217</th>\n",
       "      <td>498</td>\n",
       "      <td>498</td>\n",
       "      <td>1</td>\n",
       "      <td>1</td>\n",
       "      <td>1.0</td>\n",
       "      <td>1.0</td>\n",
       "      <td>1.0</td>\n",
       "      <td>3.0</td>\n",
       "    </tr>\n",
       "    <tr>\n",
       "      <th>33269</th>\n",
       "      <td>499</td>\n",
       "      <td>499</td>\n",
       "      <td>1</td>\n",
       "      <td>1</td>\n",
       "      <td>1.0</td>\n",
       "      <td>1.0</td>\n",
       "      <td>1.0</td>\n",
       "      <td>3.0</td>\n",
       "    </tr>\n",
       "  </tbody>\n",
       "</table>\n",
       "<p>574 rows × 8 columns</p>\n",
       "</div>"
      ],
      "text/plain": [
       "       level_0  level_1  Province  email  FirstName  LastName  Country  Score\n",
       "0            0        0         1      1        1.0       1.0      1.0    3.0\n",
       "65           1        1         1      1        1.0       1.0      1.0    3.0\n",
       "126          2        2         1      1        1.0       1.0      1.0    3.0\n",
       "203          3        3         1      1        1.0       1.0      1.0    3.0\n",
       "269          4        4         1      1        1.0       1.0      1.0    3.0\n",
       "...        ...      ...       ...    ...        ...       ...      ...    ...\n",
       "33032      495      495         1      1        1.0       1.0      1.0    3.0\n",
       "33084      496      496         1      1        1.0       1.0      1.0    3.0\n",
       "33155      497      497         1      1        1.0       1.0      1.0    3.0\n",
       "33217      498      498         1      1        1.0       1.0      1.0    3.0\n",
       "33269      499      499         1      1        1.0       1.0      1.0    3.0\n",
       "\n",
       "[574 rows x 8 columns]"
      ]
     },
     "execution_count": 12,
     "metadata": {},
     "output_type": "execute_result"
    }
   ],
   "source": [
    "# Remove Low Matches\n",
    "potential_matches = potential_matches[(potential_matches['Score'] >= 2)]\n",
    "potential_matches"
   ]
  },
  {
   "cell_type": "markdown",
   "id": "2898e4cf",
   "metadata": {
    "papermill": {
     "duration": 0.00841,
     "end_time": "2024-11-24T00:48:02.845223",
     "exception": false,
     "start_time": "2024-11-24T00:48:02.836813",
     "status": "completed"
    },
    "tags": []
   },
   "source": [
    "## Merge Data to Retrieve Customer IDs\n",
    "- The potential_matches DataFrame is merged with the original Dim_Customers_df to retrieve the customer IDs for the matched records."
   ]
  },
  {
   "cell_type": "code",
   "execution_count": 13,
   "id": "47c02358",
   "metadata": {
    "_cell_guid": "e709a193-473c-450f-af4a-e8c5597f4a45",
    "_uuid": "bf7677eb-5842-4961-b3db-f20785e301c7",
    "collapsed": false,
    "execution": {
     "iopub.execute_input": "2024-11-24T00:48:02.864831Z",
     "iopub.status.busy": "2024-11-24T00:48:02.864429Z",
     "iopub.status.idle": "2024-11-24T00:48:02.881657Z",
     "shell.execute_reply": "2024-11-24T00:48:02.880524Z"
    },
    "jupyter": {
     "outputs_hidden": false
    },
    "papermill": {
     "duration": 0.029683,
     "end_time": "2024-11-24T00:48:02.883879",
     "exception": false,
     "start_time": "2024-11-24T00:48:02.854196",
     "status": "completed"
    },
    "tags": []
   },
   "outputs": [
    {
     "data": {
      "text/html": [
       "<div>\n",
       "<style scoped>\n",
       "    .dataframe tbody tr th:only-of-type {\n",
       "        vertical-align: middle;\n",
       "    }\n",
       "\n",
       "    .dataframe tbody tr th {\n",
       "        vertical-align: top;\n",
       "    }\n",
       "\n",
       "    .dataframe thead th {\n",
       "        text-align: right;\n",
       "    }\n",
       "</style>\n",
       "<table border=\"1\" class=\"dataframe\">\n",
       "  <thead>\n",
       "    <tr style=\"text-align: right;\">\n",
       "      <th></th>\n",
       "      <th>level_0</th>\n",
       "      <th>Customer_ID</th>\n",
       "    </tr>\n",
       "  </thead>\n",
       "  <tbody>\n",
       "    <tr>\n",
       "      <th>0</th>\n",
       "      <td>0</td>\n",
       "      <td>100000</td>\n",
       "    </tr>\n",
       "    <tr>\n",
       "      <th>65</th>\n",
       "      <td>1</td>\n",
       "      <td>100001</td>\n",
       "    </tr>\n",
       "    <tr>\n",
       "      <th>126</th>\n",
       "      <td>2</td>\n",
       "      <td>100002</td>\n",
       "    </tr>\n",
       "    <tr>\n",
       "      <th>203</th>\n",
       "      <td>3</td>\n",
       "      <td>100003</td>\n",
       "    </tr>\n",
       "    <tr>\n",
       "      <th>269</th>\n",
       "      <td>4</td>\n",
       "      <td>100004</td>\n",
       "    </tr>\n",
       "  </tbody>\n",
       "</table>\n",
       "</div>"
      ],
      "text/plain": [
       "     level_0  Customer_ID\n",
       "0          0       100000\n",
       "65         1       100001\n",
       "126        2       100002\n",
       "203        3       100003\n",
       "269        4       100004"
      ]
     },
     "execution_count": 13,
     "metadata": {},
     "output_type": "execute_result"
    }
   ],
   "source": [
    "look_up_0 = potential_matches.merge(Dim_Customers_df, left_on='level_0', right_index=True)\n",
    "look_up_0 = look_up_0[['level_0','Customer_ID']]\n",
    "look_up_0.head(5)"
   ]
  },
  {
   "cell_type": "code",
   "execution_count": 14,
   "id": "5d619f8d",
   "metadata": {
    "_cell_guid": "e4b91e7c-3b73-4ad1-8a33-ec414128fb66",
    "_uuid": "1ae7636c-4b41-4fdb-a281-461bc94a99c9",
    "collapsed": false,
    "execution": {
     "iopub.execute_input": "2024-11-24T00:48:02.904060Z",
     "iopub.status.busy": "2024-11-24T00:48:02.903675Z",
     "iopub.status.idle": "2024-11-24T00:48:02.919913Z",
     "shell.execute_reply": "2024-11-24T00:48:02.918969Z"
    },
    "jupyter": {
     "outputs_hidden": false
    },
    "papermill": {
     "duration": 0.028962,
     "end_time": "2024-11-24T00:48:02.922086",
     "exception": false,
     "start_time": "2024-11-24T00:48:02.893124",
     "status": "completed"
    },
    "tags": []
   },
   "outputs": [
    {
     "data": {
      "text/html": [
       "<div>\n",
       "<style scoped>\n",
       "    .dataframe tbody tr th:only-of-type {\n",
       "        vertical-align: middle;\n",
       "    }\n",
       "\n",
       "    .dataframe tbody tr th {\n",
       "        vertical-align: top;\n",
       "    }\n",
       "\n",
       "    .dataframe thead th {\n",
       "        text-align: right;\n",
       "    }\n",
       "</style>\n",
       "<table border=\"1\" class=\"dataframe\">\n",
       "  <thead>\n",
       "    <tr style=\"text-align: right;\">\n",
       "      <th></th>\n",
       "      <th>level_1</th>\n",
       "      <th>Customer2_ID</th>\n",
       "    </tr>\n",
       "  </thead>\n",
       "  <tbody>\n",
       "    <tr>\n",
       "      <th>0</th>\n",
       "      <td>0</td>\n",
       "      <td>100000</td>\n",
       "    </tr>\n",
       "    <tr>\n",
       "      <th>65</th>\n",
       "      <td>1</td>\n",
       "      <td>100001</td>\n",
       "    </tr>\n",
       "    <tr>\n",
       "      <th>126</th>\n",
       "      <td>2</td>\n",
       "      <td>100002</td>\n",
       "    </tr>\n",
       "    <tr>\n",
       "      <th>203</th>\n",
       "      <td>3</td>\n",
       "      <td>100003</td>\n",
       "    </tr>\n",
       "    <tr>\n",
       "      <th>269</th>\n",
       "      <td>4</td>\n",
       "      <td>100004</td>\n",
       "    </tr>\n",
       "  </tbody>\n",
       "</table>\n",
       "</div>"
      ],
      "text/plain": [
       "     level_1  Customer2_ID\n",
       "0          0        100000\n",
       "65         1        100001\n",
       "126        2        100002\n",
       "203        3        100003\n",
       "269        4        100004"
      ]
     },
     "execution_count": 14,
     "metadata": {},
     "output_type": "execute_result"
    }
   ],
   "source": [
    "look_up_1 = potential_matches.merge(Dim_Customers_df, left_on='level_1', right_index=True)\n",
    "look_up_1 = look_up_1[['level_1','Customer_ID']]\n",
    "look_up_1.rename(columns={\"Customer_ID\":\"Customer2_ID\"}, inplace=True)\n",
    "look_up_1.head(5)"
   ]
  },
  {
   "cell_type": "code",
   "execution_count": 15,
   "id": "56125c98",
   "metadata": {
    "_cell_guid": "468cfbba-fde6-48f0-832c-c99b6190c12e",
    "_uuid": "fe268f4c-039a-4c22-a474-574a2a182224",
    "collapsed": false,
    "execution": {
     "iopub.execute_input": "2024-11-24T00:48:02.942237Z",
     "iopub.status.busy": "2024-11-24T00:48:02.941568Z",
     "iopub.status.idle": "2024-11-24T00:48:02.963956Z",
     "shell.execute_reply": "2024-11-24T00:48:02.962838Z"
    },
    "jupyter": {
     "outputs_hidden": false
    },
    "papermill": {
     "duration": 0.034881,
     "end_time": "2024-11-24T00:48:02.966224",
     "exception": false,
     "start_time": "2024-11-24T00:48:02.931343",
     "status": "completed"
    },
    "tags": []
   },
   "outputs": [
    {
     "data": {
      "text/html": [
       "<div>\n",
       "<style scoped>\n",
       "    .dataframe tbody tr th:only-of-type {\n",
       "        vertical-align: middle;\n",
       "    }\n",
       "\n",
       "    .dataframe tbody tr th {\n",
       "        vertical-align: top;\n",
       "    }\n",
       "\n",
       "    .dataframe thead th {\n",
       "        text-align: right;\n",
       "    }\n",
       "</style>\n",
       "<table border=\"1\" class=\"dataframe\">\n",
       "  <thead>\n",
       "    <tr style=\"text-align: right;\">\n",
       "      <th></th>\n",
       "      <th>level_0</th>\n",
       "      <th>level_1</th>\n",
       "      <th>Province</th>\n",
       "      <th>email</th>\n",
       "      <th>FirstName</th>\n",
       "      <th>LastName</th>\n",
       "      <th>Country</th>\n",
       "      <th>Score</th>\n",
       "      <th>Customer_ID</th>\n",
       "      <th>Customer2_ID</th>\n",
       "    </tr>\n",
       "  </thead>\n",
       "  <tbody>\n",
       "    <tr>\n",
       "      <th>0</th>\n",
       "      <td>0</td>\n",
       "      <td>0</td>\n",
       "      <td>1</td>\n",
       "      <td>1</td>\n",
       "      <td>1.0</td>\n",
       "      <td>1.0</td>\n",
       "      <td>1.0</td>\n",
       "      <td>3.0</td>\n",
       "      <td>100000</td>\n",
       "      <td>100000</td>\n",
       "    </tr>\n",
       "    <tr>\n",
       "      <th>1</th>\n",
       "      <td>1</td>\n",
       "      <td>1</td>\n",
       "      <td>1</td>\n",
       "      <td>1</td>\n",
       "      <td>1.0</td>\n",
       "      <td>1.0</td>\n",
       "      <td>1.0</td>\n",
       "      <td>3.0</td>\n",
       "      <td>100001</td>\n",
       "      <td>100001</td>\n",
       "    </tr>\n",
       "    <tr>\n",
       "      <th>2</th>\n",
       "      <td>2</td>\n",
       "      <td>2</td>\n",
       "      <td>1</td>\n",
       "      <td>1</td>\n",
       "      <td>1.0</td>\n",
       "      <td>1.0</td>\n",
       "      <td>1.0</td>\n",
       "      <td>3.0</td>\n",
       "      <td>100002</td>\n",
       "      <td>100002</td>\n",
       "    </tr>\n",
       "    <tr>\n",
       "      <th>3</th>\n",
       "      <td>3</td>\n",
       "      <td>3</td>\n",
       "      <td>1</td>\n",
       "      <td>1</td>\n",
       "      <td>1.0</td>\n",
       "      <td>1.0</td>\n",
       "      <td>1.0</td>\n",
       "      <td>3.0</td>\n",
       "      <td>100003</td>\n",
       "      <td>100003</td>\n",
       "    </tr>\n",
       "    <tr>\n",
       "      <th>4</th>\n",
       "      <td>4</td>\n",
       "      <td>4</td>\n",
       "      <td>1</td>\n",
       "      <td>1</td>\n",
       "      <td>1.0</td>\n",
       "      <td>1.0</td>\n",
       "      <td>1.0</td>\n",
       "      <td>3.0</td>\n",
       "      <td>100004</td>\n",
       "      <td>100004</td>\n",
       "    </tr>\n",
       "    <tr>\n",
       "      <th>...</th>\n",
       "      <td>...</td>\n",
       "      <td>...</td>\n",
       "      <td>...</td>\n",
       "      <td>...</td>\n",
       "      <td>...</td>\n",
       "      <td>...</td>\n",
       "      <td>...</td>\n",
       "      <td>...</td>\n",
       "      <td>...</td>\n",
       "      <td>...</td>\n",
       "    </tr>\n",
       "    <tr>\n",
       "      <th>1085</th>\n",
       "      <td>495</td>\n",
       "      <td>495</td>\n",
       "      <td>1</td>\n",
       "      <td>1</td>\n",
       "      <td>1.0</td>\n",
       "      <td>1.0</td>\n",
       "      <td>1.0</td>\n",
       "      <td>3.0</td>\n",
       "      <td>100495</td>\n",
       "      <td>100495</td>\n",
       "    </tr>\n",
       "    <tr>\n",
       "      <th>1086</th>\n",
       "      <td>496</td>\n",
       "      <td>496</td>\n",
       "      <td>1</td>\n",
       "      <td>1</td>\n",
       "      <td>1.0</td>\n",
       "      <td>1.0</td>\n",
       "      <td>1.0</td>\n",
       "      <td>3.0</td>\n",
       "      <td>100496</td>\n",
       "      <td>100496</td>\n",
       "    </tr>\n",
       "    <tr>\n",
       "      <th>1087</th>\n",
       "      <td>497</td>\n",
       "      <td>497</td>\n",
       "      <td>1</td>\n",
       "      <td>1</td>\n",
       "      <td>1.0</td>\n",
       "      <td>1.0</td>\n",
       "      <td>1.0</td>\n",
       "      <td>3.0</td>\n",
       "      <td>100497</td>\n",
       "      <td>100497</td>\n",
       "    </tr>\n",
       "    <tr>\n",
       "      <th>1088</th>\n",
       "      <td>498</td>\n",
       "      <td>498</td>\n",
       "      <td>1</td>\n",
       "      <td>1</td>\n",
       "      <td>1.0</td>\n",
       "      <td>1.0</td>\n",
       "      <td>1.0</td>\n",
       "      <td>3.0</td>\n",
       "      <td>100498</td>\n",
       "      <td>100498</td>\n",
       "    </tr>\n",
       "    <tr>\n",
       "      <th>1089</th>\n",
       "      <td>499</td>\n",
       "      <td>499</td>\n",
       "      <td>1</td>\n",
       "      <td>1</td>\n",
       "      <td>1.0</td>\n",
       "      <td>1.0</td>\n",
       "      <td>1.0</td>\n",
       "      <td>3.0</td>\n",
       "      <td>100499</td>\n",
       "      <td>100499</td>\n",
       "    </tr>\n",
       "  </tbody>\n",
       "</table>\n",
       "<p>1090 rows × 10 columns</p>\n",
       "</div>"
      ],
      "text/plain": [
       "      level_0  level_1  Province  email  FirstName  LastName  Country  Score  \\\n",
       "0           0        0         1      1        1.0       1.0      1.0    3.0   \n",
       "1           1        1         1      1        1.0       1.0      1.0    3.0   \n",
       "2           2        2         1      1        1.0       1.0      1.0    3.0   \n",
       "3           3        3         1      1        1.0       1.0      1.0    3.0   \n",
       "4           4        4         1      1        1.0       1.0      1.0    3.0   \n",
       "...       ...      ...       ...    ...        ...       ...      ...    ...   \n",
       "1085      495      495         1      1        1.0       1.0      1.0    3.0   \n",
       "1086      496      496         1      1        1.0       1.0      1.0    3.0   \n",
       "1087      497      497         1      1        1.0       1.0      1.0    3.0   \n",
       "1088      498      498         1      1        1.0       1.0      1.0    3.0   \n",
       "1089      499      499         1      1        1.0       1.0      1.0    3.0   \n",
       "\n",
       "      Customer_ID  Customer2_ID  \n",
       "0          100000        100000  \n",
       "1          100001        100001  \n",
       "2          100002        100002  \n",
       "3          100003        100003  \n",
       "4          100004        100004  \n",
       "...           ...           ...  \n",
       "1085       100495        100495  \n",
       "1086       100496        100496  \n",
       "1087       100497        100497  \n",
       "1088       100498        100498  \n",
       "1089       100499        100499  \n",
       "\n",
       "[1090 rows x 10 columns]"
      ]
     },
     "execution_count": 15,
     "metadata": {},
     "output_type": "execute_result"
    }
   ],
   "source": [
    "# Merge df1 on column 'A' and df2 on its index\n",
    "potential_matches = potential_matches.merge(look_up_0, left_on='level_0', right_on='level_0')\n",
    "potential_matches = potential_matches.merge(look_up_1, left_on='level_1', right_on='level_1')\n",
    "potential_matches"
   ]
  },
  {
   "cell_type": "markdown",
   "id": "33b4a6da",
   "metadata": {
    "papermill": {
     "duration": 0.009014,
     "end_time": "2024-11-24T00:48:02.984857",
     "exception": false,
     "start_time": "2024-11-24T00:48:02.975843",
     "status": "completed"
    },
    "tags": []
   },
   "source": [
    "## Final Filtering of Matches\n",
    "- The code filters out duplicate matches and ensures that the same customer ID is not matched with itself."
   ]
  },
  {
   "cell_type": "code",
   "execution_count": 16,
   "id": "bf9de5da",
   "metadata": {
    "_cell_guid": "2caf20a4-ef21-4072-b90c-4e500f972907",
    "_uuid": "037fd26f-8b3f-4020-b4b4-f327679bcbbc",
    "collapsed": false,
    "execution": {
     "iopub.execute_input": "2024-11-24T00:48:03.005498Z",
     "iopub.status.busy": "2024-11-24T00:48:03.005085Z",
     "iopub.status.idle": "2024-11-24T00:48:03.015903Z",
     "shell.execute_reply": "2024-11-24T00:48:03.014812Z"
    },
    "jupyter": {
     "outputs_hidden": false
    },
    "papermill": {
     "duration": 0.023456,
     "end_time": "2024-11-24T00:48:03.017911",
     "exception": false,
     "start_time": "2024-11-24T00:48:02.994455",
     "status": "completed"
    },
    "tags": []
   },
   "outputs": [],
   "source": [
    "matches = potential_matches[(potential_matches['Customer_ID'] != potential_matches['Customer2_ID']) & (potential_matches['Score'] >= 2)]\n",
    "matches = matches.drop_duplicates()"
   ]
  },
  {
   "cell_type": "code",
   "execution_count": 17,
   "id": "c0dc10fe",
   "metadata": {
    "_cell_guid": "19d4292c-3690-4f23-a559-fc910ac5be4a",
    "_uuid": "4605bb27-e001-420b-9c00-0f8aaceebb2f",
    "collapsed": false,
    "execution": {
     "iopub.execute_input": "2024-11-24T00:48:03.039128Z",
     "iopub.status.busy": "2024-11-24T00:48:03.038731Z",
     "iopub.status.idle": "2024-11-24T00:48:03.052607Z",
     "shell.execute_reply": "2024-11-24T00:48:03.051553Z"
    },
    "jupyter": {
     "outputs_hidden": false
    },
    "papermill": {
     "duration": 0.027269,
     "end_time": "2024-11-24T00:48:03.054769",
     "exception": false,
     "start_time": "2024-11-24T00:48:03.027500",
     "status": "completed"
    },
    "tags": []
   },
   "outputs": [
    {
     "data": {
      "text/html": [
       "<div>\n",
       "<style scoped>\n",
       "    .dataframe tbody tr th:only-of-type {\n",
       "        vertical-align: middle;\n",
       "    }\n",
       "\n",
       "    .dataframe tbody tr th {\n",
       "        vertical-align: top;\n",
       "    }\n",
       "\n",
       "    .dataframe thead th {\n",
       "        text-align: right;\n",
       "    }\n",
       "</style>\n",
       "<table border=\"1\" class=\"dataframe\">\n",
       "  <thead>\n",
       "    <tr style=\"text-align: right;\">\n",
       "      <th></th>\n",
       "      <th>level_0</th>\n",
       "      <th>level_1</th>\n",
       "      <th>Province</th>\n",
       "      <th>email</th>\n",
       "      <th>FirstName</th>\n",
       "      <th>LastName</th>\n",
       "      <th>Country</th>\n",
       "      <th>Score</th>\n",
       "      <th>Customer_ID</th>\n",
       "      <th>Customer2_ID</th>\n",
       "    </tr>\n",
       "  </thead>\n",
       "  <tbody>\n",
       "    <tr>\n",
       "      <th>17</th>\n",
       "      <td>13</td>\n",
       "      <td>55</td>\n",
       "      <td>0</td>\n",
       "      <td>1</td>\n",
       "      <td>1.0</td>\n",
       "      <td>1.0</td>\n",
       "      <td>1.0</td>\n",
       "      <td>3.0</td>\n",
       "      <td>100013</td>\n",
       "      <td>100055</td>\n",
       "    </tr>\n",
       "    <tr>\n",
       "      <th>30</th>\n",
       "      <td>19</td>\n",
       "      <td>455</td>\n",
       "      <td>0</td>\n",
       "      <td>1</td>\n",
       "      <td>1.0</td>\n",
       "      <td>1.0</td>\n",
       "      <td>1.0</td>\n",
       "      <td>3.0</td>\n",
       "      <td>100019</td>\n",
       "      <td>100455</td>\n",
       "    </tr>\n",
       "    <tr>\n",
       "      <th>44</th>\n",
       "      <td>26</td>\n",
       "      <td>35</td>\n",
       "      <td>0</td>\n",
       "      <td>1</td>\n",
       "      <td>1.0</td>\n",
       "      <td>1.0</td>\n",
       "      <td>1.0</td>\n",
       "      <td>3.0</td>\n",
       "      <td>100026</td>\n",
       "      <td>100035</td>\n",
       "    </tr>\n",
       "    <tr>\n",
       "      <th>53</th>\n",
       "      <td>28</td>\n",
       "      <td>338</td>\n",
       "      <td>1</td>\n",
       "      <td>1</td>\n",
       "      <td>1.0</td>\n",
       "      <td>1.0</td>\n",
       "      <td>1.0</td>\n",
       "      <td>3.0</td>\n",
       "      <td>100028</td>\n",
       "      <td>100338</td>\n",
       "    </tr>\n",
       "    <tr>\n",
       "      <th>63</th>\n",
       "      <td>35</td>\n",
       "      <td>26</td>\n",
       "      <td>0</td>\n",
       "      <td>1</td>\n",
       "      <td>1.0</td>\n",
       "      <td>1.0</td>\n",
       "      <td>1.0</td>\n",
       "      <td>3.0</td>\n",
       "      <td>100035</td>\n",
       "      <td>100026</td>\n",
       "    </tr>\n",
       "  </tbody>\n",
       "</table>\n",
       "</div>"
      ],
      "text/plain": [
       "    level_0  level_1  Province  email  FirstName  LastName  Country  Score  \\\n",
       "17       13       55         0      1        1.0       1.0      1.0    3.0   \n",
       "30       19      455         0      1        1.0       1.0      1.0    3.0   \n",
       "44       26       35         0      1        1.0       1.0      1.0    3.0   \n",
       "53       28      338         1      1        1.0       1.0      1.0    3.0   \n",
       "63       35       26         0      1        1.0       1.0      1.0    3.0   \n",
       "\n",
       "    Customer_ID  Customer2_ID  \n",
       "17       100013        100055  \n",
       "30       100019        100455  \n",
       "44       100026        100035  \n",
       "53       100028        100338  \n",
       "63       100035        100026  "
      ]
     },
     "execution_count": 17,
     "metadata": {},
     "output_type": "execute_result"
    }
   ],
   "source": [
    "matches.head(5)"
   ]
  },
  {
   "cell_type": "markdown",
   "id": "f2f430d5",
   "metadata": {
    "_cell_guid": "990ac9a4-4a8b-4881-b5a8-c72b0b937a7f",
    "_uuid": "0d97bf24-12bf-4c8d-a12b-d00d7070dd59",
    "collapsed": false,
    "jupyter": {
     "outputs_hidden": false
    },
    "papermill": {
     "duration": 0.009472,
     "end_time": "2024-11-24T00:48:03.074070",
     "exception": false,
     "start_time": "2024-11-24T00:48:03.064598",
     "status": "completed"
    },
    "tags": []
   },
   "source": [
    "## Display Matched Customer Records\n",
    "- Finally, the matched customer pairs are displayed, and individual customer records can be retrieved for review."
   ]
  },
  {
   "cell_type": "code",
   "execution_count": 18,
   "id": "d0980fda",
   "metadata": {
    "_cell_guid": "192c2b05-103c-4058-b5c5-74c6d4c1a706",
    "_uuid": "c24aa71e-105a-419a-a4a6-d8684021d997",
    "collapsed": false,
    "execution": {
     "iopub.execute_input": "2024-11-24T00:48:03.095140Z",
     "iopub.status.busy": "2024-11-24T00:48:03.094738Z",
     "iopub.status.idle": "2024-11-24T00:48:03.108239Z",
     "shell.execute_reply": "2024-11-24T00:48:03.107161Z"
    },
    "jupyter": {
     "outputs_hidden": false
    },
    "papermill": {
     "duration": 0.026452,
     "end_time": "2024-11-24T00:48:03.110286",
     "exception": false,
     "start_time": "2024-11-24T00:48:03.083834",
     "status": "completed"
    },
    "tags": []
   },
   "outputs": [
    {
     "data": {
      "text/html": [
       "<div>\n",
       "<style scoped>\n",
       "    .dataframe tbody tr th:only-of-type {\n",
       "        vertical-align: middle;\n",
       "    }\n",
       "\n",
       "    .dataframe tbody tr th {\n",
       "        vertical-align: top;\n",
       "    }\n",
       "\n",
       "    .dataframe thead th {\n",
       "        text-align: right;\n",
       "    }\n",
       "</style>\n",
       "<table border=\"1\" class=\"dataframe\">\n",
       "  <thead>\n",
       "    <tr style=\"text-align: right;\">\n",
       "      <th></th>\n",
       "      <th>Customer_ID</th>\n",
       "      <th>Country</th>\n",
       "      <th>Province</th>\n",
       "      <th>FirstName</th>\n",
       "      <th>LastName</th>\n",
       "      <th>PostalCode</th>\n",
       "      <th>email</th>\n",
       "    </tr>\n",
       "  </thead>\n",
       "  <tbody>\n",
       "    <tr>\n",
       "      <th>2</th>\n",
       "      <td>100002</td>\n",
       "      <td>Canada</td>\n",
       "      <td>Saskatchewan</td>\n",
       "      <td>Rachel</td>\n",
       "      <td>Adams</td>\n",
       "      <td>V7F 9C3</td>\n",
       "      <td>rachel.adams@gmail.com</td>\n",
       "    </tr>\n",
       "    <tr>\n",
       "      <th>168</th>\n",
       "      <td>100168</td>\n",
       "      <td>Canada</td>\n",
       "      <td>Quebec</td>\n",
       "      <td>William</td>\n",
       "      <td>Ward</td>\n",
       "      <td>Q4N 6O5</td>\n",
       "      <td>william.ward@gmail.com</td>\n",
       "    </tr>\n",
       "  </tbody>\n",
       "</table>\n",
       "</div>"
      ],
      "text/plain": [
       "     Customer_ID Country      Province FirstName LastName PostalCode  \\\n",
       "2         100002  Canada  Saskatchewan    Rachel    Adams    V7F 9C3   \n",
       "168       100168  Canada        Quebec   William     Ward    Q4N 6O5   \n",
       "\n",
       "                      email  \n",
       "2    rachel.adams@gmail.com  \n",
       "168  william.ward@gmail.com  "
      ]
     },
     "execution_count": 18,
     "metadata": {},
     "output_type": "execute_result"
    }
   ],
   "source": [
    "Dim_Customers_df[Dim_Customers_df['Customer_ID'].isin([100002,100168])]"
   ]
  },
  {
   "cell_type": "code",
   "execution_count": 19,
   "id": "6ac387dd",
   "metadata": {
    "_cell_guid": "a0e8b1c1-0624-4141-a8fb-d8ce77b62c0d",
    "_uuid": "530bfed0-38d4-4b11-aa03-dcdf69e356c7",
    "collapsed": false,
    "execution": {
     "iopub.execute_input": "2024-11-24T00:48:03.132439Z",
     "iopub.status.busy": "2024-11-24T00:48:03.131553Z",
     "iopub.status.idle": "2024-11-24T00:48:03.143827Z",
     "shell.execute_reply": "2024-11-24T00:48:03.142769Z"
    },
    "jupyter": {
     "outputs_hidden": false
    },
    "papermill": {
     "duration": 0.025344,
     "end_time": "2024-11-24T00:48:03.145802",
     "exception": false,
     "start_time": "2024-11-24T00:48:03.120458",
     "status": "completed"
    },
    "tags": []
   },
   "outputs": [
    {
     "data": {
      "text/html": [
       "<div>\n",
       "<style scoped>\n",
       "    .dataframe tbody tr th:only-of-type {\n",
       "        vertical-align: middle;\n",
       "    }\n",
       "\n",
       "    .dataframe tbody tr th {\n",
       "        vertical-align: top;\n",
       "    }\n",
       "\n",
       "    .dataframe thead th {\n",
       "        text-align: right;\n",
       "    }\n",
       "</style>\n",
       "<table border=\"1\" class=\"dataframe\">\n",
       "  <thead>\n",
       "    <tr style=\"text-align: right;\">\n",
       "      <th></th>\n",
       "      <th>Customer_ID</th>\n",
       "      <th>Country</th>\n",
       "      <th>Province</th>\n",
       "      <th>FirstName</th>\n",
       "      <th>LastName</th>\n",
       "      <th>PostalCode</th>\n",
       "      <th>email</th>\n",
       "    </tr>\n",
       "  </thead>\n",
       "  <tbody>\n",
       "    <tr>\n",
       "      <th>3</th>\n",
       "      <td>100003</td>\n",
       "      <td>Canada</td>\n",
       "      <td>Nova Scotia</td>\n",
       "      <td>Leo</td>\n",
       "      <td>Allen</td>\n",
       "      <td>D3S 1H4</td>\n",
       "      <td>leo.allen@gmail.com</td>\n",
       "    </tr>\n",
       "    <tr>\n",
       "      <th>90</th>\n",
       "      <td>100090</td>\n",
       "      <td>Canada</td>\n",
       "      <td>Nova Scotia</td>\n",
       "      <td>Ryan</td>\n",
       "      <td>Cox</td>\n",
       "      <td>A5T 9E2</td>\n",
       "      <td>ryan.cox@gmail.com</td>\n",
       "    </tr>\n",
       "  </tbody>\n",
       "</table>\n",
       "</div>"
      ],
      "text/plain": [
       "    Customer_ID Country     Province FirstName LastName PostalCode  \\\n",
       "3        100003  Canada  Nova Scotia       Leo    Allen    D3S 1H4   \n",
       "90       100090  Canada  Nova Scotia      Ryan      Cox    A5T 9E2   \n",
       "\n",
       "                  email  \n",
       "3   leo.allen@gmail.com  \n",
       "90   ryan.cox@gmail.com  "
      ]
     },
     "execution_count": 19,
     "metadata": {},
     "output_type": "execute_result"
    }
   ],
   "source": [
    "Dim_Customers_df[Dim_Customers_df['Customer_ID'].isin([100003,100090])]"
   ]
  }
 ],
 "metadata": {
  "kaggle": {
   "accelerator": "none",
   "dataSources": [
    {
     "datasetId": 6139343,
     "sourceId": 9977828,
     "sourceType": "datasetVersion"
    },
    {
     "sourceId": 208504028,
     "sourceType": "kernelVersion"
    }
   ],
   "dockerImageVersionId": 30786,
   "isGpuEnabled": false,
   "isInternetEnabled": true,
   "language": "python",
   "sourceType": "notebook"
  },
  "kernelspec": {
   "display_name": "Python 3",
   "language": "python",
   "name": "python3"
  },
  "language_info": {
   "codemirror_mode": {
    "name": "ipython",
    "version": 3
   },
   "file_extension": ".py",
   "mimetype": "text/x-python",
   "name": "python",
   "nbconvert_exporter": "python",
   "pygments_lexer": "ipython3",
   "version": "3.10.14"
  },
  "papermill": {
   "default_parameters": {},
   "duration": 51.507539,
   "end_time": "2024-11-24T00:48:05.780481",
   "environment_variables": {},
   "exception": null,
   "input_path": "__notebook__.ipynb",
   "output_path": "__notebook__.ipynb",
   "parameters": {},
   "start_time": "2024-11-24T00:47:14.272942",
   "version": "2.6.0"
  }
 },
 "nbformat": 4,
 "nbformat_minor": 5
}
