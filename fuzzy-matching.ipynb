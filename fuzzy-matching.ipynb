{
 "cells": [
  {
   "cell_type": "code",
   "execution_count": 1,
   "id": "bd497f10",
   "metadata": {
    "_kg_hide-input": true,
    "execution": {
     "iopub.execute_input": "2024-11-17T23:02:22.465465Z",
     "iopub.status.busy": "2024-11-17T23:02:22.464722Z",
     "iopub.status.idle": "2024-11-17T23:02:22.477979Z",
     "shell.execute_reply": "2024-11-17T23:02:22.476922Z"
    },
    "jupyter": {
     "source_hidden": true
    },
    "papermill": {
     "duration": 0.025406,
     "end_time": "2024-11-17T23:02:22.480254",
     "exception": false,
     "start_time": "2024-11-17T23:02:22.454848",
     "status": "completed"
    },
    "tags": []
   },
   "outputs": [
    {
     "data": {
      "text/html": [
       "<img src=\"https://github.com/pparkitn/kaggle/blob/0718c0df988ff8e94e8421ba218e07494d3e1682/Images/Customer_Matching.png?raw=true\" alt=\"Customer Matching\" style=\"max-width:100%;\">"
      ],
      "text/plain": [
       "<IPython.core.display.HTML object>"
      ]
     },
     "metadata": {},
     "output_type": "display_data"
    }
   ],
   "source": [
    "from IPython.display import HTML, display\n",
    "\n",
    "url = \"https://github.com/pparkitn/kaggle/blob/0718c0df988ff8e94e8421ba218e07494d3e1682/Images/Customer_Matching.png?raw=true\"\n",
    "display(HTML(f'<img src=\"{url}\" alt=\"Customer Matching\" style=\"max-width:100%;\">'))\n"
   ]
  },
  {
   "cell_type": "markdown",
   "id": "806a03da",
   "metadata": {
    "_cell_guid": "5d8ce3a6-38d0-408c-af8e-da9f91815f55",
    "_uuid": "96724569-d781-4713-a9f3-74b98a8f4259",
    "collapsed": false,
    "jupyter": {
     "outputs_hidden": false
    },
    "papermill": {
     "duration": 0.006876,
     "end_time": "2024-11-17T23:02:22.494973",
     "exception": false,
     "start_time": "2024-11-17T23:02:22.488097",
     "status": "completed"
    },
    "tags": []
   },
   "source": [
    "# Matching Customers\n",
    "- This code outlines a process for matching customers from a database based on various string similarity measures and leveraging record linkage techniques. The overall objective is to identify potential duplicate or matching customer records by comparing their details such as names, emails, and addresses.\n",
    "- Levenshtein: For computing string similarity using the Levenshtein distance.\n",
    "- fuzzymatcher: A library for record linkage (matching records from different datasets).\n",
    "- recordlinkage: Another package for record linkage, enabling comparison of potential matching records.\n",
    "\n",
    "## Key Concepts:\n",
    "- Record Linkage: The process of identifying records in a dataset that refer to the same entity but are not identical (e.g., duplicate records with slight variations).\n",
    "- String Similarity Metrics: Measures like Levenshtein distance and token-based ratios are used to quantify how similar two strings are, which is central to the matching process.\n",
    "- Thresholding and Scoring: Potential matches are scored, and only those above a defined threshold are retained for further analysis.\n",
    "\n",
    "In summary, this code demonstrates how to use string matching and record linkage techniques to identify and match similar customer records in a dataset, which is useful in applications like data cleaning, deduplication, or fraud detection."
   ]
  },
  {
   "cell_type": "code",
   "execution_count": 2,
   "id": "79c7ce79",
   "metadata": {
    "_cell_guid": "e4a07929-6f68-4bd1-b907-eea52a21129b",
    "_kg_hide-input": true,
    "_uuid": "64be9d23-25b1-4ebd-9e97-3b63078be03a",
    "collapsed": true,
    "execution": {
     "iopub.execute_input": "2024-11-17T23:02:22.510871Z",
     "iopub.status.busy": "2024-11-17T23:02:22.510499Z",
     "iopub.status.idle": "2024-11-17T23:03:02.824804Z",
     "shell.execute_reply": "2024-11-17T23:03:02.823618Z"
    },
    "jupyter": {
     "outputs_hidden": true,
     "source_hidden": true
    },
    "papermill": {
     "duration": 40.325414,
     "end_time": "2024-11-17T23:03:02.827455",
     "exception": false,
     "start_time": "2024-11-17T23:02:22.502041",
     "status": "completed"
    },
    "tags": []
   },
   "outputs": [
    {
     "name": "stdout",
     "output_type": "stream",
     "text": [
      "Collecting Levenshtein\r\n",
      "  Downloading levenshtein-0.26.1-cp310-cp310-manylinux_2_17_x86_64.manylinux2014_x86_64.whl.metadata (3.2 kB)\r\n",
      "Collecting rapidfuzz<4.0.0,>=3.9.0 (from Levenshtein)\r\n",
      "  Downloading rapidfuzz-3.10.1-cp310-cp310-manylinux_2_17_x86_64.manylinux2014_x86_64.whl.metadata (11 kB)\r\n",
      "Downloading levenshtein-0.26.1-cp310-cp310-manylinux_2_17_x86_64.manylinux2014_x86_64.whl (162 kB)\r\n",
      "\u001b[2K   \u001b[90m━━━━━━━━━━━━━━━━━━━━━━━━━━━━━━━━━━━━━━━━\u001b[0m \u001b[32m162.6/162.6 kB\u001b[0m \u001b[31m3.4 MB/s\u001b[0m eta \u001b[36m0:00:00\u001b[0m\r\n",
      "\u001b[?25hDownloading rapidfuzz-3.10.1-cp310-cp310-manylinux_2_17_x86_64.manylinux2014_x86_64.whl (3.1 MB)\r\n",
      "\u001b[2K   \u001b[90m━━━━━━━━━━━━━━━━━━━━━━━━━━━━━━━━━━━━━━━━\u001b[0m \u001b[32m3.1/3.1 MB\u001b[0m \u001b[31m40.7 MB/s\u001b[0m eta \u001b[36m0:00:00\u001b[0m\r\n",
      "\u001b[?25hInstalling collected packages: rapidfuzz, Levenshtein\r\n",
      "Successfully installed Levenshtein-0.26.1 rapidfuzz-3.10.1\r\n",
      "Collecting fuzzymatcher\r\n",
      "  Downloading fuzzymatcher-0.0.6-py3-none-any.whl.metadata (560 bytes)\r\n",
      "Requirement already satisfied: pandas in /opt/conda/lib/python3.10/site-packages (from fuzzymatcher) (2.2.3)\r\n",
      "Collecting metaphone (from fuzzymatcher)\r\n",
      "  Downloading Metaphone-0.6.tar.gz (14 kB)\r\n",
      "  Preparing metadata (setup.py) ... \u001b[?25l-\b \bdone\r\n",
      "\u001b[?25hCollecting python-Levenshtein (from fuzzymatcher)\r\n",
      "  Downloading python_Levenshtein-0.26.1-py3-none-any.whl.metadata (3.7 kB)\r\n",
      "Requirement already satisfied: rapidfuzz in /opt/conda/lib/python3.10/site-packages (from fuzzymatcher) (3.10.1)\r\n",
      "Requirement already satisfied: python-dateutil in /opt/conda/lib/python3.10/site-packages (from fuzzymatcher) (2.9.0.post0)\r\n",
      "Requirement already satisfied: numpy>=1.22.4 in /opt/conda/lib/python3.10/site-packages (from pandas->fuzzymatcher) (1.26.4)\r\n",
      "Requirement already satisfied: pytz>=2020.1 in /opt/conda/lib/python3.10/site-packages (from pandas->fuzzymatcher) (2024.1)\r\n",
      "Requirement already satisfied: tzdata>=2022.7 in /opt/conda/lib/python3.10/site-packages (from pandas->fuzzymatcher) (2024.1)\r\n",
      "Requirement already satisfied: six>=1.5 in /opt/conda/lib/python3.10/site-packages (from python-dateutil->fuzzymatcher) (1.16.0)\r\n",
      "Requirement already satisfied: Levenshtein==0.26.1 in /opt/conda/lib/python3.10/site-packages (from python-Levenshtein->fuzzymatcher) (0.26.1)\r\n",
      "Downloading fuzzymatcher-0.0.6-py3-none-any.whl (15 kB)\r\n",
      "Downloading python_Levenshtein-0.26.1-py3-none-any.whl (9.4 kB)\r\n",
      "Building wheels for collected packages: metaphone\r\n",
      "  Building wheel for metaphone (setup.py) ... \u001b[?25l-\b \b\\\b \bdone\r\n",
      "\u001b[?25h  Created wheel for metaphone: filename=Metaphone-0.6-py3-none-any.whl size=13902 sha256=4af84e94c0d407176cab25b18f66c9a0b39f8efb3abd3c87309d5c49ade1aceb\r\n",
      "  Stored in directory: /root/.cache/pip/wheels/23/dd/1d/6cdd346605db62bde1f60954155e9ce48f4681c243f265b704\r\n",
      "Successfully built metaphone\r\n",
      "Installing collected packages: metaphone, python-Levenshtein, fuzzymatcher\r\n",
      "Successfully installed fuzzymatcher-0.0.6 metaphone-0.6 python-Levenshtein-0.26.1\r\n",
      "Collecting recordlinkage\r\n",
      "  Downloading recordlinkage-0.16-py3-none-any.whl.metadata (8.1 kB)\r\n",
      "Collecting jellyfish>=1 (from recordlinkage)\r\n",
      "  Downloading jellyfish-1.1.0-cp310-cp310-manylinux_2_17_x86_64.manylinux2014_x86_64.whl.metadata (2.6 kB)\r\n",
      "Requirement already satisfied: numpy>=1.13 in /opt/conda/lib/python3.10/site-packages (from recordlinkage) (1.26.4)\r\n",
      "Requirement already satisfied: pandas<3,>=1 in /opt/conda/lib/python3.10/site-packages (from recordlinkage) (2.2.3)\r\n",
      "Requirement already satisfied: scipy>=1 in /opt/conda/lib/python3.10/site-packages (from recordlinkage) (1.14.1)\r\n",
      "Requirement already satisfied: scikit-learn>=1 in /opt/conda/lib/python3.10/site-packages (from recordlinkage) (1.2.2)\r\n",
      "Requirement already satisfied: joblib in /opt/conda/lib/python3.10/site-packages (from recordlinkage) (1.4.2)\r\n",
      "Requirement already satisfied: python-dateutil>=2.8.2 in /opt/conda/lib/python3.10/site-packages (from pandas<3,>=1->recordlinkage) (2.9.0.post0)\r\n",
      "Requirement already satisfied: pytz>=2020.1 in /opt/conda/lib/python3.10/site-packages (from pandas<3,>=1->recordlinkage) (2024.1)\r\n",
      "Requirement already satisfied: tzdata>=2022.7 in /opt/conda/lib/python3.10/site-packages (from pandas<3,>=1->recordlinkage) (2024.1)\r\n",
      "Requirement already satisfied: threadpoolctl>=2.0.0 in /opt/conda/lib/python3.10/site-packages (from scikit-learn>=1->recordlinkage) (3.5.0)\r\n",
      "Requirement already satisfied: six>=1.5 in /opt/conda/lib/python3.10/site-packages (from python-dateutil>=2.8.2->pandas<3,>=1->recordlinkage) (1.16.0)\r\n",
      "Downloading recordlinkage-0.16-py3-none-any.whl (926 kB)\r\n",
      "\u001b[2K   \u001b[90m━━━━━━━━━━━━━━━━━━━━━━━━━━━━━━━━━━━━━━━━\u001b[0m \u001b[32m926.9/926.9 kB\u001b[0m \u001b[31m10.5 MB/s\u001b[0m eta \u001b[36m0:00:00\u001b[0m\r\n",
      "\u001b[?25hDownloading jellyfish-1.1.0-cp310-cp310-manylinux_2_17_x86_64.manylinux2014_x86_64.whl (335 kB)\r\n",
      "\u001b[2K   \u001b[90m━━━━━━━━━━━━━━━━━━━━━━━━━━━━━━━━━━━━━━━━\u001b[0m \u001b[32m336.0/336.0 kB\u001b[0m \u001b[31m16.7 MB/s\u001b[0m eta \u001b[36m0:00:00\u001b[0m\r\n",
      "\u001b[?25hInstalling collected packages: jellyfish, recordlinkage\r\n",
      "Successfully installed jellyfish-1.1.0 recordlinkage-0.16\r\n"
     ]
    }
   ],
   "source": [
    "!pip install Levenshtein\n",
    "!pip install fuzzymatcher\n",
    "!pip install recordlinkage"
   ]
  },
  {
   "cell_type": "code",
   "execution_count": 3,
   "id": "89a5a24f",
   "metadata": {
    "_cell_guid": "a0002f19-1466-4909-876a-49322a1f351e",
    "_kg_hide-input": true,
    "_uuid": "745e1fb2-fc11-4ba6-979d-c7ec7a85d8b2",
    "execution": {
     "iopub.execute_input": "2024-11-17T23:03:02.850015Z",
     "iopub.status.busy": "2024-11-17T23:03:02.849591Z",
     "iopub.status.idle": "2024-11-17T23:03:06.207463Z",
     "shell.execute_reply": "2024-11-17T23:03:06.206389Z"
    },
    "jupyter": {
     "source_hidden": true
    },
    "papermill": {
     "duration": 3.371867,
     "end_time": "2024-11-17T23:03:06.210168",
     "exception": false,
     "start_time": "2024-11-17T23:03:02.838301",
     "status": "completed"
    },
    "tags": []
   },
   "outputs": [],
   "source": [
    "from fuzzywuzzy import fuzz\n",
    "import math\n",
    "import pandas as pd\n",
    "import numpy as np\n",
    "import glob, os\n",
    "from datetime import datetime, timedelta\n",
    "import csv\n",
    "from tqdm import tqdm\n",
    "from cryptography.fernet import Fernet\n",
    "import Levenshtein as lev\n",
    "import getpass\n",
    "import base64\n",
    "import sqlalchemy as sa\n",
    "from sqlalchemy.engine import URL\n",
    "from sqlalchemy import create_engine\n",
    "\n",
    "# Database interaction imports\n",
    "import csv, sqlite3\n",
    "\n",
    "import pandas as pd\n",
    "from pathlib import Path\n",
    "import fuzzymatcher\n",
    "import recordlinkage"
   ]
  },
  {
   "cell_type": "markdown",
   "id": "658cbf8d",
   "metadata": {
    "papermill": {
     "duration": 0.009229,
     "end_time": "2024-11-17T23:03:06.229262",
     "exception": false,
     "start_time": "2024-11-17T23:03:06.220033",
     "status": "completed"
    },
    "tags": []
   },
   "source": [
    "## Read Data from Database\n",
    "- The SQLite database file Sonify_DB.db is read, and the Dim_Customers table is loaded into a pandas DataFrame. \n",
    "- Only the first 500 rows are selected for simplicity in processing."
   ]
  },
  {
   "cell_type": "code",
   "execution_count": 4,
   "id": "84edc4bc",
   "metadata": {
    "_cell_guid": "4609e0ad-330b-46e6-861a-4743c7ded8d2",
    "_uuid": "24d34be8-bd29-4672-a64a-50b866206dea",
    "collapsed": false,
    "execution": {
     "iopub.execute_input": "2024-11-17T23:03:06.250025Z",
     "iopub.status.busy": "2024-11-17T23:03:06.249470Z",
     "iopub.status.idle": "2024-11-17T23:03:06.512499Z",
     "shell.execute_reply": "2024-11-17T23:03:06.511392Z"
    },
    "jupyter": {
     "outputs_hidden": false
    },
    "papermill": {
     "duration": 0.27631,
     "end_time": "2024-11-17T23:03:06.515056",
     "exception": false,
     "start_time": "2024-11-17T23:03:06.238746",
     "status": "completed"
    },
    "tags": []
   },
   "outputs": [
    {
     "data": {
      "text/html": [
       "<div>\n",
       "<style scoped>\n",
       "    .dataframe tbody tr th:only-of-type {\n",
       "        vertical-align: middle;\n",
       "    }\n",
       "\n",
       "    .dataframe tbody tr th {\n",
       "        vertical-align: top;\n",
       "    }\n",
       "\n",
       "    .dataframe thead th {\n",
       "        text-align: right;\n",
       "    }\n",
       "</style>\n",
       "<table border=\"1\" class=\"dataframe\">\n",
       "  <thead>\n",
       "    <tr style=\"text-align: right;\">\n",
       "      <th></th>\n",
       "      <th>Customer_ID</th>\n",
       "      <th>Country</th>\n",
       "      <th>Province</th>\n",
       "      <th>email</th>\n",
       "      <th>FirstName</th>\n",
       "      <th>LastName</th>\n",
       "    </tr>\n",
       "  </thead>\n",
       "  <tbody>\n",
       "    <tr>\n",
       "      <th>0</th>\n",
       "      <td>100000</td>\n",
       "      <td>Canada</td>\n",
       "      <td>Prince Edward Island</td>\n",
       "      <td>Grace</td>\n",
       "      <td>Taylor</td>\n",
       "      <td>grace.taylor@gmail.com</td>\n",
       "    </tr>\n",
       "  </tbody>\n",
       "</table>\n",
       "</div>"
      ],
      "text/plain": [
       "   Customer_ID Country              Province  email FirstName  \\\n",
       "0       100000  Canada  Prince Edward Island  Grace    Taylor   \n",
       "\n",
       "                 LastName  \n",
       "0  grace.taylor@gmail.com  "
      ]
     },
     "execution_count": 4,
     "metadata": {},
     "output_type": "execute_result"
    }
   ],
   "source": [
    "db_file = \"/kaggle/input/synthetic-data-sonify/Sonify_DB.db\"\n",
    "\n",
    "con = sqlite3.connect(db_file) \n",
    "Dim_Customers_df = pd.read_sql_query(\"\"\"SELECT * from Dim_Customers\"\"\", con)\n",
    "con.close()\n",
    "Dim_Customers_df = Dim_Customers_df.head(500)\n",
    "Dim_Customers_df.head(1)"
   ]
  },
  {
   "cell_type": "markdown",
   "id": "285b5a43",
   "metadata": {
    "papermill": {
     "duration": 0.009463,
     "end_time": "2024-11-17T23:03:06.535440",
     "exception": false,
     "start_time": "2024-11-17T23:03:06.525977",
     "status": "completed"
    },
    "tags": []
   },
   "source": [
    "## String Matching Examples\n",
    "- Several string matching methods are tested on two example strings ('Peter' and 'Peter2'):\n",
    "- token_set_ratio: Tokenizes strings and compares the sets.\n",
    "- Levenshtein ratio: Measures the distance between two strings.\n",
    "- fuzz.ratio, partial_ratio, and token_sort_ratio: Different comparison methods provided by the fuzzywuzzy library."
   ]
  },
  {
   "cell_type": "code",
   "execution_count": 5,
   "id": "f482811a",
   "metadata": {
    "_cell_guid": "72c3672d-6a33-4492-818d-8f4f96c9c00c",
    "_uuid": "91b2740d-4025-403c-a10a-d28ae1232322",
    "collapsed": false,
    "execution": {
     "iopub.execute_input": "2024-11-17T23:03:06.556778Z",
     "iopub.status.busy": "2024-11-17T23:03:06.556382Z",
     "iopub.status.idle": "2024-11-17T23:03:06.563469Z",
     "shell.execute_reply": "2024-11-17T23:03:06.562414Z"
    },
    "jupyter": {
     "outputs_hidden": false
    },
    "papermill": {
     "duration": 0.020547,
     "end_time": "2024-11-17T23:03:06.566009",
     "exception": false,
     "start_time": "2024-11-17T23:03:06.545462",
     "status": "completed"
    },
    "tags": []
   },
   "outputs": [
    {
     "name": "stdout",
     "output_type": "stream",
     "text": [
      "91\n",
      "0.9090909090909091\n",
      "91\n",
      "100\n",
      "91\n"
     ]
    }
   ],
   "source": [
    "str1 = 'Peter'\n",
    "str2 = 'Peter2'\n",
    "\n",
    "result = fuzz.token_set_ratio(str1,str2)\n",
    "print(result)\n",
    "\n",
    "result = lev.ratio(str1,str2)\n",
    "print(result)\n",
    "\n",
    "result = fuzz.ratio(str1,str2)\n",
    "print(result)\n",
    "\n",
    "result = fuzz.partial_ratio(str1,str2)\n",
    "print(result)\n",
    "\n",
    "result = fuzz.token_sort_ratio(str1,str2)    \n",
    "print(result)"
   ]
  },
  {
   "cell_type": "markdown",
   "id": "7bcbdb1f",
   "metadata": {
    "papermill": {
     "duration": 0.009552,
     "end_time": "2024-11-17T23:03:06.585385",
     "exception": false,
     "start_time": "2024-11-17T23:03:06.575833",
     "status": "completed"
    },
    "tags": []
   },
   "source": [
    "## Record Linkage Indexing\n",
    "- The recordlinkage.Index() class is used to create pairs of customer records (candidates) to be compared. This step generates pairs of rows from the Dim_Customers_df DataFrame for potential matching."
   ]
  },
  {
   "cell_type": "code",
   "execution_count": 6,
   "id": "d7638377",
   "metadata": {
    "_cell_guid": "3b3156de-f86a-4e22-8910-d194993afc2b",
    "_uuid": "6ed4584a-e030-42e3-b288-1db9f679ba85",
    "collapsed": false,
    "execution": {
     "iopub.execute_input": "2024-11-17T23:03:06.606346Z",
     "iopub.status.busy": "2024-11-17T23:03:06.605872Z",
     "iopub.status.idle": "2024-11-17T23:03:06.621656Z",
     "shell.execute_reply": "2024-11-17T23:03:06.620561Z"
    },
    "jupyter": {
     "outputs_hidden": false
    },
    "papermill": {
     "duration": 0.028974,
     "end_time": "2024-11-17T23:03:06.623936",
     "exception": false,
     "start_time": "2024-11-17T23:03:06.594962",
     "status": "completed"
    },
    "tags": []
   },
   "outputs": [
    {
     "name": "stdout",
     "output_type": "stream",
     "text": [
      "WARNING:recordlinkage:indexing - performance warning - A full index can result in large number of record pairs.\n",
      "250000\n"
     ]
    }
   ],
   "source": [
    "indexer = recordlinkage.Index()\n",
    "indexer.full()\n",
    "candidates = indexer.index(Dim_Customers_df, Dim_Customers_df)\n",
    "print(len(candidates))"
   ]
  },
  {
   "cell_type": "markdown",
   "id": "7218da6d",
   "metadata": {
    "papermill": {
     "duration": 0.010153,
     "end_time": "2024-11-17T23:03:06.643909",
     "exception": false,
     "start_time": "2024-11-17T23:03:06.633756",
     "status": "completed"
    },
    "tags": []
   },
   "source": [
    "## Comparison of Customer Records\n",
    "- The Compare class from recordlinkage is used to define a set of comparisons between customer records:\n",
    "- Exact matches for columns like Province and email.\n",
    "- String comparisons for columns like FirstName, LastName, and Country, with a threshold of 0.85 for similarity."
   ]
  },
  {
   "cell_type": "code",
   "execution_count": 7,
   "id": "ed8ee415",
   "metadata": {
    "_cell_guid": "2c401eb6-50a3-4931-90ba-7fc02bb51bad",
    "_uuid": "9b799eb1-4cf9-419d-a575-6bad9408be44",
    "collapsed": false,
    "execution": {
     "iopub.execute_input": "2024-11-17T23:03:06.665473Z",
     "iopub.status.busy": "2024-11-17T23:03:06.665046Z",
     "iopub.status.idle": "2024-11-17T23:03:12.522329Z",
     "shell.execute_reply": "2024-11-17T23:03:12.521064Z"
    },
    "jupyter": {
     "outputs_hidden": false
    },
    "papermill": {
     "duration": 5.870796,
     "end_time": "2024-11-17T23:03:12.524664",
     "exception": false,
     "start_time": "2024-11-17T23:03:06.653868",
     "status": "completed"
    },
    "tags": []
   },
   "outputs": [
    {
     "name": "stdout",
     "output_type": "stream",
     "text": [
      "CPU times: user 76 ms, sys: 91.7 ms, total: 168 ms\n",
      "Wall time: 5.85 s\n"
     ]
    },
    {
     "name": "stderr",
     "output_type": "stream",
     "text": [
      "INFO:recordlinkage:comparing [1/?] - time: 3.78s - pairs: 62500\n",
      "INFO:recordlinkage:comparing [1/?] - time: 3.78s - pairs_total: 62500\n",
      "INFO:recordlinkage:comparing [1/?] - time: 3.81s - pairs: 62500\n",
      "INFO:recordlinkage:comparing [1/?] - time: 3.81s - pairs_total: 62500\n",
      "INFO:recordlinkage:comparing [1/?] - time: 3.90s - pairs: 62500\n",
      "INFO:recordlinkage:comparing [1/?] - time: 3.90s - pairs_total: 62500\n",
      "INFO:recordlinkage:comparing [1/?] - time: 3.81s - pairs: 62500\n",
      "INFO:recordlinkage:comparing [1/?] - time: 3.81s - pairs_total: 62500\n"
     ]
    }
   ],
   "source": [
    "%%time\n",
    "\n",
    "# initialise class\n",
    "compare = recordlinkage.Compare(n_jobs=-1, non_empty=True)\n",
    "\n",
    "# initialise similarity measurement algorithms\n",
    "compare.exact('Province', 'Province', label='Province')\n",
    "compare.exact('email', 'email', label='email')\n",
    "compare.string('FirstName','FirstName',threshold=0.85,label='FirstName')\n",
    "compare.string('LastName','LastName',threshold=0.85,label='LastName')\n",
    "compare.string('Country','Country', method='levenshtein', threshold=0.85,label='Country')\n",
    "features = compare.compute(candidates, Dim_Customers_df, Dim_Customers_df)"
   ]
  },
  {
   "cell_type": "code",
   "execution_count": 8,
   "id": "ce585324",
   "metadata": {
    "_cell_guid": "af46bcd1-4531-4f6a-9ffa-c488a8bf4da1",
    "_uuid": "cfaef927-6fed-4aca-bffd-0291fe287a68",
    "collapsed": false,
    "execution": {
     "iopub.execute_input": "2024-11-17T23:03:12.546986Z",
     "iopub.status.busy": "2024-11-17T23:03:12.546573Z",
     "iopub.status.idle": "2024-11-17T23:03:12.565657Z",
     "shell.execute_reply": "2024-11-17T23:03:12.564614Z"
    },
    "jupyter": {
     "outputs_hidden": false
    },
    "papermill": {
     "duration": 0.033022,
     "end_time": "2024-11-17T23:03:12.567978",
     "exception": false,
     "start_time": "2024-11-17T23:03:12.534956",
     "status": "completed"
    },
    "tags": []
   },
   "outputs": [
    {
     "data": {
      "text/html": [
       "<div>\n",
       "<style scoped>\n",
       "    .dataframe tbody tr th:only-of-type {\n",
       "        vertical-align: middle;\n",
       "    }\n",
       "\n",
       "    .dataframe tbody tr th {\n",
       "        vertical-align: top;\n",
       "    }\n",
       "\n",
       "    .dataframe thead th {\n",
       "        text-align: right;\n",
       "    }\n",
       "</style>\n",
       "<table border=\"1\" class=\"dataframe\">\n",
       "  <thead>\n",
       "    <tr style=\"text-align: right;\">\n",
       "      <th></th>\n",
       "      <th></th>\n",
       "      <th>Province</th>\n",
       "      <th>email</th>\n",
       "      <th>FirstName</th>\n",
       "      <th>LastName</th>\n",
       "      <th>Country</th>\n",
       "    </tr>\n",
       "  </thead>\n",
       "  <tbody>\n",
       "    <tr>\n",
       "      <th rowspan=\"5\" valign=\"top\">0</th>\n",
       "      <th>0</th>\n",
       "      <td>1</td>\n",
       "      <td>1</td>\n",
       "      <td>1.0</td>\n",
       "      <td>1.0</td>\n",
       "      <td>1.0</td>\n",
       "    </tr>\n",
       "    <tr>\n",
       "      <th>1</th>\n",
       "      <td>0</td>\n",
       "      <td>0</td>\n",
       "      <td>0.0</td>\n",
       "      <td>0.0</td>\n",
       "      <td>1.0</td>\n",
       "    </tr>\n",
       "    <tr>\n",
       "      <th>2</th>\n",
       "      <td>0</td>\n",
       "      <td>0</td>\n",
       "      <td>0.0</td>\n",
       "      <td>0.0</td>\n",
       "      <td>1.0</td>\n",
       "    </tr>\n",
       "    <tr>\n",
       "      <th>3</th>\n",
       "      <td>0</td>\n",
       "      <td>0</td>\n",
       "      <td>0.0</td>\n",
       "      <td>0.0</td>\n",
       "      <td>1.0</td>\n",
       "    </tr>\n",
       "    <tr>\n",
       "      <th>4</th>\n",
       "      <td>0</td>\n",
       "      <td>0</td>\n",
       "      <td>0.0</td>\n",
       "      <td>0.0</td>\n",
       "      <td>1.0</td>\n",
       "    </tr>\n",
       "    <tr>\n",
       "      <th>...</th>\n",
       "      <th>...</th>\n",
       "      <td>...</td>\n",
       "      <td>...</td>\n",
       "      <td>...</td>\n",
       "      <td>...</td>\n",
       "      <td>...</td>\n",
       "    </tr>\n",
       "    <tr>\n",
       "      <th rowspan=\"5\" valign=\"top\">499</th>\n",
       "      <th>495</th>\n",
       "      <td>0</td>\n",
       "      <td>0</td>\n",
       "      <td>0.0</td>\n",
       "      <td>0.0</td>\n",
       "      <td>1.0</td>\n",
       "    </tr>\n",
       "    <tr>\n",
       "      <th>496</th>\n",
       "      <td>0</td>\n",
       "      <td>0</td>\n",
       "      <td>0.0</td>\n",
       "      <td>0.0</td>\n",
       "      <td>1.0</td>\n",
       "    </tr>\n",
       "    <tr>\n",
       "      <th>497</th>\n",
       "      <td>0</td>\n",
       "      <td>0</td>\n",
       "      <td>0.0</td>\n",
       "      <td>0.0</td>\n",
       "      <td>1.0</td>\n",
       "    </tr>\n",
       "    <tr>\n",
       "      <th>498</th>\n",
       "      <td>0</td>\n",
       "      <td>0</td>\n",
       "      <td>0.0</td>\n",
       "      <td>0.0</td>\n",
       "      <td>1.0</td>\n",
       "    </tr>\n",
       "    <tr>\n",
       "      <th>499</th>\n",
       "      <td>1</td>\n",
       "      <td>1</td>\n",
       "      <td>1.0</td>\n",
       "      <td>1.0</td>\n",
       "      <td>1.0</td>\n",
       "    </tr>\n",
       "  </tbody>\n",
       "</table>\n",
       "<p>250000 rows × 5 columns</p>\n",
       "</div>"
      ],
      "text/plain": [
       "         Province  email  FirstName  LastName  Country\n",
       "0   0           1      1        1.0       1.0      1.0\n",
       "    1           0      0        0.0       0.0      1.0\n",
       "    2           0      0        0.0       0.0      1.0\n",
       "    3           0      0        0.0       0.0      1.0\n",
       "    4           0      0        0.0       0.0      1.0\n",
       "...           ...    ...        ...       ...      ...\n",
       "499 495         0      0        0.0       0.0      1.0\n",
       "    496         0      0        0.0       0.0      1.0\n",
       "    497         0      0        0.0       0.0      1.0\n",
       "    498         0      0        0.0       0.0      1.0\n",
       "    499         1      1        1.0       1.0      1.0\n",
       "\n",
       "[250000 rows x 5 columns]"
      ]
     },
     "execution_count": 8,
     "metadata": {},
     "output_type": "execute_result"
    }
   ],
   "source": [
    "features"
   ]
  },
  {
   "cell_type": "markdown",
   "id": "e2c5fe17",
   "metadata": {
    "papermill": {
     "duration": 0.009916,
     "end_time": "2024-11-17T23:03:12.588141",
     "exception": false,
     "start_time": "2024-11-17T23:03:12.578225",
     "status": "completed"
    },
    "tags": []
   },
   "source": [
    "## Examine Similarity Scores\n",
    "- The features DataFrame contains similarity scores for each pair of records. The code checks how many pairs meet a certain threshold and computes the sum of all feature matches across pairs."
   ]
  },
  {
   "cell_type": "code",
   "execution_count": 9,
   "id": "2184c96e",
   "metadata": {
    "_cell_guid": "b359b290-a77a-4a1b-be29-df595ccaf8ac",
    "_uuid": "63119fd6-f44d-4efd-aa48-216423f2414c",
    "collapsed": false,
    "execution": {
     "iopub.execute_input": "2024-11-17T23:03:12.610628Z",
     "iopub.status.busy": "2024-11-17T23:03:12.610210Z",
     "iopub.status.idle": "2024-11-17T23:03:12.675649Z",
     "shell.execute_reply": "2024-11-17T23:03:12.674519Z"
    },
    "jupyter": {
     "outputs_hidden": false
    },
    "papermill": {
     "duration": 0.079615,
     "end_time": "2024-11-17T23:03:12.678186",
     "exception": false,
     "start_time": "2024-11-17T23:03:12.598571",
     "status": "completed"
    },
    "tags": []
   },
   "outputs": [
    {
     "data": {
      "text/plain": [
       "5.0       506\n",
       "4.0       118\n",
       "3.0      1172\n",
       "2.0     31458\n",
       "1.0    216746\n",
       "Name: count, dtype: int64"
      ]
     },
     "execution_count": 9,
     "metadata": {},
     "output_type": "execute_result"
    }
   ],
   "source": [
    "features.sum(axis=1).value_counts().sort_index(ascending=False)"
   ]
  },
  {
   "cell_type": "markdown",
   "id": "074dce35",
   "metadata": {
    "papermill": {
     "duration": 0.010119,
     "end_time": "2024-11-17T23:03:12.698857",
     "exception": false,
     "start_time": "2024-11-17T23:03:12.688738",
     "status": "completed"
    },
    "tags": []
   },
   "source": [
    "## Identify Potential Matches\n",
    "- Customer pairs that have a score greater than 1 are considered as potential matches.\n",
    "- A new Score column is created by summing the individual string similarity scores from different fields (FirstName, LastName, email)."
   ]
  },
  {
   "cell_type": "code",
   "execution_count": 10,
   "id": "0c96334e",
   "metadata": {
    "_cell_guid": "bace9165-180c-47e2-a8be-d6f563b91730",
    "_uuid": "2869f3eb-b40c-47e4-9458-24642c40d33f",
    "collapsed": false,
    "execution": {
     "iopub.execute_input": "2024-11-17T23:03:12.721436Z",
     "iopub.status.busy": "2024-11-17T23:03:12.720902Z",
     "iopub.status.idle": "2024-11-17T23:03:12.777555Z",
     "shell.execute_reply": "2024-11-17T23:03:12.776508Z"
    },
    "jupyter": {
     "outputs_hidden": false
    },
    "papermill": {
     "duration": 0.070883,
     "end_time": "2024-11-17T23:03:12.780130",
     "exception": false,
     "start_time": "2024-11-17T23:03:12.709247",
     "status": "completed"
    },
    "tags": []
   },
   "outputs": [],
   "source": [
    "potential_matches = features[features.sum(axis=1) > 1].reset_index()\n",
    "potential_matches['Score'] = potential_matches['FirstName']+potential_matches['LastName']+potential_matches['email']"
   ]
  },
  {
   "cell_type": "code",
   "execution_count": 11,
   "id": "a35b2863",
   "metadata": {
    "_cell_guid": "d937f287-1174-4198-9f79-38bf376601f5",
    "_uuid": "dee6e7d2-98ed-451e-bf15-b9fe7d9ac96b",
    "collapsed": false,
    "execution": {
     "iopub.execute_input": "2024-11-17T23:03:12.808327Z",
     "iopub.status.busy": "2024-11-17T23:03:12.807899Z",
     "iopub.status.idle": "2024-11-17T23:03:12.825534Z",
     "shell.execute_reply": "2024-11-17T23:03:12.824365Z"
    },
    "jupyter": {
     "outputs_hidden": false
    },
    "papermill": {
     "duration": 0.035956,
     "end_time": "2024-11-17T23:03:12.828019",
     "exception": false,
     "start_time": "2024-11-17T23:03:12.792063",
     "status": "completed"
    },
    "tags": []
   },
   "outputs": [
    {
     "data": {
      "text/html": [
       "<div>\n",
       "<style scoped>\n",
       "    .dataframe tbody tr th:only-of-type {\n",
       "        vertical-align: middle;\n",
       "    }\n",
       "\n",
       "    .dataframe tbody tr th {\n",
       "        vertical-align: top;\n",
       "    }\n",
       "\n",
       "    .dataframe thead th {\n",
       "        text-align: right;\n",
       "    }\n",
       "</style>\n",
       "<table border=\"1\" class=\"dataframe\">\n",
       "  <thead>\n",
       "    <tr style=\"text-align: right;\">\n",
       "      <th></th>\n",
       "      <th>level_0</th>\n",
       "      <th>level_1</th>\n",
       "      <th>Province</th>\n",
       "      <th>email</th>\n",
       "      <th>FirstName</th>\n",
       "      <th>LastName</th>\n",
       "      <th>Country</th>\n",
       "      <th>Score</th>\n",
       "    </tr>\n",
       "  </thead>\n",
       "  <tbody>\n",
       "    <tr>\n",
       "      <th>0</th>\n",
       "      <td>0</td>\n",
       "      <td>0</td>\n",
       "      <td>1</td>\n",
       "      <td>1</td>\n",
       "      <td>1.0</td>\n",
       "      <td>1.0</td>\n",
       "      <td>1.0</td>\n",
       "      <td>3.0</td>\n",
       "    </tr>\n",
       "    <tr>\n",
       "      <th>1</th>\n",
       "      <td>0</td>\n",
       "      <td>10</td>\n",
       "      <td>1</td>\n",
       "      <td>0</td>\n",
       "      <td>0.0</td>\n",
       "      <td>0.0</td>\n",
       "      <td>1.0</td>\n",
       "      <td>0.0</td>\n",
       "    </tr>\n",
       "    <tr>\n",
       "      <th>2</th>\n",
       "      <td>0</td>\n",
       "      <td>18</td>\n",
       "      <td>1</td>\n",
       "      <td>0</td>\n",
       "      <td>0.0</td>\n",
       "      <td>0.0</td>\n",
       "      <td>1.0</td>\n",
       "      <td>0.0</td>\n",
       "    </tr>\n",
       "    <tr>\n",
       "      <th>3</th>\n",
       "      <td>0</td>\n",
       "      <td>22</td>\n",
       "      <td>1</td>\n",
       "      <td>0</td>\n",
       "      <td>0.0</td>\n",
       "      <td>0.0</td>\n",
       "      <td>1.0</td>\n",
       "      <td>0.0</td>\n",
       "    </tr>\n",
       "    <tr>\n",
       "      <th>4</th>\n",
       "      <td>0</td>\n",
       "      <td>33</td>\n",
       "      <td>1</td>\n",
       "      <td>0</td>\n",
       "      <td>0.0</td>\n",
       "      <td>0.0</td>\n",
       "      <td>1.0</td>\n",
       "      <td>0.0</td>\n",
       "    </tr>\n",
       "  </tbody>\n",
       "</table>\n",
       "</div>"
      ],
      "text/plain": [
       "   level_0  level_1  Province  email  FirstName  LastName  Country  Score\n",
       "0        0        0         1      1        1.0       1.0      1.0    3.0\n",
       "1        0       10         1      0        0.0       0.0      1.0    0.0\n",
       "2        0       18         1      0        0.0       0.0      1.0    0.0\n",
       "3        0       22         1      0        0.0       0.0      1.0    0.0\n",
       "4        0       33         1      0        0.0       0.0      1.0    0.0"
      ]
     },
     "execution_count": 11,
     "metadata": {},
     "output_type": "execute_result"
    }
   ],
   "source": [
    "potential_matches.head(5)"
   ]
  },
  {
   "cell_type": "markdown",
   "id": "f20492a2",
   "metadata": {
    "papermill": {
     "duration": 0.01085,
     "end_time": "2024-11-17T23:03:12.849692",
     "exception": false,
     "start_time": "2024-11-17T23:03:12.838842",
     "status": "completed"
    },
    "tags": []
   },
   "source": [
    "## Filter Matches Based on Score\n",
    "- Potential matches with a total score below a threshold (2 in this case) are removed."
   ]
  },
  {
   "cell_type": "code",
   "execution_count": 12,
   "id": "ea2768ad",
   "metadata": {
    "_cell_guid": "975694f5-9110-47f2-a3e8-e22726fca4fa",
    "_uuid": "3e133bce-467d-4a74-a11b-a46f5e74b719",
    "collapsed": false,
    "execution": {
     "iopub.execute_input": "2024-11-17T23:03:12.875588Z",
     "iopub.status.busy": "2024-11-17T23:03:12.875162Z",
     "iopub.status.idle": "2024-11-17T23:03:12.894049Z",
     "shell.execute_reply": "2024-11-17T23:03:12.893060Z"
    },
    "jupyter": {
     "outputs_hidden": false
    },
    "papermill": {
     "duration": 0.03349,
     "end_time": "2024-11-17T23:03:12.896553",
     "exception": false,
     "start_time": "2024-11-17T23:03:12.863063",
     "status": "completed"
    },
    "tags": []
   },
   "outputs": [
    {
     "data": {
      "text/html": [
       "<div>\n",
       "<style scoped>\n",
       "    .dataframe tbody tr th:only-of-type {\n",
       "        vertical-align: middle;\n",
       "    }\n",
       "\n",
       "    .dataframe tbody tr th {\n",
       "        vertical-align: top;\n",
       "    }\n",
       "\n",
       "    .dataframe thead th {\n",
       "        text-align: right;\n",
       "    }\n",
       "</style>\n",
       "<table border=\"1\" class=\"dataframe\">\n",
       "  <thead>\n",
       "    <tr style=\"text-align: right;\">\n",
       "      <th></th>\n",
       "      <th>level_0</th>\n",
       "      <th>level_1</th>\n",
       "      <th>Province</th>\n",
       "      <th>email</th>\n",
       "      <th>FirstName</th>\n",
       "      <th>LastName</th>\n",
       "      <th>Country</th>\n",
       "      <th>Score</th>\n",
       "    </tr>\n",
       "  </thead>\n",
       "  <tbody>\n",
       "    <tr>\n",
       "      <th>0</th>\n",
       "      <td>0</td>\n",
       "      <td>0</td>\n",
       "      <td>1</td>\n",
       "      <td>1</td>\n",
       "      <td>1.0</td>\n",
       "      <td>1.0</td>\n",
       "      <td>1.0</td>\n",
       "      <td>3.0</td>\n",
       "    </tr>\n",
       "    <tr>\n",
       "      <th>68</th>\n",
       "      <td>1</td>\n",
       "      <td>1</td>\n",
       "      <td>1</td>\n",
       "      <td>1</td>\n",
       "      <td>1.0</td>\n",
       "      <td>1.0</td>\n",
       "      <td>1.0</td>\n",
       "      <td>3.0</td>\n",
       "    </tr>\n",
       "    <tr>\n",
       "      <th>140</th>\n",
       "      <td>2</td>\n",
       "      <td>2</td>\n",
       "      <td>1</td>\n",
       "      <td>1</td>\n",
       "      <td>1.0</td>\n",
       "      <td>1.0</td>\n",
       "      <td>1.0</td>\n",
       "      <td>3.0</td>\n",
       "    </tr>\n",
       "    <tr>\n",
       "      <th>152</th>\n",
       "      <td>2</td>\n",
       "      <td>78</td>\n",
       "      <td>0</td>\n",
       "      <td>1</td>\n",
       "      <td>0.0</td>\n",
       "      <td>1.0</td>\n",
       "      <td>1.0</td>\n",
       "      <td>2.0</td>\n",
       "    </tr>\n",
       "    <tr>\n",
       "      <th>204</th>\n",
       "      <td>3</td>\n",
       "      <td>3</td>\n",
       "      <td>1</td>\n",
       "      <td>1</td>\n",
       "      <td>1.0</td>\n",
       "      <td>1.0</td>\n",
       "      <td>1.0</td>\n",
       "      <td>3.0</td>\n",
       "    </tr>\n",
       "    <tr>\n",
       "      <th>...</th>\n",
       "      <td>...</td>\n",
       "      <td>...</td>\n",
       "      <td>...</td>\n",
       "      <td>...</td>\n",
       "      <td>...</td>\n",
       "      <td>...</td>\n",
       "      <td>...</td>\n",
       "      <td>...</td>\n",
       "    </tr>\n",
       "    <tr>\n",
       "      <th>33027</th>\n",
       "      <td>496</td>\n",
       "      <td>496</td>\n",
       "      <td>1</td>\n",
       "      <td>1</td>\n",
       "      <td>1.0</td>\n",
       "      <td>1.0</td>\n",
       "      <td>1.0</td>\n",
       "      <td>3.0</td>\n",
       "    </tr>\n",
       "    <tr>\n",
       "      <th>33109</th>\n",
       "      <td>497</td>\n",
       "      <td>497</td>\n",
       "      <td>1</td>\n",
       "      <td>1</td>\n",
       "      <td>1.0</td>\n",
       "      <td>1.0</td>\n",
       "      <td>1.0</td>\n",
       "      <td>3.0</td>\n",
       "    </tr>\n",
       "    <tr>\n",
       "      <th>33189</th>\n",
       "      <td>498</td>\n",
       "      <td>498</td>\n",
       "      <td>1</td>\n",
       "      <td>1</td>\n",
       "      <td>1.0</td>\n",
       "      <td>1.0</td>\n",
       "      <td>1.0</td>\n",
       "      <td>3.0</td>\n",
       "    </tr>\n",
       "    <tr>\n",
       "      <th>33219</th>\n",
       "      <td>499</td>\n",
       "      <td>242</td>\n",
       "      <td>0</td>\n",
       "      <td>0</td>\n",
       "      <td>1.0</td>\n",
       "      <td>1.0</td>\n",
       "      <td>1.0</td>\n",
       "      <td>2.0</td>\n",
       "    </tr>\n",
       "    <tr>\n",
       "      <th>33253</th>\n",
       "      <td>499</td>\n",
       "      <td>499</td>\n",
       "      <td>1</td>\n",
       "      <td>1</td>\n",
       "      <td>1.0</td>\n",
       "      <td>1.0</td>\n",
       "      <td>1.0</td>\n",
       "      <td>3.0</td>\n",
       "    </tr>\n",
       "  </tbody>\n",
       "</table>\n",
       "<p>930 rows × 8 columns</p>\n",
       "</div>"
      ],
      "text/plain": [
       "       level_0  level_1  Province  email  FirstName  LastName  Country  Score\n",
       "0            0        0         1      1        1.0       1.0      1.0    3.0\n",
       "68           1        1         1      1        1.0       1.0      1.0    3.0\n",
       "140          2        2         1      1        1.0       1.0      1.0    3.0\n",
       "152          2       78         0      1        0.0       1.0      1.0    2.0\n",
       "204          3        3         1      1        1.0       1.0      1.0    3.0\n",
       "...        ...      ...       ...    ...        ...       ...      ...    ...\n",
       "33027      496      496         1      1        1.0       1.0      1.0    3.0\n",
       "33109      497      497         1      1        1.0       1.0      1.0    3.0\n",
       "33189      498      498         1      1        1.0       1.0      1.0    3.0\n",
       "33219      499      242         0      0        1.0       1.0      1.0    2.0\n",
       "33253      499      499         1      1        1.0       1.0      1.0    3.0\n",
       "\n",
       "[930 rows x 8 columns]"
      ]
     },
     "execution_count": 12,
     "metadata": {},
     "output_type": "execute_result"
    }
   ],
   "source": [
    "# Remove Low Matches\n",
    "potential_matches = potential_matches[(potential_matches['Score'] >= 2)]\n",
    "potential_matches"
   ]
  },
  {
   "cell_type": "markdown",
   "id": "eb69e3fc",
   "metadata": {
    "papermill": {
     "duration": 0.011154,
     "end_time": "2024-11-17T23:03:12.918678",
     "exception": false,
     "start_time": "2024-11-17T23:03:12.907524",
     "status": "completed"
    },
    "tags": []
   },
   "source": [
    "## Merge Data to Retrieve Customer IDs\n",
    "- The potential_matches DataFrame is merged with the original Dim_Customers_df to retrieve the customer IDs for the matched records."
   ]
  },
  {
   "cell_type": "code",
   "execution_count": 13,
   "id": "689325f0",
   "metadata": {
    "_cell_guid": "e709a193-473c-450f-af4a-e8c5597f4a45",
    "_uuid": "bf7677eb-5842-4961-b3db-f20785e301c7",
    "collapsed": false,
    "execution": {
     "iopub.execute_input": "2024-11-17T23:03:12.941887Z",
     "iopub.status.busy": "2024-11-17T23:03:12.941504Z",
     "iopub.status.idle": "2024-11-17T23:03:12.958537Z",
     "shell.execute_reply": "2024-11-17T23:03:12.957483Z"
    },
    "jupyter": {
     "outputs_hidden": false
    },
    "papermill": {
     "duration": 0.031229,
     "end_time": "2024-11-17T23:03:12.960704",
     "exception": false,
     "start_time": "2024-11-17T23:03:12.929475",
     "status": "completed"
    },
    "tags": []
   },
   "outputs": [
    {
     "data": {
      "text/html": [
       "<div>\n",
       "<style scoped>\n",
       "    .dataframe tbody tr th:only-of-type {\n",
       "        vertical-align: middle;\n",
       "    }\n",
       "\n",
       "    .dataframe tbody tr th {\n",
       "        vertical-align: top;\n",
       "    }\n",
       "\n",
       "    .dataframe thead th {\n",
       "        text-align: right;\n",
       "    }\n",
       "</style>\n",
       "<table border=\"1\" class=\"dataframe\">\n",
       "  <thead>\n",
       "    <tr style=\"text-align: right;\">\n",
       "      <th></th>\n",
       "      <th>level_0</th>\n",
       "      <th>Customer_ID</th>\n",
       "    </tr>\n",
       "  </thead>\n",
       "  <tbody>\n",
       "    <tr>\n",
       "      <th>0</th>\n",
       "      <td>0</td>\n",
       "      <td>100000</td>\n",
       "    </tr>\n",
       "    <tr>\n",
       "      <th>68</th>\n",
       "      <td>1</td>\n",
       "      <td>100001</td>\n",
       "    </tr>\n",
       "    <tr>\n",
       "      <th>140</th>\n",
       "      <td>2</td>\n",
       "      <td>100002</td>\n",
       "    </tr>\n",
       "    <tr>\n",
       "      <th>152</th>\n",
       "      <td>2</td>\n",
       "      <td>100002</td>\n",
       "    </tr>\n",
       "    <tr>\n",
       "      <th>204</th>\n",
       "      <td>3</td>\n",
       "      <td>100003</td>\n",
       "    </tr>\n",
       "  </tbody>\n",
       "</table>\n",
       "</div>"
      ],
      "text/plain": [
       "     level_0  Customer_ID\n",
       "0          0       100000\n",
       "68         1       100001\n",
       "140        2       100002\n",
       "152        2       100002\n",
       "204        3       100003"
      ]
     },
     "execution_count": 13,
     "metadata": {},
     "output_type": "execute_result"
    }
   ],
   "source": [
    "look_up_0 = potential_matches.merge(Dim_Customers_df, left_on='level_0', right_index=True)\n",
    "look_up_0 = look_up_0[['level_0','Customer_ID']]\n",
    "look_up_0.head(5)"
   ]
  },
  {
   "cell_type": "code",
   "execution_count": 14,
   "id": "2f23e266",
   "metadata": {
    "_cell_guid": "e4b91e7c-3b73-4ad1-8a33-ec414128fb66",
    "_uuid": "1ae7636c-4b41-4fdb-a281-461bc94a99c9",
    "collapsed": false,
    "execution": {
     "iopub.execute_input": "2024-11-17T23:03:12.985192Z",
     "iopub.status.busy": "2024-11-17T23:03:12.984233Z",
     "iopub.status.idle": "2024-11-17T23:03:13.000757Z",
     "shell.execute_reply": "2024-11-17T23:03:12.999600Z"
    },
    "jupyter": {
     "outputs_hidden": false
    },
    "papermill": {
     "duration": 0.031333,
     "end_time": "2024-11-17T23:03:13.002963",
     "exception": false,
     "start_time": "2024-11-17T23:03:12.971630",
     "status": "completed"
    },
    "tags": []
   },
   "outputs": [
    {
     "data": {
      "text/html": [
       "<div>\n",
       "<style scoped>\n",
       "    .dataframe tbody tr th:only-of-type {\n",
       "        vertical-align: middle;\n",
       "    }\n",
       "\n",
       "    .dataframe tbody tr th {\n",
       "        vertical-align: top;\n",
       "    }\n",
       "\n",
       "    .dataframe thead th {\n",
       "        text-align: right;\n",
       "    }\n",
       "</style>\n",
       "<table border=\"1\" class=\"dataframe\">\n",
       "  <thead>\n",
       "    <tr style=\"text-align: right;\">\n",
       "      <th></th>\n",
       "      <th>level_1</th>\n",
       "      <th>Customer2_ID</th>\n",
       "    </tr>\n",
       "  </thead>\n",
       "  <tbody>\n",
       "    <tr>\n",
       "      <th>0</th>\n",
       "      <td>0</td>\n",
       "      <td>100000</td>\n",
       "    </tr>\n",
       "    <tr>\n",
       "      <th>68</th>\n",
       "      <td>1</td>\n",
       "      <td>100001</td>\n",
       "    </tr>\n",
       "    <tr>\n",
       "      <th>140</th>\n",
       "      <td>2</td>\n",
       "      <td>100002</td>\n",
       "    </tr>\n",
       "    <tr>\n",
       "      <th>152</th>\n",
       "      <td>78</td>\n",
       "      <td>100078</td>\n",
       "    </tr>\n",
       "    <tr>\n",
       "      <th>204</th>\n",
       "      <td>3</td>\n",
       "      <td>100003</td>\n",
       "    </tr>\n",
       "  </tbody>\n",
       "</table>\n",
       "</div>"
      ],
      "text/plain": [
       "     level_1  Customer2_ID\n",
       "0          0        100000\n",
       "68         1        100001\n",
       "140        2        100002\n",
       "152       78        100078\n",
       "204        3        100003"
      ]
     },
     "execution_count": 14,
     "metadata": {},
     "output_type": "execute_result"
    }
   ],
   "source": [
    "look_up_1 = potential_matches.merge(Dim_Customers_df, left_on='level_1', right_index=True)\n",
    "look_up_1 = look_up_1[['level_1','Customer_ID']]\n",
    "look_up_1.rename(columns={\"Customer_ID\":\"Customer2_ID\"}, inplace=True)\n",
    "look_up_1.head(5)"
   ]
  },
  {
   "cell_type": "code",
   "execution_count": 15,
   "id": "4e427043",
   "metadata": {
    "_cell_guid": "468cfbba-fde6-48f0-832c-c99b6190c12e",
    "_uuid": "fe268f4c-039a-4c22-a474-574a2a182224",
    "collapsed": false,
    "execution": {
     "iopub.execute_input": "2024-11-17T23:03:13.026867Z",
     "iopub.status.busy": "2024-11-17T23:03:13.026439Z",
     "iopub.status.idle": "2024-11-17T23:03:13.051477Z",
     "shell.execute_reply": "2024-11-17T23:03:13.050412Z"
    },
    "jupyter": {
     "outputs_hidden": false
    },
    "papermill": {
     "duration": 0.039892,
     "end_time": "2024-11-17T23:03:13.053848",
     "exception": false,
     "start_time": "2024-11-17T23:03:13.013956",
     "status": "completed"
    },
    "tags": []
   },
   "outputs": [
    {
     "data": {
      "text/html": [
       "<div>\n",
       "<style scoped>\n",
       "    .dataframe tbody tr th:only-of-type {\n",
       "        vertical-align: middle;\n",
       "    }\n",
       "\n",
       "    .dataframe tbody tr th {\n",
       "        vertical-align: top;\n",
       "    }\n",
       "\n",
       "    .dataframe thead th {\n",
       "        text-align: right;\n",
       "    }\n",
       "</style>\n",
       "<table border=\"1\" class=\"dataframe\">\n",
       "  <thead>\n",
       "    <tr style=\"text-align: right;\">\n",
       "      <th></th>\n",
       "      <th>level_0</th>\n",
       "      <th>level_1</th>\n",
       "      <th>Province</th>\n",
       "      <th>email</th>\n",
       "      <th>FirstName</th>\n",
       "      <th>LastName</th>\n",
       "      <th>Country</th>\n",
       "      <th>Score</th>\n",
       "      <th>Customer_ID</th>\n",
       "      <th>Customer2_ID</th>\n",
       "    </tr>\n",
       "  </thead>\n",
       "  <tbody>\n",
       "    <tr>\n",
       "      <th>0</th>\n",
       "      <td>0</td>\n",
       "      <td>0</td>\n",
       "      <td>1</td>\n",
       "      <td>1</td>\n",
       "      <td>1.0</td>\n",
       "      <td>1.0</td>\n",
       "      <td>1.0</td>\n",
       "      <td>3.0</td>\n",
       "      <td>100000</td>\n",
       "      <td>100000</td>\n",
       "    </tr>\n",
       "    <tr>\n",
       "      <th>1</th>\n",
       "      <td>1</td>\n",
       "      <td>1</td>\n",
       "      <td>1</td>\n",
       "      <td>1</td>\n",
       "      <td>1.0</td>\n",
       "      <td>1.0</td>\n",
       "      <td>1.0</td>\n",
       "      <td>3.0</td>\n",
       "      <td>100001</td>\n",
       "      <td>100001</td>\n",
       "    </tr>\n",
       "    <tr>\n",
       "      <th>2</th>\n",
       "      <td>2</td>\n",
       "      <td>2</td>\n",
       "      <td>1</td>\n",
       "      <td>1</td>\n",
       "      <td>1.0</td>\n",
       "      <td>1.0</td>\n",
       "      <td>1.0</td>\n",
       "      <td>3.0</td>\n",
       "      <td>100002</td>\n",
       "      <td>100002</td>\n",
       "    </tr>\n",
       "    <tr>\n",
       "      <th>3</th>\n",
       "      <td>2</td>\n",
       "      <td>2</td>\n",
       "      <td>1</td>\n",
       "      <td>1</td>\n",
       "      <td>1.0</td>\n",
       "      <td>1.0</td>\n",
       "      <td>1.0</td>\n",
       "      <td>3.0</td>\n",
       "      <td>100002</td>\n",
       "      <td>100002</td>\n",
       "    </tr>\n",
       "    <tr>\n",
       "      <th>4</th>\n",
       "      <td>2</td>\n",
       "      <td>2</td>\n",
       "      <td>1</td>\n",
       "      <td>1</td>\n",
       "      <td>1.0</td>\n",
       "      <td>1.0</td>\n",
       "      <td>1.0</td>\n",
       "      <td>3.0</td>\n",
       "      <td>100002</td>\n",
       "      <td>100002</td>\n",
       "    </tr>\n",
       "    <tr>\n",
       "      <th>...</th>\n",
       "      <td>...</td>\n",
       "      <td>...</td>\n",
       "      <td>...</td>\n",
       "      <td>...</td>\n",
       "      <td>...</td>\n",
       "      <td>...</td>\n",
       "      <td>...</td>\n",
       "      <td>...</td>\n",
       "      <td>...</td>\n",
       "      <td>...</td>\n",
       "    </tr>\n",
       "    <tr>\n",
       "      <th>6083</th>\n",
       "      <td>499</td>\n",
       "      <td>242</td>\n",
       "      <td>0</td>\n",
       "      <td>0</td>\n",
       "      <td>1.0</td>\n",
       "      <td>1.0</td>\n",
       "      <td>1.0</td>\n",
       "      <td>2.0</td>\n",
       "      <td>100499</td>\n",
       "      <td>100242</td>\n",
       "    </tr>\n",
       "    <tr>\n",
       "      <th>6084</th>\n",
       "      <td>499</td>\n",
       "      <td>499</td>\n",
       "      <td>1</td>\n",
       "      <td>1</td>\n",
       "      <td>1.0</td>\n",
       "      <td>1.0</td>\n",
       "      <td>1.0</td>\n",
       "      <td>3.0</td>\n",
       "      <td>100499</td>\n",
       "      <td>100499</td>\n",
       "    </tr>\n",
       "    <tr>\n",
       "      <th>6085</th>\n",
       "      <td>499</td>\n",
       "      <td>499</td>\n",
       "      <td>1</td>\n",
       "      <td>1</td>\n",
       "      <td>1.0</td>\n",
       "      <td>1.0</td>\n",
       "      <td>1.0</td>\n",
       "      <td>3.0</td>\n",
       "      <td>100499</td>\n",
       "      <td>100499</td>\n",
       "    </tr>\n",
       "    <tr>\n",
       "      <th>6086</th>\n",
       "      <td>499</td>\n",
       "      <td>499</td>\n",
       "      <td>1</td>\n",
       "      <td>1</td>\n",
       "      <td>1.0</td>\n",
       "      <td>1.0</td>\n",
       "      <td>1.0</td>\n",
       "      <td>3.0</td>\n",
       "      <td>100499</td>\n",
       "      <td>100499</td>\n",
       "    </tr>\n",
       "    <tr>\n",
       "      <th>6087</th>\n",
       "      <td>499</td>\n",
       "      <td>499</td>\n",
       "      <td>1</td>\n",
       "      <td>1</td>\n",
       "      <td>1.0</td>\n",
       "      <td>1.0</td>\n",
       "      <td>1.0</td>\n",
       "      <td>3.0</td>\n",
       "      <td>100499</td>\n",
       "      <td>100499</td>\n",
       "    </tr>\n",
       "  </tbody>\n",
       "</table>\n",
       "<p>6088 rows × 10 columns</p>\n",
       "</div>"
      ],
      "text/plain": [
       "      level_0  level_1  Province  email  FirstName  LastName  Country  Score  \\\n",
       "0           0        0         1      1        1.0       1.0      1.0    3.0   \n",
       "1           1        1         1      1        1.0       1.0      1.0    3.0   \n",
       "2           2        2         1      1        1.0       1.0      1.0    3.0   \n",
       "3           2        2         1      1        1.0       1.0      1.0    3.0   \n",
       "4           2        2         1      1        1.0       1.0      1.0    3.0   \n",
       "...       ...      ...       ...    ...        ...       ...      ...    ...   \n",
       "6083      499      242         0      0        1.0       1.0      1.0    2.0   \n",
       "6084      499      499         1      1        1.0       1.0      1.0    3.0   \n",
       "6085      499      499         1      1        1.0       1.0      1.0    3.0   \n",
       "6086      499      499         1      1        1.0       1.0      1.0    3.0   \n",
       "6087      499      499         1      1        1.0       1.0      1.0    3.0   \n",
       "\n",
       "      Customer_ID  Customer2_ID  \n",
       "0          100000        100000  \n",
       "1          100001        100001  \n",
       "2          100002        100002  \n",
       "3          100002        100002  \n",
       "4          100002        100002  \n",
       "...           ...           ...  \n",
       "6083       100499        100242  \n",
       "6084       100499        100499  \n",
       "6085       100499        100499  \n",
       "6086       100499        100499  \n",
       "6087       100499        100499  \n",
       "\n",
       "[6088 rows x 10 columns]"
      ]
     },
     "execution_count": 15,
     "metadata": {},
     "output_type": "execute_result"
    }
   ],
   "source": [
    "# Merge df1 on column 'A' and df2 on its index\n",
    "potential_matches = potential_matches.merge(look_up_0, left_on='level_0', right_on='level_0')\n",
    "potential_matches = potential_matches.merge(look_up_1, left_on='level_1', right_on='level_1')\n",
    "potential_matches"
   ]
  },
  {
   "cell_type": "markdown",
   "id": "576868d4",
   "metadata": {
    "papermill": {
     "duration": 0.011445,
     "end_time": "2024-11-17T23:03:13.077107",
     "exception": false,
     "start_time": "2024-11-17T23:03:13.065662",
     "status": "completed"
    },
    "tags": []
   },
   "source": [
    "## Final Filtering of Matches\n",
    "- The code filters out duplicate matches and ensures that the same customer ID is not matched with itself."
   ]
  },
  {
   "cell_type": "code",
   "execution_count": 16,
   "id": "8c8ab20f",
   "metadata": {
    "_cell_guid": "2caf20a4-ef21-4072-b90c-4e500f972907",
    "_uuid": "037fd26f-8b3f-4020-b4b4-f327679bcbbc",
    "collapsed": false,
    "execution": {
     "iopub.execute_input": "2024-11-17T23:03:13.101981Z",
     "iopub.status.busy": "2024-11-17T23:03:13.101590Z",
     "iopub.status.idle": "2024-11-17T23:03:13.113453Z",
     "shell.execute_reply": "2024-11-17T23:03:13.112445Z"
    },
    "jupyter": {
     "outputs_hidden": false
    },
    "papermill": {
     "duration": 0.027142,
     "end_time": "2024-11-17T23:03:13.115788",
     "exception": false,
     "start_time": "2024-11-17T23:03:13.088646",
     "status": "completed"
    },
    "tags": []
   },
   "outputs": [],
   "source": [
    "matches = potential_matches[(potential_matches['Customer_ID'] != potential_matches['Customer2_ID']) & (potential_matches['Score'] >= 2)]\n",
    "matches = matches.drop_duplicates()"
   ]
  },
  {
   "cell_type": "code",
   "execution_count": 17,
   "id": "b245dec9",
   "metadata": {
    "_cell_guid": "19d4292c-3690-4f23-a559-fc910ac5be4a",
    "_uuid": "4605bb27-e001-420b-9c00-0f8aaceebb2f",
    "collapsed": false,
    "execution": {
     "iopub.execute_input": "2024-11-17T23:03:13.140895Z",
     "iopub.status.busy": "2024-11-17T23:03:13.140500Z",
     "iopub.status.idle": "2024-11-17T23:03:13.156177Z",
     "shell.execute_reply": "2024-11-17T23:03:13.155110Z"
    },
    "jupyter": {
     "outputs_hidden": false
    },
    "papermill": {
     "duration": 0.031289,
     "end_time": "2024-11-17T23:03:13.158471",
     "exception": false,
     "start_time": "2024-11-17T23:03:13.127182",
     "status": "completed"
    },
    "tags": []
   },
   "outputs": [
    {
     "data": {
      "text/html": [
       "<div>\n",
       "<style scoped>\n",
       "    .dataframe tbody tr th:only-of-type {\n",
       "        vertical-align: middle;\n",
       "    }\n",
       "\n",
       "    .dataframe tbody tr th {\n",
       "        vertical-align: top;\n",
       "    }\n",
       "\n",
       "    .dataframe thead th {\n",
       "        text-align: right;\n",
       "    }\n",
       "</style>\n",
       "<table border=\"1\" class=\"dataframe\">\n",
       "  <thead>\n",
       "    <tr style=\"text-align: right;\">\n",
       "      <th></th>\n",
       "      <th>level_0</th>\n",
       "      <th>level_1</th>\n",
       "      <th>Province</th>\n",
       "      <th>email</th>\n",
       "      <th>FirstName</th>\n",
       "      <th>LastName</th>\n",
       "      <th>Country</th>\n",
       "      <th>Score</th>\n",
       "      <th>Customer_ID</th>\n",
       "      <th>Customer2_ID</th>\n",
       "    </tr>\n",
       "  </thead>\n",
       "  <tbody>\n",
       "    <tr>\n",
       "      <th>6</th>\n",
       "      <td>2</td>\n",
       "      <td>78</td>\n",
       "      <td>0</td>\n",
       "      <td>1</td>\n",
       "      <td>0.0</td>\n",
       "      <td>1.0</td>\n",
       "      <td>1.0</td>\n",
       "      <td>2.0</td>\n",
       "      <td>100002</td>\n",
       "      <td>100078</td>\n",
       "    </tr>\n",
       "    <tr>\n",
       "      <th>22</th>\n",
       "      <td>4</td>\n",
       "      <td>63</td>\n",
       "      <td>0</td>\n",
       "      <td>1</td>\n",
       "      <td>0.0</td>\n",
       "      <td>1.0</td>\n",
       "      <td>1.0</td>\n",
       "      <td>2.0</td>\n",
       "      <td>100004</td>\n",
       "      <td>100063</td>\n",
       "    </tr>\n",
       "    <tr>\n",
       "      <th>31</th>\n",
       "      <td>4</td>\n",
       "      <td>459</td>\n",
       "      <td>0</td>\n",
       "      <td>0</td>\n",
       "      <td>1.0</td>\n",
       "      <td>1.0</td>\n",
       "      <td>1.0</td>\n",
       "      <td>2.0</td>\n",
       "      <td>100004</td>\n",
       "      <td>100459</td>\n",
       "    </tr>\n",
       "    <tr>\n",
       "      <th>44</th>\n",
       "      <td>8</td>\n",
       "      <td>430</td>\n",
       "      <td>0</td>\n",
       "      <td>1</td>\n",
       "      <td>0.0</td>\n",
       "      <td>1.0</td>\n",
       "      <td>1.0</td>\n",
       "      <td>2.0</td>\n",
       "      <td>100008</td>\n",
       "      <td>100430</td>\n",
       "    </tr>\n",
       "    <tr>\n",
       "      <th>52</th>\n",
       "      <td>9</td>\n",
       "      <td>406</td>\n",
       "      <td>0</td>\n",
       "      <td>1</td>\n",
       "      <td>0.0</td>\n",
       "      <td>1.0</td>\n",
       "      <td>1.0</td>\n",
       "      <td>2.0</td>\n",
       "      <td>100009</td>\n",
       "      <td>100406</td>\n",
       "    </tr>\n",
       "  </tbody>\n",
       "</table>\n",
       "</div>"
      ],
      "text/plain": [
       "    level_0  level_1  Province  email  FirstName  LastName  Country  Score  \\\n",
       "6         2       78         0      1        0.0       1.0      1.0    2.0   \n",
       "22        4       63         0      1        0.0       1.0      1.0    2.0   \n",
       "31        4      459         0      0        1.0       1.0      1.0    2.0   \n",
       "44        8      430         0      1        0.0       1.0      1.0    2.0   \n",
       "52        9      406         0      1        0.0       1.0      1.0    2.0   \n",
       "\n",
       "    Customer_ID  Customer2_ID  \n",
       "6        100002        100078  \n",
       "22       100004        100063  \n",
       "31       100004        100459  \n",
       "44       100008        100430  \n",
       "52       100009        100406  "
      ]
     },
     "execution_count": 17,
     "metadata": {},
     "output_type": "execute_result"
    }
   ],
   "source": [
    "matches.head(5)"
   ]
  },
  {
   "cell_type": "markdown",
   "id": "f98ae9bf",
   "metadata": {
    "_cell_guid": "990ac9a4-4a8b-4881-b5a8-c72b0b937a7f",
    "_uuid": "0d97bf24-12bf-4c8d-a12b-d00d7070dd59",
    "collapsed": false,
    "jupyter": {
     "outputs_hidden": false
    },
    "papermill": {
     "duration": 0.0114,
     "end_time": "2024-11-17T23:03:13.181782",
     "exception": false,
     "start_time": "2024-11-17T23:03:13.170382",
     "status": "completed"
    },
    "tags": []
   },
   "source": [
    "## Display Matched Customer Records\n",
    "- Finally, the matched customer pairs are displayed, and individual customer records can be retrieved for review."
   ]
  },
  {
   "cell_type": "code",
   "execution_count": 18,
   "id": "63140f50",
   "metadata": {
    "_cell_guid": "192c2b05-103c-4058-b5c5-74c6d4c1a706",
    "_uuid": "c24aa71e-105a-419a-a4a6-d8684021d997",
    "collapsed": false,
    "execution": {
     "iopub.execute_input": "2024-11-17T23:03:13.207551Z",
     "iopub.status.busy": "2024-11-17T23:03:13.206877Z",
     "iopub.status.idle": "2024-11-17T23:03:13.221550Z",
     "shell.execute_reply": "2024-11-17T23:03:13.220499Z"
    },
    "jupyter": {
     "outputs_hidden": false
    },
    "papermill": {
     "duration": 0.029817,
     "end_time": "2024-11-17T23:03:13.223702",
     "exception": false,
     "start_time": "2024-11-17T23:03:13.193885",
     "status": "completed"
    },
    "tags": []
   },
   "outputs": [
    {
     "data": {
      "text/html": [
       "<div>\n",
       "<style scoped>\n",
       "    .dataframe tbody tr th:only-of-type {\n",
       "        vertical-align: middle;\n",
       "    }\n",
       "\n",
       "    .dataframe tbody tr th {\n",
       "        vertical-align: top;\n",
       "    }\n",
       "\n",
       "    .dataframe thead th {\n",
       "        text-align: right;\n",
       "    }\n",
       "</style>\n",
       "<table border=\"1\" class=\"dataframe\">\n",
       "  <thead>\n",
       "    <tr style=\"text-align: right;\">\n",
       "      <th></th>\n",
       "      <th>Customer_ID</th>\n",
       "      <th>Country</th>\n",
       "      <th>Province</th>\n",
       "      <th>email</th>\n",
       "      <th>FirstName</th>\n",
       "      <th>LastName</th>\n",
       "    </tr>\n",
       "  </thead>\n",
       "  <tbody>\n",
       "    <tr>\n",
       "      <th>2</th>\n",
       "      <td>100002</td>\n",
       "      <td>Canada</td>\n",
       "      <td>Saskatchewan</td>\n",
       "      <td>Isabella</td>\n",
       "      <td>Morris</td>\n",
       "      <td>isabella.morris@gmail.com</td>\n",
       "    </tr>\n",
       "    <tr>\n",
       "      <th>168</th>\n",
       "      <td>100168</td>\n",
       "      <td>Canada</td>\n",
       "      <td>Newfoundland and Labrador</td>\n",
       "      <td>Scarlett</td>\n",
       "      <td>Parker</td>\n",
       "      <td>scarlett.parker@gmail.com</td>\n",
       "    </tr>\n",
       "  </tbody>\n",
       "</table>\n",
       "</div>"
      ],
      "text/plain": [
       "     Customer_ID Country                   Province     email FirstName  \\\n",
       "2         100002  Canada               Saskatchewan  Isabella    Morris   \n",
       "168       100168  Canada  Newfoundland and Labrador  Scarlett    Parker   \n",
       "\n",
       "                      LastName  \n",
       "2    isabella.morris@gmail.com  \n",
       "168  scarlett.parker@gmail.com  "
      ]
     },
     "execution_count": 18,
     "metadata": {},
     "output_type": "execute_result"
    }
   ],
   "source": [
    "Dim_Customers_df[Dim_Customers_df['Customer_ID'].isin([100002,100168])]"
   ]
  },
  {
   "cell_type": "code",
   "execution_count": 19,
   "id": "e7c531c7",
   "metadata": {
    "_cell_guid": "a0e8b1c1-0624-4141-a8fb-d8ce77b62c0d",
    "_uuid": "530bfed0-38d4-4b11-aa03-dcdf69e356c7",
    "collapsed": false,
    "execution": {
     "iopub.execute_input": "2024-11-17T23:03:13.249514Z",
     "iopub.status.busy": "2024-11-17T23:03:13.248969Z",
     "iopub.status.idle": "2024-11-17T23:03:13.261943Z",
     "shell.execute_reply": "2024-11-17T23:03:13.260892Z"
    },
    "jupyter": {
     "outputs_hidden": false
    },
    "papermill": {
     "duration": 0.02857,
     "end_time": "2024-11-17T23:03:13.264381",
     "exception": false,
     "start_time": "2024-11-17T23:03:13.235811",
     "status": "completed"
    },
    "tags": []
   },
   "outputs": [
    {
     "data": {
      "text/html": [
       "<div>\n",
       "<style scoped>\n",
       "    .dataframe tbody tr th:only-of-type {\n",
       "        vertical-align: middle;\n",
       "    }\n",
       "\n",
       "    .dataframe tbody tr th {\n",
       "        vertical-align: top;\n",
       "    }\n",
       "\n",
       "    .dataframe thead th {\n",
       "        text-align: right;\n",
       "    }\n",
       "</style>\n",
       "<table border=\"1\" class=\"dataframe\">\n",
       "  <thead>\n",
       "    <tr style=\"text-align: right;\">\n",
       "      <th></th>\n",
       "      <th>Customer_ID</th>\n",
       "      <th>Country</th>\n",
       "      <th>Province</th>\n",
       "      <th>email</th>\n",
       "      <th>FirstName</th>\n",
       "      <th>LastName</th>\n",
       "    </tr>\n",
       "  </thead>\n",
       "  <tbody>\n",
       "    <tr>\n",
       "      <th>3</th>\n",
       "      <td>100003</td>\n",
       "      <td>Canada</td>\n",
       "      <td>New Brunswick</td>\n",
       "      <td>Joseph</td>\n",
       "      <td>Thompson</td>\n",
       "      <td>joseph.thompson@gmail.com</td>\n",
       "    </tr>\n",
       "    <tr>\n",
       "      <th>90</th>\n",
       "      <td>100090</td>\n",
       "      <td>Canada</td>\n",
       "      <td>Nova Scotia</td>\n",
       "      <td>John</td>\n",
       "      <td>Murphy</td>\n",
       "      <td>john.murphy@gmail.com</td>\n",
       "    </tr>\n",
       "  </tbody>\n",
       "</table>\n",
       "</div>"
      ],
      "text/plain": [
       "    Customer_ID Country       Province   email FirstName  \\\n",
       "3        100003  Canada  New Brunswick  Joseph  Thompson   \n",
       "90       100090  Canada    Nova Scotia    John    Murphy   \n",
       "\n",
       "                     LastName  \n",
       "3   joseph.thompson@gmail.com  \n",
       "90      john.murphy@gmail.com  "
      ]
     },
     "execution_count": 19,
     "metadata": {},
     "output_type": "execute_result"
    }
   ],
   "source": [
    "Dim_Customers_df[Dim_Customers_df['Customer_ID'].isin([100003,100090])]"
   ]
  }
 ],
 "metadata": {
  "kaggle": {
   "accelerator": "none",
   "dataSources": [
    {
     "sourceId": 205431842,
     "sourceType": "kernelVersion"
    }
   ],
   "dockerImageVersionId": 30786,
   "isGpuEnabled": false,
   "isInternetEnabled": true,
   "language": "python",
   "sourceType": "notebook"
  },
  "kernelspec": {
   "display_name": "Python 3",
   "language": "python",
   "name": "python3"
  },
  "language_info": {
   "codemirror_mode": {
    "name": "ipython",
    "version": 3
   },
   "file_extension": ".py",
   "mimetype": "text/x-python",
   "name": "python",
   "nbconvert_exporter": "python",
   "pygments_lexer": "ipython3",
   "version": "3.10.14"
  },
  "papermill": {
   "default_parameters": {},
   "duration": 56.295418,
   "end_time": "2024-11-17T23:03:15.896300",
   "environment_variables": {},
   "exception": null,
   "input_path": "__notebook__.ipynb",
   "output_path": "__notebook__.ipynb",
   "parameters": {},
   "start_time": "2024-11-17T23:02:19.600882",
   "version": "2.6.0"
  }
 },
 "nbformat": 4,
 "nbformat_minor": 5
}
