{
 "cells": [
  {
   "cell_type": "markdown",
   "id": "6ecd92d6",
   "metadata": {
    "_cell_guid": "5d8ce3a6-38d0-408c-af8e-da9f91815f55",
    "_uuid": "96724569-d781-4713-a9f3-74b98a8f4259",
    "collapsed": false,
    "jupyter": {
     "outputs_hidden": false
    },
    "papermill": {
     "duration": 0.006071,
     "end_time": "2024-11-16T12:06:01.182321",
     "exception": false,
     "start_time": "2024-11-16T12:06:01.176250",
     "status": "completed"
    },
    "tags": []
   },
   "source": [
    "# Matching Customers\n",
    "- This code outlines a process for matching customers from a database based on various string similarity measures and leveraging record linkage techniques. The overall objective is to identify potential duplicate or matching customer records by comparing their details such as names, emails, and addresses.\n",
    "- Levenshtein: For computing string similarity using the Levenshtein distance.\n",
    "- fuzzymatcher: A library for record linkage (matching records from different datasets).\n",
    "- recordlinkage: Another package for record linkage, enabling comparison of potential matching records."
   ]
  },
  {
   "cell_type": "code",
   "execution_count": 1,
   "id": "192bec5b",
   "metadata": {
    "_cell_guid": "e4a07929-6f68-4bd1-b907-eea52a21129b",
    "_kg_hide-input": true,
    "_uuid": "64be9d23-25b1-4ebd-9e97-3b63078be03a",
    "execution": {
     "iopub.execute_input": "2024-11-16T12:06:01.194792Z",
     "iopub.status.busy": "2024-11-16T12:06:01.194396Z",
     "iopub.status.idle": "2024-11-16T12:06:42.140632Z",
     "shell.execute_reply": "2024-11-16T12:06:42.139459Z"
    },
    "jupyter": {
     "source_hidden": true
    },
    "papermill": {
     "duration": 40.955364,
     "end_time": "2024-11-16T12:06:42.143170",
     "exception": false,
     "start_time": "2024-11-16T12:06:01.187806",
     "status": "completed"
    },
    "tags": []
   },
   "outputs": [
    {
     "name": "stdout",
     "output_type": "stream",
     "text": [
      "Collecting Levenshtein\r\n",
      "  Downloading levenshtein-0.26.1-cp310-cp310-manylinux_2_17_x86_64.manylinux2014_x86_64.whl.metadata (3.2 kB)\r\n",
      "Collecting rapidfuzz<4.0.0,>=3.9.0 (from Levenshtein)\r\n",
      "  Downloading rapidfuzz-3.10.1-cp310-cp310-manylinux_2_17_x86_64.manylinux2014_x86_64.whl.metadata (11 kB)\r\n",
      "Downloading levenshtein-0.26.1-cp310-cp310-manylinux_2_17_x86_64.manylinux2014_x86_64.whl (162 kB)\r\n",
      "\u001b[2K   \u001b[90m━━━━━━━━━━━━━━━━━━━━━━━━━━━━━━━━━━━━━━━━\u001b[0m \u001b[32m162.6/162.6 kB\u001b[0m \u001b[31m3.2 MB/s\u001b[0m eta \u001b[36m0:00:00\u001b[0m\r\n",
      "\u001b[?25hDownloading rapidfuzz-3.10.1-cp310-cp310-manylinux_2_17_x86_64.manylinux2014_x86_64.whl (3.1 MB)\r\n",
      "\u001b[2K   \u001b[90m━━━━━━━━━━━━━━━━━━━━━━━━━━━━━━━━━━━━━━━━\u001b[0m \u001b[32m3.1/3.1 MB\u001b[0m \u001b[31m40.5 MB/s\u001b[0m eta \u001b[36m0:00:00\u001b[0m\r\n",
      "\u001b[?25hInstalling collected packages: rapidfuzz, Levenshtein\r\n",
      "Successfully installed Levenshtein-0.26.1 rapidfuzz-3.10.1\r\n",
      "Collecting fuzzymatcher\r\n",
      "  Downloading fuzzymatcher-0.0.6-py3-none-any.whl.metadata (560 bytes)\r\n",
      "Requirement already satisfied: pandas in /opt/conda/lib/python3.10/site-packages (from fuzzymatcher) (2.2.3)\r\n",
      "Collecting metaphone (from fuzzymatcher)\r\n",
      "  Downloading Metaphone-0.6.tar.gz (14 kB)\r\n",
      "  Preparing metadata (setup.py) ... \u001b[?25l-\b \bdone\r\n",
      "\u001b[?25hCollecting python-Levenshtein (from fuzzymatcher)\r\n",
      "  Downloading python_Levenshtein-0.26.1-py3-none-any.whl.metadata (3.7 kB)\r\n",
      "Requirement already satisfied: rapidfuzz in /opt/conda/lib/python3.10/site-packages (from fuzzymatcher) (3.10.1)\r\n",
      "Requirement already satisfied: python-dateutil in /opt/conda/lib/python3.10/site-packages (from fuzzymatcher) (2.9.0.post0)\r\n",
      "Requirement already satisfied: numpy>=1.22.4 in /opt/conda/lib/python3.10/site-packages (from pandas->fuzzymatcher) (1.26.4)\r\n",
      "Requirement already satisfied: pytz>=2020.1 in /opt/conda/lib/python3.10/site-packages (from pandas->fuzzymatcher) (2024.1)\r\n",
      "Requirement already satisfied: tzdata>=2022.7 in /opt/conda/lib/python3.10/site-packages (from pandas->fuzzymatcher) (2024.1)\r\n",
      "Requirement already satisfied: six>=1.5 in /opt/conda/lib/python3.10/site-packages (from python-dateutil->fuzzymatcher) (1.16.0)\r\n",
      "Requirement already satisfied: Levenshtein==0.26.1 in /opt/conda/lib/python3.10/site-packages (from python-Levenshtein->fuzzymatcher) (0.26.1)\r\n",
      "Downloading fuzzymatcher-0.0.6-py3-none-any.whl (15 kB)\r\n",
      "Downloading python_Levenshtein-0.26.1-py3-none-any.whl (9.4 kB)\r\n",
      "Building wheels for collected packages: metaphone\r\n",
      "  Building wheel for metaphone (setup.py) ... \u001b[?25l-\b \b\\\b \bdone\r\n",
      "\u001b[?25h  Created wheel for metaphone: filename=Metaphone-0.6-py3-none-any.whl size=13902 sha256=115f6d8d4288a14edb4c2096203c8447553741ed8d6d545b77565c00e5bacace\r\n",
      "  Stored in directory: /root/.cache/pip/wheels/23/dd/1d/6cdd346605db62bde1f60954155e9ce48f4681c243f265b704\r\n",
      "Successfully built metaphone\r\n",
      "Installing collected packages: metaphone, python-Levenshtein, fuzzymatcher\r\n",
      "Successfully installed fuzzymatcher-0.0.6 metaphone-0.6 python-Levenshtein-0.26.1\r\n",
      "Collecting recordlinkage\r\n",
      "  Downloading recordlinkage-0.16-py3-none-any.whl.metadata (8.1 kB)\r\n",
      "Collecting jellyfish>=1 (from recordlinkage)\r\n",
      "  Downloading jellyfish-1.1.0-cp310-cp310-manylinux_2_17_x86_64.manylinux2014_x86_64.whl.metadata (2.6 kB)\r\n",
      "Requirement already satisfied: numpy>=1.13 in /opt/conda/lib/python3.10/site-packages (from recordlinkage) (1.26.4)\r\n",
      "Requirement already satisfied: pandas<3,>=1 in /opt/conda/lib/python3.10/site-packages (from recordlinkage) (2.2.3)\r\n",
      "Requirement already satisfied: scipy>=1 in /opt/conda/lib/python3.10/site-packages (from recordlinkage) (1.14.1)\r\n",
      "Requirement already satisfied: scikit-learn>=1 in /opt/conda/lib/python3.10/site-packages (from recordlinkage) (1.2.2)\r\n",
      "Requirement already satisfied: joblib in /opt/conda/lib/python3.10/site-packages (from recordlinkage) (1.4.2)\r\n",
      "Requirement already satisfied: python-dateutil>=2.8.2 in /opt/conda/lib/python3.10/site-packages (from pandas<3,>=1->recordlinkage) (2.9.0.post0)\r\n",
      "Requirement already satisfied: pytz>=2020.1 in /opt/conda/lib/python3.10/site-packages (from pandas<3,>=1->recordlinkage) (2024.1)\r\n",
      "Requirement already satisfied: tzdata>=2022.7 in /opt/conda/lib/python3.10/site-packages (from pandas<3,>=1->recordlinkage) (2024.1)\r\n",
      "Requirement already satisfied: threadpoolctl>=2.0.0 in /opt/conda/lib/python3.10/site-packages (from scikit-learn>=1->recordlinkage) (3.5.0)\r\n",
      "Requirement already satisfied: six>=1.5 in /opt/conda/lib/python3.10/site-packages (from python-dateutil>=2.8.2->pandas<3,>=1->recordlinkage) (1.16.0)\r\n",
      "Downloading recordlinkage-0.16-py3-none-any.whl (926 kB)\r\n",
      "\u001b[2K   \u001b[90m━━━━━━━━━━━━━━━━━━━━━━━━━━━━━━━━━━━━━━━━\u001b[0m \u001b[32m926.9/926.9 kB\u001b[0m \u001b[31m9.9 MB/s\u001b[0m eta \u001b[36m0:00:00\u001b[0m\r\n",
      "\u001b[?25hDownloading jellyfish-1.1.0-cp310-cp310-manylinux_2_17_x86_64.manylinux2014_x86_64.whl (335 kB)\r\n",
      "\u001b[2K   \u001b[90m━━━━━━━━━━━━━━━━━━━━━━━━━━━━━━━━━━━━━━━━\u001b[0m \u001b[32m336.0/336.0 kB\u001b[0m \u001b[31m18.9 MB/s\u001b[0m eta \u001b[36m0:00:00\u001b[0m\r\n",
      "\u001b[?25hInstalling collected packages: jellyfish, recordlinkage\r\n",
      "Successfully installed jellyfish-1.1.0 recordlinkage-0.16\r\n"
     ]
    }
   ],
   "source": [
    "!pip install Levenshtein\n",
    "!pip install fuzzymatcher\n",
    "!pip install recordlinkage"
   ]
  },
  {
   "cell_type": "code",
   "execution_count": 2,
   "id": "ebfb1ed5",
   "metadata": {
    "_cell_guid": "a0002f19-1466-4909-876a-49322a1f351e",
    "_kg_hide-input": true,
    "_uuid": "745e1fb2-fc11-4ba6-979d-c7ec7a85d8b2",
    "execution": {
     "iopub.execute_input": "2024-11-16T12:06:42.161251Z",
     "iopub.status.busy": "2024-11-16T12:06:42.160788Z",
     "iopub.status.idle": "2024-11-16T12:06:45.333633Z",
     "shell.execute_reply": "2024-11-16T12:06:45.332503Z"
    },
    "jupyter": {
     "source_hidden": true
    },
    "papermill": {
     "duration": 3.185178,
     "end_time": "2024-11-16T12:06:45.336436",
     "exception": false,
     "start_time": "2024-11-16T12:06:42.151258",
     "status": "completed"
    },
    "tags": []
   },
   "outputs": [],
   "source": [
    "from fuzzywuzzy import fuzz\n",
    "import math\n",
    "import pandas as pd\n",
    "import numpy as np\n",
    "import glob, os\n",
    "from datetime import datetime, timedelta\n",
    "import csv\n",
    "from tqdm import tqdm\n",
    "from cryptography.fernet import Fernet\n",
    "import Levenshtein as lev\n",
    "import getpass\n",
    "import base64\n",
    "import sqlalchemy as sa\n",
    "from sqlalchemy.engine import URL\n",
    "from sqlalchemy import create_engine\n",
    "\n",
    "# Database interaction imports\n",
    "import csv, sqlite3\n",
    "\n",
    "import pandas as pd\n",
    "from pathlib import Path\n",
    "import fuzzymatcher\n",
    "import recordlinkage"
   ]
  },
  {
   "cell_type": "markdown",
   "id": "ce9393a8",
   "metadata": {
    "papermill": {
     "duration": 0.008729,
     "end_time": "2024-11-16T12:06:45.353358",
     "exception": false,
     "start_time": "2024-11-16T12:06:45.344629",
     "status": "completed"
    },
    "tags": []
   },
   "source": [
    "## Read Data from Database\n",
    "- The SQLite database file Sonify_DB.db is read, and the Dim_Customers table is loaded into a pandas DataFrame. \n",
    "- Only the first 500 rows are selected for simplicity in processing."
   ]
  },
  {
   "cell_type": "code",
   "execution_count": 3,
   "id": "39f7672a",
   "metadata": {
    "_cell_guid": "4609e0ad-330b-46e6-861a-4743c7ded8d2",
    "_uuid": "24d34be8-bd29-4672-a64a-50b866206dea",
    "collapsed": false,
    "execution": {
     "iopub.execute_input": "2024-11-16T12:06:45.371240Z",
     "iopub.status.busy": "2024-11-16T12:06:45.370668Z",
     "iopub.status.idle": "2024-11-16T12:06:45.653091Z",
     "shell.execute_reply": "2024-11-16T12:06:45.652097Z"
    },
    "jupyter": {
     "outputs_hidden": false
    },
    "papermill": {
     "duration": 0.294141,
     "end_time": "2024-11-16T12:06:45.655447",
     "exception": false,
     "start_time": "2024-11-16T12:06:45.361306",
     "status": "completed"
    },
    "tags": []
   },
   "outputs": [
    {
     "data": {
      "text/html": [
       "<div>\n",
       "<style scoped>\n",
       "    .dataframe tbody tr th:only-of-type {\n",
       "        vertical-align: middle;\n",
       "    }\n",
       "\n",
       "    .dataframe tbody tr th {\n",
       "        vertical-align: top;\n",
       "    }\n",
       "\n",
       "    .dataframe thead th {\n",
       "        text-align: right;\n",
       "    }\n",
       "</style>\n",
       "<table border=\"1\" class=\"dataframe\">\n",
       "  <thead>\n",
       "    <tr style=\"text-align: right;\">\n",
       "      <th></th>\n",
       "      <th>Customer_ID</th>\n",
       "      <th>Country</th>\n",
       "      <th>Province</th>\n",
       "      <th>email</th>\n",
       "      <th>FirstName</th>\n",
       "      <th>LastName</th>\n",
       "    </tr>\n",
       "  </thead>\n",
       "  <tbody>\n",
       "    <tr>\n",
       "      <th>0</th>\n",
       "      <td>100000</td>\n",
       "      <td>Canada</td>\n",
       "      <td>Quebec</td>\n",
       "      <td>Michael</td>\n",
       "      <td>Parker</td>\n",
       "      <td>michael.parker@gmail.com</td>\n",
       "    </tr>\n",
       "  </tbody>\n",
       "</table>\n",
       "</div>"
      ],
      "text/plain": [
       "   Customer_ID Country Province    email FirstName                  LastName\n",
       "0       100000  Canada   Quebec  Michael    Parker  michael.parker@gmail.com"
      ]
     },
     "execution_count": 3,
     "metadata": {},
     "output_type": "execute_result"
    }
   ],
   "source": [
    "db_file = \"/kaggle/input/synthetic-data-sonify/Sonify_DB.db\"\n",
    "\n",
    "con = sqlite3.connect(db_file) \n",
    "Dim_Customers_df = pd.read_sql_query(\"\"\"SELECT * from Dim_Customers\"\"\", con)\n",
    "con.close()\n",
    "Dim_Customers_df = Dim_Customers_df.head(500)\n",
    "Dim_Customers_df.head(1)"
   ]
  },
  {
   "cell_type": "markdown",
   "id": "c0f8fe17",
   "metadata": {
    "papermill": {
     "duration": 0.00824,
     "end_time": "2024-11-16T12:06:45.671950",
     "exception": false,
     "start_time": "2024-11-16T12:06:45.663710",
     "status": "completed"
    },
    "tags": []
   },
   "source": [
    "## String Matching Examples\n",
    "- Several string matching methods are tested on two example strings ('Peter' and 'Peter2'):\n",
    "- token_set_ratio: Tokenizes strings and compares the sets.\n",
    "- Levenshtein ratio: Measures the distance between two strings.\n",
    "- fuzz.ratio, partial_ratio, and token_sort_ratio: Different comparison methods provided by the fuzzywuzzy library."
   ]
  },
  {
   "cell_type": "code",
   "execution_count": 4,
   "id": "1c655507",
   "metadata": {
    "_cell_guid": "72c3672d-6a33-4492-818d-8f4f96c9c00c",
    "_uuid": "91b2740d-4025-403c-a10a-d28ae1232322",
    "collapsed": false,
    "execution": {
     "iopub.execute_input": "2024-11-16T12:06:45.690277Z",
     "iopub.status.busy": "2024-11-16T12:06:45.689488Z",
     "iopub.status.idle": "2024-11-16T12:06:45.696454Z",
     "shell.execute_reply": "2024-11-16T12:06:45.695455Z"
    },
    "jupyter": {
     "outputs_hidden": false
    },
    "papermill": {
     "duration": 0.018781,
     "end_time": "2024-11-16T12:06:45.698827",
     "exception": false,
     "start_time": "2024-11-16T12:06:45.680046",
     "status": "completed"
    },
    "tags": []
   },
   "outputs": [
    {
     "name": "stdout",
     "output_type": "stream",
     "text": [
      "91\n",
      "0.9090909090909091\n",
      "91\n",
      "100\n",
      "91\n"
     ]
    }
   ],
   "source": [
    "str1 = 'Peter'\n",
    "str2 = 'Peter2'\n",
    "\n",
    "result = fuzz.token_set_ratio(str1,str2)\n",
    "print(result)\n",
    "\n",
    "result = lev.ratio(str1,str2)\n",
    "print(result)\n",
    "\n",
    "result = fuzz.ratio(str1,str2)\n",
    "print(result)\n",
    "\n",
    "result = fuzz.partial_ratio(str1,str2)\n",
    "print(result)\n",
    "\n",
    "result = fuzz.token_sort_ratio(str1,str2)    \n",
    "print(result)"
   ]
  },
  {
   "cell_type": "markdown",
   "id": "8f2cd0ac",
   "metadata": {
    "papermill": {
     "duration": 0.007922,
     "end_time": "2024-11-16T12:06:45.715014",
     "exception": false,
     "start_time": "2024-11-16T12:06:45.707092",
     "status": "completed"
    },
    "tags": []
   },
   "source": [
    "## Record Linkage Indexing\n",
    "- The recordlinkage.Index() class is used to create pairs of customer records (candidates) to be compared. This step generates pairs of rows from the Dim_Customers_df DataFrame for potential matching."
   ]
  },
  {
   "cell_type": "code",
   "execution_count": 5,
   "id": "93f02dd4",
   "metadata": {
    "_cell_guid": "3b3156de-f86a-4e22-8910-d194993afc2b",
    "_uuid": "6ed4584a-e030-42e3-b288-1db9f679ba85",
    "collapsed": false,
    "execution": {
     "iopub.execute_input": "2024-11-16T12:06:45.733116Z",
     "iopub.status.busy": "2024-11-16T12:06:45.732703Z",
     "iopub.status.idle": "2024-11-16T12:06:45.747344Z",
     "shell.execute_reply": "2024-11-16T12:06:45.746238Z"
    },
    "jupyter": {
     "outputs_hidden": false
    },
    "papermill": {
     "duration": 0.026212,
     "end_time": "2024-11-16T12:06:45.749475",
     "exception": false,
     "start_time": "2024-11-16T12:06:45.723263",
     "status": "completed"
    },
    "tags": []
   },
   "outputs": [
    {
     "name": "stdout",
     "output_type": "stream",
     "text": [
      "WARNING:recordlinkage:indexing - performance warning - A full index can result in large number of record pairs.\n",
      "250000\n"
     ]
    }
   ],
   "source": [
    "indexer = recordlinkage.Index()\n",
    "indexer.full()\n",
    "candidates = indexer.index(Dim_Customers_df, Dim_Customers_df)\n",
    "print(len(candidates))"
   ]
  },
  {
   "cell_type": "markdown",
   "id": "e36fd1f2",
   "metadata": {
    "papermill": {
     "duration": 0.00819,
     "end_time": "2024-11-16T12:06:45.766124",
     "exception": false,
     "start_time": "2024-11-16T12:06:45.757934",
     "status": "completed"
    },
    "tags": []
   },
   "source": [
    "## Comparison of Customer Records\n",
    "- The Compare class from recordlinkage is used to define a set of comparisons between customer records:\n",
    "- Exact matches for columns like Province and email.\n",
    "- String comparisons for columns like FirstName, LastName, and Country, with a threshold of 0.85 for similarity."
   ]
  },
  {
   "cell_type": "code",
   "execution_count": 6,
   "id": "9fedf616",
   "metadata": {
    "_cell_guid": "2c401eb6-50a3-4931-90ba-7fc02bb51bad",
    "_uuid": "9b799eb1-4cf9-419d-a575-6bad9408be44",
    "collapsed": false,
    "execution": {
     "iopub.execute_input": "2024-11-16T12:06:45.784607Z",
     "iopub.status.busy": "2024-11-16T12:06:45.784203Z",
     "iopub.status.idle": "2024-11-16T12:06:51.814686Z",
     "shell.execute_reply": "2024-11-16T12:06:51.813528Z"
    },
    "jupyter": {
     "outputs_hidden": false
    },
    "papermill": {
     "duration": 6.044525,
     "end_time": "2024-11-16T12:06:51.819165",
     "exception": false,
     "start_time": "2024-11-16T12:06:45.774640",
     "status": "completed"
    },
    "tags": []
   },
   "outputs": [
    {
     "name": "stderr",
     "output_type": "stream",
     "text": [
      "INFO:recordlinkage:comparing [1/?] - time: 3.84s - pairs: 62500\n",
      "INFO:recordlinkage:comparing [1/?] - time: 3.84s - pairs_total: 62500\n",
      "INFO:recordlinkage:comparing [1/?] - time: 3.89s - pairs: 62500\n",
      "INFO:recordlinkage:comparing [1/?] - time: 3.89s - pairs_total: 62500\n",
      "INFO:recordlinkage:comparing [1/?] - time: 4.04s - pairs: 62500\n",
      "INFO:recordlinkage:comparing [1/?] - time: 4.04s - pairs_total: 62500\n"
     ]
    },
    {
     "name": "stdout",
     "output_type": "stream",
     "text": [
      "CPU times: user 74 ms, sys: 91 ms, total: 165 ms\n",
      "Wall time: 6.02 s\n"
     ]
    },
    {
     "name": "stderr",
     "output_type": "stream",
     "text": [
      "INFO:recordlinkage:comparing [1/?] - time: 4.13s - pairs: 62500\n",
      "INFO:recordlinkage:comparing [1/?] - time: 4.13s - pairs_total: 62500\n"
     ]
    }
   ],
   "source": [
    "%%time\n",
    "\n",
    "# initialise class\n",
    "compare = recordlinkage.Compare(n_jobs=-1, non_empty=True)\n",
    "\n",
    "# initialise similarity measurement algorithms\n",
    "compare.exact('Province', 'Province', label='Province')\n",
    "compare.exact('email', 'email', label='email')\n",
    "compare.string('FirstName','FirstName',threshold=0.85,label='FirstName')\n",
    "compare.string('LastName','LastName',threshold=0.85,label='LastName')\n",
    "compare.string('Country','Country', method='levenshtein', threshold=0.85,label='Country')\n",
    "features = compare.compute(candidates, Dim_Customers_df, Dim_Customers_df)"
   ]
  },
  {
   "cell_type": "code",
   "execution_count": 7,
   "id": "73d167b2",
   "metadata": {
    "_cell_guid": "af46bcd1-4531-4f6a-9ffa-c488a8bf4da1",
    "_uuid": "cfaef927-6fed-4aca-bffd-0291fe287a68",
    "collapsed": false,
    "execution": {
     "iopub.execute_input": "2024-11-16T12:06:51.843051Z",
     "iopub.status.busy": "2024-11-16T12:06:51.842617Z",
     "iopub.status.idle": "2024-11-16T12:06:51.861734Z",
     "shell.execute_reply": "2024-11-16T12:06:51.860643Z"
    },
    "jupyter": {
     "outputs_hidden": false
    },
    "papermill": {
     "duration": 0.031933,
     "end_time": "2024-11-16T12:06:51.863974",
     "exception": false,
     "start_time": "2024-11-16T12:06:51.832041",
     "status": "completed"
    },
    "tags": []
   },
   "outputs": [
    {
     "data": {
      "text/html": [
       "<div>\n",
       "<style scoped>\n",
       "    .dataframe tbody tr th:only-of-type {\n",
       "        vertical-align: middle;\n",
       "    }\n",
       "\n",
       "    .dataframe tbody tr th {\n",
       "        vertical-align: top;\n",
       "    }\n",
       "\n",
       "    .dataframe thead th {\n",
       "        text-align: right;\n",
       "    }\n",
       "</style>\n",
       "<table border=\"1\" class=\"dataframe\">\n",
       "  <thead>\n",
       "    <tr style=\"text-align: right;\">\n",
       "      <th></th>\n",
       "      <th></th>\n",
       "      <th>Province</th>\n",
       "      <th>email</th>\n",
       "      <th>FirstName</th>\n",
       "      <th>LastName</th>\n",
       "      <th>Country</th>\n",
       "    </tr>\n",
       "  </thead>\n",
       "  <tbody>\n",
       "    <tr>\n",
       "      <th rowspan=\"5\" valign=\"top\">0</th>\n",
       "      <th>0</th>\n",
       "      <td>1</td>\n",
       "      <td>1</td>\n",
       "      <td>1.0</td>\n",
       "      <td>1.0</td>\n",
       "      <td>1.0</td>\n",
       "    </tr>\n",
       "    <tr>\n",
       "      <th>1</th>\n",
       "      <td>1</td>\n",
       "      <td>0</td>\n",
       "      <td>0.0</td>\n",
       "      <td>0.0</td>\n",
       "      <td>1.0</td>\n",
       "    </tr>\n",
       "    <tr>\n",
       "      <th>2</th>\n",
       "      <td>0</td>\n",
       "      <td>0</td>\n",
       "      <td>0.0</td>\n",
       "      <td>0.0</td>\n",
       "      <td>1.0</td>\n",
       "    </tr>\n",
       "    <tr>\n",
       "      <th>3</th>\n",
       "      <td>1</td>\n",
       "      <td>0</td>\n",
       "      <td>0.0</td>\n",
       "      <td>0.0</td>\n",
       "      <td>1.0</td>\n",
       "    </tr>\n",
       "    <tr>\n",
       "      <th>4</th>\n",
       "      <td>0</td>\n",
       "      <td>0</td>\n",
       "      <td>0.0</td>\n",
       "      <td>0.0</td>\n",
       "      <td>1.0</td>\n",
       "    </tr>\n",
       "    <tr>\n",
       "      <th>...</th>\n",
       "      <th>...</th>\n",
       "      <td>...</td>\n",
       "      <td>...</td>\n",
       "      <td>...</td>\n",
       "      <td>...</td>\n",
       "      <td>...</td>\n",
       "    </tr>\n",
       "    <tr>\n",
       "      <th rowspan=\"5\" valign=\"top\">499</th>\n",
       "      <th>495</th>\n",
       "      <td>0</td>\n",
       "      <td>0</td>\n",
       "      <td>0.0</td>\n",
       "      <td>0.0</td>\n",
       "      <td>1.0</td>\n",
       "    </tr>\n",
       "    <tr>\n",
       "      <th>496</th>\n",
       "      <td>0</td>\n",
       "      <td>0</td>\n",
       "      <td>1.0</td>\n",
       "      <td>0.0</td>\n",
       "      <td>1.0</td>\n",
       "    </tr>\n",
       "    <tr>\n",
       "      <th>497</th>\n",
       "      <td>0</td>\n",
       "      <td>0</td>\n",
       "      <td>0.0</td>\n",
       "      <td>0.0</td>\n",
       "      <td>1.0</td>\n",
       "    </tr>\n",
       "    <tr>\n",
       "      <th>498</th>\n",
       "      <td>0</td>\n",
       "      <td>0</td>\n",
       "      <td>0.0</td>\n",
       "      <td>0.0</td>\n",
       "      <td>1.0</td>\n",
       "    </tr>\n",
       "    <tr>\n",
       "      <th>499</th>\n",
       "      <td>1</td>\n",
       "      <td>1</td>\n",
       "      <td>1.0</td>\n",
       "      <td>1.0</td>\n",
       "      <td>1.0</td>\n",
       "    </tr>\n",
       "  </tbody>\n",
       "</table>\n",
       "<p>250000 rows × 5 columns</p>\n",
       "</div>"
      ],
      "text/plain": [
       "         Province  email  FirstName  LastName  Country\n",
       "0   0           1      1        1.0       1.0      1.0\n",
       "    1           1      0        0.0       0.0      1.0\n",
       "    2           0      0        0.0       0.0      1.0\n",
       "    3           1      0        0.0       0.0      1.0\n",
       "    4           0      0        0.0       0.0      1.0\n",
       "...           ...    ...        ...       ...      ...\n",
       "499 495         0      0        0.0       0.0      1.0\n",
       "    496         0      0        1.0       0.0      1.0\n",
       "    497         0      0        0.0       0.0      1.0\n",
       "    498         0      0        0.0       0.0      1.0\n",
       "    499         1      1        1.0       1.0      1.0\n",
       "\n",
       "[250000 rows x 5 columns]"
      ]
     },
     "execution_count": 7,
     "metadata": {},
     "output_type": "execute_result"
    }
   ],
   "source": [
    "features"
   ]
  },
  {
   "cell_type": "code",
   "execution_count": 8,
   "id": "a9c17bf9",
   "metadata": {
    "_cell_guid": "b359b290-a77a-4a1b-be29-df595ccaf8ac",
    "_uuid": "63119fd6-f44d-4efd-aa48-216423f2414c",
    "collapsed": false,
    "execution": {
     "iopub.execute_input": "2024-11-16T12:06:51.884582Z",
     "iopub.status.busy": "2024-11-16T12:06:51.884126Z",
     "iopub.status.idle": "2024-11-16T12:06:51.949126Z",
     "shell.execute_reply": "2024-11-16T12:06:51.948131Z"
    },
    "jupyter": {
     "outputs_hidden": false
    },
    "papermill": {
     "duration": 0.078127,
     "end_time": "2024-11-16T12:06:51.951408",
     "exception": false,
     "start_time": "2024-11-16T12:06:51.873281",
     "status": "completed"
    },
    "tags": []
   },
   "outputs": [
    {
     "data": {
      "text/plain": [
       "5.0       508\n",
       "4.0       112\n",
       "3.0      1242\n",
       "2.0     31070\n",
       "1.0    217068\n",
       "Name: count, dtype: int64"
      ]
     },
     "execution_count": 8,
     "metadata": {},
     "output_type": "execute_result"
    }
   ],
   "source": [
    "features.sum(axis=1).value_counts().sort_index(ascending=False)"
   ]
  },
  {
   "cell_type": "code",
   "execution_count": 9,
   "id": "1a4a2523",
   "metadata": {
    "_cell_guid": "bace9165-180c-47e2-a8be-d6f563b91730",
    "_uuid": "2869f3eb-b40c-47e4-9458-24642c40d33f",
    "collapsed": false,
    "execution": {
     "iopub.execute_input": "2024-11-16T12:06:51.973101Z",
     "iopub.status.busy": "2024-11-16T12:06:51.972265Z",
     "iopub.status.idle": "2024-11-16T12:06:52.028485Z",
     "shell.execute_reply": "2024-11-16T12:06:52.027528Z"
    },
    "jupyter": {
     "outputs_hidden": false
    },
    "papermill": {
     "duration": 0.069178,
     "end_time": "2024-11-16T12:06:52.030946",
     "exception": false,
     "start_time": "2024-11-16T12:06:51.961768",
     "status": "completed"
    },
    "tags": []
   },
   "outputs": [],
   "source": [
    "potential_matches = features[features.sum(axis=1) > 1].reset_index()\n",
    "potential_matches['Score'] = potential_matches['FirstName']+potential_matches['LastName']+potential_matches['email']"
   ]
  },
  {
   "cell_type": "code",
   "execution_count": 10,
   "id": "9c0e36f2",
   "metadata": {
    "_cell_guid": "d937f287-1174-4198-9f79-38bf376601f5",
    "_uuid": "dee6e7d2-98ed-451e-bf15-b9fe7d9ac96b",
    "collapsed": false,
    "execution": {
     "iopub.execute_input": "2024-11-16T12:06:52.051536Z",
     "iopub.status.busy": "2024-11-16T12:06:52.051116Z",
     "iopub.status.idle": "2024-11-16T12:06:52.065517Z",
     "shell.execute_reply": "2024-11-16T12:06:52.064493Z"
    },
    "jupyter": {
     "outputs_hidden": false
    },
    "papermill": {
     "duration": 0.027284,
     "end_time": "2024-11-16T12:06:52.067691",
     "exception": false,
     "start_time": "2024-11-16T12:06:52.040407",
     "status": "completed"
    },
    "tags": []
   },
   "outputs": [
    {
     "data": {
      "text/html": [
       "<div>\n",
       "<style scoped>\n",
       "    .dataframe tbody tr th:only-of-type {\n",
       "        vertical-align: middle;\n",
       "    }\n",
       "\n",
       "    .dataframe tbody tr th {\n",
       "        vertical-align: top;\n",
       "    }\n",
       "\n",
       "    .dataframe thead th {\n",
       "        text-align: right;\n",
       "    }\n",
       "</style>\n",
       "<table border=\"1\" class=\"dataframe\">\n",
       "  <thead>\n",
       "    <tr style=\"text-align: right;\">\n",
       "      <th></th>\n",
       "      <th>level_0</th>\n",
       "      <th>level_1</th>\n",
       "      <th>Province</th>\n",
       "      <th>email</th>\n",
       "      <th>FirstName</th>\n",
       "      <th>LastName</th>\n",
       "      <th>Country</th>\n",
       "      <th>Score</th>\n",
       "    </tr>\n",
       "  </thead>\n",
       "  <tbody>\n",
       "    <tr>\n",
       "      <th>0</th>\n",
       "      <td>0</td>\n",
       "      <td>0</td>\n",
       "      <td>1</td>\n",
       "      <td>1</td>\n",
       "      <td>1.0</td>\n",
       "      <td>1.0</td>\n",
       "      <td>1.0</td>\n",
       "      <td>3.0</td>\n",
       "    </tr>\n",
       "    <tr>\n",
       "      <th>1</th>\n",
       "      <td>0</td>\n",
       "      <td>1</td>\n",
       "      <td>1</td>\n",
       "      <td>0</td>\n",
       "      <td>0.0</td>\n",
       "      <td>0.0</td>\n",
       "      <td>1.0</td>\n",
       "      <td>0.0</td>\n",
       "    </tr>\n",
       "    <tr>\n",
       "      <th>2</th>\n",
       "      <td>0</td>\n",
       "      <td>3</td>\n",
       "      <td>1</td>\n",
       "      <td>0</td>\n",
       "      <td>0.0</td>\n",
       "      <td>0.0</td>\n",
       "      <td>1.0</td>\n",
       "      <td>0.0</td>\n",
       "    </tr>\n",
       "    <tr>\n",
       "      <th>3</th>\n",
       "      <td>0</td>\n",
       "      <td>12</td>\n",
       "      <td>1</td>\n",
       "      <td>0</td>\n",
       "      <td>0.0</td>\n",
       "      <td>0.0</td>\n",
       "      <td>1.0</td>\n",
       "      <td>0.0</td>\n",
       "    </tr>\n",
       "    <tr>\n",
       "      <th>4</th>\n",
       "      <td>0</td>\n",
       "      <td>24</td>\n",
       "      <td>1</td>\n",
       "      <td>0</td>\n",
       "      <td>0.0</td>\n",
       "      <td>0.0</td>\n",
       "      <td>1.0</td>\n",
       "      <td>0.0</td>\n",
       "    </tr>\n",
       "  </tbody>\n",
       "</table>\n",
       "</div>"
      ],
      "text/plain": [
       "   level_0  level_1  Province  email  FirstName  LastName  Country  Score\n",
       "0        0        0         1      1        1.0       1.0      1.0    3.0\n",
       "1        0        1         1      0        0.0       0.0      1.0    0.0\n",
       "2        0        3         1      0        0.0       0.0      1.0    0.0\n",
       "3        0       12         1      0        0.0       0.0      1.0    0.0\n",
       "4        0       24         1      0        0.0       0.0      1.0    0.0"
      ]
     },
     "execution_count": 10,
     "metadata": {},
     "output_type": "execute_result"
    }
   ],
   "source": [
    "potential_matches.head(5)"
   ]
  },
  {
   "cell_type": "code",
   "execution_count": 11,
   "id": "495518ad",
   "metadata": {
    "_cell_guid": "975694f5-9110-47f2-a3e8-e22726fca4fa",
    "_uuid": "3e133bce-467d-4a74-a11b-a46f5e74b719",
    "collapsed": false,
    "execution": {
     "iopub.execute_input": "2024-11-16T12:06:52.089162Z",
     "iopub.status.busy": "2024-11-16T12:06:52.088196Z",
     "iopub.status.idle": "2024-11-16T12:06:52.106804Z",
     "shell.execute_reply": "2024-11-16T12:06:52.105758Z"
    },
    "jupyter": {
     "outputs_hidden": false
    },
    "papermill": {
     "duration": 0.031523,
     "end_time": "2024-11-16T12:06:52.108972",
     "exception": false,
     "start_time": "2024-11-16T12:06:52.077449",
     "status": "completed"
    },
    "tags": []
   },
   "outputs": [
    {
     "data": {
      "text/html": [
       "<div>\n",
       "<style scoped>\n",
       "    .dataframe tbody tr th:only-of-type {\n",
       "        vertical-align: middle;\n",
       "    }\n",
       "\n",
       "    .dataframe tbody tr th {\n",
       "        vertical-align: top;\n",
       "    }\n",
       "\n",
       "    .dataframe thead th {\n",
       "        text-align: right;\n",
       "    }\n",
       "</style>\n",
       "<table border=\"1\" class=\"dataframe\">\n",
       "  <thead>\n",
       "    <tr style=\"text-align: right;\">\n",
       "      <th></th>\n",
       "      <th>level_0</th>\n",
       "      <th>level_1</th>\n",
       "      <th>Province</th>\n",
       "      <th>email</th>\n",
       "      <th>FirstName</th>\n",
       "      <th>LastName</th>\n",
       "      <th>Country</th>\n",
       "      <th>Score</th>\n",
       "    </tr>\n",
       "  </thead>\n",
       "  <tbody>\n",
       "    <tr>\n",
       "      <th>0</th>\n",
       "      <td>0</td>\n",
       "      <td>0</td>\n",
       "      <td>1</td>\n",
       "      <td>1</td>\n",
       "      <td>1.0</td>\n",
       "      <td>1.0</td>\n",
       "      <td>1.0</td>\n",
       "      <td>3.0</td>\n",
       "    </tr>\n",
       "    <tr>\n",
       "      <th>69</th>\n",
       "      <td>1</td>\n",
       "      <td>1</td>\n",
       "      <td>1</td>\n",
       "      <td>1</td>\n",
       "      <td>1.0</td>\n",
       "      <td>1.0</td>\n",
       "      <td>1.0</td>\n",
       "      <td>3.0</td>\n",
       "    </tr>\n",
       "    <tr>\n",
       "      <th>134</th>\n",
       "      <td>2</td>\n",
       "      <td>2</td>\n",
       "      <td>1</td>\n",
       "      <td>1</td>\n",
       "      <td>1.0</td>\n",
       "      <td>1.0</td>\n",
       "      <td>1.0</td>\n",
       "      <td>3.0</td>\n",
       "    </tr>\n",
       "    <tr>\n",
       "      <th>158</th>\n",
       "      <td>2</td>\n",
       "      <td>168</td>\n",
       "      <td>0</td>\n",
       "      <td>0</td>\n",
       "      <td>1.0</td>\n",
       "      <td>1.0</td>\n",
       "      <td>1.0</td>\n",
       "      <td>2.0</td>\n",
       "    </tr>\n",
       "    <tr>\n",
       "      <th>159</th>\n",
       "      <td>2</td>\n",
       "      <td>177</td>\n",
       "      <td>0</td>\n",
       "      <td>1</td>\n",
       "      <td>0.0</td>\n",
       "      <td>1.0</td>\n",
       "      <td>1.0</td>\n",
       "      <td>2.0</td>\n",
       "    </tr>\n",
       "    <tr>\n",
       "      <th>...</th>\n",
       "      <td>...</td>\n",
       "      <td>...</td>\n",
       "      <td>...</td>\n",
       "      <td>...</td>\n",
       "      <td>...</td>\n",
       "      <td>...</td>\n",
       "      <td>...</td>\n",
       "      <td>...</td>\n",
       "    </tr>\n",
       "    <tr>\n",
       "      <th>32777</th>\n",
       "      <td>497</td>\n",
       "      <td>359</td>\n",
       "      <td>0</td>\n",
       "      <td>1</td>\n",
       "      <td>0.0</td>\n",
       "      <td>1.0</td>\n",
       "      <td>1.0</td>\n",
       "      <td>2.0</td>\n",
       "    </tr>\n",
       "    <tr>\n",
       "      <th>32799</th>\n",
       "      <td>497</td>\n",
       "      <td>497</td>\n",
       "      <td>1</td>\n",
       "      <td>1</td>\n",
       "      <td>1.0</td>\n",
       "      <td>1.0</td>\n",
       "      <td>1.0</td>\n",
       "      <td>3.0</td>\n",
       "    </tr>\n",
       "    <tr>\n",
       "      <th>32868</th>\n",
       "      <td>498</td>\n",
       "      <td>498</td>\n",
       "      <td>1</td>\n",
       "      <td>1</td>\n",
       "      <td>1.0</td>\n",
       "      <td>1.0</td>\n",
       "      <td>1.0</td>\n",
       "      <td>3.0</td>\n",
       "    </tr>\n",
       "    <tr>\n",
       "      <th>32890</th>\n",
       "      <td>499</td>\n",
       "      <td>198</td>\n",
       "      <td>0</td>\n",
       "      <td>0</td>\n",
       "      <td>1.0</td>\n",
       "      <td>1.0</td>\n",
       "      <td>1.0</td>\n",
       "      <td>2.0</td>\n",
       "    </tr>\n",
       "    <tr>\n",
       "      <th>32931</th>\n",
       "      <td>499</td>\n",
       "      <td>499</td>\n",
       "      <td>1</td>\n",
       "      <td>1</td>\n",
       "      <td>1.0</td>\n",
       "      <td>1.0</td>\n",
       "      <td>1.0</td>\n",
       "      <td>3.0</td>\n",
       "    </tr>\n",
       "  </tbody>\n",
       "</table>\n",
       "<p>1030 rows × 8 columns</p>\n",
       "</div>"
      ],
      "text/plain": [
       "       level_0  level_1  Province  email  FirstName  LastName  Country  Score\n",
       "0            0        0         1      1        1.0       1.0      1.0    3.0\n",
       "69           1        1         1      1        1.0       1.0      1.0    3.0\n",
       "134          2        2         1      1        1.0       1.0      1.0    3.0\n",
       "158          2      168         0      0        1.0       1.0      1.0    2.0\n",
       "159          2      177         0      1        0.0       1.0      1.0    2.0\n",
       "...        ...      ...       ...    ...        ...       ...      ...    ...\n",
       "32777      497      359         0      1        0.0       1.0      1.0    2.0\n",
       "32799      497      497         1      1        1.0       1.0      1.0    3.0\n",
       "32868      498      498         1      1        1.0       1.0      1.0    3.0\n",
       "32890      499      198         0      0        1.0       1.0      1.0    2.0\n",
       "32931      499      499         1      1        1.0       1.0      1.0    3.0\n",
       "\n",
       "[1030 rows x 8 columns]"
      ]
     },
     "execution_count": 11,
     "metadata": {},
     "output_type": "execute_result"
    }
   ],
   "source": [
    "# Remove Low Matches\n",
    "potential_matches = potential_matches[(potential_matches['Score'] >= 2)]\n",
    "potential_matches"
   ]
  },
  {
   "cell_type": "code",
   "execution_count": 12,
   "id": "887de65f",
   "metadata": {
    "_cell_guid": "e709a193-473c-450f-af4a-e8c5597f4a45",
    "_uuid": "bf7677eb-5842-4961-b3db-f20785e301c7",
    "collapsed": false,
    "execution": {
     "iopub.execute_input": "2024-11-16T12:06:52.130689Z",
     "iopub.status.busy": "2024-11-16T12:06:52.129892Z",
     "iopub.status.idle": "2024-11-16T12:06:52.146102Z",
     "shell.execute_reply": "2024-11-16T12:06:52.145034Z"
    },
    "jupyter": {
     "outputs_hidden": false
    },
    "papermill": {
     "duration": 0.029529,
     "end_time": "2024-11-16T12:06:52.148351",
     "exception": false,
     "start_time": "2024-11-16T12:06:52.118822",
     "status": "completed"
    },
    "tags": []
   },
   "outputs": [
    {
     "data": {
      "text/html": [
       "<div>\n",
       "<style scoped>\n",
       "    .dataframe tbody tr th:only-of-type {\n",
       "        vertical-align: middle;\n",
       "    }\n",
       "\n",
       "    .dataframe tbody tr th {\n",
       "        vertical-align: top;\n",
       "    }\n",
       "\n",
       "    .dataframe thead th {\n",
       "        text-align: right;\n",
       "    }\n",
       "</style>\n",
       "<table border=\"1\" class=\"dataframe\">\n",
       "  <thead>\n",
       "    <tr style=\"text-align: right;\">\n",
       "      <th></th>\n",
       "      <th>level_0</th>\n",
       "      <th>Customer_ID</th>\n",
       "    </tr>\n",
       "  </thead>\n",
       "  <tbody>\n",
       "    <tr>\n",
       "      <th>0</th>\n",
       "      <td>0</td>\n",
       "      <td>100000</td>\n",
       "    </tr>\n",
       "    <tr>\n",
       "      <th>69</th>\n",
       "      <td>1</td>\n",
       "      <td>100001</td>\n",
       "    </tr>\n",
       "    <tr>\n",
       "      <th>134</th>\n",
       "      <td>2</td>\n",
       "      <td>100002</td>\n",
       "    </tr>\n",
       "    <tr>\n",
       "      <th>158</th>\n",
       "      <td>2</td>\n",
       "      <td>100002</td>\n",
       "    </tr>\n",
       "    <tr>\n",
       "      <th>159</th>\n",
       "      <td>2</td>\n",
       "      <td>100002</td>\n",
       "    </tr>\n",
       "  </tbody>\n",
       "</table>\n",
       "</div>"
      ],
      "text/plain": [
       "     level_0  Customer_ID\n",
       "0          0       100000\n",
       "69         1       100001\n",
       "134        2       100002\n",
       "158        2       100002\n",
       "159        2       100002"
      ]
     },
     "execution_count": 12,
     "metadata": {},
     "output_type": "execute_result"
    }
   ],
   "source": [
    "look_up_0 = potential_matches.merge(Dim_Customers_df, left_on='level_0', right_index=True)\n",
    "look_up_0 = look_up_0[['level_0','Customer_ID']]\n",
    "look_up_0.head(5)"
   ]
  },
  {
   "cell_type": "code",
   "execution_count": 13,
   "id": "cb807159",
   "metadata": {
    "_cell_guid": "e4b91e7c-3b73-4ad1-8a33-ec414128fb66",
    "_uuid": "1ae7636c-4b41-4fdb-a281-461bc94a99c9",
    "collapsed": false,
    "execution": {
     "iopub.execute_input": "2024-11-16T12:06:52.170565Z",
     "iopub.status.busy": "2024-11-16T12:06:52.169791Z",
     "iopub.status.idle": "2024-11-16T12:06:52.185501Z",
     "shell.execute_reply": "2024-11-16T12:06:52.184465Z"
    },
    "jupyter": {
     "outputs_hidden": false
    },
    "papermill": {
     "duration": 0.029241,
     "end_time": "2024-11-16T12:06:52.187725",
     "exception": false,
     "start_time": "2024-11-16T12:06:52.158484",
     "status": "completed"
    },
    "tags": []
   },
   "outputs": [
    {
     "data": {
      "text/html": [
       "<div>\n",
       "<style scoped>\n",
       "    .dataframe tbody tr th:only-of-type {\n",
       "        vertical-align: middle;\n",
       "    }\n",
       "\n",
       "    .dataframe tbody tr th {\n",
       "        vertical-align: top;\n",
       "    }\n",
       "\n",
       "    .dataframe thead th {\n",
       "        text-align: right;\n",
       "    }\n",
       "</style>\n",
       "<table border=\"1\" class=\"dataframe\">\n",
       "  <thead>\n",
       "    <tr style=\"text-align: right;\">\n",
       "      <th></th>\n",
       "      <th>level_1</th>\n",
       "      <th>Customer2_ID</th>\n",
       "    </tr>\n",
       "  </thead>\n",
       "  <tbody>\n",
       "    <tr>\n",
       "      <th>0</th>\n",
       "      <td>0</td>\n",
       "      <td>100000</td>\n",
       "    </tr>\n",
       "    <tr>\n",
       "      <th>69</th>\n",
       "      <td>1</td>\n",
       "      <td>100001</td>\n",
       "    </tr>\n",
       "    <tr>\n",
       "      <th>134</th>\n",
       "      <td>2</td>\n",
       "      <td>100002</td>\n",
       "    </tr>\n",
       "    <tr>\n",
       "      <th>158</th>\n",
       "      <td>168</td>\n",
       "      <td>100168</td>\n",
       "    </tr>\n",
       "    <tr>\n",
       "      <th>159</th>\n",
       "      <td>177</td>\n",
       "      <td>100177</td>\n",
       "    </tr>\n",
       "  </tbody>\n",
       "</table>\n",
       "</div>"
      ],
      "text/plain": [
       "     level_1  Customer2_ID\n",
       "0          0        100000\n",
       "69         1        100001\n",
       "134        2        100002\n",
       "158      168        100168\n",
       "159      177        100177"
      ]
     },
     "execution_count": 13,
     "metadata": {},
     "output_type": "execute_result"
    }
   ],
   "source": [
    "look_up_1 = potential_matches.merge(Dim_Customers_df, left_on='level_1', right_index=True)\n",
    "look_up_1 = look_up_1[['level_1','Customer_ID']]\n",
    "look_up_1.rename(columns={\"Customer_ID\":\"Customer2_ID\"}, inplace=True)\n",
    "look_up_1.head(5)"
   ]
  },
  {
   "cell_type": "code",
   "execution_count": 14,
   "id": "ba11d04a",
   "metadata": {
    "_cell_guid": "468cfbba-fde6-48f0-832c-c99b6190c12e",
    "_uuid": "fe268f4c-039a-4c22-a474-574a2a182224",
    "collapsed": false,
    "execution": {
     "iopub.execute_input": "2024-11-16T12:06:52.209885Z",
     "iopub.status.busy": "2024-11-16T12:06:52.209504Z",
     "iopub.status.idle": "2024-11-16T12:06:52.234894Z",
     "shell.execute_reply": "2024-11-16T12:06:52.233706Z"
    },
    "jupyter": {
     "outputs_hidden": false
    },
    "papermill": {
     "duration": 0.03952,
     "end_time": "2024-11-16T12:06:52.237426",
     "exception": false,
     "start_time": "2024-11-16T12:06:52.197906",
     "status": "completed"
    },
    "tags": []
   },
   "outputs": [
    {
     "data": {
      "text/html": [
       "<div>\n",
       "<style scoped>\n",
       "    .dataframe tbody tr th:only-of-type {\n",
       "        vertical-align: middle;\n",
       "    }\n",
       "\n",
       "    .dataframe tbody tr th {\n",
       "        vertical-align: top;\n",
       "    }\n",
       "\n",
       "    .dataframe thead th {\n",
       "        text-align: right;\n",
       "    }\n",
       "</style>\n",
       "<table border=\"1\" class=\"dataframe\">\n",
       "  <thead>\n",
       "    <tr style=\"text-align: right;\">\n",
       "      <th></th>\n",
       "      <th>level_0</th>\n",
       "      <th>level_1</th>\n",
       "      <th>Province</th>\n",
       "      <th>email</th>\n",
       "      <th>FirstName</th>\n",
       "      <th>LastName</th>\n",
       "      <th>Country</th>\n",
       "      <th>Score</th>\n",
       "      <th>Customer_ID</th>\n",
       "      <th>Customer2_ID</th>\n",
       "    </tr>\n",
       "  </thead>\n",
       "  <tbody>\n",
       "    <tr>\n",
       "      <th>0</th>\n",
       "      <td>0</td>\n",
       "      <td>0</td>\n",
       "      <td>1</td>\n",
       "      <td>1</td>\n",
       "      <td>1.0</td>\n",
       "      <td>1.0</td>\n",
       "      <td>1.0</td>\n",
       "      <td>3.0</td>\n",
       "      <td>100000</td>\n",
       "      <td>100000</td>\n",
       "    </tr>\n",
       "    <tr>\n",
       "      <th>1</th>\n",
       "      <td>1</td>\n",
       "      <td>1</td>\n",
       "      <td>1</td>\n",
       "      <td>1</td>\n",
       "      <td>1.0</td>\n",
       "      <td>1.0</td>\n",
       "      <td>1.0</td>\n",
       "      <td>3.0</td>\n",
       "      <td>100001</td>\n",
       "      <td>100001</td>\n",
       "    </tr>\n",
       "    <tr>\n",
       "      <th>2</th>\n",
       "      <td>2</td>\n",
       "      <td>2</td>\n",
       "      <td>1</td>\n",
       "      <td>1</td>\n",
       "      <td>1.0</td>\n",
       "      <td>1.0</td>\n",
       "      <td>1.0</td>\n",
       "      <td>3.0</td>\n",
       "      <td>100002</td>\n",
       "      <td>100002</td>\n",
       "    </tr>\n",
       "    <tr>\n",
       "      <th>3</th>\n",
       "      <td>2</td>\n",
       "      <td>2</td>\n",
       "      <td>1</td>\n",
       "      <td>1</td>\n",
       "      <td>1.0</td>\n",
       "      <td>1.0</td>\n",
       "      <td>1.0</td>\n",
       "      <td>3.0</td>\n",
       "      <td>100002</td>\n",
       "      <td>100002</td>\n",
       "    </tr>\n",
       "    <tr>\n",
       "      <th>4</th>\n",
       "      <td>2</td>\n",
       "      <td>2</td>\n",
       "      <td>1</td>\n",
       "      <td>1</td>\n",
       "      <td>1.0</td>\n",
       "      <td>1.0</td>\n",
       "      <td>1.0</td>\n",
       "      <td>3.0</td>\n",
       "      <td>100002</td>\n",
       "      <td>100002</td>\n",
       "    </tr>\n",
       "    <tr>\n",
       "      <th>...</th>\n",
       "      <td>...</td>\n",
       "      <td>...</td>\n",
       "      <td>...</td>\n",
       "      <td>...</td>\n",
       "      <td>...</td>\n",
       "      <td>...</td>\n",
       "      <td>...</td>\n",
       "      <td>...</td>\n",
       "      <td>...</td>\n",
       "      <td>...</td>\n",
       "    </tr>\n",
       "    <tr>\n",
       "      <th>10647</th>\n",
       "      <td>499</td>\n",
       "      <td>198</td>\n",
       "      <td>0</td>\n",
       "      <td>0</td>\n",
       "      <td>1.0</td>\n",
       "      <td>1.0</td>\n",
       "      <td>1.0</td>\n",
       "      <td>2.0</td>\n",
       "      <td>100499</td>\n",
       "      <td>100198</td>\n",
       "    </tr>\n",
       "    <tr>\n",
       "      <th>10648</th>\n",
       "      <td>499</td>\n",
       "      <td>499</td>\n",
       "      <td>1</td>\n",
       "      <td>1</td>\n",
       "      <td>1.0</td>\n",
       "      <td>1.0</td>\n",
       "      <td>1.0</td>\n",
       "      <td>3.0</td>\n",
       "      <td>100499</td>\n",
       "      <td>100499</td>\n",
       "    </tr>\n",
       "    <tr>\n",
       "      <th>10649</th>\n",
       "      <td>499</td>\n",
       "      <td>499</td>\n",
       "      <td>1</td>\n",
       "      <td>1</td>\n",
       "      <td>1.0</td>\n",
       "      <td>1.0</td>\n",
       "      <td>1.0</td>\n",
       "      <td>3.0</td>\n",
       "      <td>100499</td>\n",
       "      <td>100499</td>\n",
       "    </tr>\n",
       "    <tr>\n",
       "      <th>10650</th>\n",
       "      <td>499</td>\n",
       "      <td>499</td>\n",
       "      <td>1</td>\n",
       "      <td>1</td>\n",
       "      <td>1.0</td>\n",
       "      <td>1.0</td>\n",
       "      <td>1.0</td>\n",
       "      <td>3.0</td>\n",
       "      <td>100499</td>\n",
       "      <td>100499</td>\n",
       "    </tr>\n",
       "    <tr>\n",
       "      <th>10651</th>\n",
       "      <td>499</td>\n",
       "      <td>499</td>\n",
       "      <td>1</td>\n",
       "      <td>1</td>\n",
       "      <td>1.0</td>\n",
       "      <td>1.0</td>\n",
       "      <td>1.0</td>\n",
       "      <td>3.0</td>\n",
       "      <td>100499</td>\n",
       "      <td>100499</td>\n",
       "    </tr>\n",
       "  </tbody>\n",
       "</table>\n",
       "<p>10652 rows × 10 columns</p>\n",
       "</div>"
      ],
      "text/plain": [
       "       level_0  level_1  Province  email  FirstName  LastName  Country  Score  \\\n",
       "0            0        0         1      1        1.0       1.0      1.0    3.0   \n",
       "1            1        1         1      1        1.0       1.0      1.0    3.0   \n",
       "2            2        2         1      1        1.0       1.0      1.0    3.0   \n",
       "3            2        2         1      1        1.0       1.0      1.0    3.0   \n",
       "4            2        2         1      1        1.0       1.0      1.0    3.0   \n",
       "...        ...      ...       ...    ...        ...       ...      ...    ...   \n",
       "10647      499      198         0      0        1.0       1.0      1.0    2.0   \n",
       "10648      499      499         1      1        1.0       1.0      1.0    3.0   \n",
       "10649      499      499         1      1        1.0       1.0      1.0    3.0   \n",
       "10650      499      499         1      1        1.0       1.0      1.0    3.0   \n",
       "10651      499      499         1      1        1.0       1.0      1.0    3.0   \n",
       "\n",
       "       Customer_ID  Customer2_ID  \n",
       "0           100000        100000  \n",
       "1           100001        100001  \n",
       "2           100002        100002  \n",
       "3           100002        100002  \n",
       "4           100002        100002  \n",
       "...            ...           ...  \n",
       "10647       100499        100198  \n",
       "10648       100499        100499  \n",
       "10649       100499        100499  \n",
       "10650       100499        100499  \n",
       "10651       100499        100499  \n",
       "\n",
       "[10652 rows x 10 columns]"
      ]
     },
     "execution_count": 14,
     "metadata": {},
     "output_type": "execute_result"
    }
   ],
   "source": [
    "# Merge df1 on column 'A' and df2 on its index\n",
    "potential_matches = potential_matches.merge(look_up_0, left_on='level_0', right_on='level_0')\n",
    "potential_matches = potential_matches.merge(look_up_1, left_on='level_1', right_on='level_1')\n",
    "potential_matches"
   ]
  },
  {
   "cell_type": "code",
   "execution_count": 15,
   "id": "8aeac4f5",
   "metadata": {
    "_cell_guid": "2caf20a4-ef21-4072-b90c-4e500f972907",
    "_uuid": "037fd26f-8b3f-4020-b4b4-f327679bcbbc",
    "collapsed": false,
    "execution": {
     "iopub.execute_input": "2024-11-16T12:06:52.260806Z",
     "iopub.status.busy": "2024-11-16T12:06:52.260403Z",
     "iopub.status.idle": "2024-11-16T12:06:52.272832Z",
     "shell.execute_reply": "2024-11-16T12:06:52.271761Z"
    },
    "jupyter": {
     "outputs_hidden": false
    },
    "papermill": {
     "duration": 0.026928,
     "end_time": "2024-11-16T12:06:52.275344",
     "exception": false,
     "start_time": "2024-11-16T12:06:52.248416",
     "status": "completed"
    },
    "tags": []
   },
   "outputs": [],
   "source": [
    "matches = potential_matches[(potential_matches['Customer_ID'] != potential_matches['Customer2_ID']) & (potential_matches['Score'] >= 2)]\n",
    "matches = matches.drop_duplicates()"
   ]
  },
  {
   "cell_type": "code",
   "execution_count": 16,
   "id": "f8224376",
   "metadata": {
    "_cell_guid": "19d4292c-3690-4f23-a559-fc910ac5be4a",
    "_uuid": "4605bb27-e001-420b-9c00-0f8aaceebb2f",
    "collapsed": false,
    "execution": {
     "iopub.execute_input": "2024-11-16T12:06:52.300675Z",
     "iopub.status.busy": "2024-11-16T12:06:52.299789Z",
     "iopub.status.idle": "2024-11-16T12:06:52.317169Z",
     "shell.execute_reply": "2024-11-16T12:06:52.316021Z"
    },
    "jupyter": {
     "outputs_hidden": false
    },
    "papermill": {
     "duration": 0.033052,
     "end_time": "2024-11-16T12:06:52.319520",
     "exception": false,
     "start_time": "2024-11-16T12:06:52.286468",
     "status": "completed"
    },
    "tags": []
   },
   "outputs": [
    {
     "data": {
      "text/html": [
       "<div>\n",
       "<style scoped>\n",
       "    .dataframe tbody tr th:only-of-type {\n",
       "        vertical-align: middle;\n",
       "    }\n",
       "\n",
       "    .dataframe tbody tr th {\n",
       "        vertical-align: top;\n",
       "    }\n",
       "\n",
       "    .dataframe thead th {\n",
       "        text-align: right;\n",
       "    }\n",
       "</style>\n",
       "<table border=\"1\" class=\"dataframe\">\n",
       "  <thead>\n",
       "    <tr style=\"text-align: right;\">\n",
       "      <th></th>\n",
       "      <th>level_0</th>\n",
       "      <th>level_1</th>\n",
       "      <th>Province</th>\n",
       "      <th>email</th>\n",
       "      <th>FirstName</th>\n",
       "      <th>LastName</th>\n",
       "      <th>Country</th>\n",
       "      <th>Score</th>\n",
       "      <th>Customer_ID</th>\n",
       "      <th>Customer2_ID</th>\n",
       "    </tr>\n",
       "  </thead>\n",
       "  <tbody>\n",
       "    <tr>\n",
       "      <th>11</th>\n",
       "      <td>2</td>\n",
       "      <td>168</td>\n",
       "      <td>0</td>\n",
       "      <td>0</td>\n",
       "      <td>1.0</td>\n",
       "      <td>1.0</td>\n",
       "      <td>1.0</td>\n",
       "      <td>2.0</td>\n",
       "      <td>100002</td>\n",
       "      <td>100168</td>\n",
       "    </tr>\n",
       "    <tr>\n",
       "      <th>20</th>\n",
       "      <td>2</td>\n",
       "      <td>177</td>\n",
       "      <td>0</td>\n",
       "      <td>1</td>\n",
       "      <td>0.0</td>\n",
       "      <td>1.0</td>\n",
       "      <td>1.0</td>\n",
       "      <td>2.0</td>\n",
       "      <td>100002</td>\n",
       "      <td>100177</td>\n",
       "    </tr>\n",
       "    <tr>\n",
       "      <th>44</th>\n",
       "      <td>3</td>\n",
       "      <td>90</td>\n",
       "      <td>0</td>\n",
       "      <td>1</td>\n",
       "      <td>1.0</td>\n",
       "      <td>1.0</td>\n",
       "      <td>1.0</td>\n",
       "      <td>3.0</td>\n",
       "      <td>100003</td>\n",
       "      <td>100090</td>\n",
       "    </tr>\n",
       "    <tr>\n",
       "      <th>53</th>\n",
       "      <td>3</td>\n",
       "      <td>326</td>\n",
       "      <td>0</td>\n",
       "      <td>0</td>\n",
       "      <td>1.0</td>\n",
       "      <td>1.0</td>\n",
       "      <td>1.0</td>\n",
       "      <td>2.0</td>\n",
       "      <td>100003</td>\n",
       "      <td>100326</td>\n",
       "    </tr>\n",
       "    <tr>\n",
       "      <th>66</th>\n",
       "      <td>4</td>\n",
       "      <td>180</td>\n",
       "      <td>0</td>\n",
       "      <td>1</td>\n",
       "      <td>1.0</td>\n",
       "      <td>1.0</td>\n",
       "      <td>1.0</td>\n",
       "      <td>3.0</td>\n",
       "      <td>100004</td>\n",
       "      <td>100180</td>\n",
       "    </tr>\n",
       "  </tbody>\n",
       "</table>\n",
       "</div>"
      ],
      "text/plain": [
       "    level_0  level_1  Province  email  FirstName  LastName  Country  Score  \\\n",
       "11        2      168         0      0        1.0       1.0      1.0    2.0   \n",
       "20        2      177         0      1        0.0       1.0      1.0    2.0   \n",
       "44        3       90         0      1        1.0       1.0      1.0    3.0   \n",
       "53        3      326         0      0        1.0       1.0      1.0    2.0   \n",
       "66        4      180         0      1        1.0       1.0      1.0    3.0   \n",
       "\n",
       "    Customer_ID  Customer2_ID  \n",
       "11       100002        100168  \n",
       "20       100002        100177  \n",
       "44       100003        100090  \n",
       "53       100003        100326  \n",
       "66       100004        100180  "
      ]
     },
     "execution_count": 16,
     "metadata": {},
     "output_type": "execute_result"
    }
   ],
   "source": [
    "matches.head(5)"
   ]
  },
  {
   "cell_type": "markdown",
   "id": "3651f2f6",
   "metadata": {
    "_cell_guid": "990ac9a4-4a8b-4881-b5a8-c72b0b937a7f",
    "_uuid": "0d97bf24-12bf-4c8d-a12b-d00d7070dd59",
    "collapsed": false,
    "jupyter": {
     "outputs_hidden": false
    },
    "papermill": {
     "duration": 0.010863,
     "end_time": "2024-11-16T12:06:52.341882",
     "exception": false,
     "start_time": "2024-11-16T12:06:52.331019",
     "status": "completed"
    },
    "tags": []
   },
   "source": [
    "## Examples of Matched Customers"
   ]
  },
  {
   "cell_type": "code",
   "execution_count": 17,
   "id": "63931c65",
   "metadata": {
    "_cell_guid": "192c2b05-103c-4058-b5c5-74c6d4c1a706",
    "_uuid": "c24aa71e-105a-419a-a4a6-d8684021d997",
    "collapsed": false,
    "execution": {
     "iopub.execute_input": "2024-11-16T12:06:52.366438Z",
     "iopub.status.busy": "2024-11-16T12:06:52.365976Z",
     "iopub.status.idle": "2024-11-16T12:06:52.380313Z",
     "shell.execute_reply": "2024-11-16T12:06:52.379287Z"
    },
    "jupyter": {
     "outputs_hidden": false
    },
    "papermill": {
     "duration": 0.029343,
     "end_time": "2024-11-16T12:06:52.382453",
     "exception": false,
     "start_time": "2024-11-16T12:06:52.353110",
     "status": "completed"
    },
    "tags": []
   },
   "outputs": [
    {
     "data": {
      "text/html": [
       "<div>\n",
       "<style scoped>\n",
       "    .dataframe tbody tr th:only-of-type {\n",
       "        vertical-align: middle;\n",
       "    }\n",
       "\n",
       "    .dataframe tbody tr th {\n",
       "        vertical-align: top;\n",
       "    }\n",
       "\n",
       "    .dataframe thead th {\n",
       "        text-align: right;\n",
       "    }\n",
       "</style>\n",
       "<table border=\"1\" class=\"dataframe\">\n",
       "  <thead>\n",
       "    <tr style=\"text-align: right;\">\n",
       "      <th></th>\n",
       "      <th>Customer_ID</th>\n",
       "      <th>Country</th>\n",
       "      <th>Province</th>\n",
       "      <th>email</th>\n",
       "      <th>FirstName</th>\n",
       "      <th>LastName</th>\n",
       "    </tr>\n",
       "  </thead>\n",
       "  <tbody>\n",
       "    <tr>\n",
       "      <th>2</th>\n",
       "      <td>100002</td>\n",
       "      <td>Canada</td>\n",
       "      <td>Ontario</td>\n",
       "      <td>Jack</td>\n",
       "      <td>Martin</td>\n",
       "      <td>jack.martin@gmail.com</td>\n",
       "    </tr>\n",
       "    <tr>\n",
       "      <th>168</th>\n",
       "      <td>100168</td>\n",
       "      <td>Canada</td>\n",
       "      <td>Quebec</td>\n",
       "      <td>James</td>\n",
       "      <td>Martin</td>\n",
       "      <td>james.martin@gmail.com</td>\n",
       "    </tr>\n",
       "  </tbody>\n",
       "</table>\n",
       "</div>"
      ],
      "text/plain": [
       "     Customer_ID Country Province  email FirstName                LastName\n",
       "2         100002  Canada  Ontario   Jack    Martin   jack.martin@gmail.com\n",
       "168       100168  Canada   Quebec  James    Martin  james.martin@gmail.com"
      ]
     },
     "execution_count": 17,
     "metadata": {},
     "output_type": "execute_result"
    }
   ],
   "source": [
    "Dim_Customers_df[Dim_Customers_df['Customer_ID'].isin([100002,100168])]"
   ]
  },
  {
   "cell_type": "code",
   "execution_count": 18,
   "id": "28afac63",
   "metadata": {
    "_cell_guid": "a0e8b1c1-0624-4141-a8fb-d8ce77b62c0d",
    "_uuid": "530bfed0-38d4-4b11-aa03-dcdf69e356c7",
    "collapsed": false,
    "execution": {
     "iopub.execute_input": "2024-11-16T12:06:52.406879Z",
     "iopub.status.busy": "2024-11-16T12:06:52.406447Z",
     "iopub.status.idle": "2024-11-16T12:06:52.419259Z",
     "shell.execute_reply": "2024-11-16T12:06:52.418133Z"
    },
    "jupyter": {
     "outputs_hidden": false
    },
    "papermill": {
     "duration": 0.027579,
     "end_time": "2024-11-16T12:06:52.421305",
     "exception": false,
     "start_time": "2024-11-16T12:06:52.393726",
     "status": "completed"
    },
    "tags": []
   },
   "outputs": [
    {
     "data": {
      "text/html": [
       "<div>\n",
       "<style scoped>\n",
       "    .dataframe tbody tr th:only-of-type {\n",
       "        vertical-align: middle;\n",
       "    }\n",
       "\n",
       "    .dataframe tbody tr th {\n",
       "        vertical-align: top;\n",
       "    }\n",
       "\n",
       "    .dataframe thead th {\n",
       "        text-align: right;\n",
       "    }\n",
       "</style>\n",
       "<table border=\"1\" class=\"dataframe\">\n",
       "  <thead>\n",
       "    <tr style=\"text-align: right;\">\n",
       "      <th></th>\n",
       "      <th>Customer_ID</th>\n",
       "      <th>Country</th>\n",
       "      <th>Province</th>\n",
       "      <th>email</th>\n",
       "      <th>FirstName</th>\n",
       "      <th>LastName</th>\n",
       "    </tr>\n",
       "  </thead>\n",
       "  <tbody>\n",
       "    <tr>\n",
       "      <th>3</th>\n",
       "      <td>100003</td>\n",
       "      <td>Canada</td>\n",
       "      <td>Quebec</td>\n",
       "      <td>Sophie</td>\n",
       "      <td>Stewart</td>\n",
       "      <td>sophie.stewart@gmail.com</td>\n",
       "    </tr>\n",
       "    <tr>\n",
       "      <th>90</th>\n",
       "      <td>100090</td>\n",
       "      <td>Canada</td>\n",
       "      <td>Ontario</td>\n",
       "      <td>Sophie</td>\n",
       "      <td>Stewart</td>\n",
       "      <td>sophie.stewart@gmail.com</td>\n",
       "    </tr>\n",
       "  </tbody>\n",
       "</table>\n",
       "</div>"
      ],
      "text/plain": [
       "    Customer_ID Country Province   email FirstName                  LastName\n",
       "3        100003  Canada   Quebec  Sophie   Stewart  sophie.stewart@gmail.com\n",
       "90       100090  Canada  Ontario  Sophie   Stewart  sophie.stewart@gmail.com"
      ]
     },
     "execution_count": 18,
     "metadata": {},
     "output_type": "execute_result"
    }
   ],
   "source": [
    "Dim_Customers_df[Dim_Customers_df['Customer_ID'].isin([100003,100090])]"
   ]
  }
 ],
 "metadata": {
  "kaggle": {
   "accelerator": "none",
   "dataSources": [
    {
     "sourceId": 205431842,
     "sourceType": "kernelVersion"
    }
   ],
   "dockerImageVersionId": 30786,
   "isGpuEnabled": false,
   "isInternetEnabled": true,
   "language": "python",
   "sourceType": "notebook"
  },
  "kernelspec": {
   "display_name": "Python 3",
   "language": "python",
   "name": "python3"
  },
  "language_info": {
   "codemirror_mode": {
    "name": "ipython",
    "version": 3
   },
   "file_extension": ".py",
   "mimetype": "text/x-python",
   "name": "python",
   "nbconvert_exporter": "python",
   "pygments_lexer": "ipython3",
   "version": "3.10.14"
  },
  "papermill": {
   "default_parameters": {},
   "duration": 56.513157,
   "end_time": "2024-11-16T12:06:55.054567",
   "environment_variables": {},
   "exception": null,
   "input_path": "__notebook__.ipynb",
   "output_path": "__notebook__.ipynb",
   "parameters": {},
   "start_time": "2024-11-16T12:05:58.541410",
   "version": "2.6.0"
  }
 },
 "nbformat": 4,
 "nbformat_minor": 5
}
