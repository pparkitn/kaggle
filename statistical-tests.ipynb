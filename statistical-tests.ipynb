{
 "cells": [
  {
   "cell_type": "code",
   "execution_count": 1,
   "id": "d361a5d2",
   "metadata": {
    "_cell_guid": "b1076dfc-b9ad-4769-8c92-a6c4dae69d19",
    "_uuid": "8f2839f25d086af736a60e9eeb907d3b93b6e0e5",
    "execution": {
     "iopub.execute_input": "2024-05-27T18:50:58.887663Z",
     "iopub.status.busy": "2024-05-27T18:50:58.887298Z",
     "iopub.status.idle": "2024-05-27T18:51:01.378313Z",
     "shell.execute_reply": "2024-05-27T18:51:01.377414Z"
    },
    "papermill": {
     "duration": 2.500798,
     "end_time": "2024-05-27T18:51:01.380709",
     "exception": false,
     "start_time": "2024-05-27T18:50:58.879911",
     "status": "completed"
    },
    "tags": []
   },
   "outputs": [],
   "source": [
    "import numpy as np\n",
    "from scipy import stats\n",
    "import statistics\n",
    "import seaborn as sns\n",
    "import matplotlib.pyplot as plt\n",
    "from itertools import chain, repeat\n",
    "import scipy.stats as stats\n",
    "import statsmodels.stats.api as sms\n",
    "from math import ceil\n",
    "from statsmodels.stats.proportion import proportions_ztest, proportion_confint"
   ]
  },
  {
   "cell_type": "code",
   "execution_count": 2,
   "id": "b248fb00",
   "metadata": {
    "execution": {
     "iopub.execute_input": "2024-05-27T18:51:01.392347Z",
     "iopub.status.busy": "2024-05-27T18:51:01.391610Z",
     "iopub.status.idle": "2024-05-27T18:51:01.396191Z",
     "shell.execute_reply": "2024-05-27T18:51:01.395162Z"
    },
    "papermill": {
     "duration": 0.012438,
     "end_time": "2024-05-27T18:51:01.398265",
     "exception": false,
     "start_time": "2024-05-27T18:51:01.385827",
     "status": "completed"
    },
    "tags": []
   },
   "outputs": [],
   "source": [
    "# https://nathanrosidi.medium.com/commonly-used-statistical-tests-in-data-science-93787568eb36"
   ]
  },
  {
   "cell_type": "code",
   "execution_count": 3,
   "id": "cbfbec86",
   "metadata": {
    "execution": {
     "iopub.execute_input": "2024-05-27T18:51:01.409726Z",
     "iopub.status.busy": "2024-05-27T18:51:01.409004Z",
     "iopub.status.idle": "2024-05-27T18:51:01.414925Z",
     "shell.execute_reply": "2024-05-27T18:51:01.414223Z"
    },
    "papermill": {
     "duration": 0.014248,
     "end_time": "2024-05-27T18:51:01.417333",
     "exception": false,
     "start_time": "2024-05-27T18:51:01.403085",
     "status": "completed"
    },
    "tags": []
   },
   "outputs": [
    {
     "name": "stdout",
     "output_type": "stream",
     "text": [
      "[48.24776775 49.71817838 49.21945754 47.94552538 51.9297107  49.78390592\n",
      " 49.55848187 49.48270776 51.74183829 50.07373537 54.20446723 49.48511241\n",
      " 48.89957696 52.00649331 47.8054171  49.19255601 49.78653344 50.82059012\n",
      " 49.405473   50.67035041 51.10856747 53.25979718 51.19783713 50.00853958\n",
      " 47.54957764 52.31418204 50.04815109 49.88248834 49.5469804  47.94073011]\n"
     ]
    }
   ],
   "source": [
    "# Sample data: Group A and Group B\n",
    "group_a = np.random.normal(50.0, 1.5, 30)\n",
    "group_b = np.random.normal(60.0, 1.5, 30)\n",
    "\n",
    "print(group_a)"
   ]
  },
  {
   "cell_type": "markdown",
   "id": "c5bc9065",
   "metadata": {
    "papermill": {
     "duration": 0.004571,
     "end_time": "2024-05-27T18:51:01.427307",
     "exception": false,
     "start_time": "2024-05-27T18:51:01.422736",
     "status": "completed"
    },
    "tags": []
   },
   "source": [
    "## T-Test\n",
    "- A t-test is applied to ascertain whether the average difference among two groups differs significantly from each other. This emanates from the t-distribution applied in making statistical decisions."
   ]
  },
  {
   "cell_type": "code",
   "execution_count": 4,
   "id": "5c20f118",
   "metadata": {
    "execution": {
     "iopub.execute_input": "2024-05-27T18:51:01.438418Z",
     "iopub.status.busy": "2024-05-27T18:51:01.438036Z",
     "iopub.status.idle": "2024-05-27T18:51:01.447860Z",
     "shell.execute_reply": "2024-05-27T18:51:01.446878Z"
    },
    "papermill": {
     "duration": 0.017807,
     "end_time": "2024-05-27T18:51:01.449911",
     "exception": false,
     "start_time": "2024-05-27T18:51:01.432104",
     "status": "completed"
    },
    "tags": []
   },
   "outputs": [
    {
     "name": "stdout",
     "output_type": "stream",
     "text": [
      "T-Statistic: -28.49477518757835, P-Value: 8.450188170001822e-36\n"
     ]
    }
   ],
   "source": [
    "# Performing an Independent T-test\n",
    "t_stat, p_val = stats.ttest_ind(group_a, group_b)\n",
    "print(f\"T-Statistic: {t_stat}, P-Value: {p_val}\")"
   ]
  },
  {
   "cell_type": "markdown",
   "id": "abb7f0bd",
   "metadata": {
    "papermill": {
     "duration": 0.004728,
     "end_time": "2024-05-27T18:51:01.459874",
     "exception": false,
     "start_time": "2024-05-27T18:51:01.455146",
     "status": "completed"
    },
    "tags": []
   },
   "source": [
    "## Calculating Test Size"
   ]
  },
  {
   "cell_type": "code",
   "execution_count": 5,
   "id": "04c0aa94",
   "metadata": {
    "execution": {
     "iopub.execute_input": "2024-05-27T18:51:01.471523Z",
     "iopub.status.busy": "2024-05-27T18:51:01.470901Z",
     "iopub.status.idle": "2024-05-27T18:51:01.487596Z",
     "shell.execute_reply": "2024-05-27T18:51:01.486015Z"
    },
    "papermill": {
     "duration": 0.024828,
     "end_time": "2024-05-27T18:51:01.489652",
     "exception": false,
     "start_time": "2024-05-27T18:51:01.464824",
     "status": "completed"
    },
    "tags": []
   },
   "outputs": [
    {
     "name": "stdout",
     "output_type": "stream",
     "text": [
      "13488\n"
     ]
    }
   ],
   "source": [
    "#Power of the test (1 — β) — This represents the probability of finding a statistical difference between the groups in our test when a difference is actually present. \n",
    "#                            This is usually set at 0.8 by convention (here’s more info on statistical power, if you are curious)\n",
    "#Alpha value (α) — The critical value we set earlier to 0.05\n",
    "#Effect size — How big of a difference we expect there to be between the conversion rates\n",
    "\n",
    "required_n = sms.NormalIndPower().solve_power(\n",
    "    sms.proportion_effectsize(0.10, 0.09), \n",
    "    power=0.8, \n",
    "    alpha=0.05, \n",
    "    ratio=1\n",
    "    )                                                  # Calculating sample size needed\n",
    "\n",
    "required_n = ceil(required_n)                          # Rounding up to next whole number                          \n",
    "\n",
    "print(required_n)"
   ]
  },
  {
   "cell_type": "markdown",
   "id": "7216d231",
   "metadata": {
    "papermill": {
     "duration": 0.005225,
     "end_time": "2024-05-27T18:51:01.500043",
     "exception": false,
     "start_time": "2024-05-27T18:51:01.494818",
     "status": "completed"
    },
    "tags": []
   },
   "source": [
    "## P-Value of Test"
   ]
  },
  {
   "cell_type": "code",
   "execution_count": 6,
   "id": "069f2f09",
   "metadata": {
    "execution": {
     "iopub.execute_input": "2024-05-27T18:51:01.512557Z",
     "iopub.status.busy": "2024-05-27T18:51:01.511648Z",
     "iopub.status.idle": "2024-05-27T18:51:01.522514Z",
     "shell.execute_reply": "2024-05-27T18:51:01.521548Z"
    },
    "papermill": {
     "duration": 0.019652,
     "end_time": "2024-05-27T18:51:01.524943",
     "exception": false,
     "start_time": "2024-05-27T18:51:01.505291",
     "status": "completed"
    },
    "tags": []
   },
   "outputs": [
    {
     "name": "stderr",
     "output_type": "stream",
     "text": [
      "/tmp/ipykernel_18/2511045468.py:6: RuntimeWarning: invalid value encountered in scalar power\n",
      "  scale_val = (scale_one + scale_two) ** 0.5\n"
     ]
    },
    {
     "data": {
      "text/plain": [
       "nan"
      ]
     },
     "execution_count": 6,
     "metadata": {},
     "output_type": "execute_result"
    }
   ],
   "source": [
    "def get_pvalue(con_conv, test_conv, con_size, test_size):\n",
    "    lift = -abs(test_conv - con_conv)\n",
    "    \n",
    "    scale_one = con_conv * (1-con_conv) * (1/ con_size)\n",
    "    scale_two = test_conv * (1-test_conv) * (1/ test_size)\n",
    "    scale_val = (scale_one + scale_two) ** 0.5\n",
    "    \n",
    "    p_value = 2 * stats.norm.cdf(lift, loc=0, scale = scale_val)  \n",
    "    return p_value\n",
    "\n",
    "get_pvalue(np.mean(group_a), np.mean(group_b), len(group_a), len(group_b))"
   ]
  },
  {
   "cell_type": "code",
   "execution_count": 7,
   "id": "fc2da34d",
   "metadata": {
    "execution": {
     "iopub.execute_input": "2024-05-27T18:51:01.537412Z",
     "iopub.status.busy": "2024-05-27T18:51:01.536715Z",
     "iopub.status.idle": "2024-05-27T18:51:01.541224Z",
     "shell.execute_reply": "2024-05-27T18:51:01.540538Z"
    },
    "papermill": {
     "duration": 0.012932,
     "end_time": "2024-05-27T18:51:01.543117",
     "exception": false,
     "start_time": "2024-05-27T18:51:01.530185",
     "status": "completed"
    },
    "tags": []
   },
   "outputs": [],
   "source": [
    "def create_sequence(num_ones, total_length):\n",
    "    num_zeros = total_length - num_ones\n",
    "    ones = repeat(1, num_ones)\n",
    "    zeros = repeat(0, num_zeros)\n",
    "    \n",
    "    sequence = list(chain(ones, zeros))\n",
    "    return sequence"
   ]
  },
  {
   "cell_type": "code",
   "execution_count": 8,
   "id": "a299d773",
   "metadata": {
    "execution": {
     "iopub.execute_input": "2024-05-27T18:51:01.555532Z",
     "iopub.status.busy": "2024-05-27T18:51:01.554852Z",
     "iopub.status.idle": "2024-05-27T18:51:01.559648Z",
     "shell.execute_reply": "2024-05-27T18:51:01.558771Z"
    },
    "papermill": {
     "duration": 0.013699,
     "end_time": "2024-05-27T18:51:01.562056",
     "exception": false,
     "start_time": "2024-05-27T18:51:01.548357",
     "status": "completed"
    },
    "tags": []
   },
   "outputs": [],
   "source": [
    "def get_ci(lift, alpha, sd):\n",
    "    val = abs(stats.norm.ppf((1-alpha)/2))\n",
    "    \n",
    "    lwr_bnd = lift - val * sd\n",
    "    upr_bnd = lift + val * sd\n",
    "    \n",
    "    return (lwr_bnd, upr_bnd)"
   ]
  },
  {
   "cell_type": "code",
   "execution_count": null,
   "id": "9f672415",
   "metadata": {
    "papermill": {
     "duration": 0.00503,
     "end_time": "2024-05-27T18:51:01.573540",
     "exception": false,
     "start_time": "2024-05-27T18:51:01.568510",
     "status": "completed"
    },
    "tags": []
   },
   "outputs": [],
   "source": []
  },
  {
   "cell_type": "markdown",
   "id": "61c252b3",
   "metadata": {
    "papermill": {
     "duration": 0.004958,
     "end_time": "2024-05-27T18:51:01.583827",
     "exception": false,
     "start_time": "2024-05-27T18:51:01.578869",
     "status": "completed"
    },
    "tags": []
   },
   "source": [
    "## Get Confidence Intrval"
   ]
  },
  {
   "cell_type": "code",
   "execution_count": 9,
   "id": "8cc87067",
   "metadata": {
    "execution": {
     "iopub.execute_input": "2024-05-27T18:51:01.596118Z",
     "iopub.status.busy": "2024-05-27T18:51:01.595713Z",
     "iopub.status.idle": "2024-05-27T18:51:01.604172Z",
     "shell.execute_reply": "2024-05-27T18:51:01.602965Z"
    },
    "papermill": {
     "duration": 0.017157,
     "end_time": "2024-05-27T18:51:01.606229",
     "exception": false,
     "start_time": "2024-05-27T18:51:01.589072",
     "status": "completed"
    },
    "tags": []
   },
   "outputs": [
    {
     "data": {
      "text/plain": [
       "(0.00022266817464121282, 0.003777331825358784)"
      ]
     },
     "execution_count": 9,
     "metadata": {},
     "output_type": "execute_result"
    }
   ],
   "source": [
    "con_size = 50000\n",
    "test_size = 50000\n",
    "\n",
    "con_conv = 1000/con_size\n",
    "test_conv = 1100/test_size\n",
    "\n",
    "lift_mean = test_conv - con_conv\n",
    "lift_variance = (1 - test_conv) * test_conv /test_size + (1 - con_conv) * con_conv / con_size\n",
    "lift_sd = lift_variance**0.5\n",
    "get_ci(lift_mean, 0.95, lift_sd)"
   ]
  },
  {
   "cell_type": "code",
   "execution_count": null,
   "id": "7d878f41",
   "metadata": {
    "papermill": {
     "duration": 0.005176,
     "end_time": "2024-05-27T18:51:01.616845",
     "exception": false,
     "start_time": "2024-05-27T18:51:01.611669",
     "status": "completed"
    },
    "tags": []
   },
   "outputs": [],
   "source": []
  },
  {
   "cell_type": "markdown",
   "id": "c1d04686",
   "metadata": {
    "papermill": {
     "duration": 0.005029,
     "end_time": "2024-05-27T18:51:01.627197",
     "exception": false,
     "start_time": "2024-05-27T18:51:01.622168",
     "status": "completed"
    },
    "tags": []
   },
   "source": [
    "## CI and P-value"
   ]
  },
  {
   "cell_type": "code",
   "execution_count": 10,
   "id": "b96deb6f",
   "metadata": {
    "execution": {
     "iopub.execute_input": "2024-05-27T18:51:01.639536Z",
     "iopub.status.busy": "2024-05-27T18:51:01.639145Z",
     "iopub.status.idle": "2024-05-27T18:51:01.647402Z",
     "shell.execute_reply": "2024-05-27T18:51:01.646375Z"
    },
    "papermill": {
     "duration": 0.017204,
     "end_time": "2024-05-27T18:51:01.649625",
     "exception": false,
     "start_time": "2024-05-27T18:51:01.632421",
     "status": "completed"
    },
    "tags": []
   },
   "outputs": [
    {
     "name": "stdout",
     "output_type": "stream",
     "text": [
      "[1000, 1088]\n",
      "[50000, 50000]\n",
      "Conv Con: 0.0200\n",
      "Conv Treat: 0.0218\n",
      "z statistic: -1.95\n",
      "p-value: 0.052\n",
      "ci 95% for control group: [0.0188, 0.0212]\n",
      "ci 95% for treatment group: [0.0205, 0.0230]\n"
     ]
    }
   ],
   "source": [
    "n_con = 50000\n",
    "n_treat = 50000\n",
    "\n",
    "suc_con = 1000\n",
    "suc_treat = 1088\n",
    "\n",
    "successes = [suc_con, suc_treat]\n",
    "nobs = [n_con, n_treat]\n",
    "\n",
    "print(successes)\n",
    "print(nobs)\n",
    "\n",
    "z_stat, pval = proportions_ztest(successes, nobs=nobs)\n",
    "(lower_con, lower_treat), (upper_con, upper_treat) = proportion_confint(successes, nobs=nobs, alpha=0.05)\n",
    "\n",
    "print(f'Conv Con: {suc_con/n_con:.4f}')\n",
    "print(f'Conv Treat: {suc_treat/n_treat:.4f}')\n",
    "print(f'z statistic: {z_stat:.2f}')\n",
    "print(f'p-value: {pval:.3f}')\n",
    "print(f'ci 95% for control group: [{lower_con:.4f}, {upper_con:.4f}]')\n",
    "print(f'ci 95% for treatment group: [{lower_treat:.4f}, {upper_treat:.4f}]')"
   ]
  },
  {
   "cell_type": "code",
   "execution_count": null,
   "id": "7ce90ac8",
   "metadata": {
    "papermill": {
     "duration": 0.005253,
     "end_time": "2024-05-27T18:51:01.660610",
     "exception": false,
     "start_time": "2024-05-27T18:51:01.655357",
     "status": "completed"
    },
    "tags": []
   },
   "outputs": [],
   "source": []
  },
  {
   "cell_type": "markdown",
   "id": "e59b2c4a",
   "metadata": {
    "papermill": {
     "duration": 0.005065,
     "end_time": "2024-05-27T18:51:01.671097",
     "exception": false,
     "start_time": "2024-05-27T18:51:01.666032",
     "status": "completed"
    },
    "tags": []
   },
   "source": [
    "## AB Test With Graph"
   ]
  },
  {
   "cell_type": "code",
   "execution_count": 11,
   "id": "867d53dd",
   "metadata": {
    "execution": {
     "iopub.execute_input": "2024-05-27T18:51:01.683469Z",
     "iopub.status.busy": "2024-05-27T18:51:01.683095Z",
     "iopub.status.idle": "2024-05-27T18:51:01.939148Z",
     "shell.execute_reply": "2024-05-27T18:51:01.937822Z"
    },
    "papermill": {
     "duration": 0.26488,
     "end_time": "2024-05-27T18:51:01.941263",
     "exception": false,
     "start_time": "2024-05-27T18:51:01.676383",
     "status": "completed"
    },
    "tags": []
   },
   "outputs": [
    {
     "name": "stdout",
     "output_type": "stream",
     "text": [
      "Reject null hypothesis: There is a significant difference.\n",
      "p-value 0.04907913085485977\n",
      "Confidence interval for A: (0.018772826464560546, 0.021227173535439455)\n",
      "Confidence interval for B: (0.020500544599091685, 0.023059455400908316)\n"
     ]
    },
    {
     "data": {
      "image/png": "[encoded data removed]",
      "text/plain": [
       "<Figure size 1000x600 with 1 Axes>"
      ]
     },
     "metadata": {},
     "output_type": "display_data"
    }
   ],
   "source": [
    "data_a = np.array(create_sequence(1000, 50000))  \n",
    "data_b = np.array(create_sequence(1089, 50000))  \n",
    "\n",
    "t_stat, p_value = stats.ttest_ind(data_a, data_b)\n",
    "alpha = 0.05  # Significance level\n",
    "\n",
    "if p_value < alpha:\n",
    "    print(\"Reject null hypothesis: There is a significant difference.\")\n",
    "    print(\"p-value\",p_value)\n",
    "else:\n",
    "    print(\"Fail to reject null hypothesis: No significant difference.\")\n",
    "    print(\"p-value\",p_value)\n",
    "    \n",
    "confidence_level = 0.95\n",
    "\n",
    "# Calculate means and standard errors\n",
    "mean_a = np.mean(data_a)\n",
    "mean_b = np.mean(data_b)\n",
    "std_a = np.std(data_a, ddof=1)  # Use ddof=1 for sample standard deviation\n",
    "std_b = np.std(data_b, ddof=1)\n",
    "n_a = len(data_a)\n",
    "n_b = len(data_b)\n",
    "\n",
    "# Calculate standard errors\n",
    "se_a = std_a / np.sqrt(n_a)\n",
    "se_b = std_b / np.sqrt(n_b)\n",
    "\n",
    "# Calculate confidence intervals\n",
    "ci_a = stats.t.interval(confidence_level, df=n_a - 1, loc=mean_a, scale=se_a)\n",
    "ci_b = stats.t.interval(confidence_level, df=n_b - 1, loc=mean_b, scale=se_b)\n",
    "\n",
    "print(f\"Confidence interval for A: {ci_a}\")\n",
    "print(f\"Confidence interval for B: {ci_b}\")\n",
    "\n",
    "plt.figure(figsize=(10, 6))\n",
    "plt.bar(['A', 'B'], [mean_a, mean_b], yerr=[(mean_a - ci_a[0], ci_a[1] - mean_a), (mean_b - ci_b[0], ci_b[1] - mean_b)], capsize=10)\n",
    "plt.ylabel('Mean')\n",
    "plt.title('A/B Test Results with Confidence Intervals')\n",
    "plt.show()"
   ]
  },
  {
   "cell_type": "code",
   "execution_count": 12,
   "id": "33e4bea4",
   "metadata": {
    "execution": {
     "iopub.execute_input": "2024-05-27T18:51:01.955275Z",
     "iopub.status.busy": "2024-05-27T18:51:01.954918Z",
     "iopub.status.idle": "2024-05-27T18:51:01.962260Z",
     "shell.execute_reply": "2024-05-27T18:51:01.961076Z"
    },
    "papermill": {
     "duration": 0.017097,
     "end_time": "2024-05-27T18:51:01.964526",
     "exception": false,
     "start_time": "2024-05-27T18:51:01.947429",
     "status": "completed"
    },
    "tags": []
   },
   "outputs": [
    {
     "data": {
      "text/plain": [
       "array([1, 1, 1, ..., 0, 0, 0])"
      ]
     },
     "execution_count": 12,
     "metadata": {},
     "output_type": "execute_result"
    }
   ],
   "source": [
    "data_a"
   ]
  }
 ],
 "metadata": {
  "kaggle": {
   "accelerator": "none",
   "dataSources": [],
   "dockerImageVersionId": 30698,
   "isGpuEnabled": false,
   "isInternetEnabled": true,
   "language": "python",
   "sourceType": "notebook"
  },
  "kernelspec": {
   "display_name": "Python 3",
   "language": "python",
   "name": "python3"
  },
  "language_info": {
   "codemirror_mode": {
    "name": "ipython",
    "version": 3
   },
   "file_extension": ".py",
   "mimetype": "text/x-python",
   "name": "python",
   "nbconvert_exporter": "python",
   "pygments_lexer": "ipython3",
   "version": "3.10.13"
  },
  "papermill": {
   "default_parameters": {},
   "duration": 6.511544,
   "end_time": "2024-05-27T18:51:02.590516",
   "environment_variables": {},
   "exception": null,
   "input_path": "__notebook__.ipynb",
   "output_path": "__notebook__.ipynb",
   "parameters": {},
   "start_time": "2024-05-27T18:50:56.078972",
   "version": "2.5.0"
  }
 },
 "nbformat": 4,
 "nbformat_minor": 5
}
