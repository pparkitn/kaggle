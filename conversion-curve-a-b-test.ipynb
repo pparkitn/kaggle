{
 "cells": [
  {
   "cell_type": "code",
   "execution_count": 1,
   "id": "6d8ea4e9",
   "metadata": {
    "_cell_guid": "b1076dfc-b9ad-4769-8c92-a6c4dae69d19",
    "_uuid": "8f2839f25d086af736a60e9eeb907d3b93b6e0e5",
    "execution": {
     "iopub.execute_input": "2024-02-24T13:33:35.179733Z",
     "iopub.status.busy": "2024-02-24T13:33:35.179220Z",
     "iopub.status.idle": "2024-02-24T13:33:38.637259Z",
     "shell.execute_reply": "2024-02-24T13:33:38.636127Z"
    },
    "papermill": {
     "duration": 3.466508,
     "end_time": "2024-02-24T13:33:38.639997",
     "exception": false,
     "start_time": "2024-02-24T13:33:35.173489",
     "status": "completed"
    },
    "tags": []
   },
   "outputs": [],
   "source": [
    "import matplotlib.pyplot as plt\n",
    "import numpy as np\n",
    "import pandas as pd\n",
    "import bokeh\n",
    "import seaborn\n",
    "from pandasql import sqldf\n",
    "pysqldf = lambda q: sqldf(q, globals())\n",
    "import pandas as pd\n"
   ]
  },
  {
   "cell_type": "code",
   "execution_count": 2,
   "id": "b69419ce",
   "metadata": {
    "execution": {
     "iopub.execute_input": "2024-02-24T13:33:38.648648Z",
     "iopub.status.busy": "2024-02-24T13:33:38.647493Z",
     "iopub.status.idle": "2024-02-24T13:33:38.655599Z",
     "shell.execute_reply": "2024-02-24T13:33:38.654600Z"
    },
    "papermill": {
     "duration": 0.014711,
     "end_time": "2024-02-24T13:33:38.657887",
     "exception": false,
     "start_time": "2024-02-24T13:33:38.643176",
     "status": "completed"
    },
    "tags": []
   },
   "outputs": [],
   "source": [
    "def create_scurve_result(df):\n",
    "    row_cnt = 0\n",
    "    columns = ['DayNumber','Conv_Total','Conv']\n",
    "    df_new = pd.DataFrame(columns=columns)\n",
    "    total_rows = len(df.index)\n",
    "    for i in range (0,459):\n",
    "        found = df.loc[(df['conv_gap'] == i)]\n",
    "        row_cnt = (len(found.index) + row_cnt) \n",
    "        if total_rows > 0:\n",
    "            conv_running = (row_cnt / total_rows) * 100\n",
    "        else:\n",
    "            conv_running=0\n",
    "        df_new.loc[i] = [i,conv_running,(len(found.index))]\n",
    "    return df_new"
   ]
  },
  {
   "cell_type": "code",
   "execution_count": 3,
   "id": "58e5395e",
   "metadata": {
    "execution": {
     "iopub.execute_input": "2024-02-24T13:33:38.665498Z",
     "iopub.status.busy": "2024-02-24T13:33:38.664722Z",
     "iopub.status.idle": "2024-02-24T13:33:38.679942Z",
     "shell.execute_reply": "2024-02-24T13:33:38.678815Z"
    },
    "papermill": {
     "duration": 0.022175,
     "end_time": "2024-02-24T13:33:38.682943",
     "exception": false,
     "start_time": "2024-02-24T13:33:38.660768",
     "status": "completed"
    },
    "tags": []
   },
   "outputs": [],
   "source": [
    "def create_scurve_graph(DF1_RR,DF2_RR,L1,L2,ymax,xmax,trial_length):\n",
    "    X1=DF1_RR['X'].values\n",
    "    Y1=DF1_RR['Y'].values\n",
    "\n",
    "    X2=DF2_RR['X'].values\n",
    "    Y2=DF2_RR['Y'].values\n",
    "\n",
    "    if trial_length == '3':\n",
    "        shutoff = 90\n",
    "        otm1 = 7\n",
    "        otm2 = 62\n",
    "        otm3 = 97\n",
    "        otm4 = 130\n",
    "        #xmax = 100\n",
    "    \n",
    "    if trial_length == '6':\n",
    "        shutoff = 180\n",
    "        otm1 = 7\n",
    "        otm2 = 152\n",
    "        otm3 = 187\n",
    "        otm4 = 220\n",
    "        xmax = 270        \n",
    "    \n",
    "    if trial_length == '12':\n",
    "        shutoff = 365\n",
    "        otm1 = 7\n",
    "        otm2 = 337\n",
    "        otm3 = 372\n",
    "        otm4 = 405\n",
    "        xmax = 455        \n",
    "\n",
    "    \n",
    "    fig = plt.figure(figsize=(15, 20),frameon =True)\n",
    "      \n",
    "    ax1 = plt.subplot(211)    \n",
    "    ax1.set_title(\" \",fontsize=15)\n",
    "    ax1.plot(X1,Y1,label=L1)\n",
    "    ax1.plot(X2,Y2,label=L2)\n",
    "\n",
    "    ax1.set_xlabel('Days from TrialActivation',fontsize=15)\n",
    "    ax1.set_ylabel('Cumulative Conversion %',fontsize=15)\n",
    "    ax1.set_ylim(0,ymax) \n",
    "    ax1.set_xlim(-1,xmax) \n",
    "    ax1.grid(True, linestyle='-.')\n",
    "    \n",
    "    ax1.set_yticks(np.arange(0, ymax, 0.5))\n",
    "    ax1.set_xticks(np.arange(0, xmax, 5))\n",
    "    ax1.tick_params(direction='out', length=6, width=2, colors='k', grid_color='k', grid_alpha=0.5)\n",
    "    ax1.legend(loc='best', ncol=2, shadow=True, fancybox=False)\n",
    "    \n",
    "    #ax1.axes.get_yaxis().set_visible(False)\n",
    "    ax1.spines['top'].set_visible(False)\n",
    "    ax1.spines['right'].set_visible(False)\n",
    "    ax1.spines['left'].set_visible(False)\n",
    "    ax1.get_xaxis().tick_bottom()\n",
    "    ax1.get_yaxis().tick_left()\n",
    "    \n",
    "    filename=L1+\".png\"\n",
    "    fig.savefig(filename,transparent=False,  bbox_inches='tight',pad_inches=0.15,dpi=200)   \n",
    "    plt.show()\n",
    "    \n",
    "    return filename"
   ]
  },
  {
   "cell_type": "code",
   "execution_count": 4,
   "id": "97edc71a",
   "metadata": {
    "execution": {
     "iopub.execute_input": "2024-02-24T13:33:38.690668Z",
     "iopub.status.busy": "2024-02-24T13:33:38.690223Z",
     "iopub.status.idle": "2024-02-24T13:33:38.695885Z",
     "shell.execute_reply": "2024-02-24T13:33:38.694700Z"
    },
    "papermill": {
     "duration": 0.012504,
     "end_time": "2024-02-24T13:33:38.698431",
     "exception": false,
     "start_time": "2024-02-24T13:33:38.685927",
     "status": "completed"
    },
    "tags": []
   },
   "outputs": [],
   "source": [
    "Y=60\n",
    "X=6\n",
    "\n",
    "# IsConversion, activationdate,conversiondate,            \n",
    "        \n",
    "#DF1 = FINAL_DF1\n",
    "#DF1_R = create_scurve_result(DF1)\n",
    "#DF1_R = DF1_R.drop(columns=['Conv'])\n",
    "#DF1_R = DF1_R.rename(index=str,columns={\"DayNumber\":\"X\",\"Conv_Total\":\"Y\"})\n",
    "\n",
    "#DF2 = FINAL_DF2\n",
    "#DF2_R = create_scurve_result(DF2)\n",
    "#DF2_R = DF2_R.drop(columns=['Conv'])\n",
    "#DF2_R = DF2_R.rename(index=str,columns={\"DayNumber\":\"X\",\"Conv_Total\":\"Y\"})\n",
    "\n",
    "#print(\"T\",len(FINAL_DF2))\n",
    "#print(\"C\",len(FINAL_DF1))\n",
    "\n",
    "#create_scurve_graph(DF1_R,DF2_R,\"Control\",\"Test\",X,Y,'3')"
   ]
  },
  {
   "cell_type": "code",
   "execution_count": null,
   "id": "5b7908d8",
   "metadata": {
    "papermill": {
     "duration": 0.002853,
     "end_time": "2024-02-24T13:33:38.704278",
     "exception": false,
     "start_time": "2024-02-24T13:33:38.701425",
     "status": "completed"
    },
    "tags": []
   },
   "outputs": [],
   "source": []
  }
 ],
 "metadata": {
  "kaggle": {
   "accelerator": "none",
   "dataSources": [],
   "dockerImageVersionId": 30646,
   "isGpuEnabled": false,
   "isInternetEnabled": true,
   "language": "python",
   "sourceType": "notebook"
  },
  "kernelspec": {
   "display_name": "Python 3",
   "language": "python",
   "name": "python3"
  },
  "language_info": {
   "codemirror_mode": {
    "name": "ipython",
    "version": 3
   },
   "file_extension": ".py",
   "mimetype": "text/x-python",
   "name": "python",
   "nbconvert_exporter": "python",
   "pygments_lexer": "ipython3",
   "version": "3.10.13"
  },
  "papermill": {
   "default_parameters": {},
   "duration": 7.960955,
   "end_time": "2024-02-24T13:33:39.429643",
   "environment_variables": {},
   "exception": null,
   "input_path": "__notebook__.ipynb",
   "output_path": "__notebook__.ipynb",
   "parameters": {},
   "start_time": "2024-02-24T13:33:31.468688",
   "version": "2.5.0"
  }
 },
 "nbformat": 4,
 "nbformat_minor": 5
}
