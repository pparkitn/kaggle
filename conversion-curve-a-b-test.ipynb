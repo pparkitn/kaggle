{
 "cells": [
  {
   "cell_type": "code",
   "execution_count": 1,
   "id": "9293d9ed",
   "metadata": {
    "_cell_guid": "b1076dfc-b9ad-4769-8c92-a6c4dae69d19",
    "_uuid": "8f2839f25d086af736a60e9eeb907d3b93b6e0e5",
    "execution": {
     "iopub.execute_input": "2024-02-25T02:33:23.052573Z",
     "iopub.status.busy": "2024-02-25T02:33:23.051239Z",
     "iopub.status.idle": "2024-02-25T02:33:25.343609Z",
     "shell.execute_reply": "2024-02-25T02:33:25.342728Z"
    },
    "papermill": {
     "duration": 2.300231,
     "end_time": "2024-02-25T02:33:25.346127",
     "exception": false,
     "start_time": "2024-02-25T02:33:23.045896",
     "status": "completed"
    },
    "tags": []
   },
   "outputs": [],
   "source": [
    "import matplotlib.pyplot as plt\n",
    "import numpy as np\n",
    "import pandas as pd\n",
    "import seaborn as sns\n",
    "import matplotlib.ticker as mtick\n",
    "from matplotlib.patches import Patch\n",
    "from matplotlib.lines import Line2D\n",
    "from matplotlib.ticker import MultipleLocator  "
   ]
  },
  {
   "cell_type": "code",
   "execution_count": 2,
   "id": "a10e3d8e",
   "metadata": {
    "execution": {
     "iopub.execute_input": "2024-02-25T02:33:25.354373Z",
     "iopub.status.busy": "2024-02-25T02:33:25.353918Z",
     "iopub.status.idle": "2024-02-25T02:33:25.387027Z",
     "shell.execute_reply": "2024-02-25T02:33:25.385643Z"
    },
    "papermill": {
     "duration": 0.039787,
     "end_time": "2024-02-25T02:33:25.389429",
     "exception": false,
     "start_time": "2024-02-25T02:33:25.349642",
     "status": "completed"
    },
    "tags": []
   },
   "outputs": [
    {
     "data": {
      "text/html": [
       "<div>\n",
       "<style scoped>\n",
       "    .dataframe tbody tr th:only-of-type {\n",
       "        vertical-align: middle;\n",
       "    }\n",
       "\n",
       "    .dataframe tbody tr th {\n",
       "        vertical-align: top;\n",
       "    }\n",
       "\n",
       "    .dataframe thead th {\n",
       "        text-align: right;\n",
       "    }\n",
       "</style>\n",
       "<table border=\"1\" class=\"dataframe\">\n",
       "  <thead>\n",
       "    <tr style=\"text-align: right;\">\n",
       "      <th></th>\n",
       "      <th>IsConversion</th>\n",
       "      <th>ActivationDate</th>\n",
       "      <th>Group</th>\n",
       "      <th>ConversionDate</th>\n",
       "    </tr>\n",
       "  </thead>\n",
       "  <tbody>\n",
       "    <tr>\n",
       "      <th>0</th>\n",
       "      <td>0</td>\n",
       "      <td>2022-01-01</td>\n",
       "      <td>Group_A</td>\n",
       "      <td>NaN</td>\n",
       "    </tr>\n",
       "    <tr>\n",
       "      <th>1</th>\n",
       "      <td>0</td>\n",
       "      <td>2022-01-01</td>\n",
       "      <td>Group_A</td>\n",
       "      <td>NaN</td>\n",
       "    </tr>\n",
       "    <tr>\n",
       "      <th>2</th>\n",
       "      <td>0</td>\n",
       "      <td>2022-01-01</td>\n",
       "      <td>Group_A</td>\n",
       "      <td>NaN</td>\n",
       "    </tr>\n",
       "    <tr>\n",
       "      <th>3</th>\n",
       "      <td>0</td>\n",
       "      <td>2022-01-01</td>\n",
       "      <td>Group_A</td>\n",
       "      <td>NaN</td>\n",
       "    </tr>\n",
       "    <tr>\n",
       "      <th>4</th>\n",
       "      <td>0</td>\n",
       "      <td>2022-01-03</td>\n",
       "      <td>Group_A</td>\n",
       "      <td>NaN</td>\n",
       "    </tr>\n",
       "  </tbody>\n",
       "</table>\n",
       "</div>"
      ],
      "text/plain": [
       "   IsConversion ActivationDate    Group ConversionDate\n",
       "0             0     2022-01-01  Group_A            NaN\n",
       "1             0     2022-01-01  Group_A            NaN\n",
       "2             0     2022-01-01  Group_A            NaN\n",
       "3             0     2022-01-01  Group_A            NaN\n",
       "4             0     2022-01-03  Group_A            NaN"
      ]
     },
     "execution_count": 2,
     "metadata": {},
     "output_type": "execute_result"
    }
   ],
   "source": [
    "data_path = \"/kaggle/input/generaldataset/conversionABC.csv\"\n",
    "df = pd.read_csv(data_path, delimiter=',') \n",
    "df.head(5)"
   ]
  },
  {
   "cell_type": "code",
   "execution_count": 3,
   "id": "73d86b0d",
   "metadata": {
    "execution": {
     "iopub.execute_input": "2024-02-25T02:33:25.397879Z",
     "iopub.status.busy": "2024-02-25T02:33:25.397233Z",
     "iopub.status.idle": "2024-02-25T02:33:25.436121Z",
     "shell.execute_reply": "2024-02-25T02:33:25.434968Z"
    },
    "papermill": {
     "duration": 0.045159,
     "end_time": "2024-02-25T02:33:25.438012",
     "exception": false,
     "start_time": "2024-02-25T02:33:25.392853",
     "status": "completed"
    },
    "tags": []
   },
   "outputs": [
    {
     "data": {
      "text/html": [
       "<div>\n",
       "<style scoped>\n",
       "    .dataframe tbody tr th:only-of-type {\n",
       "        vertical-align: middle;\n",
       "    }\n",
       "\n",
       "    .dataframe tbody tr th {\n",
       "        vertical-align: top;\n",
       "    }\n",
       "\n",
       "    .dataframe thead th {\n",
       "        text-align: right;\n",
       "    }\n",
       "</style>\n",
       "<table border=\"1\" class=\"dataframe\">\n",
       "  <thead>\n",
       "    <tr style=\"text-align: right;\">\n",
       "      <th></th>\n",
       "      <th>IsConversion</th>\n",
       "      <th>ActivationDate</th>\n",
       "      <th>Group</th>\n",
       "      <th>ConversionDate</th>\n",
       "      <th>DeltaDays</th>\n",
       "    </tr>\n",
       "  </thead>\n",
       "  <tbody>\n",
       "    <tr>\n",
       "      <th>0</th>\n",
       "      <td>0</td>\n",
       "      <td>2022-01-01</td>\n",
       "      <td>Group_A</td>\n",
       "      <td>NaT</td>\n",
       "      <td>NaN</td>\n",
       "    </tr>\n",
       "    <tr>\n",
       "      <th>1</th>\n",
       "      <td>0</td>\n",
       "      <td>2022-01-01</td>\n",
       "      <td>Group_A</td>\n",
       "      <td>NaT</td>\n",
       "      <td>NaN</td>\n",
       "    </tr>\n",
       "    <tr>\n",
       "      <th>2</th>\n",
       "      <td>0</td>\n",
       "      <td>2022-01-01</td>\n",
       "      <td>Group_A</td>\n",
       "      <td>NaT</td>\n",
       "      <td>NaN</td>\n",
       "    </tr>\n",
       "    <tr>\n",
       "      <th>3</th>\n",
       "      <td>0</td>\n",
       "      <td>2022-01-01</td>\n",
       "      <td>Group_A</td>\n",
       "      <td>NaT</td>\n",
       "      <td>NaN</td>\n",
       "    </tr>\n",
       "    <tr>\n",
       "      <th>4</th>\n",
       "      <td>0</td>\n",
       "      <td>2022-01-03</td>\n",
       "      <td>Group_A</td>\n",
       "      <td>NaT</td>\n",
       "      <td>NaN</td>\n",
       "    </tr>\n",
       "  </tbody>\n",
       "</table>\n",
       "</div>"
      ],
      "text/plain": [
       "   IsConversion ActivationDate    Group ConversionDate  DeltaDays\n",
       "0             0     2022-01-01  Group_A            NaT        NaN\n",
       "1             0     2022-01-01  Group_A            NaT        NaN\n",
       "2             0     2022-01-01  Group_A            NaT        NaN\n",
       "3             0     2022-01-01  Group_A            NaT        NaN\n",
       "4             0     2022-01-03  Group_A            NaT        NaN"
      ]
     },
     "execution_count": 3,
     "metadata": {},
     "output_type": "execute_result"
    }
   ],
   "source": [
    "# Convert string columns to datetime\n",
    "df['ActivationDate'] = pd.to_datetime(df['ActivationDate'])\n",
    "df['ConversionDate'] = pd.to_datetime(df['ConversionDate'])\n",
    "\n",
    "# Calculate the delta of days between Date2 and Date1\n",
    "df['DeltaDays'] = (df['ConversionDate'] - df['ActivationDate']).dt.days\n",
    "\n",
    "df.head(5)"
   ]
  },
  {
   "cell_type": "code",
   "execution_count": 4,
   "id": "c15d9b4a",
   "metadata": {
    "execution": {
     "iopub.execute_input": "2024-02-25T02:33:25.446744Z",
     "iopub.status.busy": "2024-02-25T02:33:25.446414Z",
     "iopub.status.idle": "2024-02-25T02:33:25.455571Z",
     "shell.execute_reply": "2024-02-25T02:33:25.454802Z"
    },
    "papermill": {
     "duration": 0.015981,
     "end_time": "2024-02-25T02:33:25.457646",
     "exception": false,
     "start_time": "2024-02-25T02:33:25.441665",
     "status": "completed"
    },
    "tags": []
   },
   "outputs": [
    {
     "data": {
      "text/html": [
       "<div>\n",
       "<style scoped>\n",
       "    .dataframe tbody tr th:only-of-type {\n",
       "        vertical-align: middle;\n",
       "    }\n",
       "\n",
       "    .dataframe tbody tr th {\n",
       "        vertical-align: top;\n",
       "    }\n",
       "\n",
       "    .dataframe thead th {\n",
       "        text-align: right;\n",
       "    }\n",
       "</style>\n",
       "<table border=\"1\" class=\"dataframe\">\n",
       "  <thead>\n",
       "    <tr style=\"text-align: right;\">\n",
       "      <th></th>\n",
       "      <th>IsConversion</th>\n",
       "      <th>ActivationDate</th>\n",
       "      <th>Group</th>\n",
       "      <th>ConversionDate</th>\n",
       "      <th>DeltaDays</th>\n",
       "    </tr>\n",
       "  </thead>\n",
       "  <tbody>\n",
       "    <tr>\n",
       "      <th>0</th>\n",
       "      <td>0</td>\n",
       "      <td>2022-01-01</td>\n",
       "      <td>Group_A</td>\n",
       "      <td>NaT</td>\n",
       "      <td>NaN</td>\n",
       "    </tr>\n",
       "    <tr>\n",
       "      <th>1</th>\n",
       "      <td>0</td>\n",
       "      <td>2022-01-01</td>\n",
       "      <td>Group_A</td>\n",
       "      <td>NaT</td>\n",
       "      <td>NaN</td>\n",
       "    </tr>\n",
       "    <tr>\n",
       "      <th>2</th>\n",
       "      <td>0</td>\n",
       "      <td>2022-01-01</td>\n",
       "      <td>Group_A</td>\n",
       "      <td>NaT</td>\n",
       "      <td>NaN</td>\n",
       "    </tr>\n",
       "    <tr>\n",
       "      <th>3</th>\n",
       "      <td>0</td>\n",
       "      <td>2022-01-01</td>\n",
       "      <td>Group_A</td>\n",
       "      <td>NaT</td>\n",
       "      <td>NaN</td>\n",
       "    </tr>\n",
       "    <tr>\n",
       "      <th>4</th>\n",
       "      <td>0</td>\n",
       "      <td>2022-01-03</td>\n",
       "      <td>Group_A</td>\n",
       "      <td>NaT</td>\n",
       "      <td>NaN</td>\n",
       "    </tr>\n",
       "  </tbody>\n",
       "</table>\n",
       "</div>"
      ],
      "text/plain": [
       "   IsConversion ActivationDate    Group ConversionDate  DeltaDays\n",
       "0             0     2022-01-01  Group_A            NaT        NaN\n",
       "1             0     2022-01-01  Group_A            NaT        NaN\n",
       "2             0     2022-01-01  Group_A            NaT        NaN\n",
       "3             0     2022-01-01  Group_A            NaT        NaN\n",
       "4             0     2022-01-03  Group_A            NaT        NaN"
      ]
     },
     "execution_count": 4,
     "metadata": {},
     "output_type": "execute_result"
    }
   ],
   "source": [
    "df.head(5)"
   ]
  },
  {
   "cell_type": "code",
   "execution_count": 5,
   "id": "5fbb5044",
   "metadata": {
    "execution": {
     "iopub.execute_input": "2024-02-25T02:33:25.466896Z",
     "iopub.status.busy": "2024-02-25T02:33:25.466333Z",
     "iopub.status.idle": "2024-02-25T02:33:25.472556Z",
     "shell.execute_reply": "2024-02-25T02:33:25.471279Z"
    },
    "papermill": {
     "duration": 0.013461,
     "end_time": "2024-02-25T02:33:25.474882",
     "exception": false,
     "start_time": "2024-02-25T02:33:25.461421",
     "status": "completed"
    },
    "tags": []
   },
   "outputs": [],
   "source": [
    "def create_scurve_result(df):\n",
    "    row_cnt = 0\n",
    "    columns = ['X','Conv_Total','IsConversion']\n",
    "    df_new = pd.DataFrame(columns=columns)\n",
    "    total_rows = len(df.index)\n",
    "    \n",
    "    for i in range (0,60):\n",
    "        found = df.loc[(df['DeltaDays'] == i)]\n",
    "        row_cnt = (len(found.index) + row_cnt) \n",
    "        \n",
    "        if total_rows > 0:\n",
    "            conv_running = (row_cnt / total_rows) \n",
    "        else:\n",
    "            conv_running=0\n",
    "        \n",
    "        df_new.loc[i] = [i,conv_running,(len(found.index))]\n",
    "    \n",
    "    return df_new"
   ]
  },
  {
   "cell_type": "code",
   "execution_count": 6,
   "id": "7d27cab4",
   "metadata": {
    "execution": {
     "iopub.execute_input": "2024-02-25T02:33:25.483758Z",
     "iopub.status.busy": "2024-02-25T02:33:25.483227Z",
     "iopub.status.idle": "2024-02-25T02:33:25.613519Z",
     "shell.execute_reply": "2024-02-25T02:33:25.612245Z"
    },
    "papermill": {
     "duration": 0.137254,
     "end_time": "2024-02-25T02:33:25.615889",
     "exception": false,
     "start_time": "2024-02-25T02:33:25.478635",
     "status": "completed"
    },
    "tags": []
   },
   "outputs": [],
   "source": [
    "DF1 = df[df['Group']=='Group_A']\n",
    "DF1_R = create_scurve_result(DF1)\n",
    "DF1_R = DF1_R.drop(columns=['IsConversion'])\n",
    "DF1_R['Group'] = 'Group_A'\n",
    "DF1_R = DF1_R.rename(index=str,columns={\"DayNumber\":\"X\",\"Conv_Total\":\"Y\"})\n",
    "\n",
    "DF2 = df[df['Group']=='Group_B']\n",
    "DF2_R = create_scurve_result(DF2)\n",
    "DF2_R = DF2_R.drop(columns=['IsConversion'])\n",
    "DF2_R['Group'] = 'Group_B'\n",
    "DF2_R = DF2_R.rename(index=str,columns={\"DayNumber\":\"X\",\"Conv_Total\":\"Y\"})"
   ]
  },
  {
   "cell_type": "code",
   "execution_count": 7,
   "id": "8ed86136",
   "metadata": {
    "execution": {
     "iopub.execute_input": "2024-02-25T02:33:25.624738Z",
     "iopub.status.busy": "2024-02-25T02:33:25.624390Z",
     "iopub.status.idle": "2024-02-25T02:33:25.629758Z",
     "shell.execute_reply": "2024-02-25T02:33:25.628552Z"
    },
    "papermill": {
     "duration": 0.012137,
     "end_time": "2024-02-25T02:33:25.631840",
     "exception": false,
     "start_time": "2024-02-25T02:33:25.619703",
     "status": "completed"
    },
    "tags": []
   },
   "outputs": [],
   "source": [
    "fin_df = pd.concat([DF1_R, DF2_R], ignore_index=True)"
   ]
  },
  {
   "cell_type": "code",
   "execution_count": 8,
   "id": "98d95bfe",
   "metadata": {
    "execution": {
     "iopub.execute_input": "2024-02-25T02:33:25.640571Z",
     "iopub.status.busy": "2024-02-25T02:33:25.640245Z",
     "iopub.status.idle": "2024-02-25T02:33:27.202201Z",
     "shell.execute_reply": "2024-02-25T02:33:27.201397Z"
    },
    "papermill": {
     "duration": 1.568476,
     "end_time": "2024-02-25T02:33:27.203999",
     "exception": false,
     "start_time": "2024-02-25T02:33:25.635523",
     "status": "completed"
    },
    "tags": []
   },
   "outputs": [
    {
     "name": "stderr",
     "output_type": "stream",
     "text": [
      "/opt/conda/lib/python3.10/site-packages/seaborn/_oldcore.py:1119: FutureWarning: use_inf_as_na option is deprecated and will be removed in a future version. Convert inf values to NaN before operating instead.\n",
      "  with pd.option_context('mode.use_inf_as_na', True):\n",
      "/opt/conda/lib/python3.10/site-packages/seaborn/_oldcore.py:1119: FutureWarning: use_inf_as_na option is deprecated and will be removed in a future version. Convert inf values to NaN before operating instead.\n",
      "  with pd.option_context('mode.use_inf_as_na', True):\n"
     ]
    },
    {
     "data": {
      "image/png": "[encoded data removed]",
      "text/plain": [
       "<Figure size 1000x600 with 1 Axes>"
      ]
     },
     "metadata": {},
     "output_type": "display_data"
    }
   ],
   "source": [
    "sns.set(style=\"whitegrid\", font_scale=1)\n",
    "\n",
    "# Create figure and axes\n",
    "fig, ax = plt.subplots(figsize=(10, 6),frameon =False)\n",
    "\n",
    "# Plot the bar chart on the primary y-axis\n",
    "#line = sns.lineplot(data=fin_df, x=\"X\", y=\"Y\", hue=\"Group\")\n",
    "\n",
    "# Plot the line chart on the primary y-axis with black color and dots\n",
    "line = sns.lineplot(data=fin_df, x=\"X\", y=\"Y\", hue=\"Group\", palette={'Group_A': 'black', 'Group_B': 'black'}, markers=True, style=\"Group\", dashes=False)\n",
    "\n",
    "#Set x-axis label and title\n",
    "ax.set_xlabel('Days From Start', fontsize=20)\n",
    "ax.set_ylabel('Cumulative Conversion %', fontsize=20)\n",
    "ax.set_title('Cumulative Conversion of Group A VS Group B', fontsize=22)\n",
    "\n",
    "# Format y-axis as percentage\n",
    "ax.yaxis.set_major_formatter(mtick.PercentFormatter(1.0, decimals=0))\n",
    "\n",
    "# Add x-axis grid lines every 10 values\n",
    "ax.xaxis.set_major_locator(MultipleLocator(10))\n",
    "\n",
    "# Create legend with proxy artists\n",
    "#legend_labels = ['Units', 'Dollars (x 1,000)']\n",
    "#legend_elements = [Patch(facecolor='steelblue', label='Bar Plot'),Line2D([0], [0], color='darkorange', label='Line Plot')]\n",
    "#plt.legend(handles=legend_elements, labels=legend_labels)\n",
    "\n",
    "# Add annotations for 'Group_A' and 'Group_B' every 10 ticks\n",
    "for index, value in enumerate(fin_df['X']):\n",
    "    if index % 10 == 0:\n",
    "        group_a_value = fin_df.loc[(fin_df['X'] == value) & (fin_df['Group'] == 'Group_A'), 'Y'].values[0]\n",
    "        group_b_value = fin_df.loc[(fin_df['X'] == value) & (fin_df['Group'] == 'Group_B'), 'Y'].values[0]\n",
    "        \n",
    "        # Format the values as percentages\n",
    "        group_a_percentage = group_a_value * 100\n",
    "        group_b_percentage = group_b_value * 100\n",
    "\n",
    "        # Annotate with formatted percentages\n",
    "        ax.annotate(f'Group_A: {group_a_percentage:.2f}%', (value, group_a_value), textcoords=\"offset points\", xytext=(0, 10), ha='center', fontsize=8, color='black')\n",
    "        ax.annotate(f'Group_B: {group_b_percentage:.2f}%', (value, group_b_value), textcoords=\"offset points\", xytext=(0, -20), ha='center', fontsize=8, color='black')\n",
    "\n",
    "\n",
    "# Disable the background grid lines\n",
    "#ax.grid(False)\n",
    "\n",
    "# Adding a footnote below the x-axis\n",
    "footnote_text = \"Source: Statistics Canada. Table 20-10-0001-01  New motor vehicle sales DOI: https://doi.org/10.25318/2010000101-eng\"\n",
    "plt.figtext(0.1, -0.05, footnote_text, ha=\"left\", fontsize=10, bbox=dict(facecolor='white', edgecolor='white', boxstyle='round,pad=0.3'))    \n",
    "\n",
    "# Show the plot\n",
    "plt.savefig(\"graph2.png\",transparent=True,bbox_inches='tight',pad_inches=0.05,dpi=400) \n",
    "plt.show()"
   ]
  },
  {
   "cell_type": "code",
   "execution_count": null,
   "id": "948d2fa2",
   "metadata": {
    "papermill": {
     "duration": 0.004133,
     "end_time": "2024-02-25T02:33:27.212737",
     "exception": false,
     "start_time": "2024-02-25T02:33:27.208604",
     "status": "completed"
    },
    "tags": []
   },
   "outputs": [],
   "source": []
  },
  {
   "cell_type": "code",
   "execution_count": null,
   "id": "dd986565",
   "metadata": {
    "papermill": {
     "duration": 0.004055,
     "end_time": "2024-02-25T02:33:27.221159",
     "exception": false,
     "start_time": "2024-02-25T02:33:27.217104",
     "status": "completed"
    },
    "tags": []
   },
   "outputs": [],
   "source": []
  },
  {
   "cell_type": "code",
   "execution_count": 9,
   "id": "1d158c95",
   "metadata": {
    "execution": {
     "iopub.execute_input": "2024-02-25T02:33:27.231781Z",
     "iopub.status.busy": "2024-02-25T02:33:27.231128Z",
     "iopub.status.idle": "2024-02-25T02:33:27.238241Z",
     "shell.execute_reply": "2024-02-25T02:33:27.237047Z"
    },
    "papermill": {
     "duration": 0.01508,
     "end_time": "2024-02-25T02:33:27.240459",
     "exception": false,
     "start_time": "2024-02-25T02:33:27.225379",
     "status": "completed"
    },
    "tags": []
   },
   "outputs": [
    {
     "data": {
      "text/plain": [
       "'\\nfinal_df = DM_TEST_Trials_df[DM_TEST_Trials_df[\\'eom_ta\\'] == \\'2023-10-31\\']\\n\\n# Axis 1\\ny1 = final_df[[\\'GroupType\\',\\'trialisconversion\\']].groupby(\\'GroupType\\').mean()*100\\n\\nx = y1.index.tolist()\\ny1 = y1[\\'trialisconversion\\']\\n\\nsns.set(style=\"whitegrid\", font_scale=1)\\n\\n# Create figure and axes\\nfig, ax1 = plt.subplots(figsize=(4, 5),frameon =False)\\n\\n# Plot the bar chart on the primary y-axis\\nbar = sns.barplot(x=x, y=y1, ax=ax1, color=\\'darkorange\\')\\nbar = sns.barplot(x=x, y=y1, ax=ax1, color=\\'black\\')\\nax1.set_ylabel(\\'Conversion Rate\\', color=\\'black\\', fontsize=20)\\nax1.set_ylim([0, 9])\\nax1.yaxis.set_major_formatter(mtick.PercentFormatter())\\n\\n# Add values on top of the bars\\nfor i, v in enumerate(y1):\\n    ax1.annotate(f\\'{v:,.1f}\\', xy=(i, v), xytext=(1, 1), ha=\\'center\\', textcoords=\\'offset points\\',bbox=dict(boxstyle=\\'round,pad=0.2\\', edgecolor=\\'black\\', facecolor=\\'white\\'),fontsize=20) \\n\\nplt.xticks(rotation=0) \\n\\n# Set x-axis label and title\\nax1.set_xlabel(\\'\\', fontsize=20)\\nax1.set_title(\\'Phase 1 - New & Used\\', fontsize=20)\\n\\n# Disable the background grid lines\\nax1.grid(False)\\nax1.grid(False)\\n\\n# Adding a footnote below the x-axis\\nfootnote_text = \"-130bps\"\\nplt.figtext(0.40, 0.8, footnote_text, ha=\"left\", fontsize=20, bbox=dict(facecolor=\\'white\\', edgecolor=\\'black\\', boxstyle=\\'round,pad=0.3\\'),color=\\'red\\')    \\n\\n# Show the plot\\nplt.savefig(\"NoDM_overall.png\",transparent=True,bbox_inches=\\'tight\\',pad_inches=0.05,dpi=400) \\nplt.show()\\n'"
      ]
     },
     "execution_count": 9,
     "metadata": {},
     "output_type": "execute_result"
    }
   ],
   "source": [
    "\"\"\"\n",
    "final_df = DM_TEST_Trials_df[DM_TEST_Trials_df['eom_ta'] == '2023-10-31']\n",
    "\n",
    "# Axis 1\n",
    "y1 = final_df[['GroupType','trialisconversion']].groupby('GroupType').mean()*100\n",
    "\n",
    "x = y1.index.tolist()\n",
    "y1 = y1['trialisconversion']\n",
    "\n",
    "sns.set(style=\"whitegrid\", font_scale=1)\n",
    "\n",
    "# Create figure and axes\n",
    "fig, ax1 = plt.subplots(figsize=(4, 5),frameon =False)\n",
    "\n",
    "# Plot the bar chart on the primary y-axis\n",
    "bar = sns.barplot(x=x, y=y1, ax=ax1, color='darkorange')\n",
    "bar = sns.barplot(x=x, y=y1, ax=ax1, color='black')\n",
    "ax1.set_ylabel('Conversion Rate', color='black', fontsize=20)\n",
    "ax1.set_ylim([0, 9])\n",
    "ax1.yaxis.set_major_formatter(mtick.PercentFormatter())\n",
    "\n",
    "# Add values on top of the bars\n",
    "for i, v in enumerate(y1):\n",
    "    ax1.annotate(f'{v:,.1f}', xy=(i, v), xytext=(1, 1), ha='center', textcoords='offset points',bbox=dict(boxstyle='round,pad=0.2', edgecolor='black', facecolor='white'),fontsize=20) \n",
    "\n",
    "plt.xticks(rotation=0) \n",
    "\n",
    "# Set x-axis label and title\n",
    "ax1.set_xlabel('', fontsize=20)\n",
    "ax1.set_title('Phase 1 - New & Used', fontsize=20)\n",
    "\n",
    "# Disable the background grid lines\n",
    "ax1.grid(False)\n",
    "ax1.grid(False)\n",
    "\n",
    "# Adding a footnote below the x-axis\n",
    "footnote_text = \"-130bps\"\n",
    "plt.figtext(0.40, 0.8, footnote_text, ha=\"left\", fontsize=20, bbox=dict(facecolor='white', edgecolor='black', boxstyle='round,pad=0.3'),color='red')    \n",
    "\n",
    "# Show the plot\n",
    "plt.savefig(\"NoDM_overall.png\",transparent=True,bbox_inches='tight',pad_inches=0.05,dpi=400) \n",
    "plt.show()\n",
    "\"\"\""
   ]
  },
  {
   "cell_type": "code",
   "execution_count": null,
   "id": "2a9b1017",
   "metadata": {
    "papermill": {
     "duration": 0.004214,
     "end_time": "2024-02-25T02:33:27.249422",
     "exception": false,
     "start_time": "2024-02-25T02:33:27.245208",
     "status": "completed"
    },
    "tags": []
   },
   "outputs": [],
   "source": []
  }
 ],
 "metadata": {
  "kaggle": {
   "accelerator": "none",
   "dataSources": [
    {
     "databundleVersionId": 7793349,
     "datasetId": 4489389,
     "sourceId": 7695028,
     "sourceType": "datasetVersion"
    }
   ],
   "dockerImageVersionId": 30646,
   "isGpuEnabled": false,
   "isInternetEnabled": true,
   "language": "python",
   "sourceType": "notebook"
  },
  "kernelspec": {
   "display_name": "Python 3",
   "language": "python",
   "name": "python3"
  },
  "language_info": {
   "codemirror_mode": {
    "name": "ipython",
    "version": 3
   },
   "file_extension": ".py",
   "mimetype": "text/x-python",
   "name": "python",
   "nbconvert_exporter": "python",
   "pygments_lexer": "ipython3",
   "version": "3.10.13"
  },
  "papermill": {
   "default_parameters": {},
   "duration": 7.198656,
   "end_time": "2024-02-25T02:33:27.773320",
   "environment_variables": {},
   "exception": null,
   "input_path": "__notebook__.ipynb",
   "output_path": "__notebook__.ipynb",
   "parameters": {},
   "start_time": "2024-02-25T02:33:20.574664",
   "version": "2.5.0"
  }
 },
 "nbformat": 4,
 "nbformat_minor": 5
}
