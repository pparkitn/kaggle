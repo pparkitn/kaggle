{
 "cells": [
  {
   "cell_type": "code",
   "execution_count": 1,
   "id": "74ac7d70",
   "metadata": {
    "_cell_guid": "b1076dfc-b9ad-4769-8c92-a6c4dae69d19",
    "_uuid": "8f2839f25d086af736a60e9eeb907d3b93b6e0e5",
    "execution": {
     "iopub.execute_input": "2024-02-24T13:48:56.341544Z",
     "iopub.status.busy": "2024-02-24T13:48:56.341162Z",
     "iopub.status.idle": "2024-02-24T13:48:56.345972Z",
     "shell.execute_reply": "2024-02-24T13:48:56.345163Z"
    },
    "papermill": {
     "duration": 0.010553,
     "end_time": "2024-02-24T13:48:56.348044",
     "exception": false,
     "start_time": "2024-02-24T13:48:56.337491",
     "status": "completed"
    },
    "tags": []
   },
   "outputs": [],
   "source": [
    "#plt.rcParams['figure.figsize'] = [30, 30]\n",
    "#sns.clustermap(df_final,annot=False,cbar=False,linewidths=.5,annot_kws={\"size\": 3},fmt='.0f',cmap=\"Blues\")"
   ]
  }
 ],
 "metadata": {
  "kaggle": {
   "accelerator": "none",
   "dataSources": [],
   "isGpuEnabled": false,
   "isInternetEnabled": true,
   "language": "python",
   "sourceType": "notebook"
  },
  "kernelspec": {
   "display_name": "Python 3",
   "language": "python",
   "name": "python3"
  },
  "language_info": {
   "codemirror_mode": {
    "name": "ipython",
    "version": 3
   },
   "file_extension": ".py",
   "mimetype": "text/x-python",
   "name": "python",
   "nbconvert_exporter": "python",
   "pygments_lexer": "ipython3",
   "version": "3.10.13"
  },
  "papermill": {
   "default_parameters": {},
   "duration": 3.205178,
   "end_time": "2024-02-24T13:48:56.671602",
   "environment_variables": {},
   "exception": null,
   "input_path": "__notebook__.ipynb",
   "output_path": "__notebook__.ipynb",
   "parameters": {},
   "start_time": "2024-02-24T13:48:53.466424",
   "version": "2.5.0"
  }
 },
 "nbformat": 4,
 "nbformat_minor": 5
}
