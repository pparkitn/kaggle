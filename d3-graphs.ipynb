{
 "cells": [
  {
   "cell_type": "code",
   "execution_count": 1,
   "id": "b8151f27",
   "metadata": {
    "execution": {
     "iopub.execute_input": "2024-02-24T13:40:28.515055Z",
     "iopub.status.busy": "2024-02-24T13:40:28.513864Z",
     "iopub.status.idle": "2024-02-24T13:40:45.257021Z",
     "shell.execute_reply": "2024-02-24T13:40:45.255615Z"
    },
    "papermill": {
     "duration": 16.751106,
     "end_time": "2024-02-24T13:40:45.260454",
     "exception": false,
     "start_time": "2024-02-24T13:40:28.509348",
     "status": "completed"
    },
    "tags": []
   },
   "outputs": [
    {
     "name": "stdout",
     "output_type": "stream",
     "text": [
      "dominate not found. Installing...\n",
      "dominate installed successfully!\n"
     ]
    }
   ],
   "source": [
    "# Install dominate\n",
    "try:\n",
    "    import dominate\n",
    "except ImportError:\n",
    "    print(\"dominate not found. Installing...\")\n",
    "    !pip install dominate > dominate.log.txt\n",
    "    print(\"dominate installed successfully!\")"
   ]
  },
  {
   "cell_type": "code",
   "execution_count": 2,
   "id": "8df0b905",
   "metadata": {
    "_cell_guid": "b1076dfc-b9ad-4769-8c92-a6c4dae69d19",
    "_uuid": "8f2839f25d086af736a60e9eeb907d3b93b6e0e5",
    "execution": {
     "iopub.execute_input": "2024-02-24T13:40:45.271019Z",
     "iopub.status.busy": "2024-02-24T13:40:45.270525Z",
     "iopub.status.idle": "2024-02-24T13:40:45.297475Z",
     "shell.execute_reply": "2024-02-24T13:40:45.296258Z"
    },
    "papermill": {
     "duration": 0.035917,
     "end_time": "2024-02-24T13:40:45.300733",
     "exception": false,
     "start_time": "2024-02-24T13:40:45.264816",
     "status": "completed"
    },
    "tags": []
   },
   "outputs": [],
   "source": [
    "from dominate import document\n",
    "from dominate.tags import *\n",
    "\n",
    "# Create a simple HTML document with a D3 chart\n",
    "with document(title='D3 Chart Example') as doc:\n",
    "    with head():\n",
    "        script(src='https://d3js.org/d3.v5.min.js')  # Include D3 library from CDN\n",
    "    with body():\n",
    "        h1('D3 Bar Chart Example')\n",
    "        div(id='chart-container')  # Container for the D3 chart\n",
    "        script(\"\"\"\n",
    "            // D3 code goes here\n",
    "            var data = [10, 20, 30, 40, 50];\n",
    "\n",
    "            d3.select(\"#chart-container\")\n",
    "                .selectAll(\"div\")\n",
    "                .data(data)\n",
    "                .enter()\n",
    "                .append(\"div\")\n",
    "                .style(\"width\", function (d) { return d + \"px\"; })\n",
    "                .text(function (d) { return d; });\n",
    "        \"\"\")  # D3 code to create a simple bar chart"
   ]
  },
  {
   "cell_type": "code",
   "execution_count": 3,
   "id": "19c64041",
   "metadata": {
    "execution": {
     "iopub.execute_input": "2024-02-24T13:40:45.310644Z",
     "iopub.status.busy": "2024-02-24T13:40:45.310213Z",
     "iopub.status.idle": "2024-02-24T13:40:45.316287Z",
     "shell.execute_reply": "2024-02-24T13:40:45.315063Z"
    },
    "papermill": {
     "duration": 0.01435,
     "end_time": "2024-02-24T13:40:45.319146",
     "exception": false,
     "start_time": "2024-02-24T13:40:45.304796",
     "status": "completed"
    },
    "tags": []
   },
   "outputs": [],
   "source": [
    "with open('d3_chart_example.html', 'w') as f:\n",
    "    f.write(doc.render())\n"
   ]
  },
  {
   "cell_type": "code",
   "execution_count": 4,
   "id": "3fdc10ca",
   "metadata": {
    "execution": {
     "iopub.execute_input": "2024-02-24T13:40:45.328950Z",
     "iopub.status.busy": "2024-02-24T13:40:45.328533Z",
     "iopub.status.idle": "2024-02-24T13:40:45.340786Z",
     "shell.execute_reply": "2024-02-24T13:40:45.340010Z"
    },
    "papermill": {
     "duration": 0.020484,
     "end_time": "2024-02-24T13:40:45.343739",
     "exception": false,
     "start_time": "2024-02-24T13:40:45.323255",
     "status": "completed"
    },
    "tags": []
   },
   "outputs": [
    {
     "data": {
      "text/html": [
       "<!DOCTYPE html>\n",
       "<html>\n",
       "  <head>\n",
       "    <title>D3 Chart Example</title>\n",
       "  </head>\n",
       "  <body>\n",
       "    <head>\n",
       "      <script src=\"https://d3js.org/d3.v5.min.js\"></script>\n",
       "    </head>\n",
       "    <body>\n",
       "      <h1>D3 Bar Chart Example</h1>\n",
       "      <div id=\"chart-container\"></div>\n",
       "      <script>\n",
       "            // D3 code goes here\n",
       "            var data = [10, 20, 30, 40, 50];\n",
       "\n",
       "            d3.select(&quot;#chart-container&quot;)\n",
       "                .selectAll(&quot;div&quot;)\n",
       "                .data(data)\n",
       "                .enter()\n",
       "                .append(&quot;div&quot;)\n",
       "                .style(&quot;width&quot;, function (d) { return d + &quot;px&quot;; })\n",
       "                .text(function (d) { return d; });\n",
       "        </script>\n",
       "    </body>\n",
       "  </body>\n",
       "</html>"
      ],
      "text/plain": [
       "<IPython.core.display.HTML object>"
      ]
     },
     "metadata": {},
     "output_type": "display_data"
    }
   ],
   "source": [
    "from dominate import document\n",
    "from dominate.tags import *\n",
    "from IPython.display import display, HTML\n",
    "\n",
    "# Create a simple HTML document with a D3 chart\n",
    "with document(title='D3 Chart Example') as doc:\n",
    "    with head():\n",
    "        script(src='https://d3js.org/d3.v5.min.js')  # Include D3 library from CDN\n",
    "    with body():\n",
    "        h1('D3 Bar Chart Example')\n",
    "        div(id='chart-container')  # Container for the D3 chart\n",
    "        script(\"\"\"\n",
    "            // D3 code goes here\n",
    "            var data = [10, 20, 30, 40, 50];\n",
    "\n",
    "            d3.select(\"#chart-container\")\n",
    "                .selectAll(\"div\")\n",
    "                .data(data)\n",
    "                .enter()\n",
    "                .append(\"div\")\n",
    "                .style(\"width\", function (d) { return d + \"px\"; })\n",
    "                .text(function (d) { return d; });\n",
    "        \"\"\")  # D3 code to create a simple bar chart\n",
    "\n",
    "# Display the HTML in JupyterLab\n",
    "display(HTML(doc.render()))\n"
   ]
  }
 ],
 "metadata": {
  "kaggle": {
   "accelerator": "none",
   "dataSources": [],
   "dockerImageVersionId": 30646,
   "isGpuEnabled": false,
   "isInternetEnabled": true,
   "language": "python",
   "sourceType": "notebook"
  },
  "kernelspec": {
   "display_name": "Python 3",
   "language": "python",
   "name": "python3"
  },
  "language_info": {
   "codemirror_mode": {
    "name": "ipython",
    "version": 3
   },
   "file_extension": ".py",
   "mimetype": "text/x-python",
   "name": "python",
   "nbconvert_exporter": "python",
   "pygments_lexer": "ipython3",
   "version": "3.10.13"
  },
  "papermill": {
   "default_parameters": {},
   "duration": 20.41027,
   "end_time": "2024-02-24T13:40:45.768804",
   "environment_variables": {},
   "exception": null,
   "input_path": "__notebook__.ipynb",
   "output_path": "__notebook__.ipynb",
   "parameters": {},
   "start_time": "2024-02-24T13:40:25.358534",
   "version": "2.5.0"
  }
 },
 "nbformat": 4,
 "nbformat_minor": 5
}
