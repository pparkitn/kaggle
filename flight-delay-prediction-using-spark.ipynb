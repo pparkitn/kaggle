{
 "cells": [
  {
   "cell_type": "code",
   "execution_count": 1,
   "id": "40dea6a7",
   "metadata": {
    "_cell_guid": "b1076dfc-b9ad-4769-8c92-a6c4dae69d19",
    "_uuid": "8f2839f25d086af736a60e9eeb907d3b93b6e0e5",
    "execution": {
     "iopub.execute_input": "2024-02-19T00:55:49.558775Z",
     "iopub.status.busy": "2024-02-19T00:55:49.558249Z",
     "iopub.status.idle": "2024-02-19T00:56:31.548488Z",
     "shell.execute_reply": "2024-02-19T00:56:31.547504Z"
    },
    "papermill": {
     "duration": 41.998084,
     "end_time": "2024-02-19T00:56:31.552040",
     "exception": false,
     "start_time": "2024-02-19T00:55:49.553956",
     "status": "completed"
    },
    "tags": []
   },
   "outputs": [
    {
     "name": "stdout",
     "output_type": "stream",
     "text": [
      "pyspark not found. Installing...\n",
      "pyspark installed successfully!\n"
     ]
    }
   ],
   "source": [
    "# Install PySpark\n",
    "try:\n",
    "    import pyspark\n",
    "except ImportError:\n",
    "    print(\"pyspark not found. Installing...\")\n",
    "    !pip install pyspark > pyspark.log.txt\n",
    "    print(\"pyspark installed successfully!\")"
   ]
  },
  {
   "cell_type": "code",
   "execution_count": 2,
   "id": "90bb3d10",
   "metadata": {
    "execution": {
     "iopub.execute_input": "2024-02-19T00:56:31.559255Z",
     "iopub.status.busy": "2024-02-19T00:56:31.557933Z",
     "iopub.status.idle": "2024-02-19T00:56:35.805408Z",
     "shell.execute_reply": "2024-02-19T00:56:35.804190Z"
    },
    "papermill": {
     "duration": 4.253824,
     "end_time": "2024-02-19T00:56:35.808164",
     "exception": false,
     "start_time": "2024-02-19T00:56:31.554340",
     "status": "completed"
    },
    "tags": []
   },
   "outputs": [],
   "source": [
    "# Import necessary libraries\n",
    "from pyspark.sql import SparkSession\n",
    "import matplotlib.pyplot as plt\n",
    "from sklearn import metrics\n",
    "from sklearn.preprocessing import StandardScaler\n",
    "from matplotlib.lines import Line2D\n",
    "from matplotlib import cm\n",
    "import numpy as np \n",
    "import pandas as pd\n",
    "import seaborn as sns\n",
    "import warnings\n",
    "import timeit\n",
    "\n",
    "# package imports\n",
    "from pyspark.sql.functions import col, isnull, broadcast, udf, count, when, isnan, lpad, to_timestamp, concat, to_utc_timestamp, lit \n",
    "from pyspark.sql.functions import monotonically_increasing_id\n",
    "from pyspark.ml.feature import Bucketizer\n",
    "\n",
    "from pyspark.sql import SQLContext\n",
    "from pyspark.sql.types import DoubleType\n",
    "from functools import reduce\n",
    "\n",
    "import numpy as np\n",
    "import math\n",
    "\n",
    "import networkx as nx\n",
    "import matplotlib.pyplot as plt\n",
    "import geopandas\n",
    "\n",
    "\n",
    "# Suppress all warnings\n",
    "warnings.filterwarnings(\"ignore\")"
   ]
  },
  {
   "cell_type": "code",
   "execution_count": 3,
   "id": "a4a018d1",
   "metadata": {
    "execution": {
     "iopub.execute_input": "2024-02-19T00:56:35.827870Z",
     "iopub.status.busy": "2024-02-19T00:56:35.826344Z",
     "iopub.status.idle": "2024-02-19T00:56:40.704102Z",
     "shell.execute_reply": "2024-02-19T00:56:40.703300Z"
    },
    "papermill": {
     "duration": 4.885463,
     "end_time": "2024-02-19T00:56:40.707161",
     "exception": false,
     "start_time": "2024-02-19T00:56:35.821698",
     "status": "completed"
    },
    "tags": []
   },
   "outputs": [
    {
     "name": "stderr",
     "output_type": "stream",
     "text": [
      "Setting default log level to \"WARN\".\n",
      "To adjust logging level use sc.setLogLevel(newLevel). For SparkR, use setLogLevel(newLevel).\n",
      "24/02/19 00:56:38 WARN NativeCodeLoader: Unable to load native-hadoop library for your platform... using builtin-java classes where applicable\n"
     ]
    }
   ],
   "source": [
    "# Create a Spark session\n",
    "spark = SparkSession.builder.appName(\"Spark\").getOrCreate()"
   ]
  },
  {
   "cell_type": "code",
   "execution_count": 4,
   "id": "06ac672f",
   "metadata": {
    "execution": {
     "iopub.execute_input": "2024-02-19T00:56:40.714217Z",
     "iopub.status.busy": "2024-02-19T00:56:40.713589Z",
     "iopub.status.idle": "2024-02-19T00:56:46.451935Z",
     "shell.execute_reply": "2024-02-19T00:56:46.451009Z"
    },
    "papermill": {
     "duration": 5.744495,
     "end_time": "2024-02-19T00:56:46.454633",
     "exception": false,
     "start_time": "2024-02-19T00:56:40.710138",
     "status": "completed"
    },
    "tags": []
   },
   "outputs": [
    {
     "name": "stderr",
     "output_type": "stream",
     "text": [
      "                                                                                \r"
     ]
    },
    {
     "name": "stdout",
     "output_type": "stream",
     "text": [
      "29193782 flight records loaded\n"
     ]
    }
   ],
   "source": [
    "# Load airlines pre-processed data. \n",
    "df_airlines = spark.read.parquet(\"/kaggle/input/flight-delay-dataset-20182022/*parquet\")\n",
    "\n",
    "print(f'{df_airlines.count():} flight records loaded')"
   ]
  },
  {
   "cell_type": "markdown",
   "id": "5439f2b0",
   "metadata": {
    "papermill": {
     "duration": 0.00332,
     "end_time": "2024-02-19T00:56:46.461855",
     "exception": false,
     "start_time": "2024-02-19T00:56:46.458535",
     "status": "completed"
    },
    "tags": []
   },
   "source": [
    "# EDA"
   ]
  },
  {
   "cell_type": "code",
   "execution_count": null,
   "id": "f6597c33",
   "metadata": {
    "papermill": {
     "duration": 0.003294,
     "end_time": "2024-02-19T00:56:46.468778",
     "exception": false,
     "start_time": "2024-02-19T00:56:46.465484",
     "status": "completed"
    },
    "tags": []
   },
   "outputs": [],
   "source": []
  }
 ],
 "metadata": {
  "kaggle": {
   "accelerator": "none",
   "dataSources": [
    {
     "datasetId": 2529204,
     "sourceId": 4295427,
     "sourceType": "datasetVersion"
    }
   ],
   "dockerImageVersionId": 30646,
   "isGpuEnabled": false,
   "isInternetEnabled": true,
   "language": "python",
   "sourceType": "notebook"
  },
  "kernelspec": {
   "display_name": "Python 3",
   "language": "python",
   "name": "python3"
  },
  "language_info": {
   "codemirror_mode": {
    "name": "ipython",
    "version": 3
   },
   "file_extension": ".py",
   "mimetype": "text/x-python",
   "name": "python",
   "nbconvert_exporter": "python",
   "pygments_lexer": "ipython3",
   "version": "3.10.13"
  },
  "papermill": {
   "default_parameters": {},
   "duration": 62.201259,
   "end_time": "2024-02-19T00:56:49.094651",
   "environment_variables": {},
   "exception": null,
   "input_path": "__notebook__.ipynb",
   "output_path": "__notebook__.ipynb",
   "parameters": {},
   "start_time": "2024-02-19T00:55:46.893392",
   "version": "2.5.0"
  }
 },
 "nbformat": 4,
 "nbformat_minor": 5
}
