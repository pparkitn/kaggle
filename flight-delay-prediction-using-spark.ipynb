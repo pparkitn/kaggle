{
 "cells": [
  {
   "cell_type": "code",
   "execution_count": 1,
   "id": "d83a049f",
   "metadata": {
    "_cell_guid": "b1076dfc-b9ad-4769-8c92-a6c4dae69d19",
    "_uuid": "8f2839f25d086af736a60e9eeb907d3b93b6e0e5",
    "execution": {
     "iopub.execute_input": "2024-02-19T00:50:05.758770Z",
     "iopub.status.busy": "2024-02-19T00:50:05.758353Z",
     "iopub.status.idle": "2024-02-19T00:51:01.193687Z",
     "shell.execute_reply": "2024-02-19T00:51:01.192147Z"
    },
    "papermill": {
     "duration": 55.442008,
     "end_time": "2024-02-19T00:51:01.196462",
     "exception": false,
     "start_time": "2024-02-19T00:50:05.754454",
     "status": "completed"
    },
    "tags": []
   },
   "outputs": [
    {
     "name": "stdout",
     "output_type": "stream",
     "text": [
      "pyspark not found. Installing...\n",
      "pyspark installed successfully!\n"
     ]
    }
   ],
   "source": [
    "# Install PySpark\n",
    "try:\n",
    "    import pyspark\n",
    "except ImportError:\n",
    "    print(\"pyspark not found. Installing...\")\n",
    "    !pip install pyspark > pyspark.log.txt\n",
    "    print(\"pyspark installed successfully!\")"
   ]
  },
  {
   "cell_type": "code",
   "execution_count": 2,
   "id": "f8a8de15",
   "metadata": {
    "execution": {
     "iopub.execute_input": "2024-02-19T00:51:01.203199Z",
     "iopub.status.busy": "2024-02-19T00:51:01.202012Z",
     "iopub.status.idle": "2024-02-19T00:51:04.149972Z",
     "shell.execute_reply": "2024-02-19T00:51:04.148726Z"
    },
    "papermill": {
     "duration": 2.954232,
     "end_time": "2024-02-19T00:51:04.152754",
     "exception": false,
     "start_time": "2024-02-19T00:51:01.198522",
     "status": "completed"
    },
    "tags": []
   },
   "outputs": [],
   "source": [
    "# Import necessary libraries\n",
    "from pyspark.sql import SparkSession\n",
    "import matplotlib.pyplot as plt\n",
    "from sklearn import metrics\n",
    "from sklearn.preprocessing import StandardScaler\n",
    "from matplotlib.lines import Line2D\n",
    "from matplotlib import cm\n",
    "import numpy as np \n",
    "import pandas as pd\n",
    "import seaborn as sns\n",
    "import warnings\n",
    "import timeit\n",
    "\n",
    "# Suppress all warnings\n",
    "warnings.filterwarnings(\"ignore\")"
   ]
  }
 ],
 "metadata": {
  "kaggle": {
   "accelerator": "none",
   "dataSources": [],
   "dockerImageVersionId": 30646,
   "isGpuEnabled": false,
   "isInternetEnabled": true,
   "language": "python",
   "sourceType": "notebook"
  },
  "kernelspec": {
   "display_name": "Python 3",
   "language": "python",
   "name": "python3"
  },
  "language_info": {
   "codemirror_mode": {
    "name": "ipython",
    "version": 3
   },
   "file_extension": ".py",
   "mimetype": "text/x-python",
   "name": "python",
   "nbconvert_exporter": "python",
   "pygments_lexer": "ipython3",
   "version": "3.10.13"
  },
  "papermill": {
   "default_parameters": {},
   "duration": 61.872895,
   "end_time": "2024-02-19T00:51:04.777780",
   "environment_variables": {},
   "exception": null,
   "input_path": "__notebook__.ipynb",
   "output_path": "__notebook__.ipynb",
   "parameters": {},
   "start_time": "2024-02-19T00:50:02.904885",
   "version": "2.5.0"
  }
 },
 "nbformat": 4,
 "nbformat_minor": 5
}
