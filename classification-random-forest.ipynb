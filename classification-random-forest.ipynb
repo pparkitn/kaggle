{
 "cells": [
  {
   "cell_type": "markdown",
   "id": "26b8ccf2",
   "metadata": {
    "papermill": {
     "duration": 0.00708,
     "end_time": "2024-03-27T13:32:11.935712",
     "exception": false,
     "start_time": "2024-03-27T13:32:11.928632",
     "status": "completed"
    },
    "tags": []
   },
   "source": [
    "# ML Classification Into SQL\n",
    "- Build Classification Model\n",
    "- Extract features and build SQL Code Implementation\n",
    "- SQL Code Logistic Regression Implementation:\n",
    "\n",
    "# Key Features:\n",
    "### Data Loading and Preprocessing:\n",
    "\n",
    "- The script loads a heart-related dataset from a CSV file, handles missing values, and encodes categorical variables.\n",
    "- Robust scaling is applied to continuous features.\n",
    "\n",
    "### Model Training and Evaluation:\n",
    "\n",
    "- Several classification models (e.g., AdaBoost, Logistic Regression, Random Forest, Gradient Boosting) are trained and evaluated.\n",
    "- Model evaluation includes accuracy, confusion matrix, and ROC AUC. Cross-validation is implemented for more robust performance assessment.\n",
    "\n",
    "### Hyperparameter Tuning:\n",
    "\n",
    "- Hyperparameter tuning is performed for RandomForestClassifier and LogisticRegression using GridSearchCV.\n",
    "\n",
    "### Feature Importance (Tree-based Models):\n",
    "\n",
    "- For tree-based models, feature importance is extracted and displayed.\n",
    "\n",
    "### Model Saving:\n",
    "\n",
    "- Trained models are saved using joblib for potential deployment.\n"
   ]
  },
  {
   "cell_type": "code",
   "execution_count": 1,
   "id": "1dee93d1",
   "metadata": {
    "_kg_hide-input": true,
    "_kg_hide-output": true,
    "execution": {
     "iopub.execute_input": "2024-03-27T13:32:11.951566Z",
     "iopub.status.busy": "2024-03-27T13:32:11.951124Z",
     "iopub.status.idle": "2024-03-27T13:32:14.069582Z",
     "shell.execute_reply": "2024-03-27T13:32:14.068280Z"
    },
    "jupyter": {
     "source_hidden": true
    },
    "papermill": {
     "duration": 2.130659,
     "end_time": "2024-03-27T13:32:14.073310",
     "exception": false,
     "start_time": "2024-03-27T13:32:11.942651",
     "status": "completed"
    },
    "tags": []
   },
   "outputs": [],
   "source": [
    "try:\n",
    "    import imblearn\n",
    "except ImportError:\n",
    "    print(\"imbalanced-learn not found. Installing...\")\n",
    "    !pip install imbalanced-learn\n",
    "    print(\"imbalanced-learn installed successfully!\")\n",
    "\n",
    "# Now import and use imbalanced-learn\n",
    "from imblearn.over_sampling import RandomOverSampler"
   ]
  },
  {
   "cell_type": "code",
   "execution_count": 2,
   "id": "2958bd77",
   "metadata": {
    "_kg_hide-input": true,
    "_kg_hide-output": true,
    "execution": {
     "iopub.execute_input": "2024-03-27T13:32:14.089836Z",
     "iopub.status.busy": "2024-03-27T13:32:14.088957Z",
     "iopub.status.idle": "2024-03-27T13:32:16.636668Z",
     "shell.execute_reply": "2024-03-27T13:32:16.635357Z"
    },
    "jupyter": {
     "source_hidden": true
    },
    "papermill": {
     "duration": 2.560182,
     "end_time": "2024-03-27T13:32:16.640365",
     "exception": false,
     "start_time": "2024-03-27T13:32:14.080183",
     "status": "completed"
    },
    "tags": []
   },
   "outputs": [],
   "source": [
    "# Importing necessary packages\n",
    "import os\n",
    "import numpy as np\n",
    "import pandas as pd\n",
    "import logging\n",
    "import warnings\n",
    "import joblib\n",
    "import seaborn as sns\n",
    "import matplotlib.pyplot as plt\n",
    "import plotly.express as px\n",
    "import csv\n",
    "\n",
    "from sklearn.calibration import calibration_curve\n",
    "from scikitplot.metrics import plot_precision_recall\n",
    "from sklearn.metrics import precision_recall_curve, auc\n",
    "from scikitplot.metrics import plot_lift_curve\n",
    "from scikitplot.metrics import plot_cumulative_gain\n",
    "from sklearn.metrics import classification_report, roc_curve, accuracy_score, confusion_matrix, roc_auc_score, precision_score, recall_score, f1_score, precision_recall_curve\n",
    "from sklearn.ensemble import AdaBoostClassifier, RandomForestClassifier, GradientBoostingClassifier,ExtraTreesClassifier\n",
    "from sklearn.linear_model import LogisticRegression\n",
    "from sklearn.model_selection import train_test_split, GridSearchCV, cross_val_score\n",
    "from sklearn.neighbors import KNeighborsClassifier\n",
    "from sklearn.preprocessing import RobustScaler\n",
    "from sklearn.model_selection import learning_curve\n",
    "from sklearn.svm import SVC\n",
    "from sklearn.tree import DecisionTreeClassifier\n",
    "from sklearn.naive_bayes import GaussianNB\n",
    "from sklearn.neural_network import MLPClassifier\n",
    "from sklearn.exceptions import ConvergenceWarning\n",
    "\n",
    "import xgboost as xgb\n",
    "import sqlite3\n",
    "\n",
    "\n",
    "# Setting up options and ignoring warnings\n",
    "pd.set_option('display.max_rows', None)\n",
    "pd.set_option('display.max_columns', None)\n",
    "pd.set_option('float_format', '{:f}'.format)\n",
    "warnings.filterwarnings('ignore')\n",
    "\n",
    "# Setting up logging with a FileHandler\n",
    "log_file_path = 'classification_log.txt'\n",
    "logging.basicConfig(level=logging.INFO, format='%(asctime)s - %(levelname)s - %(message)s', datefmt='%Y-%m-%d %H:%M:%S')\n",
    "\n",
    "file_handler = logging.FileHandler(log_file_path)\n",
    "file_handler.setLevel(logging.INFO)\n",
    "file_handler.setFormatter(logging.Formatter('%(asctime)s - %(levelname)s - %(message)s'))\n",
    "\n",
    "logger = logging.getLogger(__name__)\n",
    "logger.addHandler(file_handler)"
   ]
  },
  {
   "cell_type": "code",
   "execution_count": 3,
   "id": "781ee79b",
   "metadata": {
    "execution": {
     "iopub.execute_input": "2024-03-27T13:32:16.656087Z",
     "iopub.status.busy": "2024-03-27T13:32:16.655466Z",
     "iopub.status.idle": "2024-03-27T13:32:16.706946Z",
     "shell.execute_reply": "2024-03-27T13:32:16.705755Z"
    },
    "papermill": {
     "duration": 0.062529,
     "end_time": "2024-03-27T13:32:16.709663",
     "exception": false,
     "start_time": "2024-03-27T13:32:16.647134",
     "status": "completed"
    },
    "tags": []
   },
   "outputs": [
    {
     "data": {
      "text/html": [
       "<div>\n",
       "<style scoped>\n",
       "    .dataframe tbody tr th:only-of-type {\n",
       "        vertical-align: middle;\n",
       "    }\n",
       "\n",
       "    .dataframe tbody tr th {\n",
       "        vertical-align: top;\n",
       "    }\n",
       "\n",
       "    .dataframe thead th {\n",
       "        text-align: right;\n",
       "    }\n",
       "</style>\n",
       "<table border=\"1\" class=\"dataframe\">\n",
       "  <thead>\n",
       "    <tr style=\"text-align: right;\">\n",
       "      <th></th>\n",
       "      <th>age</th>\n",
       "      <th>sex</th>\n",
       "      <th>cp</th>\n",
       "      <th>trtbps</th>\n",
       "      <th>chol</th>\n",
       "      <th>fbs</th>\n",
       "      <th>restecg</th>\n",
       "      <th>thalachh</th>\n",
       "      <th>exng</th>\n",
       "      <th>oldpeak</th>\n",
       "      <th>slp</th>\n",
       "      <th>caa</th>\n",
       "      <th>thall</th>\n",
       "      <th>output</th>\n",
       "    </tr>\n",
       "  </thead>\n",
       "  <tbody>\n",
       "    <tr>\n",
       "      <th>0</th>\n",
       "      <td>63</td>\n",
       "      <td>1</td>\n",
       "      <td>3</td>\n",
       "      <td>145</td>\n",
       "      <td>233</td>\n",
       "      <td>1</td>\n",
       "      <td>0</td>\n",
       "      <td>150</td>\n",
       "      <td>0</td>\n",
       "      <td>2.300000</td>\n",
       "      <td>0</td>\n",
       "      <td>0</td>\n",
       "      <td>1</td>\n",
       "      <td>1</td>\n",
       "    </tr>\n",
       "    <tr>\n",
       "      <th>1</th>\n",
       "      <td>37</td>\n",
       "      <td>1</td>\n",
       "      <td>2</td>\n",
       "      <td>130</td>\n",
       "      <td>250</td>\n",
       "      <td>0</td>\n",
       "      <td>1</td>\n",
       "      <td>187</td>\n",
       "      <td>0</td>\n",
       "      <td>3.500000</td>\n",
       "      <td>0</td>\n",
       "      <td>0</td>\n",
       "      <td>2</td>\n",
       "      <td>1</td>\n",
       "    </tr>\n",
       "  </tbody>\n",
       "</table>\n",
       "</div>"
      ],
      "text/plain": [
       "   age  sex  cp  trtbps  chol  fbs  restecg  thalachh  exng  oldpeak  slp  \\\n",
       "0   63    1   3     145   233    1        0       150     0 2.300000    0   \n",
       "1   37    1   2     130   250    0        1       187     0 3.500000    0   \n",
       "\n",
       "   caa  thall  output  \n",
       "0    0      1       1  \n",
       "1    0      2       1  "
      ]
     },
     "execution_count": 3,
     "metadata": {},
     "output_type": "execute_result"
    }
   ],
   "source": [
    "# Reading the dataset\n",
    "dataset_path = \"/kaggle/input/heart.csv\"\n",
    "\n",
    "# Reading the dataset\n",
    "#dataset_path = \"../input/heart-attack-analysis-prediction-dataset/heart.csv\"\n",
    "#/kaggle/input/heart-attack-analysis-prediction-dataset/heart.csv\n",
    "\n",
    "try:\n",
    "    # Attempt to read the dataset\n",
    "    df = pd.read_csv(dataset_path)\n",
    "    logger.info(f\"Dataset loaded successfully from {dataset_path}\")\n",
    "except FileNotFoundError:\n",
    "    logger.error(\"Error: Dataset file not found. Please provide the correct file path.\")\n",
    "except Exception as e:\n",
    "    logger.error(f\"An error occurred: {e}\")\n",
    "    \n",
    "df.head(2)"
   ]
  },
  {
   "cell_type": "code",
   "execution_count": 4,
   "id": "455cdd7b",
   "metadata": {
    "execution": {
     "iopub.execute_input": "2024-03-27T13:32:16.726437Z",
     "iopub.status.busy": "2024-03-27T13:32:16.725945Z",
     "iopub.status.idle": "2024-03-27T13:32:16.784981Z",
     "shell.execute_reply": "2024-03-27T13:32:16.783838Z"
    },
    "papermill": {
     "duration": 0.070858,
     "end_time": "2024-03-27T13:32:16.787578",
     "exception": false,
     "start_time": "2024-03-27T13:32:16.716720",
     "status": "completed"
    },
    "tags": []
   },
   "outputs": [
    {
     "data": {
      "text/html": [
       "<div>\n",
       "<style scoped>\n",
       "    .dataframe tbody tr th:only-of-type {\n",
       "        vertical-align: middle;\n",
       "    }\n",
       "\n",
       "    .dataframe tbody tr th {\n",
       "        vertical-align: top;\n",
       "    }\n",
       "\n",
       "    .dataframe thead th {\n",
       "        text-align: right;\n",
       "    }\n",
       "</style>\n",
       "<table border=\"1\" class=\"dataframe\">\n",
       "  <thead>\n",
       "    <tr style=\"text-align: right;\">\n",
       "      <th></th>\n",
       "      <th>age</th>\n",
       "      <th>trtbps</th>\n",
       "      <th>chol</th>\n",
       "      <th>thalachh</th>\n",
       "      <th>oldpeak</th>\n",
       "      <th>sex_1</th>\n",
       "      <th>exng_1</th>\n",
       "      <th>caa_1</th>\n",
       "      <th>caa_2</th>\n",
       "      <th>caa_3</th>\n",
       "      <th>caa_4</th>\n",
       "      <th>cp_1</th>\n",
       "      <th>cp_2</th>\n",
       "      <th>cp_3</th>\n",
       "      <th>fbs_1</th>\n",
       "      <th>restecg_1</th>\n",
       "      <th>restecg_2</th>\n",
       "      <th>slp_1</th>\n",
       "      <th>slp_2</th>\n",
       "      <th>thall_1</th>\n",
       "      <th>thall_2</th>\n",
       "      <th>thall_3</th>\n",
       "    </tr>\n",
       "  </thead>\n",
       "  <tbody>\n",
       "    <tr>\n",
       "      <th>0</th>\n",
       "      <td>0.592593</td>\n",
       "      <td>0.750000</td>\n",
       "      <td>-0.110236</td>\n",
       "      <td>-0.092308</td>\n",
       "      <td>0.937500</td>\n",
       "      <td>True</td>\n",
       "      <td>False</td>\n",
       "      <td>False</td>\n",
       "      <td>False</td>\n",
       "      <td>False</td>\n",
       "      <td>False</td>\n",
       "      <td>False</td>\n",
       "      <td>False</td>\n",
       "      <td>True</td>\n",
       "      <td>True</td>\n",
       "      <td>False</td>\n",
       "      <td>False</td>\n",
       "      <td>False</td>\n",
       "      <td>False</td>\n",
       "      <td>True</td>\n",
       "      <td>False</td>\n",
       "      <td>False</td>\n",
       "    </tr>\n",
       "    <tr>\n",
       "      <th>1</th>\n",
       "      <td>-1.333333</td>\n",
       "      <td>0.000000</td>\n",
       "      <td>0.157480</td>\n",
       "      <td>1.046154</td>\n",
       "      <td>1.687500</td>\n",
       "      <td>True</td>\n",
       "      <td>False</td>\n",
       "      <td>False</td>\n",
       "      <td>False</td>\n",
       "      <td>False</td>\n",
       "      <td>False</td>\n",
       "      <td>False</td>\n",
       "      <td>True</td>\n",
       "      <td>False</td>\n",
       "      <td>False</td>\n",
       "      <td>True</td>\n",
       "      <td>False</td>\n",
       "      <td>False</td>\n",
       "      <td>False</td>\n",
       "      <td>False</td>\n",
       "      <td>True</td>\n",
       "      <td>False</td>\n",
       "    </tr>\n",
       "    <tr>\n",
       "      <th>2</th>\n",
       "      <td>-1.037037</td>\n",
       "      <td>0.000000</td>\n",
       "      <td>-0.566929</td>\n",
       "      <td>0.584615</td>\n",
       "      <td>0.375000</td>\n",
       "      <td>False</td>\n",
       "      <td>False</td>\n",
       "      <td>False</td>\n",
       "      <td>False</td>\n",
       "      <td>False</td>\n",
       "      <td>False</td>\n",
       "      <td>True</td>\n",
       "      <td>False</td>\n",
       "      <td>False</td>\n",
       "      <td>False</td>\n",
       "      <td>False</td>\n",
       "      <td>False</td>\n",
       "      <td>False</td>\n",
       "      <td>True</td>\n",
       "      <td>False</td>\n",
       "      <td>True</td>\n",
       "      <td>False</td>\n",
       "    </tr>\n",
       "    <tr>\n",
       "      <th>3</th>\n",
       "      <td>0.074074</td>\n",
       "      <td>-0.500000</td>\n",
       "      <td>-0.062992</td>\n",
       "      <td>0.769231</td>\n",
       "      <td>0.000000</td>\n",
       "      <td>True</td>\n",
       "      <td>False</td>\n",
       "      <td>False</td>\n",
       "      <td>False</td>\n",
       "      <td>False</td>\n",
       "      <td>False</td>\n",
       "      <td>True</td>\n",
       "      <td>False</td>\n",
       "      <td>False</td>\n",
       "      <td>False</td>\n",
       "      <td>True</td>\n",
       "      <td>False</td>\n",
       "      <td>False</td>\n",
       "      <td>True</td>\n",
       "      <td>False</td>\n",
       "      <td>True</td>\n",
       "      <td>False</td>\n",
       "    </tr>\n",
       "    <tr>\n",
       "      <th>4</th>\n",
       "      <td>0.148148</td>\n",
       "      <td>-0.500000</td>\n",
       "      <td>1.795276</td>\n",
       "      <td>0.307692</td>\n",
       "      <td>-0.125000</td>\n",
       "      <td>False</td>\n",
       "      <td>True</td>\n",
       "      <td>False</td>\n",
       "      <td>False</td>\n",
       "      <td>False</td>\n",
       "      <td>False</td>\n",
       "      <td>False</td>\n",
       "      <td>False</td>\n",
       "      <td>False</td>\n",
       "      <td>False</td>\n",
       "      <td>True</td>\n",
       "      <td>False</td>\n",
       "      <td>False</td>\n",
       "      <td>True</td>\n",
       "      <td>False</td>\n",
       "      <td>True</td>\n",
       "      <td>False</td>\n",
       "    </tr>\n",
       "  </tbody>\n",
       "</table>\n",
       "</div>"
      ],
      "text/plain": [
       "        age    trtbps      chol  thalachh   oldpeak  sex_1  exng_1  caa_1  \\\n",
       "0  0.592593  0.750000 -0.110236 -0.092308  0.937500   True   False  False   \n",
       "1 -1.333333  0.000000  0.157480  1.046154  1.687500   True   False  False   \n",
       "2 -1.037037  0.000000 -0.566929  0.584615  0.375000  False   False  False   \n",
       "3  0.074074 -0.500000 -0.062992  0.769231  0.000000   True   False  False   \n",
       "4  0.148148 -0.500000  1.795276  0.307692 -0.125000  False    True  False   \n",
       "\n",
       "   caa_2  caa_3  caa_4   cp_1   cp_2   cp_3  fbs_1  restecg_1  restecg_2  \\\n",
       "0  False  False  False  False  False   True   True      False      False   \n",
       "1  False  False  False  False   True  False  False       True      False   \n",
       "2  False  False  False   True  False  False  False      False      False   \n",
       "3  False  False  False   True  False  False  False       True      False   \n",
       "4  False  False  False  False  False  False  False       True      False   \n",
       "\n",
       "   slp_1  slp_2  thall_1  thall_2  thall_3  \n",
       "0  False  False     True    False    False  \n",
       "1  False  False    False     True    False  \n",
       "2  False   True    False     True    False  \n",
       "3  False   True    False     True    False  \n",
       "4  False   True    False     True    False  "
      ]
     },
     "execution_count": 4,
     "metadata": {},
     "output_type": "execute_result"
    }
   ],
   "source": [
    "# creating a copy of df\n",
    "df1 = df.fillna(0)\n",
    "\n",
    "# define the columns to be encoded and scaled\n",
    "cat_cols = ['sex','exng','caa','cp','fbs','restecg','slp','thall']\n",
    "con_cols = [\"age\",\"trtbps\",\"chol\",\"thalachh\",\"oldpeak\"]\n",
    "\n",
    "#target column name\n",
    "label_name = 'output'\n",
    "\n",
    "# encoding the categorical columns\n",
    "df1 = pd.get_dummies(df1, columns = cat_cols, drop_first = True)\n",
    "\n",
    "# defining the features and target\n",
    "X = df1.drop([label_name],axis=1)\n",
    "y = df1[[label_name]]\n",
    "\n",
    "# instantiating the scaler\n",
    "scaler = RobustScaler()\n",
    "\n",
    "# scaling the continuous featuree\n",
    "X[con_cols] = scaler.fit_transform(X[con_cols])\n",
    "\n",
    "# Get centering and scaling values for each feature\n",
    "centering = scaler.center_\n",
    "iqrs  = scaler.scale_\n",
    "\n",
    "X.head()"
   ]
  },
  {
   "cell_type": "code",
   "execution_count": 5,
   "id": "82bfedfc",
   "metadata": {
    "execution": {
     "iopub.execute_input": "2024-03-27T13:32:16.804051Z",
     "iopub.status.busy": "2024-03-27T13:32:16.803648Z",
     "iopub.status.idle": "2024-03-27T13:32:16.818974Z",
     "shell.execute_reply": "2024-03-27T13:32:16.817734Z"
    },
    "papermill": {
     "duration": 0.026926,
     "end_time": "2024-03-27T13:32:16.821937",
     "exception": false,
     "start_time": "2024-03-27T13:32:16.795011",
     "status": "completed"
    },
    "tags": []
   },
   "outputs": [
    {
     "name": "stdout",
     "output_type": "stream",
     "text": [
      "The shape of X_train is       (242, 22)\n",
      "The shape of X_test is        (61, 22)\n",
      "The shape of y_train is       (242, 1)\n",
      "The shape of y_test is        (61, 1)\n"
     ]
    }
   ],
   "source": [
    "# Splitting the dataset into training and testing sets\n",
    "X_train, X_test, y_train, y_test = train_test_split(X,y, test_size = 0.2, random_state = 42)\n",
    "print(\"The shape of X_train is      \", X_train.shape)\n",
    "print(\"The shape of X_test is       \",X_test.shape)\n",
    "print(\"The shape of y_train is      \",y_train.shape)\n",
    "print(\"The shape of y_test is       \",y_test.shape)"
   ]
  },
  {
   "cell_type": "code",
   "execution_count": 6,
   "id": "3c490b74",
   "metadata": {
    "execution": {
     "iopub.execute_input": "2024-03-27T13:32:16.839097Z",
     "iopub.status.busy": "2024-03-27T13:32:16.838304Z",
     "iopub.status.idle": "2024-03-27T13:32:16.861495Z",
     "shell.execute_reply": "2024-03-27T13:32:16.859818Z"
    },
    "papermill": {
     "duration": 0.034841,
     "end_time": "2024-03-27T13:32:16.864290",
     "exception": false,
     "start_time": "2024-03-27T13:32:16.829449",
     "status": "completed"
    },
    "tags": []
   },
   "outputs": [],
   "source": [
    "# Handling Class Imbalance with RandomOverSampler\n",
    "ros = RandomOverSampler(sampling_strategy=0.9, random_state=42)\n",
    "X_resampled, y_resampled = ros.fit_resample(X_train, y_train)"
   ]
  },
  {
   "cell_type": "code",
   "execution_count": 7,
   "id": "e050262b",
   "metadata": {
    "execution": {
     "iopub.execute_input": "2024-03-27T13:32:16.881378Z",
     "iopub.status.busy": "2024-03-27T13:32:16.880916Z",
     "iopub.status.idle": "2024-03-27T13:32:16.886998Z",
     "shell.execute_reply": "2024-03-27T13:32:16.885828Z"
    },
    "papermill": {
     "duration": 0.017493,
     "end_time": "2024-03-27T13:32:16.889545",
     "exception": false,
     "start_time": "2024-03-27T13:32:16.872052",
     "status": "completed"
    },
    "tags": []
   },
   "outputs": [
    {
     "name": "stdout",
     "output_type": "stream",
     "text": [
      "The shape of X_train is       (252, 22)\n",
      "The shape of y_train is       (252, 1)\n"
     ]
    }
   ],
   "source": [
    "print(\"The shape of X_train is      \", X_resampled.shape)\n",
    "print(\"The shape of y_train is      \", y_resampled.shape)"
   ]
  },
  {
   "cell_type": "markdown",
   "id": "9f977ce6",
   "metadata": {
    "papermill": {
     "duration": 0.007591,
     "end_time": "2024-03-27T13:32:16.904761",
     "exception": false,
     "start_time": "2024-03-27T13:32:16.897170",
     "status": "completed"
    },
    "tags": []
   },
   "source": [
    "### For binary classification:\n",
    "- accuracy: Calculates the accuracy of the classifier.\n",
    "- precision': Measures the ability of the classifier not to label as positive a sample that is negative.\n",
    "- recall: Measures the ability of the classifier to capture all the positive samples.\n",
    "- f1: Combines precision and recall into a single metric.\n",
    "- roc_auc: Computes the area under the Receiver Operating Characteristic (ROC) curve."
   ]
  },
  {
   "cell_type": "markdown",
   "id": "ae0eed47",
   "metadata": {
    "papermill": {
     "duration": 0.00764,
     "end_time": "2024-03-27T13:32:16.920121",
     "exception": false,
     "start_time": "2024-03-27T13:32:16.912481",
     "status": "completed"
    },
    "tags": []
   },
   "source": [
    "## Hyperparameter Tuning RandomForest"
   ]
  },
  {
   "cell_type": "code",
   "execution_count": 8,
   "id": "f9856301",
   "metadata": {
    "execution": {
     "iopub.execute_input": "2024-03-27T13:32:16.937139Z",
     "iopub.status.busy": "2024-03-27T13:32:16.936693Z",
     "iopub.status.idle": "2024-03-27T13:32:19.603009Z",
     "shell.execute_reply": "2024-03-27T13:32:19.601876Z"
    },
    "papermill": {
     "duration": 2.678506,
     "end_time": "2024-03-27T13:32:19.606226",
     "exception": false,
     "start_time": "2024-03-27T13:32:16.927720",
     "status": "completed"
    },
    "tags": []
   },
   "outputs": [
    {
     "name": "stdout",
     "output_type": "stream",
     "text": [
      "Fitting 2 folds for each of 2 candidates, totalling 4 fits\n"
     ]
    },
    {
     "name": "stderr",
     "output_type": "stream",
     "text": [
      "/opt/conda/lib/python3.10/site-packages/sklearn/model_selection/_validation.py:686: DataConversionWarning: A column-vector y was passed when a 1d array was expected. Please change the shape of y to (n_samples,), for example using ravel().\n",
      "  estimator.fit(X_train, y_train, **fit_params)\n",
      "/opt/conda/lib/python3.10/site-packages/sklearn/ensemble/_forest.py:777: UserWarning: class_weight presets \"balanced\" or \"balanced_subsample\" are not recommended for warm_start if the fitted data differs from the full dataset. In order to use \"balanced\" weights, use compute_class_weight (\"balanced\", classes, y). In place of y you can use a large enough sample of the full training set target to properly estimate the class frequency distributions. Pass the resulting weights as the class_weight parameter.\n",
      "  warn(\n",
      "/opt/conda/lib/python3.10/site-packages/sklearn/ensemble/_forest.py:424: FutureWarning: `max_features='auto'` has been deprecated in 1.1 and will be removed in 1.3. To keep the past behaviour, explicitly set `max_features='sqrt'` or remove this parameter as it is also the default value for RandomForestClassifiers and ExtraTreesClassifiers.\n",
      "  warn(\n",
      "/opt/conda/lib/python3.10/site-packages/sklearn/model_selection/_validation.py:686: DataConversionWarning: A column-vector y was passed when a 1d array was expected. Please change the shape of y to (n_samples,), for example using ravel().\n",
      "  estimator.fit(X_train, y_train, **fit_params)\n",
      "/opt/conda/lib/python3.10/site-packages/sklearn/ensemble/_forest.py:777: UserWarning: class_weight presets \"balanced\" or \"balanced_subsample\" are not recommended for warm_start if the fitted data differs from the full dataset. In order to use \"balanced\" weights, use compute_class_weight (\"balanced\", classes, y). In place of y you can use a large enough sample of the full training set target to properly estimate the class frequency distributions. Pass the resulting weights as the class_weight parameter.\n",
      "  warn(\n",
      "/opt/conda/lib/python3.10/site-packages/sklearn/ensemble/_forest.py:424: FutureWarning: `max_features='auto'` has been deprecated in 1.1 and will be removed in 1.3. To keep the past behaviour, explicitly set `max_features='sqrt'` or remove this parameter as it is also the default value for RandomForestClassifiers and ExtraTreesClassifiers.\n",
      "  warn(\n",
      "/opt/conda/lib/python3.10/site-packages/sklearn/model_selection/_validation.py:686: DataConversionWarning: A column-vector y was passed when a 1d array was expected. Please change the shape of y to (n_samples,), for example using ravel().\n",
      "  estimator.fit(X_train, y_train, **fit_params)\n",
      "/opt/conda/lib/python3.10/site-packages/sklearn/ensemble/_forest.py:777: UserWarning: class_weight presets \"balanced\" or \"balanced_subsample\" are not recommended for warm_start if the fitted data differs from the full dataset. In order to use \"balanced\" weights, use compute_class_weight (\"balanced\", classes, y). In place of y you can use a large enough sample of the full training set target to properly estimate the class frequency distributions. Pass the resulting weights as the class_weight parameter.\n",
      "  warn(\n",
      "/opt/conda/lib/python3.10/site-packages/sklearn/ensemble/_forest.py:424: FutureWarning: `max_features='auto'` has been deprecated in 1.1 and will be removed in 1.3. To keep the past behaviour, explicitly set `max_features='sqrt'` or remove this parameter as it is also the default value for RandomForestClassifiers and ExtraTreesClassifiers.\n",
      "  warn(\n",
      "/opt/conda/lib/python3.10/site-packages/sklearn/model_selection/_validation.py:686: DataConversionWarning: A column-vector y was passed when a 1d array was expected. Please change the shape of y to (n_samples,), for example using ravel().\n",
      "  estimator.fit(X_train, y_train, **fit_params)\n",
      "/opt/conda/lib/python3.10/site-packages/sklearn/ensemble/_forest.py:777: UserWarning: class_weight presets \"balanced\" or \"balanced_subsample\" are not recommended for warm_start if the fitted data differs from the full dataset. In order to use \"balanced\" weights, use compute_class_weight (\"balanced\", classes, y). In place of y you can use a large enough sample of the full training set target to properly estimate the class frequency distributions. Pass the resulting weights as the class_weight parameter.\n",
      "  warn(\n",
      "/opt/conda/lib/python3.10/site-packages/sklearn/ensemble/_forest.py:424: FutureWarning: `max_features='auto'` has been deprecated in 1.1 and will be removed in 1.3. To keep the past behaviour, explicitly set `max_features='sqrt'` or remove this parameter as it is also the default value for RandomForestClassifiers and ExtraTreesClassifiers.\n",
      "  warn(\n"
     ]
    },
    {
     "name": "stdout",
     "output_type": "stream",
     "text": [
      "The best params are : {'bootstrap': True, 'class_weight': 'balanced', 'criterion': 'entropy', 'max_depth': 24, 'max_features': 'auto', 'min_samples_leaf': 7, 'min_samples_split': 2, 'n_estimators': 10, 'n_jobs': -1, 'oob_score': True, 'random_state': 42, 'verbose': 0, 'warm_start': True}\n",
      "The best score is   : 0.8449049518248976\n",
      "The test accuracy score of model after hyper-parameter tuning is  0.819672131147541\n",
      "CPU times: user 145 ms, sys: 77.1 ms, total: 222 ms\n",
      "Wall time: 2.66 s\n"
     ]
    }
   ],
   "source": [
    "%%time\n",
    "\n",
    "# instantiating the object\n",
    "model = RandomForestClassifier()\n",
    "\n",
    "# setting a grid - not so extensive\n",
    "parameters = {'n_estimators': [10],\n",
    "    'max_depth': [24],\n",
    "    'min_samples_split': [2],\n",
    "    'min_samples_leaf': [7],\n",
    "    'verbose': [0],  # Verbosity\n",
    "    'criterion': ['gini','entropy'],\n",
    "    'max_features': ['auto'],\n",
    "    'bootstrap':[True],\n",
    "    'class_weight':['balanced'],\n",
    "    'warm_start': [True],  # Warm start\n",
    "    'random_state': [42],  # Random state for reproducibility         \n",
    "    'oob_score':[True],\n",
    "    'n_jobs': [-1]}\n",
    "\n",
    "searcher = GridSearchCV(estimator = model, param_grid = parameters,cv=2, scoring='roc_auc',verbose=2, n_jobs=-1)\n",
    "\n",
    "# fitting the object\n",
    "searcher.fit(X_train, y_train)\n",
    "\n",
    "# the scores\n",
    "print(\"The best params are :\", searcher.best_params_)\n",
    "print(\"The best score is   :\", searcher.best_score_)\n",
    "\n",
    "# predicting the values\n",
    "y_pred = searcher.predict(X_test)\n",
    "\n",
    "# printing the test accuracy\n",
    "print(\"The test accuracy score of model after hyper-parameter tuning is \", accuracy_score(y_test, y_pred))"
   ]
  },
  {
   "cell_type": "code",
   "execution_count": 9,
   "id": "36b5af91",
   "metadata": {
    "execution": {
     "iopub.execute_input": "2024-03-27T13:32:19.633866Z",
     "iopub.status.busy": "2024-03-27T13:32:19.633415Z",
     "iopub.status.idle": "2024-03-27T13:32:19.640109Z",
     "shell.execute_reply": "2024-03-27T13:32:19.638418Z"
    },
    "papermill": {
     "duration": 0.024315,
     "end_time": "2024-03-27T13:32:19.643259",
     "exception": false,
     "start_time": "2024-03-27T13:32:19.618944",
     "status": "completed"
    },
    "tags": []
   },
   "outputs": [
    {
     "name": "stdout",
     "output_type": "stream",
     "text": [
      "{'bootstrap': True, 'class_weight': 'balanced', 'criterion': 'entropy', 'max_depth': 24, 'max_features': 'auto', 'min_samples_leaf': 7, 'min_samples_split': 2, 'n_estimators': 10, 'n_jobs': -1, 'oob_score': True, 'random_state': 42, 'verbose': 0, 'warm_start': True}\n"
     ]
    }
   ],
   "source": [
    "# Get the best hyperparameters from the GridSearchCV\n",
    "best_params = searcher.best_params_\n",
    "print(best_params)"
   ]
  },
  {
   "cell_type": "code",
   "execution_count": 10,
   "id": "3cb0d916",
   "metadata": {
    "execution": {
     "iopub.execute_input": "2024-03-27T13:32:19.661146Z",
     "iopub.status.busy": "2024-03-27T13:32:19.660722Z",
     "iopub.status.idle": "2024-03-27T13:32:19.797406Z",
     "shell.execute_reply": "2024-03-27T13:32:19.795975Z"
    },
    "papermill": {
     "duration": 0.149128,
     "end_time": "2024-03-27T13:32:19.800435",
     "exception": false,
     "start_time": "2024-03-27T13:32:19.651307",
     "status": "completed"
    },
    "tags": []
   },
   "outputs": [
    {
     "name": "stdout",
     "output_type": "stream",
     "text": [
      "0.8524590163934426\n",
      "[[26  3]\n",
      " [ 6 26]]\n",
      "              precision    recall  f1-score   support\n",
      "\n",
      "           0       0.81      0.90      0.85        29\n",
      "           1       0.90      0.81      0.85        32\n",
      "\n",
      "    accuracy                           0.85        61\n",
      "   macro avg       0.85      0.85      0.85        61\n",
      "weighted avg       0.86      0.85      0.85        61\n",
      "\n"
     ]
    }
   ],
   "source": [
    "model=RandomForestClassifier(**best_params)\n",
    "model.fit(X_resampled, y_resampled.values.ravel())\n",
    "predict = model.predict(X_test)\n",
    "acc = accuracy_score(y_test, predict)\n",
    "conf = confusion_matrix(y_test, predict)\n",
    "\n",
    "y_pred_proba = model.predict_proba(X_test)[:,1]\n",
    "fpr, tpr, thresholds = roc_curve(y_test, y_pred_proba)\n",
    "roc_auc = roc_auc_score(y_test,y_pred_proba)\n",
    "\n",
    "print(acc)\n",
    "print(conf)    \n",
    "print(classification_report(y_test,predict))"
   ]
  },
  {
   "cell_type": "code",
   "execution_count": 11,
   "id": "cbc37c18",
   "metadata": {
    "execution": {
     "iopub.execute_input": "2024-03-27T13:32:19.819158Z",
     "iopub.status.busy": "2024-03-27T13:32:19.818745Z",
     "iopub.status.idle": "2024-03-27T13:32:20.426274Z",
     "shell.execute_reply": "2024-03-27T13:32:20.425090Z"
    },
    "papermill": {
     "duration": 0.620659,
     "end_time": "2024-03-27T13:32:20.429589",
     "exception": false,
     "start_time": "2024-03-27T13:32:19.808930",
     "status": "completed"
    },
    "tags": []
   },
   "outputs": [
    {
     "data": {
      "image/png": "[encoded data removed]",
      "text/plain": [
       "<Figure size 200x200 with 1 Axes>"
      ]
     },
     "metadata": {},
     "output_type": "display_data"
    },
    {
     "data": {
      "image/png": "[encoded data removed]",
      "text/plain": [
       "<Figure size 800x800 with 1 Axes>"
      ]
     },
     "metadata": {},
     "output_type": "display_data"
    }
   ],
   "source": [
    "# Plot Confusion Matrix\n",
    "plt.figure(figsize=(2,2))\n",
    "sns.heatmap(conf, annot=True, fmt=\"d\", cmap=\"Blues\", cbar=False)\n",
    "plt.title(\"Confusion Matrix\")\n",
    "plt.xlabel(\"Predicted\")\n",
    "plt.ylabel(\"True\")\n",
    "plt.show()\n",
    "\n",
    "# Plot ROC Curve\n",
    "plt.figure(figsize=(8, 8))\n",
    "plt.plot(fpr, tpr, color='black', lw=2, label='ROC curve (area = {:.4f})'.format(roc_auc))\n",
    "plt.plot([0, 1], [0, 1], color='black', lw=2, linestyle='--')\n",
    "plt.xlim([0.0, 1.0])\n",
    "plt.ylim([0.0, 1.05])\n",
    "plt.xlabel('False Positive Rate')\n",
    "plt.ylabel('True Positive Rate')\n",
    "plt.title('Receiver Operating Characteristic (ROC) Curve')\n",
    "plt.legend(loc=\"lower right\")\n",
    "plt.show()"
   ]
  },
  {
   "cell_type": "code",
   "execution_count": 12,
   "id": "ae757a74",
   "metadata": {
    "execution": {
     "iopub.execute_input": "2024-03-27T13:32:20.458071Z",
     "iopub.status.busy": "2024-03-27T13:32:20.457656Z",
     "iopub.status.idle": "2024-03-27T13:32:20.876075Z",
     "shell.execute_reply": "2024-03-27T13:32:20.875161Z"
    },
    "papermill": {
     "duration": 0.435845,
     "end_time": "2024-03-27T13:32:20.878684",
     "exception": false,
     "start_time": "2024-03-27T13:32:20.442839",
     "status": "completed"
    },
    "tags": []
   },
   "outputs": [
    {
     "name": "stdout",
     "output_type": "stream",
     "text": [
      " - Feature Importance:\n",
      "      Feature  Importance\n",
      "4     oldpeak    0.198193\n",
      "3    thalachh    0.135127\n",
      "6      exng_1    0.132452\n",
      "0         age    0.100844\n",
      "21    thall_3    0.087496\n",
      "20    thall_2    0.063019\n",
      "18      slp_2    0.058416\n",
      "1      trtbps    0.052846\n",
      "2        chol    0.037018\n",
      "17      slp_1    0.033666\n",
      "7       caa_1    0.028745\n",
      "8       caa_2    0.027785\n",
      "5       sex_1    0.022911\n",
      "12       cp_2    0.018628\n",
      "11       cp_1    0.002853\n",
      "15  restecg_1    0.000000\n",
      "16  restecg_2    0.000000\n",
      "14      fbs_1    0.000000\n",
      "10      caa_4    0.000000\n",
      "19    thall_1    0.000000\n",
      "9       caa_3    0.000000\n",
      "13       cp_3    0.000000\n"
     ]
    },
    {
     "data": {
      "image/png": "[encoded data removed]",
      "text/plain": [
       "<Figure size 1000x600 with 1 Axes>"
      ]
     },
     "metadata": {},
     "output_type": "display_data"
    }
   ],
   "source": [
    "feature_importances = model.feature_importances_\n",
    "feature_names = X_train.columns\n",
    "importance_df = pd.DataFrame({'Feature': feature_names, 'Importance': feature_importances})\n",
    "sorted_df = importance_df.sort_values(by='Importance', ascending=False)\n",
    "sorted_df = sorted_df.head(10)\n",
    "\n",
    "# Print sorted feature importance\n",
    "print(f\" - Feature Importance:\")\n",
    "print(importance_df.sort_values(by='Importance', ascending=False))\n",
    "\n",
    " # Create seaborn bar plot\n",
    "plt.figure(figsize=(10, 6))\n",
    "sns.barplot(x='Importance', y='Feature', data=sorted_df, palette='viridis')\n",
    "plt.title(f\"- Feature Importance\")\n",
    "plt.show()"
   ]
  },
  {
   "cell_type": "code",
   "execution_count": 13,
   "id": "570b5a38",
   "metadata": {
    "execution": {
     "iopub.execute_input": "2024-03-27T13:32:20.900437Z",
     "iopub.status.busy": "2024-03-27T13:32:20.900034Z",
     "iopub.status.idle": "2024-03-27T13:32:21.340931Z",
     "shell.execute_reply": "2024-03-27T13:32:21.337876Z"
    },
    "papermill": {
     "duration": 0.455795,
     "end_time": "2024-03-27T13:32:21.344387",
     "exception": false,
     "start_time": "2024-03-27T13:32:20.888592",
     "status": "completed"
    },
    "tags": []
   },
   "outputs": [
    {
     "name": "stdout",
     "output_type": "stream",
     "text": [
      "Fitting 5 folds for each of 2 candidates, totalling 10 fits\n"
     ]
    },
    {
     "name": "stderr",
     "output_type": "stream",
     "text": [
      "/opt/conda/lib/python3.10/site-packages/sklearn/ensemble/_forest.py:583: UserWarning: Some inputs do not have OOB scores. This probably means too few trees were used to compute any reliable OOB estimates.\n",
      "  warn(\n",
      "/opt/conda/lib/python3.10/site-packages/sklearn/ensemble/_forest.py:583: UserWarning: Some inputs do not have OOB scores. This probably means too few trees were used to compute any reliable OOB estimates.\n",
      "  warn(\n"
     ]
    },
    {
     "name": "stdout",
     "output_type": "stream",
     "text": [
      "Predictions for new data:\n",
      "[0 0 0]\n",
      "Probability scores for each class:\n",
      "[[1. 0. 0.]\n",
      " [1. 0. 0.]\n",
      " [1. 0. 0.]]\n"
     ]
    }
   ],
   "source": [
    "import numpy as np\n",
    "from sklearn.datasets import load_iris\n",
    "from sklearn.ensemble import RandomForestClassifier\n",
    "from sklearn.model_selection import GridSearchCV, train_test_split\n",
    "from sklearn.preprocessing import RobustScaler\n",
    "from sklearn.pipeline import Pipeline\n",
    "import joblib\n",
    "\n",
    "# Load the iris dataset\n",
    "iris = load_iris()\n",
    "X = iris.data\n",
    "y = iris.target\n",
    "\n",
    "# Split the data into train and test sets\n",
    "X_train, X_test, y_train, y_test = train_test_split(X, y, test_size=0.2, random_state=42)\n",
    "\n",
    "# Define the preprocessing pipeline with RobustScaler\n",
    "preprocessor = Pipeline(steps=[('scaler', RobustScaler())])\n",
    "\n",
    "# Define the Random Forest classifier\n",
    "rf_clf = RandomForestClassifier()\n",
    "\n",
    "# Define the hyperparameters grid\n",
    "param_grid = {\n",
    "    'classifier__n_estimators': [10],\n",
    "    #'classifier__criterion': ['gini', 'entropy'],\n",
    "    #'classifier__max_depth': [None, 10, 20],\n",
    "    #'classifier__min_samples_split': [2, 5, 10],\n",
    "    #'classifier__min_samples_leaf': [1, 2, 4],\n",
    "    #'classifier__max_features': ['sqrt'],\n",
    "    #'classifier__bootstrap': [True, False],\n",
    "    #'classifier__class_weight': [None, 'balanced', 'balanced_subsample'],\n",
    "    #'classifier__random_state': [42],\n",
    "    #'classifier__warm_start': [True, False],\n",
    "    'classifier__oob_score': [True, False]\n",
    "}\n",
    "\n",
    "# Define GridSearchCV with preprocessing pipeline\n",
    "grid_search = GridSearchCV(estimator=Pipeline([('preprocessor', preprocessor), ('classifier', rf_clf)]),\n",
    "                           param_grid=param_grid, cv=5, n_jobs=-1, verbose=2)\n",
    "\n",
    "# Fit GridSearchCV\n",
    "grid_search.fit(X_train, y_train)\n",
    "\n",
    "# Save the model to disk\n",
    "saved_model_path = 'saved_model.pkl'\n",
    "joblib.dump(grid_search.best_estimator_, saved_model_path)\n",
    "\n",
    "# Load the saved model\n",
    "loaded_model = joblib.load(saved_model_path)\n",
    "\n",
    "# Load the new data\n",
    "new_data = np.array([[6.1, 2.8, 4.7, 1.2], [5.5, 2.6, 4.4, 1.5], [7.3, 2.9, 6.3, 1.8]])\n",
    "\n",
    "# Preprocess the new data using the saved preprocessing pipeline\n",
    "preprocessed_data = loaded_model.named_steps['preprocessor'].transform(new_data)\n",
    "\n",
    "# Make predictions using the loaded model\n",
    "predictions = loaded_model.predict(preprocessed_data)\n",
    "\n",
    "# Get probability scores for each class\n",
    "probability_scores = loaded_model.predict_proba(preprocessed_data)\n",
    "\n",
    "# Print or use the predictions and probability scores as needed\n",
    "print(\"Predictions for new data:\")\n",
    "print(predictions)\n",
    "print(\"Probability scores for each class:\")\n",
    "print(probability_scores)\n"
   ]
  },
  {
   "cell_type": "code",
   "execution_count": 14,
   "id": "2506416f",
   "metadata": {
    "execution": {
     "iopub.execute_input": "2024-03-27T13:32:21.369361Z",
     "iopub.status.busy": "2024-03-27T13:32:21.368229Z",
     "iopub.status.idle": "2024-03-27T13:32:21.629726Z",
     "shell.execute_reply": "2024-03-27T13:32:21.628254Z"
    },
    "papermill": {
     "duration": 0.277376,
     "end_time": "2024-03-27T13:32:21.633686",
     "exception": false,
     "start_time": "2024-03-27T13:32:21.356310",
     "status": "completed"
    },
    "tags": []
   },
   "outputs": [
    {
     "name": "stdout",
     "output_type": "stream",
     "text": [
      "Fitting 5 folds for each of 2 candidates, totalling 10 fits\n",
      "Best Parameters: {'classifier__n_estimators': 10, 'classifier__oob_score': True}\n",
      "Best Score (Accuracy): 0.9333333333333333\n",
      "Test Accuracy: 1.0\n",
      "Predictions for new data:\n",
      "[0 0 0]\n",
      "Probability scores for each class:\n",
      "[[0.9 0.  0.1]\n",
      " [0.9 0.  0.1]\n",
      " [0.9 0.  0.1]]\n"
     ]
    },
    {
     "name": "stderr",
     "output_type": "stream",
     "text": [
      "/opt/conda/lib/python3.10/site-packages/sklearn/ensemble/_forest.py:583: UserWarning: Some inputs do not have OOB scores. This probably means too few trees were used to compute any reliable OOB estimates.\n",
      "  warn(\n",
      "/opt/conda/lib/python3.10/site-packages/sklearn/ensemble/_forest.py:583: UserWarning: Some inputs do not have OOB scores. This probably means too few trees were used to compute any reliable OOB estimates.\n",
      "  warn(\n",
      "/opt/conda/lib/python3.10/site-packages/sklearn/ensemble/_forest.py:583: UserWarning: Some inputs do not have OOB scores. This probably means too few trees were used to compute any reliable OOB estimates.\n",
      "  warn(\n"
     ]
    }
   ],
   "source": [
    "import numpy as np\n",
    "from sklearn.datasets import load_iris\n",
    "from sklearn.ensemble import RandomForestClassifier\n",
    "from sklearn.model_selection import GridSearchCV, train_test_split, StratifiedKFold\n",
    "from sklearn.preprocessing import RobustScaler\n",
    "from sklearn.pipeline import Pipeline\n",
    "import joblib\n",
    "\n",
    "# Load the iris dataset\n",
    "iris = load_iris()\n",
    "X = iris.data\n",
    "y = iris.target\n",
    "\n",
    "# Split the data into train and test sets\n",
    "X_train, X_test, y_train, y_test = train_test_split(X, y, test_size=0.2, random_state=42)\n",
    "\n",
    "# Define the preprocessing pipeline with RobustScaler\n",
    "preprocessor = Pipeline(steps=[('scaler', RobustScaler())])\n",
    "\n",
    "# Define the Random Forest classifier\n",
    "rf_clf = RandomForestClassifier()\n",
    "\n",
    "# Define the hyperparameters grid\n",
    "param_grid = {\n",
    "    'classifier__n_estimators': [10],\n",
    "    #'classifier__max_depth': [None, 10, 20],\n",
    "    #'classifier__min_samples_split': [2, 5, 10],\n",
    "    #'classifier__min_samples_leaf': [1, 2, 4],\n",
    "    #'classifier__max_features': ['auto', 'sqrt', 'log2'],\n",
    "    #'classifier__bootstrap': [True, False],\n",
    "    #'classifier__class_weight': [None, 'balanced', 'balanced_subsample'],\n",
    "    #'classifier__random_state': [42],\n",
    "    #'classifier__warm_start': [True, False],\n",
    "    'classifier__oob_score': [True, False]\n",
    "}\n",
    "\n",
    "# Define Stratified KFold for cross-validation\n",
    "cv = StratifiedKFold(n_splits=5, shuffle=True, random_state=42)\n",
    "\n",
    "# Define GridSearchCV with preprocessing pipeline\n",
    "grid_search = GridSearchCV(estimator=Pipeline([('preprocessor', preprocessor), ('classifier', rf_clf)]),\n",
    "                           param_grid=param_grid, cv=cv, scoring='accuracy', n_jobs=-1, verbose=2)\n",
    "\n",
    "# Fit GridSearchCV\n",
    "grid_search.fit(X_train, y_train)\n",
    "\n",
    "# Log best parameters and best score\n",
    "print(\"Best Parameters:\", grid_search.best_params_)\n",
    "print(\"Best Score (Accuracy):\", grid_search.best_score_)\n",
    "\n",
    "# Evaluate the best model on the test set\n",
    "best_model = grid_search.best_estimator_\n",
    "test_accuracy = best_model.score(X_test, y_test)\n",
    "print(\"Test Accuracy:\", test_accuracy)\n",
    "\n",
    "# Save the best model to disk\n",
    "saved_model_path = 'saved_model.pkl'\n",
    "joblib.dump(best_model, saved_model_path)\n",
    "\n",
    "# Load the saved model\n",
    "loaded_model = joblib.load(saved_model_path)\n",
    "\n",
    "# Load the new data\n",
    "new_data = np.array([[6.1, 2.8, 4.7, 1.2], [5.5, 2.6, 4.4, 1.5], [7.3, 2.9, 6.3, 1.8]])\n",
    "\n",
    "# Preprocess the new data using the saved preprocessing pipeline\n",
    "preprocessed_data = loaded_model.named_steps['preprocessor'].transform(new_data)\n",
    "\n",
    "# Make predictions using the loaded model\n",
    "predictions = loaded_model.predict(preprocessed_data)\n",
    "\n",
    "# Get probability scores for each class\n",
    "probability_scores = loaded_model.predict_proba(preprocessed_data)\n",
    "\n",
    "# Print or use the predictions and probability scores as needed\n",
    "print(\"Predictions for new data:\")\n",
    "print(predictions)\n",
    "print(\"Probability scores for each class:\")\n",
    "print(probability_scores)\n"
   ]
  }
 ],
 "metadata": {
  "kaggle": {
   "accelerator": "none",
   "dataSources": [
    {
     "datasetId": 1226038,
     "sourceId": 2047221,
     "sourceType": "datasetVersion"
    }
   ],
   "dockerImageVersionId": 30673,
   "isGpuEnabled": false,
   "isInternetEnabled": false,
   "language": "python",
   "sourceType": "notebook"
  },
  "kernelspec": {
   "display_name": "Python 3",
   "language": "python",
   "name": "python3"
  },
  "language_info": {
   "codemirror_mode": {
    "name": "ipython",
    "version": 3
   },
   "file_extension": ".py",
   "mimetype": "text/x-python",
   "name": "python",
   "nbconvert_exporter": "python",
   "pygments_lexer": "ipython3",
   "version": "3.10.13"
  },
  "papermill": {
   "default_parameters": {},
   "duration": 15.691437,
   "end_time": "2024-03-27T13:32:24.265430",
   "environment_variables": {},
   "exception": null,
   "input_path": "__notebook__.ipynb",
   "output_path": "__notebook__.ipynb",
   "parameters": {},
   "start_time": "2024-03-27T13:32:08.573993",
   "version": "2.5.0"
  }
 },
 "nbformat": 4,
 "nbformat_minor": 5
}
