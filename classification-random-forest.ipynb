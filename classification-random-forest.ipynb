{
 "cells": [
  {
   "cell_type": "markdown",
   "id": "ac32a3eb",
   "metadata": {
    "papermill": {
     "duration": 0.005701,
     "end_time": "2024-03-28T15:35:34.690368",
     "exception": false,
     "start_time": "2024-03-28T15:35:34.684667",
     "status": "completed"
    },
    "tags": []
   },
   "source": [
    "# ML Classification - Random Forest\n",
    "- Build Classification Model\n",
    "- Extract features and build SQL Code Implementation\n",
    "- SQL Code Logistic Regression Implementation:\n",
    "\n",
    "# Key Features:\n",
    "### Data Loading and Preprocessing:\n",
    "\n",
    "- The script loads a heart-related dataset from a CSV file, handles missing values, and encodes categorical variables.\n",
    "- Robust scaling is applied to continuous features.\n",
    "\n",
    "### Model Training and Evaluation:\n",
    "\n",
    "- Several classification models (e.g., AdaBoost, Logistic Regression, Random Forest, Gradient Boosting) are trained and evaluated.\n",
    "- Model evaluation includes accuracy, confusion matrix, and ROC AUC. Cross-validation is implemented for more robust performance assessment.\n",
    "\n",
    "### Hyperparameter Tuning:\n",
    "\n",
    "- Hyperparameter tuning is performed for RandomForestClassifier and LogisticRegression using GridSearchCV.\n",
    "\n",
    "### Feature Importance (Tree-based Models):\n",
    "\n",
    "- For tree-based models, feature importance is extracted and displayed.\n",
    "\n",
    "### Model Saving:\n",
    "\n",
    "- Trained models are saved using joblib for potential deployment.\n"
   ]
  },
  {
   "cell_type": "code",
   "execution_count": 1,
   "id": "a8527e46",
   "metadata": {
    "_kg_hide-input": true,
    "_kg_hide-output": true,
    "execution": {
     "iopub.execute_input": "2024-03-28T15:35:34.704854Z",
     "iopub.status.busy": "2024-03-28T15:35:34.703944Z",
     "iopub.status.idle": "2024-03-28T15:35:36.894503Z",
     "shell.execute_reply": "2024-03-28T15:35:36.893259Z"
    },
    "jupyter": {
     "source_hidden": true
    },
    "papermill": {
     "duration": 2.200367,
     "end_time": "2024-03-28T15:35:36.897178",
     "exception": false,
     "start_time": "2024-03-28T15:35:34.696811",
     "status": "completed"
    },
    "tags": []
   },
   "outputs": [],
   "source": [
    "try:\n",
    "    import imblearn\n",
    "except ImportError:\n",
    "    print(\"imbalanced-learn not found. Installing...\")\n",
    "    !pip install imbalanced-learn\n",
    "    print(\"imbalanced-learn installed successfully!\")\n",
    "\n",
    "# Now import and use imbalanced-learn\n",
    "from imblearn.over_sampling import RandomOverSampler"
   ]
  },
  {
   "cell_type": "code",
   "execution_count": 2,
   "id": "21640dbc",
   "metadata": {
    "_kg_hide-input": true,
    "_kg_hide-output": true,
    "execution": {
     "iopub.execute_input": "2024-03-28T15:35:36.911143Z",
     "iopub.status.busy": "2024-03-28T15:35:36.909899Z",
     "iopub.status.idle": "2024-03-28T15:35:39.511956Z",
     "shell.execute_reply": "2024-03-28T15:35:39.510386Z"
    },
    "jupyter": {
     "source_hidden": true
    },
    "papermill": {
     "duration": 2.612243,
     "end_time": "2024-03-28T15:35:39.515158",
     "exception": false,
     "start_time": "2024-03-28T15:35:36.902915",
     "status": "completed"
    },
    "tags": []
   },
   "outputs": [],
   "source": [
    "# Importing necessary packages\n",
    "import os\n",
    "import numpy as np\n",
    "import pandas as pd\n",
    "import logging\n",
    "import warnings\n",
    "import joblib\n",
    "import seaborn as sns\n",
    "import matplotlib.pyplot as plt\n",
    "import plotly.express as px\n",
    "import csv\n",
    "\n",
    "import matplotlib.pyplot as plt\n",
    "from matplotlib.colors import LogNorm\n",
    "from matplotlib.lines import Line2D\n",
    "from matplotlib import cm\n",
    "import matplotlib\n",
    "from matplotlib import ticker\n",
    "from mpl_toolkits.mplot3d import Axes3D\n",
    "import matplotlib.ticker as mtick\n",
    "from matplotlib.patches import Patch\n",
    "from matplotlib.lines import Line2D\n",
    "\n",
    "from sklearn.calibration import calibration_curve\n",
    "from scikitplot.metrics import plot_precision_recall\n",
    "from sklearn.metrics import precision_recall_curve, auc\n",
    "from scikitplot.metrics import plot_lift_curve\n",
    "from scikitplot.metrics import plot_cumulative_gain\n",
    "from sklearn.metrics import classification_report, roc_curve, accuracy_score, confusion_matrix, roc_auc_score, precision_score, recall_score, f1_score, precision_recall_curve\n",
    "from sklearn.ensemble import AdaBoostClassifier, RandomForestClassifier, GradientBoostingClassifier,ExtraTreesClassifier\n",
    "from sklearn.linear_model import LogisticRegression\n",
    "from sklearn.model_selection import train_test_split, GridSearchCV, cross_val_score,StratifiedKFold\n",
    "from sklearn.neighbors import KNeighborsClassifier\n",
    "from sklearn.preprocessing import RobustScaler\n",
    "from sklearn.model_selection import learning_curve\n",
    "from sklearn.svm import SVC\n",
    "from sklearn.tree import DecisionTreeClassifier\n",
    "from sklearn.naive_bayes import GaussianNB\n",
    "from sklearn.neural_network import MLPClassifier\n",
    "from sklearn.exceptions import ConvergenceWarning\n",
    "\n",
    "from sklearn.datasets import load_iris\n",
    "from sklearn.ensemble import RandomForestClassifier\n",
    "from sklearn.model_selection import GridSearchCV, train_test_split\n",
    "from sklearn.preprocessing import RobustScaler\n",
    "from sklearn.pipeline import Pipeline\n",
    "import joblib\n",
    "\n",
    "import xgboost as xgb\n",
    "import sqlite3\n",
    "\n",
    "\n",
    "# Setting up options and ignoring warnings\n",
    "pd.set_option('display.max_rows', None)\n",
    "pd.set_option('display.max_columns', None)\n",
    "pd.set_option('float_format', '{:f}'.format)\n",
    "warnings.filterwarnings('ignore')\n",
    "\n",
    "# Setting up logging with a FileHandler\n",
    "log_file_path = 'classification_log.txt'\n",
    "logging.basicConfig(level=logging.INFO, format='%(asctime)s - %(levelname)s - %(message)s', datefmt='%Y-%m-%d %H:%M:%S')\n",
    "\n",
    "file_handler = logging.FileHandler(log_file_path)\n",
    "file_handler.setLevel(logging.INFO)\n",
    "file_handler.setFormatter(logging.Formatter('%(asctime)s - %(levelname)s - %(message)s'))\n",
    "\n",
    "logger = logging.getLogger(__name__)\n",
    "logger.addHandler(file_handler)"
   ]
  },
  {
   "cell_type": "code",
   "execution_count": 3,
   "id": "42534b41",
   "metadata": {
    "execution": {
     "iopub.execute_input": "2024-03-28T15:35:39.531878Z",
     "iopub.status.busy": "2024-03-28T15:35:39.530655Z",
     "iopub.status.idle": "2024-03-28T15:35:39.579261Z",
     "shell.execute_reply": "2024-03-28T15:35:39.577738Z"
    },
    "papermill": {
     "duration": 0.059669,
     "end_time": "2024-03-28T15:35:39.582827",
     "exception": false,
     "start_time": "2024-03-28T15:35:39.523158",
     "status": "completed"
    },
    "tags": []
   },
   "outputs": [
    {
     "data": {
      "text/html": [
       "<div>\n",
       "<style scoped>\n",
       "    .dataframe tbody tr th:only-of-type {\n",
       "        vertical-align: middle;\n",
       "    }\n",
       "\n",
       "    .dataframe tbody tr th {\n",
       "        vertical-align: top;\n",
       "    }\n",
       "\n",
       "    .dataframe thead th {\n",
       "        text-align: right;\n",
       "    }\n",
       "</style>\n",
       "<table border=\"1\" class=\"dataframe\">\n",
       "  <thead>\n",
       "    <tr style=\"text-align: right;\">\n",
       "      <th></th>\n",
       "      <th>age</th>\n",
       "      <th>sex</th>\n",
       "      <th>cp</th>\n",
       "      <th>trtbps</th>\n",
       "      <th>chol</th>\n",
       "      <th>fbs</th>\n",
       "      <th>restecg</th>\n",
       "      <th>thalachh</th>\n",
       "      <th>exng</th>\n",
       "      <th>oldpeak</th>\n",
       "      <th>slp</th>\n",
       "      <th>caa</th>\n",
       "      <th>thall</th>\n",
       "      <th>output</th>\n",
       "    </tr>\n",
       "  </thead>\n",
       "  <tbody>\n",
       "    <tr>\n",
       "      <th>0</th>\n",
       "      <td>63</td>\n",
       "      <td>1</td>\n",
       "      <td>3</td>\n",
       "      <td>145</td>\n",
       "      <td>233</td>\n",
       "      <td>1</td>\n",
       "      <td>0</td>\n",
       "      <td>150</td>\n",
       "      <td>0</td>\n",
       "      <td>2.300000</td>\n",
       "      <td>0</td>\n",
       "      <td>0</td>\n",
       "      <td>1</td>\n",
       "      <td>1</td>\n",
       "    </tr>\n",
       "    <tr>\n",
       "      <th>1</th>\n",
       "      <td>37</td>\n",
       "      <td>1</td>\n",
       "      <td>2</td>\n",
       "      <td>130</td>\n",
       "      <td>250</td>\n",
       "      <td>0</td>\n",
       "      <td>1</td>\n",
       "      <td>187</td>\n",
       "      <td>0</td>\n",
       "      <td>3.500000</td>\n",
       "      <td>0</td>\n",
       "      <td>0</td>\n",
       "      <td>2</td>\n",
       "      <td>1</td>\n",
       "    </tr>\n",
       "  </tbody>\n",
       "</table>\n",
       "</div>"
      ],
      "text/plain": [
       "   age  sex  cp  trtbps  chol  fbs  restecg  thalachh  exng  oldpeak  slp  \\\n",
       "0   63    1   3     145   233    1        0       150     0 2.300000    0   \n",
       "1   37    1   2     130   250    0        1       187     0 3.500000    0   \n",
       "\n",
       "   caa  thall  output  \n",
       "0    0      1       1  \n",
       "1    0      2       1  "
      ]
     },
     "execution_count": 3,
     "metadata": {},
     "output_type": "execute_result"
    }
   ],
   "source": [
    "model_name='model.pkl'\n",
    "\n",
    "# Reading the dataset\n",
    "dataset_path = \"/kaggle/input/heart.csv\"\n",
    "\n",
    "# Reading the dataset\n",
    "#dataset_path = \"../input/heart-attack-analysis-prediction-dataset/heart.csv\"\n",
    "#/kaggle/input/heart-attack-analysis-prediction-dataset/heart.csv\n",
    "\n",
    "try:\n",
    "    # Attempt to read the dataset\n",
    "    df = pd.read_csv(dataset_path)\n",
    "    logger.info(f\"Dataset loaded successfully from {dataset_path}\")\n",
    "except FileNotFoundError:\n",
    "    logger.error(\"Error: Dataset file not found. Please provide the correct file path.\")\n",
    "except Exception as e:\n",
    "    logger.error(f\"An error occurred: {e}\")\n",
    "    \n",
    "df.head(2)"
   ]
  },
  {
   "cell_type": "code",
   "execution_count": 4,
   "id": "70fed398",
   "metadata": {
    "execution": {
     "iopub.execute_input": "2024-03-28T15:35:39.597519Z",
     "iopub.status.busy": "2024-03-28T15:35:39.597073Z",
     "iopub.status.idle": "2024-03-28T15:35:39.633329Z",
     "shell.execute_reply": "2024-03-28T15:35:39.631639Z"
    },
    "papermill": {
     "duration": 0.047888,
     "end_time": "2024-03-28T15:35:39.637361",
     "exception": false,
     "start_time": "2024-03-28T15:35:39.589473",
     "status": "completed"
    },
    "tags": []
   },
   "outputs": [],
   "source": [
    "# creating a copy of df\n",
    "df1 = df.fillna(0)\n",
    "\n",
    "# define the columns to be encoded and scaled\n",
    "cat_cols = ['sex','exng','caa','cp','fbs','restecg','slp','thall']\n",
    "con_cols = [\"age\",\"trtbps\",\"chol\",\"thalachh\",\"oldpeak\"]\n",
    "\n",
    "#target column name\n",
    "label_name = 'output'\n",
    "\n",
    "# encoding the categorical columns\n",
    "df1 = pd.get_dummies(df1, columns = cat_cols, drop_first = True)\n",
    "\n",
    "# defining the features and target\n",
    "X = df1.drop([label_name],axis=1)\n",
    "y = df1[[label_name]]"
   ]
  },
  {
   "cell_type": "code",
   "execution_count": 5,
   "id": "046154f0",
   "metadata": {
    "execution": {
     "iopub.execute_input": "2024-03-28T15:35:39.657226Z",
     "iopub.status.busy": "2024-03-28T15:35:39.655744Z",
     "iopub.status.idle": "2024-03-28T15:35:39.674046Z",
     "shell.execute_reply": "2024-03-28T15:35:39.672684Z"
    },
    "papermill": {
     "duration": 0.030487,
     "end_time": "2024-03-28T15:35:39.676780",
     "exception": false,
     "start_time": "2024-03-28T15:35:39.646293",
     "status": "completed"
    },
    "tags": []
   },
   "outputs": [
    {
     "name": "stdout",
     "output_type": "stream",
     "text": [
      "The shape of X_train is       (242, 22)\n",
      "The shape of X_test is        (61, 22)\n",
      "The shape of y_train is       (242, 1)\n",
      "The shape of y_test is        (61, 1)\n"
     ]
    }
   ],
   "source": [
    "# Splitting the dataset into training and testing sets\n",
    "X_train, X_test, y_train, y_test = train_test_split(X,y, test_size = 0.2, random_state = 42)\n",
    "print(\"The shape of X_train is      \", X_train.shape)\n",
    "print(\"The shape of X_test is       \",X_test.shape)\n",
    "print(\"The shape of y_train is      \",y_train.shape)\n",
    "print(\"The shape of y_test is       \",y_test.shape)"
   ]
  },
  {
   "cell_type": "markdown",
   "id": "82a0b513",
   "metadata": {
    "papermill": {
     "duration": 0.005693,
     "end_time": "2024-03-28T15:35:39.688541",
     "exception": false,
     "start_time": "2024-03-28T15:35:39.682848",
     "status": "completed"
    },
    "tags": []
   },
   "source": [
    "### For binary classification:\n",
    "- accuracy: Calculates the accuracy of the classifier.\n",
    "- precision': Measures the ability of the classifier not to label as positive a sample that is negative.\n",
    "- recall: Measures the ability of the classifier to capture all the positive samples.\n",
    "- f1: Combines precision and recall into a single metric.\n",
    "- roc_auc: Computes the area under the Receiver Operating Characteristic (ROC) curve."
   ]
  },
  {
   "cell_type": "markdown",
   "id": "98281661",
   "metadata": {
    "papermill": {
     "duration": 0.005821,
     "end_time": "2024-03-28T15:35:39.700977",
     "exception": false,
     "start_time": "2024-03-28T15:35:39.695156",
     "status": "completed"
    },
    "tags": []
   },
   "source": [
    "## Hyperparameter Tuning RandomForest"
   ]
  },
  {
   "cell_type": "code",
   "execution_count": 6,
   "id": "648d1086",
   "metadata": {
    "execution": {
     "iopub.execute_input": "2024-03-28T15:35:39.716260Z",
     "iopub.status.busy": "2024-03-28T15:35:39.714980Z",
     "iopub.status.idle": "2024-03-28T15:35:42.152863Z",
     "shell.execute_reply": "2024-03-28T15:35:42.151066Z"
    },
    "papermill": {
     "duration": 2.448971,
     "end_time": "2024-03-28T15:35:42.155991",
     "exception": false,
     "start_time": "2024-03-28T15:35:39.707020",
     "status": "completed"
    },
    "tags": []
   },
   "outputs": [
    {
     "name": "stdout",
     "output_type": "stream",
     "text": [
      "Fitting 2 folds for each of 1 candidates, totalling 2 fits\n"
     ]
    },
    {
     "name": "stderr",
     "output_type": "stream",
     "text": [
      "/opt/conda/lib/python3.10/site-packages/sklearn/pipeline.py:405: DataConversionWarning: A column-vector y was passed when a 1d array was expected. Please change the shape of y to (n_samples,), for example using ravel().\n",
      "  self._final_estimator.fit(Xt, y, **fit_params_last_step)\n",
      "/opt/conda/lib/python3.10/site-packages/sklearn/pipeline.py:405: DataConversionWarning: A column-vector y was passed when a 1d array was expected. Please change the shape of y to (n_samples,), for example using ravel().\n",
      "  self._final_estimator.fit(Xt, y, **fit_params_last_step)\n"
     ]
    },
    {
     "name": "stdout",
     "output_type": "stream",
     "text": [
      "Class 0: 0\n",
      "Class 1: 1\n",
      "The best params are : {'classifier__n_estimators': 50, 'classifier__random_state': 42, 'classifier__warm_start': True}\n",
      "The best score is   : 0.883837470133264\n",
      "{'classifier__n_estimators': 50, 'classifier__random_state': 42, 'classifier__warm_start': True}\n",
      "CPU times: user 237 ms, sys: 81 ms, total: 318 ms\n",
      "Wall time: 2.42 s\n"
     ]
    }
   ],
   "source": [
    "%%time\n",
    "\n",
    "# Define the preprocessing pipeline with RobustScaler\n",
    "preprocessor = Pipeline(steps=[('scaler', RobustScaler())])\n",
    "\n",
    "# Define the Random Forest classifier\n",
    "rf_clf = RandomForestClassifier()\n",
    "\n",
    "# Define Stratified KFold for cross-validation\n",
    "cv = StratifiedKFold(n_splits=2, shuffle=True, random_state=42)\n",
    "\n",
    "# Define the hyperparameters grid\n",
    "param_grid = {\n",
    "    'classifier__n_estimators': [50],\n",
    "    #'classifier__criterion': ['entropy'],\n",
    "    #'classifier__max_depth': [20,21,22,23,24],\n",
    "    #'classifier__min_samples_split': [1,2,3],\n",
    "    #'classifier__min_samples_leaf': [4,5,6,7,8],\n",
    "    #'classifier__class_weight': [{0:1,1:3},{0:1,1:2}],\n",
    "    'classifier__random_state': [42],\n",
    "    'classifier__warm_start': [True]\n",
    "    #'classifier__oob_score': [True]\n",
    "}\n",
    "\n",
    "# Define GridSearchCV with preprocessing pipeline\n",
    "grid_search = GridSearchCV(estimator=Pipeline([('preprocessor', preprocessor), ('classifier', rf_clf)]),\n",
    "                           param_grid=param_grid, cv=cv, n_jobs=-1, verbose=2, scoring='roc_auc')\n",
    "\n",
    "# Fit GridSearchCV\n",
    "grid_search.fit(X_train, y_train)\n",
    "\n",
    "# Get the best estimator\n",
    "best_estimator = grid_search.best_estimator_\n",
    "\n",
    "# Print the mapping of class labels to actual class names\n",
    "print(\"Class 0:\", best_estimator.classes_[0])\n",
    "print(\"Class 1:\", best_estimator.classes_[1])\n",
    "\n",
    "# the scores\n",
    "print(\"The best params are :\", grid_search.best_params_)\n",
    "print(\"The best score is   :\", grid_search.best_score_)\n",
    "\n",
    "# Save the model to disk\n",
    "joblib.dump(grid_search.best_estimator_, model_name)\n",
    "\n",
    "# Get the best hyperparameters from the GridSearchCV\n",
    "best_params = grid_search.best_params_\n",
    "print(best_params)"
   ]
  },
  {
   "cell_type": "code",
   "execution_count": 7,
   "id": "eae5e958",
   "metadata": {
    "execution": {
     "iopub.execute_input": "2024-03-28T15:35:42.171973Z",
     "iopub.status.busy": "2024-03-28T15:35:42.171419Z",
     "iopub.status.idle": "2024-03-28T15:35:42.264401Z",
     "shell.execute_reply": "2024-03-28T15:35:42.262981Z"
    },
    "papermill": {
     "duration": 0.10448,
     "end_time": "2024-03-28T15:35:42.267269",
     "exception": false,
     "start_time": "2024-03-28T15:35:42.162789",
     "status": "completed"
    },
    "tags": []
   },
   "outputs": [
    {
     "name": "stdout",
     "output_type": "stream",
     "text": [
      "0.9455818965517241\n",
      "0.8524590163934426\n",
      "[[27  2]\n",
      " [ 7 25]]\n",
      "              precision    recall  f1-score   support\n",
      "\n",
      "           0       0.79      0.93      0.86        29\n",
      "           1       0.93      0.78      0.85        32\n",
      "\n",
      "    accuracy                           0.85        61\n",
      "   macro avg       0.86      0.86      0.85        61\n",
      "weighted avg       0.86      0.85      0.85        61\n",
      "\n"
     ]
    }
   ],
   "source": [
    "# Load the saved model\n",
    "loaded_model = joblib.load(model_name)\n",
    "\n",
    "# Preprocess the new data using the saved preprocessing pipeline\n",
    "preprocessed_data = loaded_model.named_steps['preprocessor'].transform(X_test)\n",
    "\n",
    "# Make predictions using the loaded model\n",
    "predict = loaded_model.predict(preprocessed_data)\n",
    "\n",
    "# Get probability scores for each class\n",
    "probability_scores = loaded_model.predict_proba(preprocessed_data)\n",
    "\n",
    "acc = accuracy_score(y_test, predict)\n",
    "conf = confusion_matrix(y_test, predict)\n",
    "\n",
    "y_pred_proba = loaded_model.predict_proba(X_test)[:,1]\n",
    "fpr, tpr, thresholds = roc_curve(y_test, y_pred_proba)\n",
    "roc_auc = roc_auc_score(y_test,y_pred_proba)\n",
    "\n",
    "print(roc_auc)\n",
    "print(acc)\n",
    "print(conf)    \n",
    "print(classification_report(y_test,predict))"
   ]
  },
  {
   "cell_type": "code",
   "execution_count": 8,
   "id": "c6a19695",
   "metadata": {
    "execution": {
     "iopub.execute_input": "2024-03-28T15:35:42.282827Z",
     "iopub.status.busy": "2024-03-28T15:35:42.282380Z",
     "iopub.status.idle": "2024-03-28T15:35:44.161577Z",
     "shell.execute_reply": "2024-03-28T15:35:44.160185Z"
    },
    "papermill": {
     "duration": 1.890532,
     "end_time": "2024-03-28T15:35:44.164573",
     "exception": false,
     "start_time": "2024-03-28T15:35:42.274041",
     "status": "completed"
    },
    "tags": []
   },
   "outputs": [
    {
     "data": {
      "image/png": "[encoded data removed]",
      "text/plain": [
       "<Figure size 200x200 with 1 Axes>"
      ]
     },
     "metadata": {},
     "output_type": "display_data"
    },
    {
     "data": {
      "image/png": "[encoded data removed]",
      "text/plain": [
       "<Figure size 800x800 with 1 Axes>"
      ]
     },
     "metadata": {},
     "output_type": "display_data"
    }
   ],
   "source": [
    "# Plot Confusion Matrix\n",
    "plt.figure(figsize=(2,2))\n",
    "sns.heatmap(conf, annot=True, fmt=\"d\", cmap=\"Blues\", cbar=False)\n",
    "plt.title(\"Confusion Matrix\")\n",
    "plt.xlabel(\"Predicted\")\n",
    "plt.ylabel(\"True\")\n",
    "\n",
    "# Show the plot\n",
    "plt.savefig(\"Confusion_Matrix.png\",transparent=True,bbox_inches='tight',pad_inches=0.05,dpi=400) \n",
    "plt.show()\n",
    "\n",
    "# Plot ROC Curve\n",
    "plt.figure(figsize=(8, 8))\n",
    "plt.plot(fpr, tpr, color='black', lw=2, label='ROC curve (area = {:.4f})'.format(roc_auc))\n",
    "plt.plot([0, 1], [0, 1], color='black', lw=2, linestyle='--')\n",
    "plt.xlim([0.0, 1.0])\n",
    "plt.ylim([0.0, 1.05])\n",
    "plt.xlabel('False Positive Rate')\n",
    "plt.ylabel('True Positive Rate')\n",
    "plt.title('Receiver Operating Characteristic (ROC) Curve')\n",
    "plt.legend(loc=\"lower right\")\n",
    "\n",
    "# Show the plot\n",
    "plt.savefig(\"ROC_Curve.png\",transparent=True,bbox_inches='tight',pad_inches=0.05,dpi=400) \n",
    "plt.show()"
   ]
  },
  {
   "cell_type": "code",
   "execution_count": 9,
   "id": "8d192420",
   "metadata": {
    "execution": {
     "iopub.execute_input": "2024-03-28T15:35:44.182779Z",
     "iopub.status.busy": "2024-03-28T15:35:44.181759Z",
     "iopub.status.idle": "2024-03-28T15:35:45.841802Z",
     "shell.execute_reply": "2024-03-28T15:35:45.840463Z"
    },
    "papermill": {
     "duration": 1.672244,
     "end_time": "2024-03-28T15:35:45.844646",
     "exception": false,
     "start_time": "2024-03-28T15:35:44.172402",
     "status": "completed"
    },
    "tags": []
   },
   "outputs": [
    {
     "name": "stdout",
     "output_type": "stream",
     "text": [
      "Feature Importance\n",
      "      Feature  Importance\n",
      "20    thall_2    0.123998\n",
      "4     oldpeak    0.110998\n",
      "3    thalachh    0.096463\n",
      "2        chol    0.088522\n",
      "0         age    0.081632\n",
      "1      trtbps    0.080898\n",
      "6      exng_1    0.072930\n",
      "21    thall_3    0.058936\n",
      "7       caa_1    0.042188\n",
      "18      slp_2    0.040084\n",
      "12       cp_2    0.035239\n",
      "5       sex_1    0.030496\n",
      "8       caa_2    0.029971\n",
      "17      slp_1    0.027139\n",
      "15  restecg_1    0.017002\n",
      "14      fbs_1    0.015277\n",
      "9       caa_3    0.014155\n",
      "11       cp_1    0.013705\n",
      "13       cp_3    0.013499\n",
      "19    thall_1    0.003699\n",
      "16  restecg_2    0.002061\n",
      "10      caa_4    0.001110\n"
     ]
    },
    {
     "data": {
      "image/png": "[encoded data removed]",
      "text/plain": [
       "<Figure size 1000x700 with 1 Axes>"
      ]
     },
     "metadata": {},
     "output_type": "display_data"
    }
   ],
   "source": [
    "feature_importances = loaded_model.named_steps['classifier'].feature_importances_\n",
    "feature_names = X_train.columns\n",
    "importance_df = pd.DataFrame({'Feature': feature_names, 'Importance': feature_importances})\n",
    "sorted_df = importance_df.sort_values(by='Importance', ascending=False)\n",
    "sorted_df = sorted_df.head(15)\n",
    "\n",
    "# Print sorted feature importance\n",
    "print(f\"Feature Importance\")\n",
    "print(importance_df.sort_values(by='Importance', ascending=False))\n",
    "\n",
    " # Create seaborn bar plot\n",
    "plt.figure(figsize=(10, 7))\n",
    "sns.barplot(x='Importance', y='Feature', data=sorted_df, color='black')\n",
    "plt.title(f\"Feature Importance\")\n",
    "\n",
    "# Show the plot\n",
    "plt.savefig(\"Feature_Importance.png\",transparent=True,bbox_inches='tight',pad_inches=0.05,dpi=400) \n",
    "plt.show()"
   ]
  },
  {
   "cell_type": "code",
   "execution_count": 10,
   "id": "e572f47e",
   "metadata": {
    "execution": {
     "iopub.execute_input": "2024-03-28T15:35:45.864763Z",
     "iopub.status.busy": "2024-03-28T15:35:45.863549Z",
     "iopub.status.idle": "2024-03-28T15:35:45.887115Z",
     "shell.execute_reply": "2024-03-28T15:35:45.885686Z"
    },
    "papermill": {
     "duration": 0.036751,
     "end_time": "2024-03-28T15:35:45.890018",
     "exception": false,
     "start_time": "2024-03-28T15:35:45.853267",
     "status": "completed"
    },
    "tags": []
   },
   "outputs": [
    {
     "data": {
      "text/html": [
       "<div>\n",
       "<style scoped>\n",
       "    .dataframe tbody tr th:only-of-type {\n",
       "        vertical-align: middle;\n",
       "    }\n",
       "\n",
       "    .dataframe tbody tr th {\n",
       "        vertical-align: top;\n",
       "    }\n",
       "\n",
       "    .dataframe thead th {\n",
       "        text-align: right;\n",
       "    }\n",
       "</style>\n",
       "<table border=\"1\" class=\"dataframe\">\n",
       "  <thead>\n",
       "    <tr style=\"text-align: right;\">\n",
       "      <th></th>\n",
       "      <th>age</th>\n",
       "      <th>trtbps</th>\n",
       "      <th>chol</th>\n",
       "      <th>thalachh</th>\n",
       "      <th>oldpeak</th>\n",
       "      <th>sex_1</th>\n",
       "      <th>exng_1</th>\n",
       "      <th>caa_1</th>\n",
       "      <th>caa_2</th>\n",
       "      <th>caa_3</th>\n",
       "      <th>caa_4</th>\n",
       "      <th>cp_1</th>\n",
       "      <th>cp_2</th>\n",
       "      <th>cp_3</th>\n",
       "      <th>fbs_1</th>\n",
       "      <th>restecg_1</th>\n",
       "      <th>restecg_2</th>\n",
       "      <th>slp_1</th>\n",
       "      <th>slp_2</th>\n",
       "      <th>thall_1</th>\n",
       "      <th>thall_2</th>\n",
       "      <th>thall_3</th>\n",
       "      <th>conversion</th>\n",
       "    </tr>\n",
       "  </thead>\n",
       "  <tbody>\n",
       "    <tr>\n",
       "      <th>0</th>\n",
       "      <td>0.115385</td>\n",
       "      <td>1.000000</td>\n",
       "      <td>0.581673</td>\n",
       "      <td>-1.411765</td>\n",
       "      <td>-0.125000</td>\n",
       "      <td>0.000000</td>\n",
       "      <td>1.000000</td>\n",
       "      <td>1.000000</td>\n",
       "      <td>0.000000</td>\n",
       "      <td>0.000000</td>\n",
       "      <td>0.000000</td>\n",
       "      <td>0.000000</td>\n",
       "      <td>0.000000</td>\n",
       "      <td>0.000000</td>\n",
       "      <td>0.000000</td>\n",
       "      <td>-1.000000</td>\n",
       "      <td>0.000000</td>\n",
       "      <td>1.000000</td>\n",
       "      <td>0.000000</td>\n",
       "      <td>1.000000</td>\n",
       "      <td>-1.000000</td>\n",
       "      <td>0.000000</td>\n",
       "      <td>NaN</td>\n",
       "    </tr>\n",
       "    <tr>\n",
       "      <th>1</th>\n",
       "      <td>0.269231</td>\n",
       "      <td>2.000000</td>\n",
       "      <td>0.772908</td>\n",
       "      <td>0.168067</td>\n",
       "      <td>-0.375000</td>\n",
       "      <td>0.000000</td>\n",
       "      <td>0.000000</td>\n",
       "      <td>0.000000</td>\n",
       "      <td>0.000000</td>\n",
       "      <td>0.000000</td>\n",
       "      <td>0.000000</td>\n",
       "      <td>0.000000</td>\n",
       "      <td>0.000000</td>\n",
       "      <td>1.000000</td>\n",
       "      <td>0.000000</td>\n",
       "      <td>-1.000000</td>\n",
       "      <td>0.000000</td>\n",
       "      <td>1.000000</td>\n",
       "      <td>0.000000</td>\n",
       "      <td>0.000000</td>\n",
       "      <td>-1.000000</td>\n",
       "      <td>1.000000</td>\n",
       "      <td>NaN</td>\n",
       "    </tr>\n",
       "  </tbody>\n",
       "</table>\n",
       "</div>"
      ],
      "text/plain": [
       "       age   trtbps     chol  thalachh   oldpeak    sex_1   exng_1    caa_1  \\\n",
       "0 0.115385 1.000000 0.581673 -1.411765 -0.125000 0.000000 1.000000 1.000000   \n",
       "1 0.269231 2.000000 0.772908  0.168067 -0.375000 0.000000 0.000000 0.000000   \n",
       "\n",
       "     caa_2    caa_3    caa_4     cp_1     cp_2     cp_3    fbs_1  restecg_1  \\\n",
       "0 0.000000 0.000000 0.000000 0.000000 0.000000 0.000000 0.000000  -1.000000   \n",
       "1 0.000000 0.000000 0.000000 0.000000 0.000000 1.000000 0.000000  -1.000000   \n",
       "\n",
       "   restecg_2    slp_1    slp_2  thall_1   thall_2  thall_3  conversion  \n",
       "0   0.000000 1.000000 0.000000 1.000000 -1.000000 0.000000         NaN  \n",
       "1   0.000000 1.000000 0.000000 0.000000 -1.000000 1.000000         NaN  "
      ]
     },
     "execution_count": 10,
     "metadata": {},
     "output_type": "execute_result"
    }
   ],
   "source": [
    "df = pd.DataFrame(preprocessed_data,columns= X_train.columns)\n",
    "df['conversion'] = y_test\n",
    "\n",
    "df.head(2)"
   ]
  },
  {
   "cell_type": "code",
   "execution_count": 11,
   "id": "eafa9169",
   "metadata": {
    "execution": {
     "iopub.execute_input": "2024-03-28T15:35:45.910450Z",
     "iopub.status.busy": "2024-03-28T15:35:45.910004Z",
     "iopub.status.idle": "2024-03-28T15:35:45.933005Z",
     "shell.execute_reply": "2024-03-28T15:35:45.931652Z"
    },
    "papermill": {
     "duration": 0.036685,
     "end_time": "2024-03-28T15:35:45.935867",
     "exception": false,
     "start_time": "2024-03-28T15:35:45.899182",
     "status": "completed"
    },
    "tags": []
   },
   "outputs": [
    {
     "data": {
      "text/html": [
       "<div>\n",
       "<style scoped>\n",
       "    .dataframe tbody tr th:only-of-type {\n",
       "        vertical-align: middle;\n",
       "    }\n",
       "\n",
       "    .dataframe tbody tr th {\n",
       "        vertical-align: top;\n",
       "    }\n",
       "\n",
       "    .dataframe thead th {\n",
       "        text-align: right;\n",
       "    }\n",
       "</style>\n",
       "<table border=\"1\" class=\"dataframe\">\n",
       "  <thead>\n",
       "    <tr style=\"text-align: right;\">\n",
       "      <th></th>\n",
       "      <th>round_prob</th>\n",
       "      <th>mean</th>\n",
       "      <th>count</th>\n",
       "    </tr>\n",
       "  </thead>\n",
       "  <tbody>\n",
       "    <tr>\n",
       "      <th>0</th>\n",
       "      <td>0.0</td>\n",
       "      <td>NaN</td>\n",
       "      <td>0</td>\n",
       "    </tr>\n",
       "    <tr>\n",
       "      <th>1</th>\n",
       "      <td>0.1</td>\n",
       "      <td>100.000000</td>\n",
       "      <td>2</td>\n",
       "    </tr>\n",
       "    <tr>\n",
       "      <th>2</th>\n",
       "      <td>0.2</td>\n",
       "      <td>100.000000</td>\n",
       "      <td>1</td>\n",
       "    </tr>\n",
       "    <tr>\n",
       "      <th>3</th>\n",
       "      <td>0.3</td>\n",
       "      <td>100.000000</td>\n",
       "      <td>2</td>\n",
       "    </tr>\n",
       "    <tr>\n",
       "      <th>4</th>\n",
       "      <td>0.5</td>\n",
       "      <td>NaN</td>\n",
       "      <td>0</td>\n",
       "    </tr>\n",
       "    <tr>\n",
       "      <th>5</th>\n",
       "      <td>0.6</td>\n",
       "      <td>100.000000</td>\n",
       "      <td>2</td>\n",
       "    </tr>\n",
       "    <tr>\n",
       "      <th>6</th>\n",
       "      <td>0.7</td>\n",
       "      <td>100.000000</td>\n",
       "      <td>1</td>\n",
       "    </tr>\n",
       "    <tr>\n",
       "      <th>7</th>\n",
       "      <td>0.8</td>\n",
       "      <td>100.000000</td>\n",
       "      <td>3</td>\n",
       "    </tr>\n",
       "    <tr>\n",
       "      <th>8</th>\n",
       "      <td>0.9</td>\n",
       "      <td>100.000000</td>\n",
       "      <td>1</td>\n",
       "    </tr>\n",
       "    <tr>\n",
       "      <th>9</th>\n",
       "      <td>1.0</td>\n",
       "      <td>NaN</td>\n",
       "      <td>0</td>\n",
       "    </tr>\n",
       "  </tbody>\n",
       "</table>\n",
       "</div>"
      ],
      "text/plain": [
       "  round_prob       mean  count\n",
       "0        0.0        NaN      0\n",
       "1        0.1 100.000000      2\n",
       "2        0.2 100.000000      1\n",
       "3        0.3 100.000000      2\n",
       "4        0.5        NaN      0\n",
       "5        0.6 100.000000      2\n",
       "6        0.7 100.000000      1\n",
       "7        0.8 100.000000      3\n",
       "8        0.9 100.000000      1\n",
       "9        1.0        NaN      0"
      ]
     },
     "execution_count": 11,
     "metadata": {},
     "output_type": "execute_result"
    }
   ],
   "source": [
    "df['prob'] = y_pred_proba\n",
    "df['round_prob'] = round(df['prob'],1)\n",
    "\n",
    "# Convert 'round_prob' column to string\n",
    "df['round_prob'] = df['round_prob'].astype(str)\n",
    "\n",
    "df = df.groupby(['round_prob'])['conversion'].agg(['mean', 'count']).reset_index()\n",
    "df['mean'] = df['mean']*100\n",
    "df"
   ]
  },
  {
   "cell_type": "code",
   "execution_count": 12,
   "id": "d608e481",
   "metadata": {
    "execution": {
     "iopub.execute_input": "2024-03-28T15:35:45.959688Z",
     "iopub.status.busy": "2024-03-28T15:35:45.958218Z",
     "iopub.status.idle": "2024-03-28T15:35:48.475624Z",
     "shell.execute_reply": "2024-03-28T15:35:48.474560Z"
    },
    "papermill": {
     "duration": 2.533256,
     "end_time": "2024-03-28T15:35:48.478530",
     "exception": false,
     "start_time": "2024-03-28T15:35:45.945274",
     "status": "completed"
    },
    "tags": []
   },
   "outputs": [
    {
     "data": {
      "image/png": "[encoded data removed]",
      "text/plain": [
       "<Figure size 1000x700 with 2 Axes>"
      ]
     },
     "metadata": {},
     "output_type": "display_data"
    }
   ],
   "source": [
    "sns.set(style=\"whitegrid\", font_scale=1.5)\n",
    "\n",
    "# Create figure and axes\n",
    "fig, ax1 = plt.subplots(figsize=(10, 7),frameon =False)\n",
    "\n",
    "# Plot the bar chart on the primary y-axis\n",
    "bar = sns.barplot(data=df, x='round_prob', y='count', ax=ax1, color='black')\n",
    "ax1.set_ylabel('Count', color='black', fontsize=20)\n",
    "\n",
    "# Add values on top of the bars\n",
    "for i, v in enumerate(df['count']):\n",
    "    ax1.text(i + 0.002, v + 0.002, '{:,.0f}'.format(v), color='black', ha='center',fontsize=20)\n",
    "\n",
    "plt.xticks(rotation=90) \n",
    "ax2 = ax1.twinx()\n",
    "\n",
    "# Plot the line chart on the secondary y-axis\n",
    "line = sns.lineplot(data = df, x='round_prob', y='mean', ax=ax2, color='black')\n",
    "ax2.set_ylim([0, 100])\n",
    "ax2.set_ylabel('Conversion', color='black', fontsize=20)\n",
    "ax2.yaxis.set_major_formatter(mtick.FuncFormatter(lambda x, pos: '{:,.2f}'.format(x)))\n",
    "\n",
    "skip_count = 0  # Specify how many labels to skip\n",
    "skip_label = 0  # Initialize skip_label counter\n",
    "\n",
    "# Add values on top of the bars\n",
    "for i, v in enumerate(df['mean']):\n",
    "    if skip_label == 0:\n",
    "        ax2.annotate(f'{v:,.2f}', xy=(i, v), xytext=(1, 1), ha='center', textcoords='offset points',bbox=dict(boxstyle='round,pad=0.2', edgecolor='black', facecolor='white'),fontsize=20) \n",
    "    \n",
    "    skip_label = (skip_label + 1) % (skip_count + 1)    \n",
    "\n",
    "# Set x-axis label and title\n",
    "ax1.set_xlabel('Predicted Decile', fontsize=20)\n",
    "ax1.set_title('Model Summary : Prob & Size', fontsize=22)\n",
    "ax1.yaxis.set_major_formatter(mtick.FuncFormatter(lambda x, pos: '{:,.0f}'.format(x)))\n",
    "\n",
    "# Create legend with proxy artists\n",
    "legend_labels = ['Count', 'Prob Actual']\n",
    "legend_elements = [Patch(facecolor='black', label='Bar Plot'),\n",
    "                   Line2D([0], [0], color='black', label='Line Plot')]\n",
    "plt.legend(handles=legend_elements, labels=legend_labels)\n",
    "\n",
    "# Disable the background grid lines\n",
    "ax1.grid(False)\n",
    "ax2.grid(False)\n",
    "\n",
    "# Adding a footnote below the x-axis\n",
    "footnote_text = \"Source: Model Tested on Future Data\"\n",
    "plt.figtext(0.1, -0.01, footnote_text, ha=\"left\", fontsize=10, bbox=dict(facecolor='white', edgecolor='white', boxstyle='round,pad=0.3'))    \n",
    "\n",
    "# Show the plot\n",
    "plt.savefig(\"Prob_Size.png\",transparent=True,bbox_inches='tight',pad_inches=0.05,dpi=400) \n",
    "plt.show()"
   ]
  }
 ],
 "metadata": {
  "kaggle": {
   "accelerator": "none",
   "dataSources": [
    {
     "datasetId": 1226038,
     "sourceId": 2047221,
     "sourceType": "datasetVersion"
    }
   ],
   "dockerImageVersionId": 30673,
   "isGpuEnabled": false,
   "isInternetEnabled": false,
   "language": "python",
   "sourceType": "notebook"
  },
  "kernelspec": {
   "display_name": "Python 3",
   "language": "python",
   "name": "python3"
  },
  "language_info": {
   "codemirror_mode": {
    "name": "ipython",
    "version": 3
   },
   "file_extension": ".py",
   "mimetype": "text/x-python",
   "name": "python",
   "nbconvert_exporter": "python",
   "pygments_lexer": "ipython3",
   "version": "3.10.13"
  },
  "papermill": {
   "default_parameters": {},
   "duration": 19.84283,
   "end_time": "2024-03-28T15:35:51.110142",
   "environment_variables": {},
   "exception": null,
   "input_path": "__notebook__.ipynb",
   "output_path": "__notebook__.ipynb",
   "parameters": {},
   "start_time": "2024-03-28T15:35:31.267312",
   "version": "2.5.0"
  }
 },
 "nbformat": 4,
 "nbformat_minor": 5
}
