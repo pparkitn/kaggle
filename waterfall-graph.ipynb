{
 "cells": [
  {
   "cell_type": "code",
   "execution_count": 1,
   "id": "684f0509",
   "metadata": {
    "execution": {
     "iopub.execute_input": "2024-10-28T00:44:17.307717Z",
     "iopub.status.busy": "2024-10-28T00:44:17.307265Z",
     "iopub.status.idle": "2024-10-28T00:44:37.139797Z",
     "shell.execute_reply": "2024-10-28T00:44:37.138388Z"
    },
    "papermill": {
     "duration": 19.841056,
     "end_time": "2024-10-28T00:44:37.142954",
     "exception": false,
     "start_time": "2024-10-28T00:44:17.301898",
     "status": "completed"
    },
    "tags": []
   },
   "outputs": [
    {
     "name": "stdout",
     "output_type": "stream",
     "text": [
      "Collecting kaleido\r\n",
      "  Downloading kaleido-0.2.1-py2.py3-none-manylinux1_x86_64.whl.metadata (15 kB)\r\n",
      "Downloading kaleido-0.2.1-py2.py3-none-manylinux1_x86_64.whl (79.9 MB)\r\n",
      "\u001b[2K   \u001b[90m━━━━━━━━━━━━━━━━━━━━━━━━━━━━━━━━━━━━━━━━\u001b[0m \u001b[32m79.9/79.9 MB\u001b[0m \u001b[31m19.2 MB/s\u001b[0m eta \u001b[36m0:00:00\u001b[0m\r\n",
      "\u001b[?25hInstalling collected packages: kaleido\r\n",
      "Successfully installed kaleido-0.2.1\r\n"
     ]
    }
   ],
   "source": [
    " !pip install -U kaleido"
   ]
  },
  {
   "cell_type": "code",
   "execution_count": 2,
   "id": "42b83e1f",
   "metadata": {
    "_cell_guid": "b1076dfc-b9ad-4769-8c92-a6c4dae69d19",
    "_uuid": "8f2839f25d086af736a60e9eeb907d3b93b6e0e5",
    "execution": {
     "iopub.execute_input": "2024-10-28T00:44:37.157317Z",
     "iopub.status.busy": "2024-10-28T00:44:37.156857Z",
     "iopub.status.idle": "2024-10-28T00:44:37.214475Z",
     "shell.execute_reply": "2024-10-28T00:44:37.213326Z"
    },
    "papermill": {
     "duration": 0.068349,
     "end_time": "2024-10-28T00:44:37.217749",
     "exception": false,
     "start_time": "2024-10-28T00:44:37.149400",
     "status": "completed"
    },
    "tags": []
   },
   "outputs": [],
   "source": [
    "import plotly.graph_objs as go\n",
    "from plotly.offline import plot\n",
    "import plotly.io as pio  # For saving images\n",
    "import numpy as np\n",
    "\n",
    "from PIL import Image  # For image handling\n",
    "from IPython.display import display, HTML  # For displaying images and HTML in notebooks"
   ]
  },
  {
   "cell_type": "code",
   "execution_count": 3,
   "id": "fcc9fbe3",
   "metadata": {
    "execution": {
     "iopub.execute_input": "2024-10-28T00:44:37.232741Z",
     "iopub.status.busy": "2024-10-28T00:44:37.232306Z",
     "iopub.status.idle": "2024-10-28T00:44:37.265515Z",
     "shell.execute_reply": "2024-10-28T00:44:37.264101Z"
    },
    "papermill": {
     "duration": 0.043973,
     "end_time": "2024-10-28T00:44:37.268660",
     "exception": false,
     "start_time": "2024-10-28T00:44:37.224687",
     "status": "completed"
    },
    "tags": []
   },
   "outputs": [],
   "source": [
    "def make_wf(do_sort,do_text,font_size,font_size_XY,text_offset,title_val,z_data,x_data,text,filename):\n",
    "    # ================================================================================================================================================\n",
    "    # SET CONFIG PARAMETERS\n",
    "    # ================================================================================================================================================\n",
    "    box_line_width = 3\n",
    "\n",
    "    blueb = 'rgba(55, 128, 191, 0.7)'\n",
    "    redb  = 'rgba(219, 64, 82, 0.7)'\n",
    "    greenb =  'rgba(50, 171, 96, 0.7)'\n",
    "\n",
    "    bluel =  'rgba(55, 128, 191, 1)'\n",
    "    redl  =  'rgba(219, 64, 82, 1)'\n",
    "    greenl = 'rgba(50, 171, 96, 1)'\n",
    "\n",
    "    bgcolor = 'rgba(245, 246, 249, 1)'\n",
    "    bgcolor = 'rgba(255, 255, 255, 1)' \n",
    "    font_color = 'rgba(0,0,0, 1)'\n",
    "\n",
    "    # ================================================================================================================================================\n",
    "    # DECLARE VARS\n",
    "    # ================================================================================================================================================\n",
    "\n",
    "    BaseT = []\n",
    "    UpT = []\n",
    "    DownT = []\n",
    "    EndT = []\n",
    "    y_data = []\n",
    "\n",
    "\n",
    "    # ================================================================================================================================================\n",
    "    # BUILD INPUTS\n",
    "    # ================================================================================================================================================\n",
    "\n",
    "    Base = z_data[0]\n",
    "    New_list = z_data[1:]\n",
    "    records_count = len(New_list)\n",
    "    list_total = 0\n",
    "\n",
    "    if do_sort == 1:\n",
    "        list1, list2 = (list(t) for t in zip(*sorted(zip(New_list, text))))\n",
    "\n",
    "\n",
    "    for i in New_list:\n",
    "        list_total = list_total +i\n",
    "    End = list_total + Base\n",
    "\n",
    "\n",
    "    running_total = 0\n",
    "    for i in z_data:\n",
    "        EndT.append(0)\n",
    "    EndT.append(End)\n",
    "\n",
    "    BaseT.append(0)\n",
    "    BaseT.append(Base)\n",
    "    running_total = Base\n",
    "\n",
    "    switch = 0\n",
    "    for i in New_list:\n",
    "        if i > 0:\n",
    "            running_total = i + running_total\n",
    "        if i < 0:\n",
    "            if switch == 0:\n",
    "                counter = len(BaseT) - 1\n",
    "                temp_val = BaseT[counter]\n",
    "                BaseT.pop()\n",
    "                BaseT.append(temp_val + i)\n",
    "                running_total = (i) + running_total\t\t\t\t\n",
    "            if switch > 0:\n",
    "                counter = len(BaseT) - 1\n",
    "                temp_val = BaseT[counter]\n",
    "                BaseT.pop()\n",
    "                BaseT.append(temp_val + i)\t\t\t\n",
    "                running_total = (temp_val + i) \n",
    "            switch = switch + 1\n",
    "        BaseT.append(running_total)\t\t\n",
    "\n",
    "    BaseT.pop()\n",
    "    BaseT.append(0)\t\t\n",
    "\n",
    "    UpT.append(Base)\n",
    "    DownT.append(0)\n",
    "\n",
    "    for i in New_list:\n",
    "        if i > 0:\t\t\n",
    "            UpT.append(i)\t\t\n",
    "            DownT.append(0)\t\t\n",
    "        if i < 0:\n",
    "            UpT.append(0)\t\t\n",
    "            DownT.append((-1*i))\t\t\n",
    "    UpT.append(0)\t\t  \n",
    "    DownT.append(0)\n",
    "\n",
    "    for i in range(0,len(BaseT)):\n",
    "        if (BaseT[i] + UpT[i] + DownT[i] + EndT[i]) >= 0:\n",
    "            pos = (BaseT[i] + UpT[i] + DownT[i] + EndT[i]) - (text_offset * abs(EndT[len(BaseT)-1]))\n",
    "        if (BaseT[i] + UpT[i] + DownT[i] + EndT[i]) < 0:\n",
    "            pos = (BaseT[i] + UpT[i] + DownT[i] + EndT[i]) - (text_offset * EndT[len(BaseT)-1])\n",
    "        pos = (BaseT[i] + UpT[i] + DownT[i] + EndT[i]) + (text_offset * abs(EndT[len(BaseT)-1]))\n",
    "        y_data.append(pos)\n",
    "\n",
    "\n",
    "    if do_text == 1:\t\n",
    "        text = []\n",
    "        text.append(Base)\n",
    "        for i in range(0,len(New_list)):\n",
    "            box_name = str(New_list[i])\n",
    "            text.append(box_name)\n",
    "        text.append(End)\n",
    "\n",
    "    UpT[0] = 0\n",
    "    EndT[0] = Base\n",
    "\n",
    "    trace0 = go.Bar(x=x_data,y=BaseT, marker=dict(color='rgba(1,1,1, 0.0)',))\n",
    "    trace1 = go.Bar(x=x_data,y=UpT,marker=dict(color=greenb,line=dict(color=greenl,width=box_line_width,)))\n",
    "    trace2 = go.Bar(x=x_data, y=DownT, marker=dict(color=redb, line=dict(color='rgba(0, 0, 0, 0)', width=box_line_width)))\n",
    "    trace3 = go.Bar(x=x_data,y=EndT,marker=dict(color=blueb,line=dict(color=bluel,width=box_line_width,)))\n",
    "\n",
    "    data = [trace0, trace1, trace2, trace3]\n",
    "    #layout = go.Layout(title=title_val,barmode='stack',paper_bgcolor=bgcolor,plot_bgcolor=bgcolor,showlegend=False,font=dict(family='Arial', size=font_size_XY,color=font_color))\n",
    "    layout = go.Layout(title=dict(text=title_val, font=dict(color='red'), y=0.99), barmode='stack', paper_bgcolor=bgcolor, plot_bgcolor=bgcolor, showlegend=False, font=dict(family='Arial', size=font_size_XY, color=font_color))\n",
    "\n",
    "\n",
    "    annotations = []\n",
    "\n",
    "    for i in range(0, (len(z_data)+1)):\n",
    "        annotations.append(dict(x=x_data[i], y=y_data[i], text=text[i],font=dict(family='Arial', size=font_size,color=font_color),showarrow=False,))\n",
    "        layout['annotations'] = annotations\n",
    "                        \n",
    "    fig = go.Figure(data=data, layout=layout)\n",
    "\n",
    "    # Save the chart as a PNG file\n",
    "    plot(fig, filename=filename)  # Call plot directly since it's imported from plotly.offline\n",
    "\n",
    "    \n",
    "    # Save as PNG\n",
    "    png_filename = filename.replace('.html', '.png')\n",
    "    pio.write_image(fig, png_filename)  # Save as PNG\n",
    "\n",
    "    print(f\"Plot saved as {filename} and {png_filename}\")"
   ]
  },
  {
   "cell_type": "code",
   "execution_count": 4,
   "id": "472b855a",
   "metadata": {
    "execution": {
     "iopub.execute_input": "2024-10-28T00:44:37.282452Z",
     "iopub.status.busy": "2024-10-28T00:44:37.282035Z",
     "iopub.status.idle": "2024-10-28T00:44:40.961038Z",
     "shell.execute_reply": "2024-10-28T00:44:40.959621Z"
    },
    "papermill": {
     "duration": 3.689157,
     "end_time": "2024-10-28T00:44:40.963944",
     "exception": false,
     "start_time": "2024-10-28T00:44:37.274787",
     "status": "completed"
    },
    "tags": []
   },
   "outputs": [
    {
     "name": "stdout",
     "output_type": "stream",
     "text": [
      "Plot saved as wf1.html and wf1.png\n"
     ]
    },
    {
     "data": {
      "image/png": "[encoded data removed]",
      "text/plain": [
       "<PIL.PngImagePlugin.PngImageFile image mode=RGBA size=700x500>"
      ]
     },
     "metadata": {},
     "output_type": "display_data"
    }
   ],
   "source": [
    "# SCENARIO A\n",
    "do_sort = 1\n",
    "do_text = 0\n",
    "font_size = 15 # 55 Top of Bars\n",
    "font_size_XY = 25 # 55 Title of Chart and X-Y Axis\n",
    "text_offset = 0.1\t\t\n",
    "title_val = 'Title - Waterfall Example'\n",
    "z_data = [60000,-30000,-10000,-5000,-1000]\n",
    "x_data = ['Start', 'Active Paying','Active Other','Active Music','Test','End']\n",
    "text = ['ACCT-XXk','XXk - XX%','Xk - X%','Xk - X%','Xk - XX%','XXk - XX%']\n",
    "filename = 'wf1.html'\n",
    "\n",
    "make_wf(do_sort,do_text,font_size,font_size_XY,text_offset,title_val,z_data,x_data,text,filename)\n",
    "\n",
    "# Open and display the image\n",
    "img = Image.open('/kaggle/working/wf1.png')\n",
    "display(img)"
   ]
  },
  {
   "cell_type": "code",
   "execution_count": null,
   "id": "0d34fef6",
   "metadata": {
    "papermill": {
     "duration": 0.007233,
     "end_time": "2024-10-28T00:44:40.978577",
     "exception": false,
     "start_time": "2024-10-28T00:44:40.971344",
     "status": "completed"
    },
    "tags": []
   },
   "outputs": [],
   "source": []
  }
 ],
 "metadata": {
  "kaggle": {
   "accelerator": "none",
   "dataSources": [],
   "dockerImageVersionId": 30786,
   "isGpuEnabled": false,
   "isInternetEnabled": true,
   "language": "python",
   "sourceType": "notebook"
  },
  "kernelspec": {
   "display_name": "Python 3",
   "language": "python",
   "name": "python3"
  },
  "language_info": {
   "codemirror_mode": {
    "name": "ipython",
    "version": 3
   },
   "file_extension": ".py",
   "mimetype": "text/x-python",
   "name": "python",
   "nbconvert_exporter": "python",
   "pygments_lexer": "ipython3",
   "version": "3.10.14"
  },
  "papermill": {
   "default_parameters": {},
   "duration": 29.521696,
   "end_time": "2024-10-28T00:44:43.606860",
   "environment_variables": {},
   "exception": null,
   "input_path": "__notebook__.ipynb",
   "output_path": "__notebook__.ipynb",
   "parameters": {},
   "start_time": "2024-10-28T00:44:14.085164",
   "version": "2.6.0"
  }
 },
 "nbformat": 4,
 "nbformat_minor": 5
}
