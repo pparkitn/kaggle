{
 "cells": [
  {
   "cell_type": "code",
   "execution_count": 1,
   "id": "119f8c70",
   "metadata": {
    "execution": {
     "iopub.execute_input": "2025-06-09T15:07:12.097496Z",
     "iopub.status.busy": "2025-06-09T15:07:12.097160Z",
     "iopub.status.idle": "2025-06-09T15:07:21.003610Z",
     "shell.execute_reply": "2025-06-09T15:07:21.002371Z"
    },
    "papermill": {
     "duration": 8.912096,
     "end_time": "2025-06-09T15:07:21.006044",
     "exception": false,
     "start_time": "2025-06-09T15:07:12.093948",
     "status": "completed"
    },
    "tags": []
   },
   "outputs": [
    {
     "name": "stdout",
     "output_type": "stream",
     "text": [
      "Collecting gTTS\r\n",
      "  Downloading gTTS-2.5.4-py3-none-any.whl.metadata (4.1 kB)\r\n",
      "Requirement already satisfied: pydub in /usr/local/lib/python3.11/dist-packages (0.25.1)\r\n",
      "Requirement already satisfied: requests<3,>=2.27 in /usr/local/lib/python3.11/dist-packages (from gTTS) (2.32.3)\r\n",
      "Requirement already satisfied: click<8.2,>=7.1 in /usr/local/lib/python3.11/dist-packages (from gTTS) (8.1.8)\r\n",
      "Requirement already satisfied: charset-normalizer<4,>=2 in /usr/local/lib/python3.11/dist-packages (from requests<3,>=2.27->gTTS) (3.4.2)\r\n",
      "Requirement already satisfied: idna<4,>=2.5 in /usr/local/lib/python3.11/dist-packages (from requests<3,>=2.27->gTTS) (3.10)\r\n",
      "Requirement already satisfied: urllib3<3,>=1.21.1 in /usr/local/lib/python3.11/dist-packages (from requests<3,>=2.27->gTTS) (2.4.0)\r\n",
      "Requirement already satisfied: certifi>=2017.4.17 in /usr/local/lib/python3.11/dist-packages (from requests<3,>=2.27->gTTS) (2025.4.26)\r\n",
      "Downloading gTTS-2.5.4-py3-none-any.whl (29 kB)\r\n",
      "Installing collected packages: gTTS\r\n",
      "Successfully installed gTTS-2.5.4\r\n",
      "Requirement already satisfied: pydub in /usr/local/lib/python3.11/dist-packages (0.25.1)\r\n",
      "Requirement already satisfied: numpy in /usr/local/lib/python3.11/dist-packages (1.26.4)\r\n",
      "Requirement already satisfied: mkl_fft in /usr/local/lib/python3.11/dist-packages (from numpy) (1.3.8)\r\n",
      "Requirement already satisfied: mkl_random in /usr/local/lib/python3.11/dist-packages (from numpy) (1.2.4)\r\n",
      "Requirement already satisfied: mkl_umath in /usr/local/lib/python3.11/dist-packages (from numpy) (0.1.1)\r\n",
      "Requirement already satisfied: mkl in /usr/local/lib/python3.11/dist-packages (from numpy) (2025.1.0)\r\n",
      "Requirement already satisfied: tbb4py in /usr/local/lib/python3.11/dist-packages (from numpy) (2022.1.0)\r\n",
      "Requirement already satisfied: mkl-service in /usr/local/lib/python3.11/dist-packages (from numpy) (2.4.1)\r\n",
      "Requirement already satisfied: intel-openmp<2026,>=2024 in /usr/local/lib/python3.11/dist-packages (from mkl->numpy) (2024.2.0)\r\n",
      "Requirement already satisfied: tbb==2022.* in /usr/local/lib/python3.11/dist-packages (from mkl->numpy) (2022.1.0)\r\n",
      "Requirement already satisfied: tcmlib==1.* in /usr/local/lib/python3.11/dist-packages (from tbb==2022.*->mkl->numpy) (1.3.0)\r\n",
      "Requirement already satisfied: intel-cmplr-lib-rt in /usr/local/lib/python3.11/dist-packages (from mkl_umath->numpy) (2024.2.0)\r\n",
      "Requirement already satisfied: intel-cmplr-lib-ur==2024.2.0 in /usr/local/lib/python3.11/dist-packages (from intel-openmp<2026,>=2024->mkl->numpy) (2024.2.0)\r\n"
     ]
    }
   ],
   "source": [
    "!pip install gTTS pydub\n",
    "!pip install pydub numpy"
   ]
  },
  {
   "cell_type": "code",
   "execution_count": 2,
   "id": "7d2c5264",
   "metadata": {
    "execution": {
     "iopub.execute_input": "2025-06-09T15:07:21.012044Z",
     "iopub.status.busy": "2025-06-09T15:07:21.011732Z",
     "iopub.status.idle": "2025-06-09T15:07:42.662254Z",
     "shell.execute_reply": "2025-06-09T15:07:42.660989Z"
    },
    "papermill": {
     "duration": 21.655353,
     "end_time": "2025-06-09T15:07:42.663905",
     "exception": false,
     "start_time": "2025-06-09T15:07:21.008552",
     "status": "completed"
    },
    "tags": []
   },
   "outputs": [
    {
     "name": "stdout",
     "output_type": "stream",
     "text": [
      "Track saved as: pull_rest_with_voice.mp3\n"
     ]
    }
   ],
   "source": [
    "from gtts import gTTS\n",
    "from pydub import AudioSegment\n",
    "from pydub.generators import Sine\n",
    "import os\n",
    "\n",
    "# --- Step 1: Generate \"Pull\" and \"Rest\" voice clips using gTTS ---\n",
    "def create_tts(phrase, filename):\n",
    "    tts = gTTS(text=phrase, lang='en', tld='com.au')  # AU = clearer female voice\n",
    "    tts.save(filename)\n",
    "\n",
    "if not os.path.exists(\"pull.mp3\"):\n",
    "    create_tts(\"Pull\", \"pull.mp3\")\n",
    "if not os.path.exists(\"rest.mp3\"):\n",
    "    create_tts(\"Rest\", \"rest.mp3\")\n",
    "\n",
    "pull_voice = AudioSegment.from_file(\"pull.mp3\")\n",
    "rest_voice = AudioSegment.from_file(\"rest.mp3\")\n",
    "\n",
    "# --- Step 2: Create high-energy background beat ---\n",
    "beat = AudioSegment.silent(duration=0)\n",
    "for i in range(0, 300 * 1000, 250):  # every 250 ms\n",
    "    tone = Sine(880).to_audio_segment(duration=100).apply_gain(-12)\n",
    "    beat += tone + AudioSegment.silent(duration=150)\n",
    "\n",
    "# --- Step 3: Assemble track alternating pull/rest every 5 sec ---\n",
    "final_track = AudioSegment.silent(duration=0)\n",
    "for i in range(0, 300, 5):  # every 5 seconds for 5 minutes\n",
    "    cue = pull_voice if (i // 10) % 2 == 0 else rest_voice\n",
    "    segment = AudioSegment.silent(duration=0)\n",
    "    segment += cue + AudioSegment.silent(duration=5000 - len(cue))\n",
    "    final_track += segment\n",
    "\n",
    "# --- Step 4: Add beat under voice cues ---\n",
    "final_with_beat = final_track.overlay(beat[:len(final_track)])\n",
    "\n",
    "# --- Step 5: Export final file ---\n",
    "output_path = \"pull_rest_with_voice.mp3\"\n",
    "final_with_beat.export(output_path, format=\"mp3\")\n",
    "print(f\"Track saved as: {output_path}\")\n"
   ]
  }
 ],
 "metadata": {
  "kaggle": {
   "accelerator": "none",
   "dataSources": [],
   "dockerImageVersionId": 31040,
   "isGpuEnabled": false,
   "isInternetEnabled": true,
   "language": "python",
   "sourceType": "notebook"
  },
  "kernelspec": {
   "display_name": "Python 3",
   "language": "python",
   "name": "python3"
  },
  "language_info": {
   "codemirror_mode": {
    "name": "ipython",
    "version": 3
   },
   "file_extension": ".py",
   "mimetype": "text/x-python",
   "name": "python",
   "nbconvert_exporter": "python",
   "pygments_lexer": "ipython3",
   "version": "3.11.11"
  },
  "papermill": {
   "default_parameters": {},
   "duration": 35.833243,
   "end_time": "2025-06-09T15:07:43.086192",
   "environment_variables": {},
   "exception": null,
   "input_path": "__notebook__.ipynb",
   "output_path": "__notebook__.ipynb",
   "parameters": {},
   "start_time": "2025-06-09T15:07:07.252949",
   "version": "2.6.0"
  }
 },
 "nbformat": 4,
 "nbformat_minor": 5
}
