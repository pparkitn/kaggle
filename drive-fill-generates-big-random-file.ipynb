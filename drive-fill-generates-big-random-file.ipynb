{
 "cells": [
  {
   "cell_type": "code",
   "execution_count": 1,
   "id": "2f785e05",
   "metadata": {
    "execution": {
     "iopub.execute_input": "2024-10-28T00:43:42.212644Z",
     "iopub.status.busy": "2024-10-28T00:43:42.211584Z",
     "iopub.status.idle": "2024-10-28T00:43:42.225129Z",
     "shell.execute_reply": "2024-10-28T00:43:42.224060Z"
    },
    "papermill": {
     "duration": 0.020845,
     "end_time": "2024-10-28T00:43:42.228031",
     "exception": false,
     "start_time": "2024-10-28T00:43:42.207186",
     "status": "completed"
    },
    "tags": []
   },
   "outputs": [],
   "source": [
    "def generate_big_random_bin_file(filename,size):\n",
    "    \"\"\"\n",
    "    generate big binary file with the specified size in bytes\n",
    "    :param filename: the filename\n",
    "    :param size: the size in bytes\n",
    "    :return:void\n",
    "    \"\"\"\n",
    "    import os \n",
    "    with open('%s'%filename, 'wb') as fout:\n",
    "        fout.write(os.urandom(size)) #1\n",
    "\n",
    "    print ('big random binary file with size %f generated ok'%size)\n",
    "    pass"
   ]
  },
  {
   "cell_type": "code",
   "execution_count": 2,
   "id": "368ddcf0",
   "metadata": {
    "execution": {
     "iopub.execute_input": "2024-10-28T00:43:42.234383Z",
     "iopub.status.busy": "2024-10-28T00:43:42.233945Z",
     "iopub.status.idle": "2024-10-28T00:43:57.876017Z",
     "shell.execute_reply": "2024-10-28T00:43:57.873744Z"
    },
    "papermill": {
     "duration": 15.648353,
     "end_time": "2024-10-28T00:43:57.878883",
     "exception": false,
     "start_time": "2024-10-28T00:43:42.230530",
     "status": "completed"
    },
    "tags": []
   },
   "outputs": [
    {
     "name": "stdout",
     "output_type": "stream",
     "text": [
      "big random binary file with size 3145728000.000000 generated ok\n"
     ]
    }
   ],
   "source": [
    "generate_big_random_bin_file(\"temp_big_bin1.dat\",1024*1024*3000)"
   ]
  }
 ],
 "metadata": {
  "kaggle": {
   "accelerator": "none",
   "dataSources": [],
   "dockerImageVersionId": 30786,
   "isGpuEnabled": false,
   "isInternetEnabled": true,
   "language": "python",
   "sourceType": "notebook"
  },
  "kernelspec": {
   "display_name": "Python 3",
   "language": "python",
   "name": "python3"
  },
  "language_info": {
   "codemirror_mode": {
    "name": "ipython",
    "version": 3
   },
   "file_extension": ".py",
   "mimetype": "text/x-python",
   "name": "python",
   "nbconvert_exporter": "python",
   "pygments_lexer": "ipython3",
   "version": "3.10.14"
  },
  "papermill": {
   "default_parameters": {},
   "duration": 19.432208,
   "end_time": "2024-10-28T00:43:58.302528",
   "environment_variables": {},
   "exception": null,
   "input_path": "__notebook__.ipynb",
   "output_path": "__notebook__.ipynb",
   "parameters": {},
   "start_time": "2024-10-28T00:43:38.870320",
   "version": "2.6.0"
  }
 },
 "nbformat": 4,
 "nbformat_minor": 5
}
