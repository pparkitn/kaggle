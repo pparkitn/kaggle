{
 "cells": [
  {
   "cell_type": "markdown",
   "id": "3cdf96ad",
   "metadata": {
    "papermill": {
     "duration": 0.00365,
     "end_time": "2024-02-29T03:25:12.582027",
     "exception": false,
     "start_time": "2024-02-29T03:25:12.578377",
     "status": "completed"
    },
    "tags": []
   },
   "source": [
    "# Canada Balance of International Payments\n",
    "\n",
    "## Definitions\n",
    "- The balance of international payments covers all economic transactions between Canadian residents and non-residents in three accounts: the current account, the capital account and the financial account.\n",
    "\n",
    "- The current account covers transactions in goods, services, compensation of employees, investment income and secondary income (current transfers)."
   ]
  },
  {
   "cell_type": "markdown",
   "id": "0272b72f",
   "metadata": {
    "papermill": {
     "duration": 0.002722,
     "end_time": "2024-02-29T03:25:12.588085",
     "exception": false,
     "start_time": "2024-02-29T03:25:12.585363",
     "status": "completed"
    },
    "tags": []
   },
   "source": [
    "Source = https://www150.statcan.gc.ca/t1/tbl1/en/tv.action?pid=1210015701&pickMembers%5B0%5D=3.2&cubeTimeFrame.startMonth=10&cubeTimeFrame.startYear=2000&cubeTimeFrame.endMonth=10&cubeTimeFrame.endYear=2023&referencePeriods=20001001%2C20231001\n",
    "\n",
    "https://www150.statcan.gc.ca/n1/daily-quotidien/240228/dq240228b-eng.htm"
   ]
  },
  {
   "cell_type": "code",
   "execution_count": 1,
   "id": "68db906c",
   "metadata": {
    "_cell_guid": "b1076dfc-b9ad-4769-8c92-a6c4dae69d19",
    "_uuid": "8f2839f25d086af736a60e9eeb907d3b93b6e0e5",
    "execution": {
     "iopub.execute_input": "2024-02-29T03:25:12.597003Z",
     "iopub.status.busy": "2024-02-29T03:25:12.595983Z",
     "iopub.status.idle": "2024-02-29T03:25:15.155267Z",
     "shell.execute_reply": "2024-02-29T03:25:15.154205Z"
    },
    "papermill": {
     "duration": 2.566882,
     "end_time": "2024-02-29T03:25:15.158110",
     "exception": false,
     "start_time": "2024-02-29T03:25:12.591228",
     "status": "completed"
    },
    "tags": []
   },
   "outputs": [],
   "source": [
    "import requests\n",
    "import pandas as pd\n",
    "import matplotlib.pyplot as plt\n",
    "import seaborn as sns\n",
    "import matplotlib.ticker as mtick\n",
    "import math\n",
    "import matplotlib.ticker as mtick\n",
    "from matplotlib.patches import Patch\n",
    "from matplotlib.lines import Line2D"
   ]
  },
  {
   "cell_type": "code",
   "execution_count": 2,
   "id": "5a802817",
   "metadata": {
    "execution": {
     "iopub.execute_input": "2024-02-29T03:25:15.167154Z",
     "iopub.status.busy": "2024-02-29T03:25:15.165891Z",
     "iopub.status.idle": "2024-02-29T03:25:20.127325Z",
     "shell.execute_reply": "2024-02-29T03:25:20.125864Z"
    },
    "papermill": {
     "duration": 4.969208,
     "end_time": "2024-02-29T03:25:20.130562",
     "exception": false,
     "start_time": "2024-02-29T03:25:15.161354",
     "status": "completed"
    },
    "tags": []
   },
   "outputs": [],
   "source": [
    "def download_csv(url, destination):\n",
    "    response = requests.get(url)\n",
    "    with open(destination, 'wb') as file:\n",
    "        file.write(response.content)\n",
    "\n",
    "csv_url = 'https://www150.statcan.gc.ca/t1/tbl1/en/dtl!downloadDbLoadingData-nonTraduit.action?pid=1210015701&latestN=0&startDate=20001001&endDate=20231001&csvLocale=en&selectedMembers=%5B%5B%5D%2C%5B1%2C2%5D%2C%5B2%5D%2C%5B%5D%5D&checkedLevels=0D1%2C3D1%2C3D2%2C3D3'\n",
    "destination_path = 'data_file.csv'\n",
    "\n",
    "download_csv(csv_url, destination_path)"
   ]
  },
  {
   "cell_type": "code",
   "execution_count": 3,
   "id": "9e283234",
   "metadata": {
    "execution": {
     "iopub.execute_input": "2024-02-29T03:25:20.138981Z",
     "iopub.status.busy": "2024-02-29T03:25:20.138520Z",
     "iopub.status.idle": "2024-02-29T03:25:20.191982Z",
     "shell.execute_reply": "2024-02-29T03:25:20.190646Z"
    },
    "papermill": {
     "duration": 0.060884,
     "end_time": "2024-02-29T03:25:20.194741",
     "exception": false,
     "start_time": "2024-02-29T03:25:20.133857",
     "status": "completed"
    },
    "tags": []
   },
   "outputs": [
    {
     "data": {
      "text/html": [
       "<div>\n",
       "<style scoped>\n",
       "    .dataframe tbody tr th:only-of-type {\n",
       "        vertical-align: middle;\n",
       "    }\n",
       "\n",
       "    .dataframe tbody tr th {\n",
       "        vertical-align: top;\n",
       "    }\n",
       "\n",
       "    .dataframe thead th {\n",
       "        text-align: right;\n",
       "    }\n",
       "</style>\n",
       "<table border=\"1\" class=\"dataframe\">\n",
       "  <thead>\n",
       "    <tr style=\"text-align: right;\">\n",
       "      <th></th>\n",
       "      <th>REF_DATE</th>\n",
       "      <th>GEO</th>\n",
       "      <th>DGUID</th>\n",
       "      <th>Trade</th>\n",
       "      <th>Seasonal adjustment</th>\n",
       "      <th>Principal trading partners</th>\n",
       "      <th>UOM</th>\n",
       "      <th>UOM_ID</th>\n",
       "      <th>SCALAR_FACTOR</th>\n",
       "      <th>SCALAR_ID</th>\n",
       "      <th>VECTOR</th>\n",
       "      <th>COORDINATE</th>\n",
       "      <th>VALUE</th>\n",
       "      <th>STATUS</th>\n",
       "      <th>SYMBOL</th>\n",
       "      <th>TERMINATED</th>\n",
       "      <th>DECIMALS</th>\n",
       "    </tr>\n",
       "  </thead>\n",
       "  <tbody>\n",
       "    <tr>\n",
       "      <th>0</th>\n",
       "      <td>2000-10</td>\n",
       "      <td>Canada</td>\n",
       "      <td>2021A000011124</td>\n",
       "      <td>Receipts</td>\n",
       "      <td>Seasonally adjusted</td>\n",
       "      <td>Total of all countries</td>\n",
       "      <td>Dollars</td>\n",
       "      <td>81</td>\n",
       "      <td>millions</td>\n",
       "      <td>6</td>\n",
       "      <td>v1353834187</td>\n",
       "      <td>1.1.2.1</td>\n",
       "      <td>15536</td>\n",
       "      <td>NaN</td>\n",
       "      <td>NaN</td>\n",
       "      <td>NaN</td>\n",
       "      <td>0</td>\n",
       "    </tr>\n",
       "    <tr>\n",
       "      <th>1</th>\n",
       "      <td>2001-01</td>\n",
       "      <td>Canada</td>\n",
       "      <td>2021A000011124</td>\n",
       "      <td>Receipts</td>\n",
       "      <td>Seasonally adjusted</td>\n",
       "      <td>Total of all countries</td>\n",
       "      <td>Dollars</td>\n",
       "      <td>81</td>\n",
       "      <td>millions</td>\n",
       "      <td>6</td>\n",
       "      <td>v1353834187</td>\n",
       "      <td>1.1.2.1</td>\n",
       "      <td>15430</td>\n",
       "      <td>NaN</td>\n",
       "      <td>NaN</td>\n",
       "      <td>NaN</td>\n",
       "      <td>0</td>\n",
       "    </tr>\n",
       "    <tr>\n",
       "      <th>2</th>\n",
       "      <td>2001-04</td>\n",
       "      <td>Canada</td>\n",
       "      <td>2021A000011124</td>\n",
       "      <td>Receipts</td>\n",
       "      <td>Seasonally adjusted</td>\n",
       "      <td>Total of all countries</td>\n",
       "      <td>Dollars</td>\n",
       "      <td>81</td>\n",
       "      <td>millions</td>\n",
       "      <td>6</td>\n",
       "      <td>v1353834187</td>\n",
       "      <td>1.1.2.1</td>\n",
       "      <td>15433</td>\n",
       "      <td>NaN</td>\n",
       "      <td>NaN</td>\n",
       "      <td>NaN</td>\n",
       "      <td>0</td>\n",
       "    </tr>\n",
       "    <tr>\n",
       "      <th>3</th>\n",
       "      <td>2001-07</td>\n",
       "      <td>Canada</td>\n",
       "      <td>2021A000011124</td>\n",
       "      <td>Receipts</td>\n",
       "      <td>Seasonally adjusted</td>\n",
       "      <td>Total of all countries</td>\n",
       "      <td>Dollars</td>\n",
       "      <td>81</td>\n",
       "      <td>millions</td>\n",
       "      <td>6</td>\n",
       "      <td>v1353834187</td>\n",
       "      <td>1.1.2.1</td>\n",
       "      <td>15186</td>\n",
       "      <td>NaN</td>\n",
       "      <td>NaN</td>\n",
       "      <td>NaN</td>\n",
       "      <td>0</td>\n",
       "    </tr>\n",
       "    <tr>\n",
       "      <th>4</th>\n",
       "      <td>2001-10</td>\n",
       "      <td>Canada</td>\n",
       "      <td>2021A000011124</td>\n",
       "      <td>Receipts</td>\n",
       "      <td>Seasonally adjusted</td>\n",
       "      <td>Total of all countries</td>\n",
       "      <td>Dollars</td>\n",
       "      <td>81</td>\n",
       "      <td>millions</td>\n",
       "      <td>6</td>\n",
       "      <td>v1353834187</td>\n",
       "      <td>1.1.2.1</td>\n",
       "      <td>15112</td>\n",
       "      <td>NaN</td>\n",
       "      <td>NaN</td>\n",
       "      <td>NaN</td>\n",
       "      <td>0</td>\n",
       "    </tr>\n",
       "  </tbody>\n",
       "</table>\n",
       "</div>"
      ],
      "text/plain": [
       "  REF_DATE     GEO           DGUID     Trade  Seasonal adjustment  \\\n",
       "0  2000-10  Canada  2021A000011124  Receipts  Seasonally adjusted   \n",
       "1  2001-01  Canada  2021A000011124  Receipts  Seasonally adjusted   \n",
       "2  2001-04  Canada  2021A000011124  Receipts  Seasonally adjusted   \n",
       "3  2001-07  Canada  2021A000011124  Receipts  Seasonally adjusted   \n",
       "4  2001-10  Canada  2021A000011124  Receipts  Seasonally adjusted   \n",
       "\n",
       "  Principal trading partners      UOM  UOM_ID SCALAR_FACTOR  SCALAR_ID  \\\n",
       "0     Total of all countries  Dollars      81      millions          6   \n",
       "1     Total of all countries  Dollars      81      millions          6   \n",
       "2     Total of all countries  Dollars      81      millions          6   \n",
       "3     Total of all countries  Dollars      81      millions          6   \n",
       "4     Total of all countries  Dollars      81      millions          6   \n",
       "\n",
       "        VECTOR COORDINATE  VALUE  STATUS  SYMBOL  TERMINATED  DECIMALS  \n",
       "0  v1353834187    1.1.2.1  15536     NaN     NaN         NaN         0  \n",
       "1  v1353834187    1.1.2.1  15430     NaN     NaN         NaN         0  \n",
       "2  v1353834187    1.1.2.1  15433     NaN     NaN         NaN         0  \n",
       "3  v1353834187    1.1.2.1  15186     NaN     NaN         NaN         0  \n",
       "4  v1353834187    1.1.2.1  15112     NaN     NaN         NaN         0  "
      ]
     },
     "execution_count": 3,
     "metadata": {},
     "output_type": "execute_result"
    }
   ],
   "source": [
    "df = pd.read_csv(destination_path, encoding='utf-8')\n",
    "df.head(5)"
   ]
  },
  {
   "cell_type": "code",
   "execution_count": null,
   "id": "8b015d0c",
   "metadata": {
    "papermill": {
     "duration": 0.00327,
     "end_time": "2024-02-29T03:25:20.201529",
     "exception": false,
     "start_time": "2024-02-29T03:25:20.198259",
     "status": "completed"
    },
    "tags": []
   },
   "outputs": [],
   "source": []
  }
 ],
 "metadata": {
  "kaggle": {
   "accelerator": "none",
   "dataSources": [],
   "dockerImageVersionId": 30664,
   "isGpuEnabled": false,
   "isInternetEnabled": true,
   "language": "python",
   "sourceType": "notebook"
  },
  "kernelspec": {
   "display_name": "Python 3",
   "language": "python",
   "name": "python3"
  },
  "language_info": {
   "codemirror_mode": {
    "name": "ipython",
    "version": 3
   },
   "file_extension": ".py",
   "mimetype": "text/x-python",
   "name": "python",
   "nbconvert_exporter": "python",
   "pygments_lexer": "ipython3",
   "version": "3.10.13"
  },
  "papermill": {
   "default_parameters": {},
   "duration": 11.397497,
   "end_time": "2024-02-29T03:25:20.828271",
   "environment_variables": {},
   "exception": null,
   "input_path": "__notebook__.ipynb",
   "output_path": "__notebook__.ipynb",
   "parameters": {},
   "start_time": "2024-02-29T03:25:09.430774",
   "version": "2.5.0"
  }
 },
 "nbformat": 4,
 "nbformat_minor": 5
}
