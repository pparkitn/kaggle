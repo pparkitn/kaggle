{
 "cells": [
  {
   "cell_type": "code",
   "execution_count": 1,
   "id": "bb5960f2",
   "metadata": {
    "_cell_guid": "b1076dfc-b9ad-4769-8c92-a6c4dae69d19",
    "_uuid": "8f2839f25d086af736a60e9eeb907d3b93b6e0e5",
    "execution": {
     "iopub.execute_input": "2024-06-14T13:45:03.287939Z",
     "iopub.status.busy": "2024-06-14T13:45:03.287494Z",
     "iopub.status.idle": "2024-06-14T13:45:04.200085Z",
     "shell.execute_reply": "2024-06-14T13:45:04.198844Z"
    },
    "papermill": {
     "duration": 0.919193,
     "end_time": "2024-06-14T13:45:04.202691",
     "exception": false,
     "start_time": "2024-06-14T13:45:03.283498",
     "status": "completed"
    },
    "tags": []
   },
   "outputs": [],
   "source": [
    "import numpy as np \n",
    "import pandas as pd\n",
    "import sys\n",
    "import gc"
   ]
  },
  {
   "cell_type": "code",
   "execution_count": 2,
   "id": "28138951",
   "metadata": {
    "execution": {
     "iopub.execute_input": "2024-06-14T13:45:04.208720Z",
     "iopub.status.busy": "2024-06-14T13:45:04.207662Z",
     "iopub.status.idle": "2024-06-14T13:45:04.284092Z",
     "shell.execute_reply": "2024-06-14T13:45:04.282654Z"
    },
    "papermill": {
     "duration": 0.081474,
     "end_time": "2024-06-14T13:45:04.286249",
     "exception": false,
     "start_time": "2024-06-14T13:45:04.204775",
     "status": "completed"
    },
    "tags": []
   },
   "outputs": [
    {
     "name": "stdout",
     "output_type": "stream",
     "text": [
      "                           _i2:  629.0 B\n",
      "                          open:  144.0 B\n",
      "                    sizeof_fmt:  144.0 B\n",
      "                           _ih:  120.0 B\n",
      "                            In:  120.0 B\n",
      "                       __doc__:  113.0 B\n",
      "                            _i:  109.0 B\n",
      "                           _i1:  109.0 B\n",
      "                   __builtin__:   72.0 B\n",
      "                  __builtins__:   72.0 B\n"
     ]
    },
    {
     "data": {
      "text/plain": [
       "0"
      ]
     },
     "execution_count": 2,
     "metadata": {},
     "output_type": "execute_result"
    }
   ],
   "source": [
    "# FREE MEMORY\n",
    "\n",
    "def sizeof_fmt(num, suffix='B'):    \n",
    "    for unit in ['','Ki','Mi','Gi','Ti','Pi','Ei','Zi']:\n",
    "        if abs(num) < 1024.0:\n",
    "            return \"%3.1f %s%s\" % (num, unit, suffix)\n",
    "        num /= 1024.0\n",
    "    return \"%.1f %s%s\" % (num, 'Yi', suffix)\n",
    "\n",
    "for name, size in sorted(((name, sys.getsizeof(value)) for name, value in list(\n",
    "                          locals().items())), key= lambda x: -x[1])[:10]:\n",
    "    print(\"{:>30}: {:>8}\".format(name, sizeof_fmt(size)))\n",
    "    \n",
    "    \n",
    "GA_DF = 0\n",
    "GA_REN_TRACK_DF = 0\n",
    "cohort_dist = 0\n",
    "GA_REN_TRACK_CONV_DF = 0\n",
    "GA_IN_DF = 0\n",
    "\n",
    "gc.collect()"
   ]
  }
 ],
 "metadata": {
  "kaggle": {
   "accelerator": "none",
   "dataSources": [],
   "dockerImageVersionId": 30732,
   "isGpuEnabled": false,
   "isInternetEnabled": true,
   "language": "python",
   "sourceType": "notebook"
  },
  "kernelspec": {
   "display_name": "Python 3",
   "language": "python",
   "name": "python3"
  },
  "language_info": {
   "codemirror_mode": {
    "name": "ipython",
    "version": 3
   },
   "file_extension": ".py",
   "mimetype": "text/x-python",
   "name": "python",
   "nbconvert_exporter": "python",
   "pygments_lexer": "ipython3",
   "version": "3.10.13"
  },
  "papermill": {
   "default_parameters": {},
   "duration": 4.31175,
   "end_time": "2024-06-14T13:45:04.808918",
   "environment_variables": {},
   "exception": null,
   "input_path": "__notebook__.ipynb",
   "output_path": "__notebook__.ipynb",
   "parameters": {},
   "start_time": "2024-06-14T13:45:00.497168",
   "version": "2.5.0"
  }
 },
 "nbformat": 4,
 "nbformat_minor": 5
}
