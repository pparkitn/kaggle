{
 "cells": [
  {
   "cell_type": "markdown",
   "id": "129c7308",
   "metadata": {
    "papermill": {
     "duration": 0.003604,
     "end_time": "2024-06-14T14:10:05.746786",
     "exception": false,
     "start_time": "2024-06-14T14:10:05.743182",
     "status": "completed"
    },
    "tags": []
   },
   "source": [
    "# Free Memory Used by Notebook Variables\n",
    "- at the end of "
   ]
  },
  {
   "cell_type": "code",
   "execution_count": 1,
   "id": "99be83bd",
   "metadata": {
    "_cell_guid": "b1076dfc-b9ad-4769-8c92-a6c4dae69d19",
    "_uuid": "8f2839f25d086af736a60e9eeb907d3b93b6e0e5",
    "execution": {
     "iopub.execute_input": "2024-06-14T14:10:05.754531Z",
     "iopub.status.busy": "2024-06-14T14:10:05.754134Z",
     "iopub.status.idle": "2024-06-14T14:10:06.664536Z",
     "shell.execute_reply": "2024-06-14T14:10:06.663413Z"
    },
    "papermill": {
     "duration": 0.917492,
     "end_time": "2024-06-14T14:10:06.667366",
     "exception": false,
     "start_time": "2024-06-14T14:10:05.749874",
     "status": "completed"
    },
    "tags": []
   },
   "outputs": [],
   "source": [
    "import numpy as np \n",
    "import pandas as pd\n",
    "import sys\n",
    "import gc"
   ]
  },
  {
   "cell_type": "markdown",
   "id": "47b80213",
   "metadata": {
    "papermill": {
     "duration": 0.002442,
     "end_time": "2024-06-14T14:10:06.672699",
     "exception": false,
     "start_time": "2024-06-14T14:10:06.670257",
     "status": "completed"
    },
    "tags": []
   },
   "source": [
    "## Load Large Dataset"
   ]
  },
  {
   "cell_type": "code",
   "execution_count": null,
   "id": "63511190",
   "metadata": {
    "papermill": {
     "duration": 0.00233,
     "end_time": "2024-06-14T14:10:06.677719",
     "exception": false,
     "start_time": "2024-06-14T14:10:06.675389",
     "status": "completed"
    },
    "tags": []
   },
   "outputs": [],
   "source": []
  },
  {
   "cell_type": "code",
   "execution_count": 2,
   "id": "5e5bef78",
   "metadata": {
    "execution": {
     "iopub.execute_input": "2024-06-14T14:10:06.684825Z",
     "iopub.status.busy": "2024-06-14T14:10:06.684324Z",
     "iopub.status.idle": "2024-06-14T14:10:07.701348Z",
     "shell.execute_reply": "2024-06-14T14:10:07.699959Z"
    },
    "papermill": {
     "duration": 1.023906,
     "end_time": "2024-06-14T14:10:07.704289",
     "exception": false,
     "start_time": "2024-06-14T14:10:06.680383",
     "status": "completed"
    },
    "tags": []
   },
   "outputs": [
    {
     "name": "stdout",
     "output_type": "stream",
     "text": [
      "MemTotal:       32880788 kB\r\n",
      "MemFree:        26031268 kB\r\n",
      "MemAvailable:   31873536 kB\r\n",
      "Buffers:         1033604 kB\r\n",
      "Cached:          4824884 kB\r\n"
     ]
    }
   ],
   "source": [
    "!cat /proc/meminfo | head -5"
   ]
  },
  {
   "cell_type": "markdown",
   "id": "d15f9ca3",
   "metadata": {
    "papermill": {
     "duration": 0.002525,
     "end_time": "2024-06-14T14:10:07.709781",
     "exception": false,
     "start_time": "2024-06-14T14:10:07.707256",
     "status": "completed"
    },
    "tags": []
   },
   "source": [
    "## Free All Memory"
   ]
  },
  {
   "cell_type": "code",
   "execution_count": 3,
   "id": "92db1da8",
   "metadata": {
    "execution": {
     "iopub.execute_input": "2024-06-14T14:10:07.717150Z",
     "iopub.status.busy": "2024-06-14T14:10:07.716725Z",
     "iopub.status.idle": "2024-06-14T14:10:07.805422Z",
     "shell.execute_reply": "2024-06-14T14:10:07.804315Z"
    },
    "papermill": {
     "duration": 0.095416,
     "end_time": "2024-06-14T14:10:07.807905",
     "exception": false,
     "start_time": "2024-06-14T14:10:07.712489",
     "status": "completed"
    },
    "tags": []
   },
   "outputs": [
    {
     "name": "stdout",
     "output_type": "stream",
     "text": [
      "                           _i3:  629.0 B\n",
      "                          open:  144.0 B\n",
      "                    sizeof_fmt:  144.0 B\n",
      "                           _ih:  120.0 B\n",
      "                            In:  120.0 B\n",
      "                       __doc__:  113.0 B\n",
      "                           _ii:  109.0 B\n",
      "                           _i1:  109.0 B\n",
      "                            _i:   77.0 B\n",
      "                           _i2:   77.0 B\n"
     ]
    },
    {
     "data": {
      "text/plain": [
       "0"
      ]
     },
     "execution_count": 3,
     "metadata": {},
     "output_type": "execute_result"
    }
   ],
   "source": [
    "# FREE MEMORY\n",
    "\n",
    "def sizeof_fmt(num, suffix='B'):    \n",
    "    for unit in ['','Ki','Mi','Gi','Ti','Pi','Ei','Zi']:\n",
    "        if abs(num) < 1024.0:\n",
    "            return \"%3.1f %s%s\" % (num, unit, suffix)\n",
    "        num /= 1024.0\n",
    "    return \"%.1f %s%s\" % (num, 'Yi', suffix)\n",
    "\n",
    "for name, size in sorted(((name, sys.getsizeof(value)) for name, value in list(\n",
    "                          locals().items())), key= lambda x: -x[1])[:10]:\n",
    "    print(\"{:>30}: {:>8}\".format(name, sizeof_fmt(size)))\n",
    "    \n",
    "    \n",
    "GA_DF = 0\n",
    "GA_REN_TRACK_DF = 0\n",
    "cohort_dist = 0\n",
    "GA_REN_TRACK_CONV_DF = 0\n",
    "GA_IN_DF = 0\n",
    "\n",
    "gc.collect()"
   ]
  },
  {
   "cell_type": "code",
   "execution_count": 4,
   "id": "01f6a4f4",
   "metadata": {
    "execution": {
     "iopub.execute_input": "2024-06-14T14:10:07.816398Z",
     "iopub.status.busy": "2024-06-14T14:10:07.815971Z",
     "iopub.status.idle": "2024-06-14T14:10:08.830152Z",
     "shell.execute_reply": "2024-06-14T14:10:08.828919Z"
    },
    "papermill": {
     "duration": 1.021462,
     "end_time": "2024-06-14T14:10:08.832806",
     "exception": false,
     "start_time": "2024-06-14T14:10:07.811344",
     "status": "completed"
    },
    "tags": []
   },
   "outputs": [
    {
     "name": "stdout",
     "output_type": "stream",
     "text": [
      "MemTotal:       32880788 kB\r\n",
      "MemFree:        26028244 kB\r\n",
      "MemAvailable:   31870736 kB\r\n",
      "Buffers:         1033616 kB\r\n",
      "Cached:          4825032 kB\r\n"
     ]
    }
   ],
   "source": [
    "!cat /proc/meminfo | head -5"
   ]
  }
 ],
 "metadata": {
  "kaggle": {
   "accelerator": "none",
   "dataSources": [
    {
     "datasetId": 4462395,
     "sourceId": 7654206,
     "sourceType": "datasetVersion"
    }
   ],
   "dockerImageVersionId": 30732,
   "isGpuEnabled": false,
   "isInternetEnabled": true,
   "language": "python",
   "sourceType": "notebook"
  },
  "kernelspec": {
   "display_name": "Python 3",
   "language": "python",
   "name": "python3"
  },
  "language_info": {
   "codemirror_mode": {
    "name": "ipython",
    "version": 3
   },
   "file_extension": ".py",
   "mimetype": "text/x-python",
   "name": "python",
   "nbconvert_exporter": "python",
   "pygments_lexer": "ipython3",
   "version": "3.10.13"
  },
  "papermill": {
   "default_parameters": {},
   "duration": 6.48086,
   "end_time": "2024-06-14T14:10:09.357627",
   "environment_variables": {},
   "exception": null,
   "input_path": "__notebook__.ipynb",
   "output_path": "__notebook__.ipynb",
   "parameters": {},
   "start_time": "2024-06-14T14:10:02.876767",
   "version": "2.5.0"
  }
 },
 "nbformat": 4,
 "nbformat_minor": 5
}
