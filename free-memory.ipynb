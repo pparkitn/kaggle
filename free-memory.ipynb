{
 "cells": [
  {
   "cell_type": "markdown",
   "id": "5119a1e7",
   "metadata": {
    "papermill": {
     "duration": 0.003903,
     "end_time": "2024-06-14T13:49:46.518996",
     "exception": false,
     "start_time": "2024-06-14T13:49:46.515093",
     "status": "completed"
    },
    "tags": []
   },
   "source": [
    "# Free Memory Used by Notebook Variables\n",
    "- at the end of "
   ]
  },
  {
   "cell_type": "code",
   "execution_count": 1,
   "id": "81a79448",
   "metadata": {
    "_cell_guid": "b1076dfc-b9ad-4769-8c92-a6c4dae69d19",
    "_uuid": "8f2839f25d086af736a60e9eeb907d3b93b6e0e5",
    "execution": {
     "iopub.execute_input": "2024-06-14T13:49:46.528412Z",
     "iopub.status.busy": "2024-06-14T13:49:46.527930Z",
     "iopub.status.idle": "2024-06-14T13:49:47.605019Z",
     "shell.execute_reply": "2024-06-14T13:49:47.603466Z"
    },
    "papermill": {
     "duration": 1.085695,
     "end_time": "2024-06-14T13:49:47.608416",
     "exception": false,
     "start_time": "2024-06-14T13:49:46.522721",
     "status": "completed"
    },
    "tags": []
   },
   "outputs": [],
   "source": [
    "import numpy as np \n",
    "import pandas as pd\n",
    "import sys\n",
    "import gc"
   ]
  },
  {
   "cell_type": "markdown",
   "id": "45e88c8a",
   "metadata": {
    "papermill": {
     "duration": 0.00319,
     "end_time": "2024-06-14T13:49:47.615212",
     "exception": false,
     "start_time": "2024-06-14T13:49:47.612022",
     "status": "completed"
    },
    "tags": []
   },
   "source": [
    "## Load Large Dataset"
   ]
  },
  {
   "cell_type": "code",
   "execution_count": null,
   "id": "e6b62806",
   "metadata": {
    "papermill": {
     "duration": 0.003109,
     "end_time": "2024-06-14T13:49:47.621804",
     "exception": false,
     "start_time": "2024-06-14T13:49:47.618695",
     "status": "completed"
    },
    "tags": []
   },
   "outputs": [],
   "source": []
  },
  {
   "cell_type": "code",
   "execution_count": 2,
   "id": "8b2a1493",
   "metadata": {
    "execution": {
     "iopub.execute_input": "2024-06-14T13:49:47.631074Z",
     "iopub.status.busy": "2024-06-14T13:49:47.630426Z",
     "iopub.status.idle": "2024-06-14T13:49:48.747870Z",
     "shell.execute_reply": "2024-06-14T13:49:48.746382Z"
    },
    "papermill": {
     "duration": 1.125501,
     "end_time": "2024-06-14T13:49:48.750775",
     "exception": false,
     "start_time": "2024-06-14T13:49:47.625274",
     "status": "completed"
    },
    "tags": []
   },
   "outputs": [
    {
     "name": "stdout",
     "output_type": "stream",
     "text": [
      "MemTotal:       32880788 kB\r\n",
      "MemFree:        26021024 kB\r\n",
      "MemAvailable:   31837212 kB\r\n",
      "Buffers:         1033712 kB\r\n",
      "Cached:          4799316 kB\r\n"
     ]
    }
   ],
   "source": [
    "!cat /proc/meminfo | head -5"
   ]
  },
  {
   "cell_type": "markdown",
   "id": "4dfb1eae",
   "metadata": {
    "papermill": {
     "duration": 0.003237,
     "end_time": "2024-06-14T13:49:48.757673",
     "exception": false,
     "start_time": "2024-06-14T13:49:48.754436",
     "status": "completed"
    },
    "tags": []
   },
   "source": [
    "## Free All Memory"
   ]
  },
  {
   "cell_type": "code",
   "execution_count": 3,
   "id": "4ed698bf",
   "metadata": {
    "execution": {
     "iopub.execute_input": "2024-06-14T13:49:48.766956Z",
     "iopub.status.busy": "2024-06-14T13:49:48.766482Z",
     "iopub.status.idle": "2024-06-14T13:49:48.871617Z",
     "shell.execute_reply": "2024-06-14T13:49:48.870471Z"
    },
    "papermill": {
     "duration": 0.113139,
     "end_time": "2024-06-14T13:49:48.874355",
     "exception": false,
     "start_time": "2024-06-14T13:49:48.761216",
     "status": "completed"
    },
    "tags": []
   },
   "outputs": [
    {
     "name": "stdout",
     "output_type": "stream",
     "text": [
      "                           _i3:  629.0 B\n",
      "                          open:  144.0 B\n",
      "                    sizeof_fmt:  144.0 B\n",
      "                           _ih:  120.0 B\n",
      "                            In:  120.0 B\n",
      "                       __doc__:  113.0 B\n",
      "                           _ii:  109.0 B\n",
      "                           _i1:  109.0 B\n",
      "                            _i:   77.0 B\n",
      "                           _i2:   77.0 B\n"
     ]
    },
    {
     "data": {
      "text/plain": [
       "0"
      ]
     },
     "execution_count": 3,
     "metadata": {},
     "output_type": "execute_result"
    }
   ],
   "source": [
    "# FREE MEMORY\n",
    "\n",
    "def sizeof_fmt(num, suffix='B'):    \n",
    "    for unit in ['','Ki','Mi','Gi','Ti','Pi','Ei','Zi']:\n",
    "        if abs(num) < 1024.0:\n",
    "            return \"%3.1f %s%s\" % (num, unit, suffix)\n",
    "        num /= 1024.0\n",
    "    return \"%.1f %s%s\" % (num, 'Yi', suffix)\n",
    "\n",
    "for name, size in sorted(((name, sys.getsizeof(value)) for name, value in list(\n",
    "                          locals().items())), key= lambda x: -x[1])[:10]:\n",
    "    print(\"{:>30}: {:>8}\".format(name, sizeof_fmt(size)))\n",
    "    \n",
    "    \n",
    "GA_DF = 0\n",
    "GA_REN_TRACK_DF = 0\n",
    "cohort_dist = 0\n",
    "GA_REN_TRACK_CONV_DF = 0\n",
    "GA_IN_DF = 0\n",
    "\n",
    "gc.collect()"
   ]
  },
  {
   "cell_type": "code",
   "execution_count": 4,
   "id": "01e545b9",
   "metadata": {
    "execution": {
     "iopub.execute_input": "2024-06-14T13:49:48.883840Z",
     "iopub.status.busy": "2024-06-14T13:49:48.883424Z",
     "iopub.status.idle": "2024-06-14T13:49:49.980805Z",
     "shell.execute_reply": "2024-06-14T13:49:49.979504Z"
    },
    "papermill": {
     "duration": 1.105502,
     "end_time": "2024-06-14T13:49:49.983702",
     "exception": false,
     "start_time": "2024-06-14T13:49:48.878200",
     "status": "completed"
    },
    "tags": []
   },
   "outputs": [
    {
     "name": "stdout",
     "output_type": "stream",
     "text": [
      "MemTotal:       32880788 kB\r\n",
      "MemFree:        26018756 kB\r\n",
      "MemAvailable:   31835136 kB\r\n",
      "Buffers:         1033724 kB\r\n",
      "Cached:          4799464 kB\r\n"
     ]
    }
   ],
   "source": [
    "!cat /proc/meminfo | head -5"
   ]
  }
 ],
 "metadata": {
  "kaggle": {
   "accelerator": "none",
   "dataSources": [],
   "dockerImageVersionId": 30732,
   "isGpuEnabled": false,
   "isInternetEnabled": true,
   "language": "python",
   "sourceType": "notebook"
  },
  "kernelspec": {
   "display_name": "Python 3",
   "language": "python",
   "name": "python3"
  },
  "language_info": {
   "codemirror_mode": {
    "name": "ipython",
    "version": 3
   },
   "file_extension": ".py",
   "mimetype": "text/x-python",
   "name": "python",
   "nbconvert_exporter": "python",
   "pygments_lexer": "ipython3",
   "version": "3.10.13"
  },
  "papermill": {
   "default_parameters": {},
   "duration": 7.325582,
   "end_time": "2024-06-14T13:49:50.510897",
   "environment_variables": {},
   "exception": null,
   "input_path": "__notebook__.ipynb",
   "output_path": "__notebook__.ipynb",
   "parameters": {},
   "start_time": "2024-06-14T13:49:43.185315",
   "version": "2.5.0"
  }
 },
 "nbformat": 4,
 "nbformat_minor": 5
}
