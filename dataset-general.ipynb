{
 "cells": [
  {
   "cell_type": "code",
   "execution_count": 1,
   "id": "42a04263",
   "metadata": {
    "execution": {
     "iopub.execute_input": "2024-02-25T22:00:56.077366Z",
     "iopub.status.busy": "2024-02-25T22:00:56.077042Z",
     "iopub.status.idle": "2024-02-25T22:00:56.834411Z",
     "shell.execute_reply": "2024-02-25T22:00:56.833612Z"
    },
    "papermill": {
     "duration": 0.764644,
     "end_time": "2024-02-25T22:00:56.836555",
     "exception": false,
     "start_time": "2024-02-25T22:00:56.071911",
     "status": "completed"
    },
    "tags": []
   },
   "outputs": [],
   "source": [
    "import numpy as np\n",
    "import pandas as pd\n",
    "from datetime import datetime, timedelta\n",
    "import requests"
   ]
  },
  {
   "cell_type": "code",
   "execution_count": 2,
   "id": "8e4c16e6",
   "metadata": {
    "execution": {
     "iopub.execute_input": "2024-02-25T22:00:56.842757Z",
     "iopub.status.busy": "2024-02-25T22:00:56.842266Z",
     "iopub.status.idle": "2024-02-25T22:00:56.846032Z",
     "shell.execute_reply": "2024-02-25T22:00:56.845284Z"
    },
    "papermill": {
     "duration": 0.008612,
     "end_time": "2024-02-25T22:00:56.847597",
     "exception": false,
     "start_time": "2024-02-25T22:00:56.838985",
     "status": "completed"
    },
    "tags": []
   },
   "outputs": [],
   "source": [
    "# Set random seed for reproducibility\n",
    "np.random.seed(42)"
   ]
  },
  {
   "cell_type": "markdown",
   "id": "dea01d06",
   "metadata": {
    "papermill": {
     "duration": 0.001744,
     "end_time": "2024-02-25T22:00:56.851413",
     "exception": false,
     "start_time": "2024-02-25T22:00:56.849669",
     "status": "completed"
    },
    "tags": []
   },
   "source": [
    "# CONVERSION ABC"
   ]
  },
  {
   "cell_type": "code",
   "execution_count": 3,
   "id": "7abe3dfc",
   "metadata": {
    "execution": {
     "iopub.execute_input": "2024-02-25T22:00:56.856552Z",
     "iopub.status.busy": "2024-02-25T22:00:56.856118Z",
     "iopub.status.idle": "2024-02-25T22:00:57.361873Z",
     "shell.execute_reply": "2024-02-25T22:00:57.360927Z"
    },
    "papermill": {
     "duration": 0.510277,
     "end_time": "2024-02-25T22:00:57.363608",
     "exception": false,
     "start_time": "2024-02-25T22:00:56.853331",
     "status": "completed"
    },
    "tags": []
   },
   "outputs": [
    {
     "name": "stdout",
     "output_type": "stream",
     "text": [
      "   IsConversion ActivationDate    Group ConversionDate\n",
      "0             0     2022-01-01  Group_A            NaT\n",
      "1             0     2022-01-01  Group_A            NaT\n",
      "2             1     2022-01-01  Group_A     2022-01-22\n",
      "3             0     2022-01-01  Group_A            NaT\n",
      "4             0     2022-01-03  Group_A            NaT\n"
     ]
    }
   ],
   "source": [
    "# Set random seed for reproducibility\n",
    "np.random.seed(42)\n",
    "\n",
    "# Number of rows in the dataset\n",
    "num_rows = 1000\n",
    "\n",
    "# Generate random activation dates\n",
    "start_date = datetime(2022, 1, 1)\n",
    "end_date = datetime(2022, 12, 31)\n",
    "\n",
    "# Generate data for IsConversion column with a normal distribution for each group\n",
    "is_conversion_probabilities = {\n",
    "    'Group_A': np.random.normal(loc=0.4, scale=0.2, size=num_rows),\n",
    "    'Group_B': np.random.normal(loc=0.5, scale=0.2, size=num_rows),\n",
    "    'Group_C': np.random.normal(loc=0.7, scale=0.2, size=num_rows)\n",
    "}\n",
    "\n",
    "is_conversion = np.concatenate([\n",
    "    (probabilities > 0.5).astype(int) for probabilities in is_conversion_probabilities.values()\n",
    "])\n",
    "\n",
    "# Generate random activation dates for each group\n",
    "activation_dates = np.concatenate([\n",
    "    [np.random.choice(pd.date_range(start_date, end_date)) for _ in range(num_rows)]\n",
    "    for _ in range(len(is_conversion_probabilities))\n",
    "])\n",
    "\n",
    "# Generate random group names\n",
    "groups = np.concatenate([\n",
    "    [group] * num_rows for group in is_conversion_probabilities.keys()\n",
    "])\n",
    "\n",
    "# Create DataFrame\n",
    "df = pd.DataFrame({\n",
    "    'IsConversion': is_conversion,\n",
    "    'ActivationDate': activation_dates,\n",
    "    'Group': groups\n",
    "})\n",
    "\n",
    "# Sort DataFrame by ActivationDate and Group\n",
    "df = df.sort_values(by=['Group', 'ActivationDate']).reset_index(drop=True)\n",
    "\n",
    "# Generate random conversion dates based on activation dates for each group\n",
    "df['ConversionDate'] = df.groupby('Group')['ActivationDate'].transform(lambda x: x + pd.to_timedelta(np.random.randint(1, 30, size=len(x)), unit='D'))\n",
    "\n",
    "# Update ConversionDate to null when IsConversion is equal to zero\n",
    "df.loc[df['IsConversion'] == 0, 'ConversionDate'] = np.nan\n",
    "\n",
    "# Write DataFrame to CSV\n",
    "df.to_csv('conversionABC.csv', index=False)\n",
    "\n",
    "# Display the DataFrame\n",
    "print(df.head())\n"
   ]
  },
  {
   "cell_type": "markdown",
   "id": "150b9592",
   "metadata": {
    "papermill": {
     "duration": 0.001903,
     "end_time": "2024-02-25T22:00:57.367756",
     "exception": false,
     "start_time": "2024-02-25T22:00:57.365853",
     "status": "completed"
    },
    "tags": []
   },
   "source": [
    "# statcan New Motor Vehicle Sales"
   ]
  },
  {
   "cell_type": "code",
   "execution_count": 4,
   "id": "ea5af98d",
   "metadata": {
    "execution": {
     "iopub.execute_input": "2024-02-25T22:00:57.373106Z",
     "iopub.status.busy": "2024-02-25T22:00:57.372827Z",
     "iopub.status.idle": "2024-02-25T22:00:59.981368Z",
     "shell.execute_reply": "2024-02-25T22:00:59.980495Z"
    },
    "papermill": {
     "duration": 2.61344,
     "end_time": "2024-02-25T22:00:59.983313",
     "exception": false,
     "start_time": "2024-02-25T22:00:57.369873",
     "status": "completed"
    },
    "tags": []
   },
   "outputs": [],
   "source": [
    "def download_csv(url, destination):\n",
    "    response = requests.get(url)\n",
    "    with open(destination, 'wb') as file:\n",
    "        file.write(response.content)\n",
    "\n",
    "csv_url = 'https://www150.statcan.gc.ca/t1/tbl1/en/dtl!downloadDbLoadingData-nonTraduit.action?pid=2010000101&latestN=0&startDate=20190101&endDate=20231101&csvLocale=en&selectedMembers=%5B%5B1%5D%2C%5B1%5D%2C%5B1%5D%2C%5B1%2C2%5D%2C%5B1%5D%5D&checkedLevels='\n",
    "destination_path = 'statcan_NewMotorVehicleSales.csv'\n",
    "\n",
    "download_csv(csv_url, destination_path)"
   ]
  },
  {
   "cell_type": "code",
   "execution_count": 5,
   "id": "5fdfebec",
   "metadata": {
    "execution": {
     "iopub.execute_input": "2024-02-25T22:00:59.989029Z",
     "iopub.status.busy": "2024-02-25T22:00:59.988449Z",
     "iopub.status.idle": "2024-02-25T22:01:00.009413Z",
     "shell.execute_reply": "2024-02-25T22:01:00.008603Z"
    },
    "papermill": {
     "duration": 0.02536,
     "end_time": "2024-02-25T22:01:00.011033",
     "exception": false,
     "start_time": "2024-02-25T22:00:59.985673",
     "status": "completed"
    },
    "tags": []
   },
   "outputs": [
    {
     "data": {
      "text/html": [
       "<div>\n",
       "<style scoped>\n",
       "    .dataframe tbody tr th:only-of-type {\n",
       "        vertical-align: middle;\n",
       "    }\n",
       "\n",
       "    .dataframe tbody tr th {\n",
       "        vertical-align: top;\n",
       "    }\n",
       "\n",
       "    .dataframe thead th {\n",
       "        text-align: right;\n",
       "    }\n",
       "</style>\n",
       "<table border=\"1\" class=\"dataframe\">\n",
       "  <thead>\n",
       "    <tr style=\"text-align: right;\">\n",
       "      <th></th>\n",
       "      <th>REF_DATE</th>\n",
       "      <th>GEO</th>\n",
       "      <th>DGUID</th>\n",
       "      <th>Vehicle type</th>\n",
       "      <th>Origin of manufacture</th>\n",
       "      <th>Sales</th>\n",
       "      <th>Seasonal adjustment</th>\n",
       "      <th>UOM</th>\n",
       "      <th>UOM_ID</th>\n",
       "      <th>SCALAR_FACTOR</th>\n",
       "      <th>SCALAR_ID</th>\n",
       "      <th>VECTOR</th>\n",
       "      <th>COORDINATE</th>\n",
       "      <th>VALUE</th>\n",
       "      <th>STATUS</th>\n",
       "      <th>SYMBOL</th>\n",
       "      <th>TERMINATED</th>\n",
       "      <th>DECIMALS</th>\n",
       "    </tr>\n",
       "  </thead>\n",
       "  <tbody>\n",
       "    <tr>\n",
       "      <th>0</th>\n",
       "      <td>2019-01</td>\n",
       "      <td>Canada</td>\n",
       "      <td>2016A000011124</td>\n",
       "      <td>Total, new motor vehicles</td>\n",
       "      <td>Total, country of manufacture</td>\n",
       "      <td>Units</td>\n",
       "      <td>Unadjusted</td>\n",
       "      <td>Units</td>\n",
       "      <td>300</td>\n",
       "      <td>units</td>\n",
       "      <td>0</td>\n",
       "      <td>v42169911</td>\n",
       "      <td>1.1.1.1.1</td>\n",
       "      <td>112178</td>\n",
       "      <td>NaN</td>\n",
       "      <td>NaN</td>\n",
       "      <td>NaN</td>\n",
       "      <td>0</td>\n",
       "    </tr>\n",
       "    <tr>\n",
       "      <th>1</th>\n",
       "      <td>2019-02</td>\n",
       "      <td>Canada</td>\n",
       "      <td>2016A000011124</td>\n",
       "      <td>Total, new motor vehicles</td>\n",
       "      <td>Total, country of manufacture</td>\n",
       "      <td>Units</td>\n",
       "      <td>Unadjusted</td>\n",
       "      <td>Units</td>\n",
       "      <td>300</td>\n",
       "      <td>units</td>\n",
       "      <td>0</td>\n",
       "      <td>v42169911</td>\n",
       "      <td>1.1.1.1.1</td>\n",
       "      <td>124493</td>\n",
       "      <td>NaN</td>\n",
       "      <td>NaN</td>\n",
       "      <td>NaN</td>\n",
       "      <td>0</td>\n",
       "    </tr>\n",
       "    <tr>\n",
       "      <th>2</th>\n",
       "      <td>2019-03</td>\n",
       "      <td>Canada</td>\n",
       "      <td>2016A000011124</td>\n",
       "      <td>Total, new motor vehicles</td>\n",
       "      <td>Total, country of manufacture</td>\n",
       "      <td>Units</td>\n",
       "      <td>Unadjusted</td>\n",
       "      <td>Units</td>\n",
       "      <td>300</td>\n",
       "      <td>units</td>\n",
       "      <td>0</td>\n",
       "      <td>v42169911</td>\n",
       "      <td>1.1.1.1.1</td>\n",
       "      <td>187907</td>\n",
       "      <td>NaN</td>\n",
       "      <td>NaN</td>\n",
       "      <td>NaN</td>\n",
       "      <td>0</td>\n",
       "    </tr>\n",
       "    <tr>\n",
       "      <th>3</th>\n",
       "      <td>2019-04</td>\n",
       "      <td>Canada</td>\n",
       "      <td>2016A000011124</td>\n",
       "      <td>Total, new motor vehicles</td>\n",
       "      <td>Total, country of manufacture</td>\n",
       "      <td>Units</td>\n",
       "      <td>Unadjusted</td>\n",
       "      <td>Units</td>\n",
       "      <td>300</td>\n",
       "      <td>units</td>\n",
       "      <td>0</td>\n",
       "      <td>v42169911</td>\n",
       "      <td>1.1.1.1.1</td>\n",
       "      <td>186487</td>\n",
       "      <td>NaN</td>\n",
       "      <td>NaN</td>\n",
       "      <td>NaN</td>\n",
       "      <td>0</td>\n",
       "    </tr>\n",
       "    <tr>\n",
       "      <th>4</th>\n",
       "      <td>2019-05</td>\n",
       "      <td>Canada</td>\n",
       "      <td>2016A000011124</td>\n",
       "      <td>Total, new motor vehicles</td>\n",
       "      <td>Total, country of manufacture</td>\n",
       "      <td>Units</td>\n",
       "      <td>Unadjusted</td>\n",
       "      <td>Units</td>\n",
       "      <td>300</td>\n",
       "      <td>units</td>\n",
       "      <td>0</td>\n",
       "      <td>v42169911</td>\n",
       "      <td>1.1.1.1.1</td>\n",
       "      <td>208375</td>\n",
       "      <td>NaN</td>\n",
       "      <td>NaN</td>\n",
       "      <td>NaN</td>\n",
       "      <td>0</td>\n",
       "    </tr>\n",
       "  </tbody>\n",
       "</table>\n",
       "</div>"
      ],
      "text/plain": [
       "  REF_DATE     GEO           DGUID               Vehicle type  \\\n",
       "0  2019-01  Canada  2016A000011124  Total, new motor vehicles   \n",
       "1  2019-02  Canada  2016A000011124  Total, new motor vehicles   \n",
       "2  2019-03  Canada  2016A000011124  Total, new motor vehicles   \n",
       "3  2019-04  Canada  2016A000011124  Total, new motor vehicles   \n",
       "4  2019-05  Canada  2016A000011124  Total, new motor vehicles   \n",
       "\n",
       "           Origin of manufacture  Sales Seasonal adjustment    UOM  UOM_ID  \\\n",
       "0  Total, country of manufacture  Units          Unadjusted  Units     300   \n",
       "1  Total, country of manufacture  Units          Unadjusted  Units     300   \n",
       "2  Total, country of manufacture  Units          Unadjusted  Units     300   \n",
       "3  Total, country of manufacture  Units          Unadjusted  Units     300   \n",
       "4  Total, country of manufacture  Units          Unadjusted  Units     300   \n",
       "\n",
       "  SCALAR_FACTOR  SCALAR_ID     VECTOR COORDINATE   VALUE  STATUS  SYMBOL  \\\n",
       "0         units          0  v42169911  1.1.1.1.1  112178     NaN     NaN   \n",
       "1         units          0  v42169911  1.1.1.1.1  124493     NaN     NaN   \n",
       "2         units          0  v42169911  1.1.1.1.1  187907     NaN     NaN   \n",
       "3         units          0  v42169911  1.1.1.1.1  186487     NaN     NaN   \n",
       "4         units          0  v42169911  1.1.1.1.1  208375     NaN     NaN   \n",
       "\n",
       "   TERMINATED  DECIMALS  \n",
       "0         NaN         0  \n",
       "1         NaN         0  \n",
       "2         NaN         0  \n",
       "3         NaN         0  \n",
       "4         NaN         0  "
      ]
     },
     "execution_count": 5,
     "metadata": {},
     "output_type": "execute_result"
    }
   ],
   "source": [
    "df = pd.read_csv(destination_path, encoding='utf-8')\n",
    "df.head(5)"
   ]
  }
 ],
 "metadata": {
  "kaggle": {
   "accelerator": "none",
   "dataSources": [],
   "dockerImageVersionId": 30646,
   "isGpuEnabled": false,
   "isInternetEnabled": true,
   "language": "python",
   "sourceType": "notebook"
  },
  "kernelspec": {
   "display_name": "Python 3",
   "language": "python",
   "name": "python3"
  },
  "language_info": {
   "codemirror_mode": {
    "name": "ipython",
    "version": 3
   },
   "file_extension": ".py",
   "mimetype": "text/x-python",
   "name": "python",
   "nbconvert_exporter": "python",
   "pygments_lexer": "ipython3",
   "version": "3.10.13"
  },
  "papermill": {
   "default_parameters": {},
   "duration": 6.84226,
   "end_time": "2024-02-25T22:01:00.430691",
   "environment_variables": {},
   "exception": null,
   "input_path": "__notebook__.ipynb",
   "output_path": "__notebook__.ipynb",
   "parameters": {},
   "start_time": "2024-02-25T22:00:53.588431",
   "version": "2.5.0"
  }
 },
 "nbformat": 4,
 "nbformat_minor": 5
}
