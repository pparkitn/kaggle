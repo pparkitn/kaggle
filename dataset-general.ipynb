{
 "cells": [
  {
   "cell_type": "code",
   "execution_count": 1,
   "id": "3b614083",
   "metadata": {
    "execution": {
     "iopub.execute_input": "2024-02-27T00:34:17.635527Z",
     "iopub.status.busy": "2024-02-27T00:34:17.635049Z",
     "iopub.status.idle": "2024-02-27T00:34:18.706719Z",
     "shell.execute_reply": "2024-02-27T00:34:18.705476Z"
    },
    "papermill": {
     "duration": 1.08415,
     "end_time": "2024-02-27T00:34:18.710101",
     "exception": false,
     "start_time": "2024-02-27T00:34:17.625951",
     "status": "completed"
    },
    "tags": []
   },
   "outputs": [],
   "source": [
    "import numpy as np\n",
    "import pandas as pd\n",
    "from datetime import datetime, timedelta\n",
    "import requests"
   ]
  },
  {
   "cell_type": "code",
   "execution_count": 2,
   "id": "d835648d",
   "metadata": {
    "execution": {
     "iopub.execute_input": "2024-02-27T00:34:18.726374Z",
     "iopub.status.busy": "2024-02-27T00:34:18.725027Z",
     "iopub.status.idle": "2024-02-27T00:34:18.730065Z",
     "shell.execute_reply": "2024-02-27T00:34:18.729179Z"
    },
    "papermill": {
     "duration": 0.015765,
     "end_time": "2024-02-27T00:34:18.732866",
     "exception": false,
     "start_time": "2024-02-27T00:34:18.717101",
     "status": "completed"
    },
    "tags": []
   },
   "outputs": [],
   "source": [
    "# Set random seed for reproducibility\n",
    "np.random.seed(42)"
   ]
  },
  {
   "cell_type": "markdown",
   "id": "1db40b94",
   "metadata": {
    "papermill": {
     "duration": 0.005054,
     "end_time": "2024-02-27T00:34:18.744400",
     "exception": false,
     "start_time": "2024-02-27T00:34:18.739346",
     "status": "completed"
    },
    "tags": []
   },
   "source": [
    "# CONVERSION ABC"
   ]
  },
  {
   "cell_type": "code",
   "execution_count": 3,
   "id": "7050beae",
   "metadata": {
    "execution": {
     "iopub.execute_input": "2024-02-27T00:34:18.755110Z",
     "iopub.status.busy": "2024-02-27T00:34:18.754697Z",
     "iopub.status.idle": "2024-02-27T00:34:19.439790Z",
     "shell.execute_reply": "2024-02-27T00:34:19.438464Z"
    },
    "papermill": {
     "duration": 0.693622,
     "end_time": "2024-02-27T00:34:19.442584",
     "exception": false,
     "start_time": "2024-02-27T00:34:18.748962",
     "status": "completed"
    },
    "tags": []
   },
   "outputs": [
    {
     "name": "stdout",
     "output_type": "stream",
     "text": [
      "   IsConversion ActivationDate    Group ConversionDate\n",
      "0             0     2022-01-01  Group_A            NaT\n",
      "1             0     2022-01-01  Group_A            NaT\n",
      "2             1     2022-01-01  Group_A     2022-01-22\n",
      "3             0     2022-01-01  Group_A            NaT\n",
      "4             0     2022-01-03  Group_A            NaT\n"
     ]
    }
   ],
   "source": [
    "# Set random seed for reproducibility\n",
    "np.random.seed(42)\n",
    "\n",
    "# Number of rows in the dataset\n",
    "num_rows = 1000\n",
    "\n",
    "# Generate random activation dates\n",
    "start_date = datetime(2022, 1, 1)\n",
    "end_date = datetime(2022, 12, 31)\n",
    "\n",
    "# Generate data for IsConversion column with a normal distribution for each group\n",
    "is_conversion_probabilities = {\n",
    "    'Group_A': np.random.normal(loc=0.4, scale=0.2, size=num_rows),\n",
    "    'Group_B': np.random.normal(loc=0.5, scale=0.2, size=num_rows),\n",
    "    'Group_C': np.random.normal(loc=0.7, scale=0.2, size=num_rows)\n",
    "}\n",
    "\n",
    "is_conversion = np.concatenate([\n",
    "    (probabilities > 0.5).astype(int) for probabilities in is_conversion_probabilities.values()\n",
    "])\n",
    "\n",
    "# Generate random activation dates for each group\n",
    "activation_dates = np.concatenate([\n",
    "    [np.random.choice(pd.date_range(start_date, end_date)) for _ in range(num_rows)]\n",
    "    for _ in range(len(is_conversion_probabilities))\n",
    "])\n",
    "\n",
    "# Generate random group names\n",
    "groups = np.concatenate([\n",
    "    [group] * num_rows for group in is_conversion_probabilities.keys()\n",
    "])\n",
    "\n",
    "# Create DataFrame\n",
    "df = pd.DataFrame({\n",
    "    'IsConversion': is_conversion,\n",
    "    'ActivationDate': activation_dates,\n",
    "    'Group': groups\n",
    "})\n",
    "\n",
    "# Sort DataFrame by ActivationDate and Group\n",
    "df = df.sort_values(by=['Group', 'ActivationDate']).reset_index(drop=True)\n",
    "\n",
    "# Generate random conversion dates based on activation dates for each group\n",
    "df['ConversionDate'] = df.groupby('Group')['ActivationDate'].transform(lambda x: x + pd.to_timedelta(np.random.randint(1, 30, size=len(x)), unit='D'))\n",
    "\n",
    "# Update ConversionDate to null when IsConversion is equal to zero\n",
    "df.loc[df['IsConversion'] == 0, 'ConversionDate'] = np.nan\n",
    "\n",
    "# Write DataFrame to CSV\n",
    "df.to_csv('conversionABC.csv', index=False)\n",
    "\n",
    "# Display the DataFrame\n",
    "print(df.head())\n"
   ]
  },
  {
   "cell_type": "markdown",
   "id": "b29fe190",
   "metadata": {
    "papermill": {
     "duration": 0.004308,
     "end_time": "2024-02-27T00:34:19.451677",
     "exception": false,
     "start_time": "2024-02-27T00:34:19.447369",
     "status": "completed"
    },
    "tags": []
   },
   "source": [
    "# statcan New Motor Vehicle Sales"
   ]
  },
  {
   "cell_type": "code",
   "execution_count": 4,
   "id": "f197324d",
   "metadata": {
    "execution": {
     "iopub.execute_input": "2024-02-27T00:34:19.462661Z",
     "iopub.status.busy": "2024-02-27T00:34:19.462267Z",
     "iopub.status.idle": "2024-02-27T00:34:22.469794Z",
     "shell.execute_reply": "2024-02-27T00:34:22.468592Z"
    },
    "papermill": {
     "duration": 3.016859,
     "end_time": "2024-02-27T00:34:22.473123",
     "exception": false,
     "start_time": "2024-02-27T00:34:19.456264",
     "status": "completed"
    },
    "tags": []
   },
   "outputs": [],
   "source": [
    "def download_csv(url, destination):\n",
    "    response = requests.get(url)\n",
    "    with open(destination, 'wb') as file:\n",
    "        file.write(response.content)\n",
    "\n",
    "csv_url = 'https://www150.statcan.gc.ca/t1/tbl1/en/dtl!downloadDbLoadingData-nonTraduit.action?pid=2010000101&latestN=0&startDate=20190101&endDate=20231101&csvLocale=en&selectedMembers=%5B%5B1%5D%2C%5B1%5D%2C%5B1%5D%2C%5B1%2C2%5D%2C%5B1%5D%5D&checkedLevels='\n",
    "destination_path = 'statcan_NewMotorVehicleSales.csv'\n",
    "\n",
    "download_csv(csv_url, destination_path)"
   ]
  },
  {
   "cell_type": "code",
   "execution_count": 5,
   "id": "274d7b82",
   "metadata": {
    "execution": {
     "iopub.execute_input": "2024-02-27T00:34:22.485832Z",
     "iopub.status.busy": "2024-02-27T00:34:22.485175Z",
     "iopub.status.idle": "2024-02-27T00:34:22.513537Z",
     "shell.execute_reply": "2024-02-27T00:34:22.512458Z"
    },
    "papermill": {
     "duration": 0.038116,
     "end_time": "2024-02-27T00:34:22.516205",
     "exception": false,
     "start_time": "2024-02-27T00:34:22.478089",
     "status": "completed"
    },
    "tags": []
   },
   "outputs": [
    {
     "data": {
      "text/html": [
       "<div>\n",
       "<style scoped>\n",
       "    .dataframe tbody tr th:only-of-type {\n",
       "        vertical-align: middle;\n",
       "    }\n",
       "\n",
       "    .dataframe tbody tr th {\n",
       "        vertical-align: top;\n",
       "    }\n",
       "\n",
       "    .dataframe thead th {\n",
       "        text-align: right;\n",
       "    }\n",
       "</style>\n",
       "<table border=\"1\" class=\"dataframe\">\n",
       "  <thead>\n",
       "    <tr style=\"text-align: right;\">\n",
       "      <th></th>\n",
       "      <th>REF_DATE</th>\n",
       "      <th>GEO</th>\n",
       "      <th>DGUID</th>\n",
       "      <th>Vehicle type</th>\n",
       "      <th>Origin of manufacture</th>\n",
       "      <th>Sales</th>\n",
       "      <th>Seasonal adjustment</th>\n",
       "      <th>UOM</th>\n",
       "      <th>UOM_ID</th>\n",
       "      <th>SCALAR_FACTOR</th>\n",
       "      <th>SCALAR_ID</th>\n",
       "      <th>VECTOR</th>\n",
       "      <th>COORDINATE</th>\n",
       "      <th>VALUE</th>\n",
       "      <th>STATUS</th>\n",
       "      <th>SYMBOL</th>\n",
       "      <th>TERMINATED</th>\n",
       "      <th>DECIMALS</th>\n",
       "    </tr>\n",
       "  </thead>\n",
       "  <tbody>\n",
       "    <tr>\n",
       "      <th>0</th>\n",
       "      <td>2019-01</td>\n",
       "      <td>Canada</td>\n",
       "      <td>2016A000011124</td>\n",
       "      <td>Total, new motor vehicles</td>\n",
       "      <td>Total, country of manufacture</td>\n",
       "      <td>Units</td>\n",
       "      <td>Unadjusted</td>\n",
       "      <td>Units</td>\n",
       "      <td>300</td>\n",
       "      <td>units</td>\n",
       "      <td>0</td>\n",
       "      <td>v42169911</td>\n",
       "      <td>1.1.1.1.1</td>\n",
       "      <td>112178</td>\n",
       "      <td>NaN</td>\n",
       "      <td>NaN</td>\n",
       "      <td>NaN</td>\n",
       "      <td>0</td>\n",
       "    </tr>\n",
       "    <tr>\n",
       "      <th>1</th>\n",
       "      <td>2019-02</td>\n",
       "      <td>Canada</td>\n",
       "      <td>2016A000011124</td>\n",
       "      <td>Total, new motor vehicles</td>\n",
       "      <td>Total, country of manufacture</td>\n",
       "      <td>Units</td>\n",
       "      <td>Unadjusted</td>\n",
       "      <td>Units</td>\n",
       "      <td>300</td>\n",
       "      <td>units</td>\n",
       "      <td>0</td>\n",
       "      <td>v42169911</td>\n",
       "      <td>1.1.1.1.1</td>\n",
       "      <td>124493</td>\n",
       "      <td>NaN</td>\n",
       "      <td>NaN</td>\n",
       "      <td>NaN</td>\n",
       "      <td>0</td>\n",
       "    </tr>\n",
       "    <tr>\n",
       "      <th>2</th>\n",
       "      <td>2019-03</td>\n",
       "      <td>Canada</td>\n",
       "      <td>2016A000011124</td>\n",
       "      <td>Total, new motor vehicles</td>\n",
       "      <td>Total, country of manufacture</td>\n",
       "      <td>Units</td>\n",
       "      <td>Unadjusted</td>\n",
       "      <td>Units</td>\n",
       "      <td>300</td>\n",
       "      <td>units</td>\n",
       "      <td>0</td>\n",
       "      <td>v42169911</td>\n",
       "      <td>1.1.1.1.1</td>\n",
       "      <td>187907</td>\n",
       "      <td>NaN</td>\n",
       "      <td>NaN</td>\n",
       "      <td>NaN</td>\n",
       "      <td>0</td>\n",
       "    </tr>\n",
       "    <tr>\n",
       "      <th>3</th>\n",
       "      <td>2019-04</td>\n",
       "      <td>Canada</td>\n",
       "      <td>2016A000011124</td>\n",
       "      <td>Total, new motor vehicles</td>\n",
       "      <td>Total, country of manufacture</td>\n",
       "      <td>Units</td>\n",
       "      <td>Unadjusted</td>\n",
       "      <td>Units</td>\n",
       "      <td>300</td>\n",
       "      <td>units</td>\n",
       "      <td>0</td>\n",
       "      <td>v42169911</td>\n",
       "      <td>1.1.1.1.1</td>\n",
       "      <td>186487</td>\n",
       "      <td>NaN</td>\n",
       "      <td>NaN</td>\n",
       "      <td>NaN</td>\n",
       "      <td>0</td>\n",
       "    </tr>\n",
       "    <tr>\n",
       "      <th>4</th>\n",
       "      <td>2019-05</td>\n",
       "      <td>Canada</td>\n",
       "      <td>2016A000011124</td>\n",
       "      <td>Total, new motor vehicles</td>\n",
       "      <td>Total, country of manufacture</td>\n",
       "      <td>Units</td>\n",
       "      <td>Unadjusted</td>\n",
       "      <td>Units</td>\n",
       "      <td>300</td>\n",
       "      <td>units</td>\n",
       "      <td>0</td>\n",
       "      <td>v42169911</td>\n",
       "      <td>1.1.1.1.1</td>\n",
       "      <td>208375</td>\n",
       "      <td>NaN</td>\n",
       "      <td>NaN</td>\n",
       "      <td>NaN</td>\n",
       "      <td>0</td>\n",
       "    </tr>\n",
       "  </tbody>\n",
       "</table>\n",
       "</div>"
      ],
      "text/plain": [
       "  REF_DATE     GEO           DGUID               Vehicle type  \\\n",
       "0  2019-01  Canada  2016A000011124  Total, new motor vehicles   \n",
       "1  2019-02  Canada  2016A000011124  Total, new motor vehicles   \n",
       "2  2019-03  Canada  2016A000011124  Total, new motor vehicles   \n",
       "3  2019-04  Canada  2016A000011124  Total, new motor vehicles   \n",
       "4  2019-05  Canada  2016A000011124  Total, new motor vehicles   \n",
       "\n",
       "           Origin of manufacture  Sales Seasonal adjustment    UOM  UOM_ID  \\\n",
       "0  Total, country of manufacture  Units          Unadjusted  Units     300   \n",
       "1  Total, country of manufacture  Units          Unadjusted  Units     300   \n",
       "2  Total, country of manufacture  Units          Unadjusted  Units     300   \n",
       "3  Total, country of manufacture  Units          Unadjusted  Units     300   \n",
       "4  Total, country of manufacture  Units          Unadjusted  Units     300   \n",
       "\n",
       "  SCALAR_FACTOR  SCALAR_ID     VECTOR COORDINATE   VALUE  STATUS  SYMBOL  \\\n",
       "0         units          0  v42169911  1.1.1.1.1  112178     NaN     NaN   \n",
       "1         units          0  v42169911  1.1.1.1.1  124493     NaN     NaN   \n",
       "2         units          0  v42169911  1.1.1.1.1  187907     NaN     NaN   \n",
       "3         units          0  v42169911  1.1.1.1.1  186487     NaN     NaN   \n",
       "4         units          0  v42169911  1.1.1.1.1  208375     NaN     NaN   \n",
       "\n",
       "   TERMINATED  DECIMALS  \n",
       "0         NaN         0  \n",
       "1         NaN         0  \n",
       "2         NaN         0  \n",
       "3         NaN         0  \n",
       "4         NaN         0  "
      ]
     },
     "execution_count": 5,
     "metadata": {},
     "output_type": "execute_result"
    }
   ],
   "source": [
    "df = pd.read_csv(destination_path, encoding='utf-8')\n",
    "df.head(5)"
   ]
  },
  {
   "cell_type": "markdown",
   "id": "bb8863e6",
   "metadata": {
    "papermill": {
     "duration": 0.00492,
     "end_time": "2024-02-27T00:34:22.526648",
     "exception": false,
     "start_time": "2024-02-27T00:34:22.521728",
     "status": "completed"
    },
    "tags": []
   },
   "source": [
    "# IMAGE OF CANADA"
   ]
  },
  {
   "cell_type": "code",
   "execution_count": 6,
   "id": "ffdff651",
   "metadata": {
    "execution": {
     "iopub.execute_input": "2024-02-27T00:34:22.540180Z",
     "iopub.status.busy": "2024-02-27T00:34:22.539737Z",
     "iopub.status.idle": "2024-02-27T00:34:23.443380Z",
     "shell.execute_reply": "2024-02-27T00:34:23.441948Z"
    },
    "papermill": {
     "duration": 0.913087,
     "end_time": "2024-02-27T00:34:23.446238",
     "exception": false,
     "start_time": "2024-02-27T00:34:22.533151",
     "status": "completed"
    },
    "tags": []
   },
   "outputs": [
    {
     "name": "stdout",
     "output_type": "stream",
     "text": [
      "Image downloaded successfully.\n"
     ]
    }
   ],
   "source": [
    "url = \"https://github.com/pparkitn/pparkitn/blob/main/images/canada4.png?raw=true\"\n",
    "response = requests.get(url)\n",
    "\n",
    "if response.status_code == 200:\n",
    "    with open(\"canada4.png\", \"wb\") as file:\n",
    "        file.write(response.content)\n",
    "    print(\"Image downloaded successfully.\")\n",
    "else:\n",
    "    print(f\"Failed to download image. Status code: {response.status_code}\")"
   ]
  },
  {
   "cell_type": "markdown",
   "id": "d7a2ce7b",
   "metadata": {
    "papermill": {
     "duration": 0.004873,
     "end_time": "2024-02-27T00:34:23.456737",
     "exception": false,
     "start_time": "2024-02-27T00:34:23.451864",
     "status": "completed"
    },
    "tags": []
   },
   "source": [
    "# CPI CANADA"
   ]
  },
  {
   "cell_type": "code",
   "execution_count": 7,
   "id": "7db6588b",
   "metadata": {
    "execution": {
     "iopub.execute_input": "2024-02-27T00:34:23.468962Z",
     "iopub.status.busy": "2024-02-27T00:34:23.468541Z",
     "iopub.status.idle": "2024-02-27T00:34:28.626336Z",
     "shell.execute_reply": "2024-02-27T00:34:28.625375Z"
    },
    "papermill": {
     "duration": 5.167103,
     "end_time": "2024-02-27T00:34:28.629091",
     "exception": false,
     "start_time": "2024-02-27T00:34:23.461988",
     "status": "completed"
    },
    "tags": []
   },
   "outputs": [],
   "source": [
    "def download_csv(url, destination):\n",
    "    response = requests.get(url)\n",
    "    with open(destination, 'wb') as file:\n",
    "        file.write(response.content)\n",
    "\n",
    "csv_url = 'https://www150.statcan.gc.ca/t1/tbl1/en/dtl!downloadDbLoadingData-nonTraduit.action?pid=1810000401&latestN=0&startDate=20100901&endDate=20240101&csvLocale=en&selectedMembers=%5B%5B2%5D%2C%5B2%2C3%2C79%2C96%2C139%2C176%2C184%2C201%2C219%2C256%2C274%2C282%2C285%2C287%2C288%5D%5D&checkedLevels='\n",
    "destination_path = 'cpi_canada.csv'\n",
    "\n",
    "download_csv(csv_url, destination_path)"
   ]
  },
  {
   "cell_type": "code",
   "execution_count": 8,
   "id": "a0ced20b",
   "metadata": {
    "execution": {
     "iopub.execute_input": "2024-02-27T00:34:28.642310Z",
     "iopub.status.busy": "2024-02-27T00:34:28.641699Z",
     "iopub.status.idle": "2024-02-27T00:34:28.670687Z",
     "shell.execute_reply": "2024-02-27T00:34:28.669522Z"
    },
    "papermill": {
     "duration": 0.038873,
     "end_time": "2024-02-27T00:34:28.673623",
     "exception": false,
     "start_time": "2024-02-27T00:34:28.634750",
     "status": "completed"
    },
    "tags": []
   },
   "outputs": [
    {
     "data": {
      "text/html": [
       "<div>\n",
       "<style scoped>\n",
       "    .dataframe tbody tr th:only-of-type {\n",
       "        vertical-align: middle;\n",
       "    }\n",
       "\n",
       "    .dataframe tbody tr th {\n",
       "        vertical-align: top;\n",
       "    }\n",
       "\n",
       "    .dataframe thead th {\n",
       "        text-align: right;\n",
       "    }\n",
       "</style>\n",
       "<table border=\"1\" class=\"dataframe\">\n",
       "  <thead>\n",
       "    <tr style=\"text-align: right;\">\n",
       "      <th></th>\n",
       "      <th>REF_DATE</th>\n",
       "      <th>GEO</th>\n",
       "      <th>DGUID</th>\n",
       "      <th>Products and product groups</th>\n",
       "      <th>UOM</th>\n",
       "      <th>UOM_ID</th>\n",
       "      <th>SCALAR_FACTOR</th>\n",
       "      <th>SCALAR_ID</th>\n",
       "      <th>VECTOR</th>\n",
       "      <th>COORDINATE</th>\n",
       "      <th>VALUE</th>\n",
       "      <th>STATUS</th>\n",
       "      <th>SYMBOL</th>\n",
       "      <th>TERMINATED</th>\n",
       "      <th>DECIMALS</th>\n",
       "    </tr>\n",
       "  </thead>\n",
       "  <tbody>\n",
       "    <tr>\n",
       "      <th>0</th>\n",
       "      <td>2010-09</td>\n",
       "      <td>Canada</td>\n",
       "      <td>2016A000011124</td>\n",
       "      <td>All-items</td>\n",
       "      <td>2002=100</td>\n",
       "      <td>17</td>\n",
       "      <td>units</td>\n",
       "      <td>0</td>\n",
       "      <td>v41690973</td>\n",
       "      <td>2.2</td>\n",
       "      <td>116.9</td>\n",
       "      <td>NaN</td>\n",
       "      <td>NaN</td>\n",
       "      <td>NaN</td>\n",
       "      <td>1</td>\n",
       "    </tr>\n",
       "    <tr>\n",
       "      <th>1</th>\n",
       "      <td>2010-10</td>\n",
       "      <td>Canada</td>\n",
       "      <td>2016A000011124</td>\n",
       "      <td>All-items</td>\n",
       "      <td>2002=100</td>\n",
       "      <td>17</td>\n",
       "      <td>units</td>\n",
       "      <td>0</td>\n",
       "      <td>v41690973</td>\n",
       "      <td>2.2</td>\n",
       "      <td>117.4</td>\n",
       "      <td>NaN</td>\n",
       "      <td>NaN</td>\n",
       "      <td>NaN</td>\n",
       "      <td>1</td>\n",
       "    </tr>\n",
       "    <tr>\n",
       "      <th>2</th>\n",
       "      <td>2010-11</td>\n",
       "      <td>Canada</td>\n",
       "      <td>2016A000011124</td>\n",
       "      <td>All-items</td>\n",
       "      <td>2002=100</td>\n",
       "      <td>17</td>\n",
       "      <td>units</td>\n",
       "      <td>0</td>\n",
       "      <td>v41690973</td>\n",
       "      <td>2.2</td>\n",
       "      <td>117.5</td>\n",
       "      <td>NaN</td>\n",
       "      <td>NaN</td>\n",
       "      <td>NaN</td>\n",
       "      <td>1</td>\n",
       "    </tr>\n",
       "    <tr>\n",
       "      <th>3</th>\n",
       "      <td>2010-12</td>\n",
       "      <td>Canada</td>\n",
       "      <td>2016A000011124</td>\n",
       "      <td>All-items</td>\n",
       "      <td>2002=100</td>\n",
       "      <td>17</td>\n",
       "      <td>units</td>\n",
       "      <td>0</td>\n",
       "      <td>v41690973</td>\n",
       "      <td>2.2</td>\n",
       "      <td>117.5</td>\n",
       "      <td>NaN</td>\n",
       "      <td>NaN</td>\n",
       "      <td>NaN</td>\n",
       "      <td>1</td>\n",
       "    </tr>\n",
       "    <tr>\n",
       "      <th>4</th>\n",
       "      <td>2011-01</td>\n",
       "      <td>Canada</td>\n",
       "      <td>2016A000011124</td>\n",
       "      <td>All-items</td>\n",
       "      <td>2002=100</td>\n",
       "      <td>17</td>\n",
       "      <td>units</td>\n",
       "      <td>0</td>\n",
       "      <td>v41690973</td>\n",
       "      <td>2.2</td>\n",
       "      <td>117.8</td>\n",
       "      <td>NaN</td>\n",
       "      <td>NaN</td>\n",
       "      <td>NaN</td>\n",
       "      <td>1</td>\n",
       "    </tr>\n",
       "  </tbody>\n",
       "</table>\n",
       "</div>"
      ],
      "text/plain": [
       "  REF_DATE     GEO           DGUID Products and product groups       UOM  \\\n",
       "0  2010-09  Canada  2016A000011124                   All-items  2002=100   \n",
       "1  2010-10  Canada  2016A000011124                   All-items  2002=100   \n",
       "2  2010-11  Canada  2016A000011124                   All-items  2002=100   \n",
       "3  2010-12  Canada  2016A000011124                   All-items  2002=100   \n",
       "4  2011-01  Canada  2016A000011124                   All-items  2002=100   \n",
       "\n",
       "   UOM_ID SCALAR_FACTOR  SCALAR_ID     VECTOR  COORDINATE  VALUE  STATUS  \\\n",
       "0      17         units          0  v41690973         2.2  116.9     NaN   \n",
       "1      17         units          0  v41690973         2.2  117.4     NaN   \n",
       "2      17         units          0  v41690973         2.2  117.5     NaN   \n",
       "3      17         units          0  v41690973         2.2  117.5     NaN   \n",
       "4      17         units          0  v41690973         2.2  117.8     NaN   \n",
       "\n",
       "   SYMBOL  TERMINATED  DECIMALS  \n",
       "0     NaN         NaN         1  \n",
       "1     NaN         NaN         1  \n",
       "2     NaN         NaN         1  \n",
       "3     NaN         NaN         1  \n",
       "4     NaN         NaN         1  "
      ]
     },
     "execution_count": 8,
     "metadata": {},
     "output_type": "execute_result"
    }
   ],
   "source": [
    "df = pd.read_csv(destination_path, encoding='utf-8')\n",
    "df.head(5)"
   ]
  }
 ],
 "metadata": {
  "kaggle": {
   "accelerator": "none",
   "dataSources": [],
   "dockerImageVersionId": 30646,
   "isGpuEnabled": false,
   "isInternetEnabled": true,
   "language": "python",
   "sourceType": "notebook"
  },
  "kernelspec": {
   "display_name": "Python 3",
   "language": "python",
   "name": "python3"
  },
  "language_info": {
   "codemirror_mode": {
    "name": "ipython",
    "version": 3
   },
   "file_extension": ".py",
   "mimetype": "text/x-python",
   "name": "python",
   "nbconvert_exporter": "python",
   "pygments_lexer": "ipython3",
   "version": "3.10.13"
  },
  "papermill": {
   "default_parameters": {},
   "duration": 14.63242,
   "end_time": "2024-02-27T00:34:29.203524",
   "environment_variables": {},
   "exception": null,
   "input_path": "__notebook__.ipynb",
   "output_path": "__notebook__.ipynb",
   "parameters": {},
   "start_time": "2024-02-27T00:34:14.571104",
   "version": "2.5.0"
  }
 },
 "nbformat": 4,
 "nbformat_minor": 5
}
