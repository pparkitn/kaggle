{
 "cells": [
  {
   "cell_type": "code",
   "execution_count": 1,
   "id": "850d3391",
   "metadata": {
    "execution": {
     "iopub.execute_input": "2024-02-25T01:50:34.596363Z",
     "iopub.status.busy": "2024-02-25T01:50:34.595852Z",
     "iopub.status.idle": "2024-02-25T01:50:35.266497Z",
     "shell.execute_reply": "2024-02-25T01:50:35.265592Z"
    },
    "papermill": {
     "duration": 0.676296,
     "end_time": "2024-02-25T01:50:35.268592",
     "exception": false,
     "start_time": "2024-02-25T01:50:34.592296",
     "status": "completed"
    },
    "tags": []
   },
   "outputs": [],
   "source": [
    "import numpy as np\n",
    "import pandas as pd\n",
    "from datetime import datetime, timedelta"
   ]
  },
  {
   "cell_type": "code",
   "execution_count": 2,
   "id": "555333a8",
   "metadata": {
    "execution": {
     "iopub.execute_input": "2024-02-25T01:50:35.273357Z",
     "iopub.status.busy": "2024-02-25T01:50:35.272991Z",
     "iopub.status.idle": "2024-02-25T01:50:35.276429Z",
     "shell.execute_reply": "2024-02-25T01:50:35.275638Z"
    },
    "papermill": {
     "duration": 0.007503,
     "end_time": "2024-02-25T01:50:35.278018",
     "exception": false,
     "start_time": "2024-02-25T01:50:35.270515",
     "status": "completed"
    },
    "tags": []
   },
   "outputs": [],
   "source": [
    "# Set random seed for reproducibility\n",
    "np.random.seed(42)"
   ]
  },
  {
   "cell_type": "markdown",
   "id": "ed07fae1",
   "metadata": {
    "papermill": {
     "duration": 0.001408,
     "end_time": "2024-02-25T01:50:35.281218",
     "exception": false,
     "start_time": "2024-02-25T01:50:35.279810",
     "status": "completed"
    },
    "tags": []
   },
   "source": [
    "# CONVERSION ABC"
   ]
  },
  {
   "cell_type": "code",
   "execution_count": 3,
   "id": "7f8c1db2",
   "metadata": {
    "execution": {
     "iopub.execute_input": "2024-02-25T01:50:35.286892Z",
     "iopub.status.busy": "2024-02-25T01:50:35.286231Z",
     "iopub.status.idle": "2024-02-25T01:50:35.812454Z",
     "shell.execute_reply": "2024-02-25T01:50:35.811602Z"
    },
    "papermill": {
     "duration": 0.531025,
     "end_time": "2024-02-25T01:50:35.814136",
     "exception": false,
     "start_time": "2024-02-25T01:50:35.283111",
     "status": "completed"
    },
    "tags": []
   },
   "outputs": [
    {
     "name": "stdout",
     "output_type": "stream",
     "text": [
      "   IsConversion ActivationDate    Group ConversionDate\n",
      "0             0     2022-01-01  Group_A            NaT\n",
      "1             0     2022-01-01  Group_A            NaT\n",
      "2             0     2022-01-01  Group_A            NaT\n",
      "3             0     2022-01-01  Group_A            NaT\n",
      "4             0     2022-01-03  Group_A            NaT\n"
     ]
    }
   ],
   "source": [
    "# Set random seed for reproducibility\n",
    "np.random.seed(42)\n",
    "\n",
    "# Number of rows in the dataset\n",
    "num_rows = 1000\n",
    "\n",
    "# Generate random activation dates\n",
    "start_date = datetime(2022, 1, 1)\n",
    "end_date = datetime(2022, 12, 31)\n",
    "\n",
    "# Generate data for IsConversion column with a normal distribution for each group\n",
    "is_conversion_probabilities = {\n",
    "    'Group_A': np.random.normal(loc=0.1, scale=0.2, size=num_rows),\n",
    "    'Group_B': np.random.normal(loc=0.5, scale=0.2, size=num_rows),\n",
    "    'Group_C': np.random.normal(loc=0.9, scale=0.2, size=num_rows)\n",
    "}\n",
    "\n",
    "is_conversion = np.concatenate([\n",
    "    (probabilities > 0.5).astype(int) for probabilities in is_conversion_probabilities.values()\n",
    "])\n",
    "\n",
    "# Generate random activation dates for each group\n",
    "activation_dates = np.concatenate([\n",
    "    [np.random.choice(pd.date_range(start_date, end_date)) for _ in range(num_rows)]\n",
    "    for _ in range(len(is_conversion_probabilities))\n",
    "])\n",
    "\n",
    "# Generate random group names\n",
    "groups = np.concatenate([\n",
    "    [group] * num_rows for group in is_conversion_probabilities.keys()\n",
    "])\n",
    "\n",
    "# Create DataFrame\n",
    "df = pd.DataFrame({\n",
    "    'IsConversion': is_conversion,\n",
    "    'ActivationDate': activation_dates,\n",
    "    'Group': groups\n",
    "})\n",
    "\n",
    "# Sort DataFrame by ActivationDate and Group\n",
    "df = df.sort_values(by=['Group', 'ActivationDate']).reset_index(drop=True)\n",
    "\n",
    "# Generate random conversion dates based on activation dates for each group\n",
    "df['ConversionDate'] = df.groupby('Group')['ActivationDate'].transform(lambda x: x + pd.to_timedelta(np.random.randint(1, 30, size=len(x)), unit='D'))\n",
    "\n",
    "# Update ConversionDate to null when IsConversion is equal to zero\n",
    "df.loc[df['IsConversion'] == 0, 'ConversionDate'] = np.nan\n",
    "\n",
    "# Write DataFrame to CSV\n",
    "df.to_csv('conversionABC.csv', index=False)\n",
    "\n",
    "# Display the DataFrame\n",
    "print(df.head())\n"
   ]
  }
 ],
 "metadata": {
  "kaggle": {
   "accelerator": "none",
   "dataSources": [],
   "dockerImageVersionId": 30646,
   "isGpuEnabled": false,
   "isInternetEnabled": true,
   "language": "python",
   "sourceType": "notebook"
  },
  "kernelspec": {
   "display_name": "Python 3",
   "language": "python",
   "name": "python3"
  },
  "language_info": {
   "codemirror_mode": {
    "name": "ipython",
    "version": 3
   },
   "file_extension": ".py",
   "mimetype": "text/x-python",
   "name": "python",
   "nbconvert_exporter": "python",
   "pygments_lexer": "ipython3",
   "version": "3.10.13"
  },
  "papermill": {
   "default_parameters": {},
   "duration": 3.674832,
   "end_time": "2024-02-25T01:50:36.132844",
   "environment_variables": {},
   "exception": null,
   "input_path": "__notebook__.ipynb",
   "output_path": "__notebook__.ipynb",
   "parameters": {},
   "start_time": "2024-02-25T01:50:32.458012",
   "version": "2.5.0"
  }
 },
 "nbformat": 4,
 "nbformat_minor": 5
}
