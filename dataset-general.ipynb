{
 "cells": [
  {
   "cell_type": "code",
   "execution_count": 1,
   "id": "df619ddc",
   "metadata": {
    "execution": {
     "iopub.execute_input": "2024-02-25T01:25:15.483452Z",
     "iopub.status.busy": "2024-02-25T01:25:15.483083Z",
     "iopub.status.idle": "2024-02-25T01:25:16.425426Z",
     "shell.execute_reply": "2024-02-25T01:25:16.423650Z"
    },
    "papermill": {
     "duration": 0.94955,
     "end_time": "2024-02-25T01:25:16.428139",
     "exception": false,
     "start_time": "2024-02-25T01:25:15.478589",
     "status": "completed"
    },
    "tags": []
   },
   "outputs": [],
   "source": [
    "import numpy as np\n",
    "import pandas as pd\n",
    "from datetime import datetime, timedelta"
   ]
  },
  {
   "cell_type": "code",
   "execution_count": 2,
   "id": "d4e92e16",
   "metadata": {
    "execution": {
     "iopub.execute_input": "2024-02-25T01:25:16.433954Z",
     "iopub.status.busy": "2024-02-25T01:25:16.433410Z",
     "iopub.status.idle": "2024-02-25T01:25:16.439714Z",
     "shell.execute_reply": "2024-02-25T01:25:16.437927Z"
    },
    "papermill": {
     "duration": 0.012074,
     "end_time": "2024-02-25T01:25:16.442378",
     "exception": false,
     "start_time": "2024-02-25T01:25:16.430304",
     "status": "completed"
    },
    "tags": []
   },
   "outputs": [],
   "source": [
    "# Set random seed for reproducibility\n",
    "np.random.seed(42)"
   ]
  },
  {
   "cell_type": "markdown",
   "id": "ab23391e",
   "metadata": {
    "papermill": {
     "duration": 0.001621,
     "end_time": "2024-02-25T01:25:16.446059",
     "exception": false,
     "start_time": "2024-02-25T01:25:16.444438",
     "status": "completed"
    },
    "tags": []
   },
   "source": [
    "# CONVERSION ABC"
   ]
  },
  {
   "cell_type": "code",
   "execution_count": 3,
   "id": "7fda7bb9",
   "metadata": {
    "execution": {
     "iopub.execute_input": "2024-02-25T01:25:16.451308Z",
     "iopub.status.busy": "2024-02-25T01:25:16.450915Z",
     "iopub.status.idle": "2024-02-25T01:25:16.976872Z",
     "shell.execute_reply": "2024-02-25T01:25:16.975139Z"
    },
    "papermill": {
     "duration": 0.532144,
     "end_time": "2024-02-25T01:25:16.980020",
     "exception": false,
     "start_time": "2024-02-25T01:25:16.447876",
     "status": "completed"
    },
    "tags": []
   },
   "outputs": [
    {
     "name": "stdout",
     "output_type": "stream",
     "text": [
      "   IsConversion ActivationDate    Group ConversionDate\n",
      "0             0     2022-01-01  Group_A     2022-01-10\n",
      "1             0     2022-01-01  Group_A     2022-01-11\n",
      "2             0     2022-01-01  Group_A     2022-01-22\n",
      "3             0     2022-01-01  Group_A     2022-01-24\n",
      "4             0     2022-01-03  Group_A     2022-01-30\n"
     ]
    }
   ],
   "source": [
    "# Set random seed for reproducibility\n",
    "np.random.seed(42)\n",
    "\n",
    "# Number of rows in the dataset\n",
    "num_rows = 1000\n",
    "\n",
    "# Generate random activation dates\n",
    "start_date = datetime(2022, 1, 1)\n",
    "end_date = datetime(2022, 12, 31)\n",
    "\n",
    "# Generate data for IsConversion column with a normal distribution for each group\n",
    "is_conversion_probabilities = {\n",
    "    'Group_A': np.random.normal(loc=0.1, scale=0.2, size=num_rows),\n",
    "    'Group_B': np.random.normal(loc=0.5, scale=0.2, size=num_rows),\n",
    "    'Group_C': np.random.normal(loc=0.9, scale=0.2, size=num_rows)\n",
    "}\n",
    "\n",
    "is_conversion = np.concatenate([\n",
    "    (probabilities > 0.5).astype(int) for probabilities in is_conversion_probabilities.values()\n",
    "])\n",
    "\n",
    "# Generate random activation dates for each group\n",
    "activation_dates = np.concatenate([\n",
    "    [np.random.choice(pd.date_range(start_date, end_date)) for _ in range(num_rows)]\n",
    "    for _ in range(len(is_conversion_probabilities))\n",
    "])\n",
    "\n",
    "# Generate random group names\n",
    "groups = np.concatenate([\n",
    "    [group] * num_rows for group in is_conversion_probabilities.keys()\n",
    "])\n",
    "\n",
    "# Create DataFrame\n",
    "df = pd.DataFrame({\n",
    "    'IsConversion': is_conversion,\n",
    "    'ActivationDate': activation_dates,\n",
    "    'Group': groups\n",
    "})\n",
    "\n",
    "# Sort DataFrame by ActivationDate and Group\n",
    "df = df.sort_values(by=['Group', 'ActivationDate']).reset_index(drop=True)\n",
    "\n",
    "# Generate random conversion dates based on activation dates for each group\n",
    "df['ConversionDate'] = df.groupby('Group')['ActivationDate'].transform(lambda x: x + pd.to_timedelta(np.random.randint(1, 30, size=len(x)), unit='D'))\n",
    "\n",
    "# Write DataFrame to CSV\n",
    "df.to_csv('conversionABC.csv', index=False)\n",
    "\n",
    "# Display the DataFrame\n",
    "print(df.head())\n"
   ]
  },
  {
   "cell_type": "code",
   "execution_count": null,
   "id": "6c845141",
   "metadata": {
    "papermill": {
     "duration": 0.001735,
     "end_time": "2024-02-25T01:25:16.983965",
     "exception": false,
     "start_time": "2024-02-25T01:25:16.982230",
     "status": "completed"
    },
    "tags": []
   },
   "outputs": [],
   "source": []
  }
 ],
 "metadata": {
  "kaggle": {
   "accelerator": "none",
   "dataSources": [],
   "dockerImageVersionId": 30646,
   "isGpuEnabled": false,
   "isInternetEnabled": true,
   "language": "python",
   "sourceType": "notebook"
  },
  "kernelspec": {
   "display_name": "Python 3",
   "language": "python",
   "name": "python3"
  },
  "language_info": {
   "codemirror_mode": {
    "name": "ipython",
    "version": 3
   },
   "file_extension": ".py",
   "mimetype": "text/x-python",
   "name": "python",
   "nbconvert_exporter": "python",
   "pygments_lexer": "ipython3",
   "version": "3.10.13"
  },
  "papermill": {
   "default_parameters": {},
   "duration": 4.578483,
   "end_time": "2024-02-25T01:25:17.509981",
   "environment_variables": {},
   "exception": null,
   "input_path": "__notebook__.ipynb",
   "output_path": "__notebook__.ipynb",
   "parameters": {},
   "start_time": "2024-02-25T01:25:12.931498",
   "version": "2.5.0"
  }
 },
 "nbformat": 4,
 "nbformat_minor": 5
}
