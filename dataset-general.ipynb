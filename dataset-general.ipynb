{
 "cells": [
  {
   "cell_type": "code",
   "execution_count": 1,
   "id": "fd7cd46c",
   "metadata": {
    "execution": {
     "iopub.execute_input": "2024-02-24T14:28:09.075547Z",
     "iopub.status.busy": "2024-02-24T14:28:09.075071Z",
     "iopub.status.idle": "2024-02-24T14:28:10.104976Z",
     "shell.execute_reply": "2024-02-24T14:28:10.103691Z"
    },
    "papermill": {
     "duration": 1.037421,
     "end_time": "2024-02-24T14:28:10.107766",
     "exception": false,
     "start_time": "2024-02-24T14:28:09.070345",
     "status": "completed"
    },
    "tags": []
   },
   "outputs": [],
   "source": [
    "import numpy as np\n",
    "import pandas as pd\n",
    "from datetime import datetime, timedelta"
   ]
  },
  {
   "cell_type": "code",
   "execution_count": 2,
   "id": "ce1cb59c",
   "metadata": {
    "execution": {
     "iopub.execute_input": "2024-02-24T14:28:10.115642Z",
     "iopub.status.busy": "2024-02-24T14:28:10.115058Z",
     "iopub.status.idle": "2024-02-24T14:28:10.121290Z",
     "shell.execute_reply": "2024-02-24T14:28:10.119935Z"
    },
    "papermill": {
     "duration": 0.012944,
     "end_time": "2024-02-24T14:28:10.123737",
     "exception": false,
     "start_time": "2024-02-24T14:28:10.110793",
     "status": "completed"
    },
    "tags": []
   },
   "outputs": [],
   "source": [
    "# Set random seed for reproducibility\n",
    "np.random.seed(42)"
   ]
  },
  {
   "cell_type": "code",
   "execution_count": 3,
   "id": "80830e9a",
   "metadata": {
    "execution": {
     "iopub.execute_input": "2024-02-24T14:28:10.131696Z",
     "iopub.status.busy": "2024-02-24T14:28:10.131268Z",
     "iopub.status.idle": "2024-02-24T14:28:10.405667Z",
     "shell.execute_reply": "2024-02-24T14:28:10.404202Z"
    },
    "papermill": {
     "duration": 0.281629,
     "end_time": "2024-02-24T14:28:10.408339",
     "exception": false,
     "start_time": "2024-02-24T14:28:10.126710",
     "status": "completed"
    },
    "tags": []
   },
   "outputs": [
    {
     "name": "stdout",
     "output_type": "stream",
     "text": [
      "   IsConversion ActivationDate ConversionDate    Group\n",
      "0             1     2022-01-01     2022-01-22  Group_B\n",
      "1             0     2022-01-01     2022-01-13  Group_A\n",
      "2             1     2022-01-01     2022-01-03  Group_C\n",
      "3             0     2022-01-02     2022-01-31  Group_C\n",
      "4             1     2022-01-02     2022-01-27  Group_B\n"
     ]
    }
   ],
   "source": [
    "# Number of rows in the dataset\n",
    "num_rows = 1000\n",
    "\n",
    "# Generate data for IsConversion column with a normal distribution\n",
    "is_conversion_probabilities = np.random.normal(loc=0.5, scale=0.2, size=num_rows)\n",
    "is_conversion = (is_conversion_probabilities > 0.5).astype(int)\n",
    "\n",
    "# Generate random activation dates\n",
    "start_date = datetime(2022, 1, 1)\n",
    "end_date = datetime(2022, 12, 31)\n",
    "activation_dates = pd.to_datetime([np.random.choice(pd.date_range(start_date, end_date)) for _ in range(num_rows)])\n",
    "\n",
    "# Generate random conversion dates based on activation dates\n",
    "conversion_dates = activation_dates + pd.to_timedelta(np.random.randint(1, 30, size=num_rows), unit='D')\n",
    "\n",
    "# Generate random group names\n",
    "groups = np.random.choice(['Group_A', 'Group_B', 'Group_C'], size=num_rows)\n",
    "\n",
    "# Create DataFrame\n",
    "df = pd.DataFrame({\n",
    "    'IsConversion': is_conversion,\n",
    "    'ActivationDate': activation_dates,\n",
    "    'ConversionDate': conversion_dates,\n",
    "    'Group': groups\n",
    "})\n",
    "\n",
    "# Sort DataFrame by ActivationDate\n",
    "df = df.sort_values(by='ActivationDate').reset_index(drop=True)\n",
    "\n",
    "# Write DataFrame to CSV\n",
    "df.to_csv('conversionABC.csv', index=False)\n",
    "\n",
    "# Display the DataFrame\n",
    "print(df.head())\n"
   ]
  },
  {
   "cell_type": "code",
   "execution_count": null,
   "id": "41151d8f",
   "metadata": {
    "papermill": {
     "duration": 0.002527,
     "end_time": "2024-02-24T14:28:10.413730",
     "exception": false,
     "start_time": "2024-02-24T14:28:10.411203",
     "status": "completed"
    },
    "tags": []
   },
   "outputs": [],
   "source": []
  },
  {
   "cell_type": "code",
   "execution_count": null,
   "id": "9b5ef954",
   "metadata": {
    "papermill": {
     "duration": 0.002402,
     "end_time": "2024-02-24T14:28:10.418819",
     "exception": false,
     "start_time": "2024-02-24T14:28:10.416417",
     "status": "completed"
    },
    "tags": []
   },
   "outputs": [],
   "source": []
  }
 ],
 "metadata": {
  "kaggle": {
   "accelerator": "none",
   "dataSources": [],
   "dockerImageVersionId": 30646,
   "isGpuEnabled": false,
   "isInternetEnabled": true,
   "language": "python",
   "sourceType": "notebook"
  },
  "kernelspec": {
   "display_name": "Python 3",
   "language": "python",
   "name": "python3"
  },
  "language_info": {
   "codemirror_mode": {
    "name": "ipython",
    "version": 3
   },
   "file_extension": ".py",
   "mimetype": "text/x-python",
   "name": "python",
   "nbconvert_exporter": "python",
   "pygments_lexer": "ipython3",
   "version": "3.10.13"
  },
  "papermill": {
   "default_parameters": {},
   "duration": 5.032441,
   "end_time": "2024-02-24T14:28:10.942743",
   "environment_variables": {},
   "exception": null,
   "input_path": "__notebook__.ipynb",
   "output_path": "__notebook__.ipynb",
   "parameters": {},
   "start_time": "2024-02-24T14:28:05.910302",
   "version": "2.5.0"
  }
 },
 "nbformat": 4,
 "nbformat_minor": 5
}
