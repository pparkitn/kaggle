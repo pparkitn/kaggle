{
 "cells": [
  {
   "cell_type": "code",
   "execution_count": 1,
   "id": "7a72fae0",
   "metadata": {
    "_cell_guid": "b1076dfc-b9ad-4769-8c92-a6c4dae69d19",
    "_uuid": "8f2839f25d086af736a60e9eeb907d3b93b6e0e5",
    "execution": {
     "iopub.execute_input": "2024-03-02T15:32:07.015998Z",
     "iopub.status.busy": "2024-03-02T15:32:07.015544Z",
     "iopub.status.idle": "2024-03-02T15:32:11.705784Z",
     "shell.execute_reply": "2024-03-02T15:32:11.704416Z"
    },
    "papermill": {
     "duration": 4.700792,
     "end_time": "2024-03-02T15:32:11.708751",
     "exception": false,
     "start_time": "2024-03-02T15:32:07.007959",
     "status": "completed"
    },
    "tags": []
   },
   "outputs": [],
   "source": [
    "# Importing necessary packages\n",
    "import os\n",
    "import numpy as np\n",
    "import pandas as pd\n",
    "import logging\n",
    "import warnings\n",
    "import joblib\n",
    "import seaborn as sns\n",
    "import matplotlib.pyplot as plt\n",
    "import plotly.express as px\n",
    "import csv\n",
    "\n",
    "from sklearn.metrics import classification_report, roc_curve, accuracy_score, confusion_matrix, roc_auc_score, precision_score, recall_score, f1_score, precision_recall_curve\n",
    "from sklearn.ensemble import AdaBoostClassifier, RandomForestClassifier, GradientBoostingClassifier\n",
    "from sklearn.linear_model import LogisticRegression\n",
    "from sklearn.model_selection import train_test_split, GridSearchCV, cross_val_score\n",
    "from sklearn.neighbors import KNeighborsClassifier\n",
    "from sklearn.preprocessing import RobustScaler\n",
    "import xgboost as xgb\n",
    "import matplotlib.pyplot as plt\n",
    "\n",
    "\n",
    "warnings.filterwarnings('ignore')\n",
    "\n",
    "# Setting up logging with a FileHandler\n",
    "log_file_path = 'logger_log.txt'\n",
    "logging.basicConfig(level=logging.INFO, format='%(asctime)s - %(levelname)s - %(message)s', datefmt='%Y-%m-%d %H:%M:%S')\n",
    "\n",
    "file_handler = logging.FileHandler(log_file_path)\n",
    "file_handler.setLevel(logging.INFO)\n",
    "file_handler.setFormatter(logging.Formatter('%(asctime)s - %(levelname)s - %(message)s'))\n",
    "\n",
    "logger = logging.getLogger(__name__)\n",
    "logger.addHandler(file_handler)"
   ]
  },
  {
   "cell_type": "code",
   "execution_count": 2,
   "id": "59895cfa",
   "metadata": {
    "execution": {
     "iopub.execute_input": "2024-03-02T15:32:11.723416Z",
     "iopub.status.busy": "2024-03-02T15:32:11.722383Z",
     "iopub.status.idle": "2024-03-02T15:32:11.739117Z",
     "shell.execute_reply": "2024-03-02T15:32:11.738041Z"
    },
    "papermill": {
     "duration": 0.026361,
     "end_time": "2024-03-02T15:32:11.741734",
     "exception": false,
     "start_time": "2024-03-02T15:32:11.715373",
     "status": "completed"
    },
    "tags": []
   },
   "outputs": [],
   "source": [
    "def reduce_mem_usage(df):\n",
    "    \"\"\" iterate through all the columns of a dataframe and modify the data type\n",
    "        to reduce memory usage.        \n",
    "    \"\"\"\n",
    "    start_mem = df.memory_usage().sum() / 1024**2\n",
    "    print('Memory usage of dataframe is {:.2f} MB'.format(start_mem))\n",
    "    \n",
    "    for col in df.columns:\n",
    "        col_type = df[col].dtype\n",
    "        \n",
    "        if col_type != object:\n",
    "            c_min = df[col].min()\n",
    "            c_max = df[col].max()\n",
    "            if str(col_type)[:3] == 'int':\n",
    "                if c_min > np.iinfo(np.int8).min and c_max < np.iinfo(np.int8).max:\n",
    "                    df[col] = df[col].astype(np.int8)\n",
    "                elif c_min > np.iinfo(np.int16).min and c_max < np.iinfo(np.int16).max:\n",
    "                    df[col] = df[col].astype(np.int16)\n",
    "                elif c_min > np.iinfo(np.int32).min and c_max < np.iinfo(np.int32).max:\n",
    "                    df[col] = df[col].astype(np.int32)\n",
    "                elif c_min > np.iinfo(np.int64).min and c_max < np.iinfo(np.int64).max:\n",
    "                    df[col] = df[col].astype(np.int64)  \n",
    "            else:\n",
    "                if c_min > np.finfo(np.float16).min and c_max < np.finfo(np.float16).max:\n",
    "                    df[col] = df[col].astype(np.float32)\n",
    "                elif c_min > np.finfo(np.float32).min and c_max < np.finfo(np.float32).max:\n",
    "                    df[col] = df[col].astype(np.float32)\n",
    "                else:\n",
    "                    df[col] = df[col].astype(np.float64)\n",
    "        else:\n",
    "            df[col] = df[col].astype('category')\n",
    "\n",
    "    end_mem = df.memory_usage().sum() / 1024**2\n",
    "    print('Memory usage after optimization is: {:.2f} MB'.format(end_mem))\n",
    "    print('Decreased by {:.1f}%'.format(100 * (start_mem - end_mem) / start_mem))\n",
    "    \n",
    "    return df\n"
   ]
  },
  {
   "cell_type": "code",
   "execution_count": 3,
   "id": "bf930016",
   "metadata": {
    "execution": {
     "iopub.execute_input": "2024-03-02T15:32:11.754674Z",
     "iopub.status.busy": "2024-03-02T15:32:11.753305Z",
     "iopub.status.idle": "2024-03-02T15:32:11.764219Z",
     "shell.execute_reply": "2024-03-02T15:32:11.762946Z"
    },
    "papermill": {
     "duration": 0.020305,
     "end_time": "2024-03-02T15:32:11.767124",
     "exception": false,
     "start_time": "2024-03-02T15:32:11.746819",
     "status": "completed"
    },
    "tags": []
   },
   "outputs": [],
   "source": [
    "def add_df_panel(df,timestamp_col,timestamp_back):\n",
    "    \n",
    "    df[timestamp_col + '_A'] = df[timestamp_col] - timestamp_back\n",
    "    col_names_orig = df.columns\n",
    "    \n",
    "    col_join1 = timestamp_col\n",
    "    col_join2 = timestamp_col +'_A'\n",
    "    final =  pd.merge(df, df, left_on=col_join2, right_on=col_join1)\n",
    "    final = final.sort_values(by=[timestamp_col+'_x'])\n",
    "    \n",
    "    col_names_new = final.columns\n",
    "    \n",
    "    col_names_update = []\n",
    "    index = 0\n",
    "    for name in col_names_new:\n",
    "        if index < len(col_names_orig):\n",
    "            col_names_update.append(col_names_orig[index])\n",
    "        else:\n",
    "            col_names_update.append(name)\n",
    "        index = index + 1 \n",
    "    \n",
    "    final.columns = col_names_update\n",
    "    final = final.drop([timestamp_col+'_A_y'], axis=1)\n",
    "    \n",
    "    col_names_orig = df.columns[1:]\n",
    "    final = final.drop(col_names_orig, axis=1)\n",
    "        \n",
    "    return final"
   ]
  },
  {
   "cell_type": "code",
   "execution_count": 4,
   "id": "63eebcc2",
   "metadata": {
    "execution": {
     "iopub.execute_input": "2024-03-02T15:32:11.779610Z",
     "iopub.status.busy": "2024-03-02T15:32:11.779052Z",
     "iopub.status.idle": "2024-03-02T15:32:11.790820Z",
     "shell.execute_reply": "2024-03-02T15:32:11.789399Z"
    },
    "papermill": {
     "duration": 0.021889,
     "end_time": "2024-03-02T15:32:11.794102",
     "exception": false,
     "start_time": "2024-03-02T15:32:11.772213",
     "status": "completed"
    },
    "tags": []
   },
   "outputs": [],
   "source": [
    "def create_df_panel_parquet(asset_id,start,back_window,increment,timestamp_col):\n",
    "    df = train_df[train_df[\"Asset_ID\"] == asset_id]\n",
    "    col_names = df.columns\n",
    "\n",
    "    for x in range(start,(back_window+1),1):\n",
    "\n",
    "        time_back = increment * x\n",
    "\n",
    "        print(\"Round:\",x, \"Time Back\",time_back)\n",
    "\n",
    "        new_panel_df = add_df_panel(df[col_names].copy(),timestamp_col,time_back)\n",
    "        new_panel_df.columns = new_panel_df.columns.str.replace(\"_y\", (\"_\"+str(x).zfill(6)))   \n",
    "        df =  pd.merge(df, new_panel_df, how='left', left_on=timestamp_col, right_on=timestamp_col)\n",
    "\n",
    "    df = df.sort_values(by=[timestamp_col])\n",
    "\n",
    "    filename = 'AssetID_' + str(asset_id).zfill(6) + \"_Start_\" + str(start).zfill(6) + \"_End_\" + str(back_window).zfill(6)\n",
    "    df.to_parquet(filename + '.parquet.gzip',compression='gzip')\n",
    "    \n",
    "    return filename"
   ]
  },
  {
   "cell_type": "code",
   "execution_count": 5,
   "id": "fb3234af",
   "metadata": {
    "execution": {
     "iopub.execute_input": "2024-03-02T15:32:11.807014Z",
     "iopub.status.busy": "2024-03-02T15:32:11.806223Z",
     "iopub.status.idle": "2024-03-02T15:32:11.900037Z",
     "shell.execute_reply": "2024-03-02T15:32:11.898627Z"
    },
    "papermill": {
     "duration": 0.103413,
     "end_time": "2024-03-02T15:32:11.902942",
     "exception": false,
     "start_time": "2024-03-02T15:32:11.799529",
     "status": "completed"
    },
    "tags": []
   },
   "outputs": [
    {
     "data": {
      "text/html": [
       "<div>\n",
       "<style scoped>\n",
       "    .dataframe tbody tr th:only-of-type {\n",
       "        vertical-align: middle;\n",
       "    }\n",
       "\n",
       "    .dataframe tbody tr th {\n",
       "        vertical-align: top;\n",
       "    }\n",
       "\n",
       "    .dataframe thead th {\n",
       "        text-align: right;\n",
       "    }\n",
       "</style>\n",
       "<table border=\"1\" class=\"dataframe\">\n",
       "  <thead>\n",
       "    <tr style=\"text-align: right;\">\n",
       "      <th></th>\n",
       "      <th>Unnamed: 0</th>\n",
       "      <th>Date</th>\n",
       "      <th>Natural_Gas_Price</th>\n",
       "      <th>Natural_Gas_Vol.</th>\n",
       "      <th>Crude_oil_Price</th>\n",
       "      <th>Crude_oil_Vol.</th>\n",
       "      <th>Copper_Price</th>\n",
       "      <th>Copper_Vol.</th>\n",
       "      <th>Bitcoin_Price</th>\n",
       "      <th>Bitcoin_Vol.</th>\n",
       "      <th>...</th>\n",
       "      <th>Berkshire_Price</th>\n",
       "      <th>Berkshire_Vol.</th>\n",
       "      <th>Netflix_Price</th>\n",
       "      <th>Netflix_Vol.</th>\n",
       "      <th>Amazon_Price</th>\n",
       "      <th>Amazon_Vol.</th>\n",
       "      <th>Meta_Price</th>\n",
       "      <th>Meta_Vol.</th>\n",
       "      <th>Gold_Price</th>\n",
       "      <th>Gold_Vol.</th>\n",
       "    </tr>\n",
       "  </thead>\n",
       "  <tbody>\n",
       "    <tr>\n",
       "      <th>0</th>\n",
       "      <td>0</td>\n",
       "      <td>2/2/2024</td>\n",
       "      <td>2.079</td>\n",
       "      <td>NaN</td>\n",
       "      <td>72.28</td>\n",
       "      <td>NaN</td>\n",
       "      <td>3.8215</td>\n",
       "      <td>NaN</td>\n",
       "      <td>43,194.70</td>\n",
       "      <td>42650</td>\n",
       "      <td>...</td>\n",
       "      <td>5,89,498</td>\n",
       "      <td>10580</td>\n",
       "      <td>564.64</td>\n",
       "      <td>4030000</td>\n",
       "      <td>171.81</td>\n",
       "      <td>117220000</td>\n",
       "      <td>474.99</td>\n",
       "      <td>84710000</td>\n",
       "      <td>2,053.70</td>\n",
       "      <td>NaN</td>\n",
       "    </tr>\n",
       "    <tr>\n",
       "      <th>1</th>\n",
       "      <td>1</td>\n",
       "      <td>1/2/2024</td>\n",
       "      <td>2.050</td>\n",
       "      <td>161340.0</td>\n",
       "      <td>73.82</td>\n",
       "      <td>577940.0</td>\n",
       "      <td>3.8535</td>\n",
       "      <td>NaN</td>\n",
       "      <td>43,081.40</td>\n",
       "      <td>47690</td>\n",
       "      <td>...</td>\n",
       "      <td>5,81,600</td>\n",
       "      <td>9780</td>\n",
       "      <td>567.51</td>\n",
       "      <td>3150000</td>\n",
       "      <td>159.28</td>\n",
       "      <td>66360000</td>\n",
       "      <td>394.78</td>\n",
       "      <td>25140000</td>\n",
       "      <td>2,071.10</td>\n",
       "      <td>260920.0</td>\n",
       "    </tr>\n",
       "    <tr>\n",
       "      <th>2</th>\n",
       "      <td>2</td>\n",
       "      <td>31-01-2024</td>\n",
       "      <td>2.100</td>\n",
       "      <td>142860.0</td>\n",
       "      <td>75.85</td>\n",
       "      <td>344490.0</td>\n",
       "      <td>3.9060</td>\n",
       "      <td>NaN</td>\n",
       "      <td>42,580.50</td>\n",
       "      <td>56480</td>\n",
       "      <td>...</td>\n",
       "      <td>5,78,020</td>\n",
       "      <td>9720</td>\n",
       "      <td>564.11</td>\n",
       "      <td>4830000</td>\n",
       "      <td>155.20</td>\n",
       "      <td>49690000</td>\n",
       "      <td>390.14</td>\n",
       "      <td>20010000</td>\n",
       "      <td>2,067.40</td>\n",
       "      <td>238370.0</td>\n",
       "    </tr>\n",
       "    <tr>\n",
       "      <th>3</th>\n",
       "      <td>3</td>\n",
       "      <td>30-01-2024</td>\n",
       "      <td>2.077</td>\n",
       "      <td>139750.0</td>\n",
       "      <td>77.82</td>\n",
       "      <td>347240.0</td>\n",
       "      <td>3.9110</td>\n",
       "      <td>NaN</td>\n",
       "      <td>42,946.20</td>\n",
       "      <td>55130</td>\n",
       "      <td>...</td>\n",
       "      <td>5,84,680</td>\n",
       "      <td>9750</td>\n",
       "      <td>562.85</td>\n",
       "      <td>6120000</td>\n",
       "      <td>159.00</td>\n",
       "      <td>42290000</td>\n",
       "      <td>400.06</td>\n",
       "      <td>18610000</td>\n",
       "      <td>2,050.90</td>\n",
       "      <td>214590.0</td>\n",
       "    </tr>\n",
       "    <tr>\n",
       "      <th>4</th>\n",
       "      <td>4</td>\n",
       "      <td>29-01-2024</td>\n",
       "      <td>2.490</td>\n",
       "      <td>3590.0</td>\n",
       "      <td>76.78</td>\n",
       "      <td>331930.0</td>\n",
       "      <td>3.8790</td>\n",
       "      <td>NaN</td>\n",
       "      <td>43,299.80</td>\n",
       "      <td>45230</td>\n",
       "      <td>...</td>\n",
       "      <td>5,78,800</td>\n",
       "      <td>13850</td>\n",
       "      <td>575.79</td>\n",
       "      <td>6880000</td>\n",
       "      <td>161.26</td>\n",
       "      <td>42840000</td>\n",
       "      <td>401.02</td>\n",
       "      <td>17790000</td>\n",
       "      <td>2,034.90</td>\n",
       "      <td>1780.0</td>\n",
       "    </tr>\n",
       "  </tbody>\n",
       "</table>\n",
       "<p>5 rows × 39 columns</p>\n",
       "</div>"
      ],
      "text/plain": [
       "   Unnamed: 0        Date  Natural_Gas_Price  Natural_Gas_Vol.  \\\n",
       "0           0    2/2/2024              2.079               NaN   \n",
       "1           1    1/2/2024              2.050          161340.0   \n",
       "2           2  31-01-2024              2.100          142860.0   \n",
       "3           3  30-01-2024              2.077          139750.0   \n",
       "4           4  29-01-2024              2.490            3590.0   \n",
       "\n",
       "   Crude_oil_Price  Crude_oil_Vol.  Copper_Price  Copper_Vol. Bitcoin_Price  \\\n",
       "0            72.28             NaN        3.8215          NaN     43,194.70   \n",
       "1            73.82        577940.0        3.8535          NaN     43,081.40   \n",
       "2            75.85        344490.0        3.9060          NaN     42,580.50   \n",
       "3            77.82        347240.0        3.9110          NaN     42,946.20   \n",
       "4            76.78        331930.0        3.8790          NaN     43,299.80   \n",
       "\n",
       "   Bitcoin_Vol.  ... Berkshire_Price  Berkshire_Vol. Netflix_Price  \\\n",
       "0         42650  ...        5,89,498           10580        564.64   \n",
       "1         47690  ...        5,81,600            9780        567.51   \n",
       "2         56480  ...        5,78,020            9720        564.11   \n",
       "3         55130  ...        5,84,680            9750        562.85   \n",
       "4         45230  ...        5,78,800           13850        575.79   \n",
       "\n",
       "   Netflix_Vol. Amazon_Price Amazon_Vol.  Meta_Price  Meta_Vol.  Gold_Price  \\\n",
       "0       4030000       171.81   117220000      474.99   84710000    2,053.70   \n",
       "1       3150000       159.28    66360000      394.78   25140000    2,071.10   \n",
       "2       4830000       155.20    49690000      390.14   20010000    2,067.40   \n",
       "3       6120000       159.00    42290000      400.06   18610000    2,050.90   \n",
       "4       6880000       161.26    42840000      401.02   17790000    2,034.90   \n",
       "\n",
       "   Gold_Vol.  \n",
       "0        NaN  \n",
       "1   260920.0  \n",
       "2   238370.0  \n",
       "3   214590.0  \n",
       "4     1780.0  \n",
       "\n",
       "[5 rows x 39 columns]"
      ]
     },
     "execution_count": 5,
     "metadata": {},
     "output_type": "execute_result"
    }
   ],
   "source": [
    "# Reading the dataset\n",
    "dataset_path = \"/kaggle/input/us-stock-market-2020-to-2024/US Stock Market Dataset.csv\"\n",
    "\n",
    "try:\n",
    "    # Attempt to read the dataset\n",
    "    df = pd.read_csv(dataset_path)\n",
    "    logger.info(f\"Dataset loaded successfully from {dataset_path}\")\n",
    "except FileNotFoundError:\n",
    "    logger.error(\"Error: Dataset file not found. Please provide the correct file path.\")\n",
    "except Exception as e:\n",
    "    logger.error(f\"An error occurred: {e}\")\n",
    "    \n",
    "df.head(5)"
   ]
  },
  {
   "cell_type": "code",
   "execution_count": 6,
   "id": "2c329e81",
   "metadata": {
    "execution": {
     "iopub.execute_input": "2024-03-02T15:32:11.916035Z",
     "iopub.status.busy": "2024-03-02T15:32:11.915595Z",
     "iopub.status.idle": "2024-03-02T15:32:11.969024Z",
     "shell.execute_reply": "2024-03-02T15:32:11.967731Z"
    },
    "papermill": {
     "duration": 0.063356,
     "end_time": "2024-03-02T15:32:11.971881",
     "exception": false,
     "start_time": "2024-03-02T15:32:11.908525",
     "status": "completed"
    },
    "tags": []
   },
   "outputs": [
    {
     "name": "stdout",
     "output_type": "stream",
     "text": [
      "Memory usage of dataframe is 0.30 MB\n",
      "Memory usage after optimization is: 0.45 MB\n",
      "Decreased by -48.4%\n"
     ]
    }
   ],
   "source": [
    "df = reduce_mem_usage(df)"
   ]
  },
  {
   "cell_type": "code",
   "execution_count": null,
   "id": "ed63f54e",
   "metadata": {
    "papermill": {
     "duration": 0.005469,
     "end_time": "2024-03-02T15:32:11.983339",
     "exception": false,
     "start_time": "2024-03-02T15:32:11.977870",
     "status": "completed"
    },
    "tags": []
   },
   "outputs": [],
   "source": []
  },
  {
   "cell_type": "code",
   "execution_count": 7,
   "id": "039660e6",
   "metadata": {
    "execution": {
     "iopub.execute_input": "2024-03-02T15:32:11.997262Z",
     "iopub.status.busy": "2024-03-02T15:32:11.996776Z",
     "iopub.status.idle": "2024-03-02T15:32:12.005194Z",
     "shell.execute_reply": "2024-03-02T15:32:12.003993Z"
    },
    "papermill": {
     "duration": 0.018925,
     "end_time": "2024-03-02T15:32:12.007849",
     "exception": false,
     "start_time": "2024-03-02T15:32:11.988924",
     "status": "completed"
    },
    "tags": []
   },
   "outputs": [
    {
     "data": {
      "text/plain": [
       "'\\nfor x in range(start,back_window,file_step_size):\\n    print(\"======================================================================================================\")\\n    print(\"Start\",(x+1),\"End\",(x+file_step_size))\\n    save_filename = create_df_panel_parquet(asset_id,(x+1),(x+file_step_size),increment,timestamp_col)\\n'"
      ]
     },
     "execution_count": 7,
     "metadata": {},
     "output_type": "execute_result"
    }
   ],
   "source": [
    "\"\"\"\n",
    "for x in range(start,back_window,file_step_size):\n",
    "    print(\"======================================================================================================\")\n",
    "    print(\"Start\",(x+1),\"End\",(x+file_step_size))\n",
    "    save_filename = create_df_panel_parquet(asset_id,(x+1),(x+file_step_size),increment,timestamp_col)\n",
    "\"\"\""
   ]
  },
  {
   "cell_type": "code",
   "execution_count": 8,
   "id": "abbd79a8",
   "metadata": {
    "execution": {
     "iopub.execute_input": "2024-03-02T15:32:12.022406Z",
     "iopub.status.busy": "2024-03-02T15:32:12.021910Z",
     "iopub.status.idle": "2024-03-02T15:32:12.029080Z",
     "shell.execute_reply": "2024-03-02T15:32:12.027921Z"
    },
    "papermill": {
     "duration": 0.017191,
     "end_time": "2024-03-02T15:32:12.031430",
     "exception": false,
     "start_time": "2024-03-02T15:32:12.014239",
     "status": "completed"
    },
    "tags": []
   },
   "outputs": [
    {
     "data": {
      "text/plain": [
       "\"\\nfor investment_id in tqdm(investment_id_ls, desc = 'Progress Bar: Creating Files'):    \\n    for x in range(start,back_window,file_step_size):        \\n        save_filename = create_df_panel_parquet(investment_id,(x+1),(x+file_step_size),increment,timestamp_col)\\n\""
      ]
     },
     "execution_count": 8,
     "metadata": {},
     "output_type": "execute_result"
    }
   ],
   "source": [
    "\"\"\"\n",
    "for investment_id in tqdm(investment_id_ls, desc = 'Progress Bar: Creating Files'):    \n",
    "    for x in range(start,back_window,file_step_size):        \n",
    "        save_filename = create_df_panel_parquet(investment_id,(x+1),(x+file_step_size),increment,timestamp_col)\n",
    "\"\"\""
   ]
  },
  {
   "cell_type": "code",
   "execution_count": 9,
   "id": "016538b0",
   "metadata": {
    "execution": {
     "iopub.execute_input": "2024-03-02T15:32:12.046805Z",
     "iopub.status.busy": "2024-03-02T15:32:12.045414Z",
     "iopub.status.idle": "2024-03-02T15:32:12.053916Z",
     "shell.execute_reply": "2024-03-02T15:32:12.052719Z"
    },
    "papermill": {
     "duration": 0.018812,
     "end_time": "2024-03-02T15:32:12.056180",
     "exception": false,
     "start_time": "2024-03-02T15:32:12.037368",
     "status": "completed"
    },
    "tags": []
   },
   "outputs": [
    {
     "data": {
      "text/plain": [
       "\"\\n%%time\\nfirst_flag = 1\\nfor filename in fileList:\\n    print(filename)\\n    df = pd.read_parquet(filename, engine='pyarrow')\\n    \\n    if first_flag == 1:\\n        final = df.copy()\\n        first_flag = 0\\n    else:\\n        df = df.drop(['Asset_ID','Count','Open','High','Low','Close','Volume','VWAP','Target'],axis=1,inplace=False)\\n        final = pd.merge(final, df, left_on='timestamp', right_on='timestamp')\\nfinal = final.sort_values(by=['timestamp'])\\n\""
      ]
     },
     "execution_count": 9,
     "metadata": {},
     "output_type": "execute_result"
    }
   ],
   "source": [
    "\"\"\"\n",
    "%%time\n",
    "first_flag = 1\n",
    "for filename in fileList:\n",
    "    print(filename)\n",
    "    df = pd.read_parquet(filename, engine='pyarrow')\n",
    "    \n",
    "    if first_flag == 1:\n",
    "        final = df.copy()\n",
    "        first_flag = 0\n",
    "    else:\n",
    "        df = df.drop(['Asset_ID','Count','Open','High','Low','Close','Volume','VWAP','Target'],axis=1,inplace=False)\n",
    "        final = pd.merge(final, df, left_on='timestamp', right_on='timestamp')\n",
    "final = final.sort_values(by=['timestamp'])\n",
    "\"\"\""
   ]
  },
  {
   "cell_type": "code",
   "execution_count": null,
   "id": "2e4e498e",
   "metadata": {
    "papermill": {
     "duration": 0.005691,
     "end_time": "2024-03-02T15:32:12.068027",
     "exception": false,
     "start_time": "2024-03-02T15:32:12.062336",
     "status": "completed"
    },
    "tags": []
   },
   "outputs": [],
   "source": []
  },
  {
   "cell_type": "code",
   "execution_count": 10,
   "id": "4472765c",
   "metadata": {
    "execution": {
     "iopub.execute_input": "2024-03-02T15:32:12.083224Z",
     "iopub.status.busy": "2024-03-02T15:32:12.082316Z",
     "iopub.status.idle": "2024-03-02T15:32:12.087826Z",
     "shell.execute_reply": "2024-03-02T15:32:12.086764Z"
    },
    "papermill": {
     "duration": 0.015735,
     "end_time": "2024-03-02T15:32:12.090330",
     "exception": false,
     "start_time": "2024-03-02T15:32:12.074595",
     "status": "completed"
    },
    "tags": []
   },
   "outputs": [],
   "source": [
    "# Save log messages to a file\n",
    "# File handling: close the FileHandler\n",
    "file_handler.close()\n",
    "logger.removeHandler(file_handler)"
   ]
  }
 ],
 "metadata": {
  "kaggle": {
   "accelerator": "none",
   "dataSources": [
    {
     "datasetId": 4462395,
     "sourceId": 7654206,
     "sourceType": "datasetVersion"
    }
   ],
   "dockerImageVersionId": 30664,
   "isGpuEnabled": false,
   "isInternetEnabled": true,
   "language": "python",
   "sourceType": "notebook"
  },
  "kernelspec": {
   "display_name": "Python 3",
   "language": "python",
   "name": "python3"
  },
  "language_info": {
   "codemirror_mode": {
    "name": "ipython",
    "version": 3
   },
   "file_extension": ".py",
   "mimetype": "text/x-python",
   "name": "python",
   "nbconvert_exporter": "python",
   "pygments_lexer": "ipython3",
   "version": "3.10.13"
  },
  "papermill": {
   "default_parameters": {},
   "duration": 9.459187,
   "end_time": "2024-03-02T15:32:13.025687",
   "environment_variables": {},
   "exception": null,
   "input_path": "__notebook__.ipynb",
   "output_path": "__notebook__.ipynb",
   "parameters": {},
   "start_time": "2024-03-02T15:32:03.566500",
   "version": "2.5.0"
  }
 },
 "nbformat": 4,
 "nbformat_minor": 5
}
