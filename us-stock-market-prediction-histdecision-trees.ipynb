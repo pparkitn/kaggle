{
 "cells": [
  {
   "cell_type": "code",
   "execution_count": 1,
   "id": "cec80dcd",
   "metadata": {
    "_cell_guid": "b1076dfc-b9ad-4769-8c92-a6c4dae69d19",
    "_uuid": "8f2839f25d086af736a60e9eeb907d3b93b6e0e5",
    "execution": {
     "iopub.execute_input": "2024-03-02T15:27:43.412640Z",
     "iopub.status.busy": "2024-03-02T15:27:43.411812Z",
     "iopub.status.idle": "2024-03-02T15:27:44.550819Z",
     "shell.execute_reply": "2024-03-02T15:27:44.549283Z"
    },
    "papermill": {
     "duration": 1.148744,
     "end_time": "2024-03-02T15:27:44.553966",
     "exception": false,
     "start_time": "2024-03-02T15:27:43.405222",
     "status": "completed"
    },
    "tags": []
   },
   "outputs": [],
   "source": [
    "import numpy as np # linear algebra\n",
    "import pandas as pd # data processing, CSV file I/O (e.g. pd.read_csv)"
   ]
  },
  {
   "cell_type": "code",
   "execution_count": 2,
   "id": "69111ab9",
   "metadata": {
    "execution": {
     "iopub.execute_input": "2024-03-02T15:27:44.564320Z",
     "iopub.status.busy": "2024-03-02T15:27:44.563756Z",
     "iopub.status.idle": "2024-03-02T15:27:44.583540Z",
     "shell.execute_reply": "2024-03-02T15:27:44.581846Z"
    },
    "papermill": {
     "duration": 0.028106,
     "end_time": "2024-03-02T15:27:44.586500",
     "exception": false,
     "start_time": "2024-03-02T15:27:44.558394",
     "status": "completed"
    },
    "tags": []
   },
   "outputs": [],
   "source": [
    "def reduce_mem_usage(df):\n",
    "    \"\"\" iterate through all the columns of a dataframe and modify the data type\n",
    "        to reduce memory usage.        \n",
    "    \"\"\"\n",
    "    start_mem = df.memory_usage().sum() / 1024**2\n",
    "    print('Memory usage of dataframe is {:.2f} MB'.format(start_mem))\n",
    "    \n",
    "    for col in df.columns:\n",
    "        col_type = df[col].dtype\n",
    "        \n",
    "        if col_type != object:\n",
    "            c_min = df[col].min()\n",
    "            c_max = df[col].max()\n",
    "            if str(col_type)[:3] == 'int':\n",
    "                if c_min > np.iinfo(np.int8).min and c_max < np.iinfo(np.int8).max:\n",
    "                    df[col] = df[col].astype(np.int8)\n",
    "                elif c_min > np.iinfo(np.int16).min and c_max < np.iinfo(np.int16).max:\n",
    "                    df[col] = df[col].astype(np.int16)\n",
    "                elif c_min > np.iinfo(np.int32).min and c_max < np.iinfo(np.int32).max:\n",
    "                    df[col] = df[col].astype(np.int32)\n",
    "                elif c_min > np.iinfo(np.int64).min and c_max < np.iinfo(np.int64).max:\n",
    "                    df[col] = df[col].astype(np.int64)  \n",
    "            else:\n",
    "                if c_min > np.finfo(np.float16).min and c_max < np.finfo(np.float16).max:\n",
    "                    df[col] = df[col].astype(np.float32)\n",
    "                elif c_min > np.finfo(np.float32).min and c_max < np.finfo(np.float32).max:\n",
    "                    df[col] = df[col].astype(np.float32)\n",
    "                else:\n",
    "                    df[col] = df[col].astype(np.float64)\n",
    "        else:\n",
    "            df[col] = df[col].astype('category')\n",
    "\n",
    "    end_mem = df.memory_usage().sum() / 1024**2\n",
    "    print('Memory usage after optimization is: {:.2f} MB'.format(end_mem))\n",
    "    print('Decreased by {:.1f}%'.format(100 * (start_mem - end_mem) / start_mem))\n",
    "    \n",
    "    return df\n"
   ]
  },
  {
   "cell_type": "code",
   "execution_count": 3,
   "id": "391d765b",
   "metadata": {
    "execution": {
     "iopub.execute_input": "2024-03-02T15:27:44.596285Z",
     "iopub.status.busy": "2024-03-02T15:27:44.595862Z",
     "iopub.status.idle": "2024-03-02T15:27:44.605456Z",
     "shell.execute_reply": "2024-03-02T15:27:44.604512Z"
    },
    "papermill": {
     "duration": 0.017704,
     "end_time": "2024-03-02T15:27:44.608203",
     "exception": false,
     "start_time": "2024-03-02T15:27:44.590499",
     "status": "completed"
    },
    "tags": []
   },
   "outputs": [],
   "source": [
    "def add_df_panel(df,timestamp_col,timestamp_back):\n",
    "    \n",
    "    df[timestamp_col + '_A'] = df[timestamp_col] - timestamp_back\n",
    "    col_names_orig = df.columns\n",
    "    \n",
    "    col_join1 = timestamp_col\n",
    "    col_join2 = timestamp_col +'_A'\n",
    "    final =  pd.merge(df, df, left_on=col_join2, right_on=col_join1)\n",
    "    final = final.sort_values(by=[timestamp_col+'_x'])\n",
    "    \n",
    "    col_names_new = final.columns\n",
    "    \n",
    "    col_names_update = []\n",
    "    index = 0\n",
    "    for name in col_names_new:\n",
    "        if index < len(col_names_orig):\n",
    "            col_names_update.append(col_names_orig[index])\n",
    "        else:\n",
    "            col_names_update.append(name)\n",
    "        index = index + 1 \n",
    "    \n",
    "    final.columns = col_names_update\n",
    "    final = final.drop([timestamp_col+'_A_y'], axis=1)\n",
    "    \n",
    "    col_names_orig = df.columns[1:]\n",
    "    final = final.drop(col_names_orig, axis=1)\n",
    "        \n",
    "    return final"
   ]
  },
  {
   "cell_type": "code",
   "execution_count": 4,
   "id": "8371cdf5",
   "metadata": {
    "execution": {
     "iopub.execute_input": "2024-03-02T15:27:44.618794Z",
     "iopub.status.busy": "2024-03-02T15:27:44.618116Z",
     "iopub.status.idle": "2024-03-02T15:27:44.626935Z",
     "shell.execute_reply": "2024-03-02T15:27:44.625924Z"
    },
    "papermill": {
     "duration": 0.017451,
     "end_time": "2024-03-02T15:27:44.629803",
     "exception": false,
     "start_time": "2024-03-02T15:27:44.612352",
     "status": "completed"
    },
    "tags": []
   },
   "outputs": [],
   "source": [
    "def create_df_panel_parquet(asset_id,start,back_window,increment,timestamp_col):\n",
    "    df = train_df[train_df[\"Asset_ID\"] == asset_id]\n",
    "    col_names = df.columns\n",
    "\n",
    "    for x in range(start,(back_window+1),1):\n",
    "\n",
    "        time_back = increment * x\n",
    "\n",
    "        print(\"Round:\",x, \"Time Back\",time_back)\n",
    "\n",
    "        new_panel_df = add_df_panel(df[col_names].copy(),timestamp_col,time_back)\n",
    "        new_panel_df.columns = new_panel_df.columns.str.replace(\"_y\", (\"_\"+str(x).zfill(6)))   \n",
    "        df =  pd.merge(df, new_panel_df, how='left', left_on=timestamp_col, right_on=timestamp_col)\n",
    "\n",
    "    df = df.sort_values(by=[timestamp_col])\n",
    "\n",
    "    filename = 'AssetID_' + str(asset_id).zfill(6) + \"_Start_\" + str(start).zfill(6) + \"_End_\" + str(back_window).zfill(6)\n",
    "    df.to_parquet(filename + '.parquet.gzip',compression='gzip')\n",
    "    \n",
    "    return filename"
   ]
  },
  {
   "cell_type": "code",
   "execution_count": null,
   "id": "5d3efe5c",
   "metadata": {
    "papermill": {
     "duration": 0.004118,
     "end_time": "2024-03-02T15:27:44.638538",
     "exception": false,
     "start_time": "2024-03-02T15:27:44.634420",
     "status": "completed"
    },
    "tags": []
   },
   "outputs": [],
   "source": []
  },
  {
   "cell_type": "code",
   "execution_count": 5,
   "id": "44159fb1",
   "metadata": {
    "execution": {
     "iopub.execute_input": "2024-03-02T15:27:44.648861Z",
     "iopub.status.busy": "2024-03-02T15:27:44.648234Z",
     "iopub.status.idle": "2024-03-02T15:27:44.656859Z",
     "shell.execute_reply": "2024-03-02T15:27:44.655484Z"
    },
    "papermill": {
     "duration": 0.017187,
     "end_time": "2024-03-02T15:27:44.659775",
     "exception": false,
     "start_time": "2024-03-02T15:27:44.642588",
     "status": "completed"
    },
    "tags": []
   },
   "outputs": [
    {
     "data": {
      "text/plain": [
       "'\\nfor x in range(start,back_window,file_step_size):\\n    print(\"======================================================================================================\")\\n    print(\"Start\",(x+1),\"End\",(x+file_step_size))\\n    save_filename = create_df_panel_parquet(asset_id,(x+1),(x+file_step_size),increment,timestamp_col)\\n'"
      ]
     },
     "execution_count": 5,
     "metadata": {},
     "output_type": "execute_result"
    }
   ],
   "source": [
    "\"\"\"\n",
    "for x in range(start,back_window,file_step_size):\n",
    "    print(\"======================================================================================================\")\n",
    "    print(\"Start\",(x+1),\"End\",(x+file_step_size))\n",
    "    save_filename = create_df_panel_parquet(asset_id,(x+1),(x+file_step_size),increment,timestamp_col)\n",
    "\"\"\""
   ]
  },
  {
   "cell_type": "code",
   "execution_count": 6,
   "id": "5c3100cf",
   "metadata": {
    "execution": {
     "iopub.execute_input": "2024-03-02T15:27:44.670524Z",
     "iopub.status.busy": "2024-03-02T15:27:44.670103Z",
     "iopub.status.idle": "2024-03-02T15:27:44.678490Z",
     "shell.execute_reply": "2024-03-02T15:27:44.676998Z"
    },
    "papermill": {
     "duration": 0.016871,
     "end_time": "2024-03-02T15:27:44.681099",
     "exception": false,
     "start_time": "2024-03-02T15:27:44.664228",
     "status": "completed"
    },
    "tags": []
   },
   "outputs": [
    {
     "data": {
      "text/plain": [
       "\"\\nfor investment_id in tqdm(investment_id_ls, desc = 'Progress Bar: Creating Files'):    \\n    for x in range(start,back_window,file_step_size):        \\n        save_filename = create_df_panel_parquet(investment_id,(x+1),(x+file_step_size),increment,timestamp_col)\\n\""
      ]
     },
     "execution_count": 6,
     "metadata": {},
     "output_type": "execute_result"
    }
   ],
   "source": [
    "\"\"\"\n",
    "for investment_id in tqdm(investment_id_ls, desc = 'Progress Bar: Creating Files'):    \n",
    "    for x in range(start,back_window,file_step_size):        \n",
    "        save_filename = create_df_panel_parquet(investment_id,(x+1),(x+file_step_size),increment,timestamp_col)\n",
    "\"\"\""
   ]
  },
  {
   "cell_type": "code",
   "execution_count": 7,
   "id": "43b07433",
   "metadata": {
    "execution": {
     "iopub.execute_input": "2024-03-02T15:27:44.692110Z",
     "iopub.status.busy": "2024-03-02T15:27:44.691704Z",
     "iopub.status.idle": "2024-03-02T15:27:44.700477Z",
     "shell.execute_reply": "2024-03-02T15:27:44.699054Z"
    },
    "papermill": {
     "duration": 0.017609,
     "end_time": "2024-03-02T15:27:44.703226",
     "exception": false,
     "start_time": "2024-03-02T15:27:44.685617",
     "status": "completed"
    },
    "tags": []
   },
   "outputs": [
    {
     "data": {
      "text/plain": [
       "\"\\n%%time\\nfirst_flag = 1\\nfor filename in fileList:\\n    print(filename)\\n    df = pd.read_parquet(filename, engine='pyarrow')\\n    \\n    if first_flag == 1:\\n        final = df.copy()\\n        first_flag = 0\\n    else:\\n        df = df.drop(['Asset_ID','Count','Open','High','Low','Close','Volume','VWAP','Target'],axis=1,inplace=False)\\n        final = pd.merge(final, df, left_on='timestamp', right_on='timestamp')\\nfinal = final.sort_values(by=['timestamp'])\\n\""
      ]
     },
     "execution_count": 7,
     "metadata": {},
     "output_type": "execute_result"
    }
   ],
   "source": [
    "\"\"\"\n",
    "%%time\n",
    "first_flag = 1\n",
    "for filename in fileList:\n",
    "    print(filename)\n",
    "    df = pd.read_parquet(filename, engine='pyarrow')\n",
    "    \n",
    "    if first_flag == 1:\n",
    "        final = df.copy()\n",
    "        first_flag = 0\n",
    "    else:\n",
    "        df = df.drop(['Asset_ID','Count','Open','High','Low','Close','Volume','VWAP','Target'],axis=1,inplace=False)\n",
    "        final = pd.merge(final, df, left_on='timestamp', right_on='timestamp')\n",
    "final = final.sort_values(by=['timestamp'])\n",
    "\"\"\""
   ]
  }
 ],
 "metadata": {
  "kaggle": {
   "accelerator": "none",
   "dataSources": [
    {
     "datasetId": 4462395,
     "sourceId": 7654206,
     "sourceType": "datasetVersion"
    }
   ],
   "dockerImageVersionId": 30664,
   "isGpuEnabled": false,
   "isInternetEnabled": true,
   "language": "python",
   "sourceType": "notebook"
  },
  "kernelspec": {
   "display_name": "Python 3",
   "language": "python",
   "name": "python3"
  },
  "language_info": {
   "codemirror_mode": {
    "name": "ipython",
    "version": 3
   },
   "file_extension": ".py",
   "mimetype": "text/x-python",
   "name": "python",
   "nbconvert_exporter": "python",
   "pygments_lexer": "ipython3",
   "version": "3.10.13"
  },
  "papermill": {
   "default_parameters": {},
   "duration": 5.07974,
   "end_time": "2024-03-02T15:27:45.232226",
   "environment_variables": {},
   "exception": null,
   "input_path": "__notebook__.ipynb",
   "output_path": "__notebook__.ipynb",
   "parameters": {},
   "start_time": "2024-03-02T15:27:40.152486",
   "version": "2.5.0"
  }
 },
 "nbformat": 4,
 "nbformat_minor": 5
}
