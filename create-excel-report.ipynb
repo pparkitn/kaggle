{
 "cells": [
  {
   "cell_type": "code",
   "execution_count": 1,
   "id": "4b10a18c",
   "metadata": {
    "_kg_hide-input": true,
    "execution": {
     "iopub.execute_input": "2024-11-17T22:48:19.924070Z",
     "iopub.status.busy": "2024-11-17T22:48:19.923113Z",
     "iopub.status.idle": "2024-11-17T22:48:19.936979Z",
     "shell.execute_reply": "2024-11-17T22:48:19.935688Z"
    },
    "jupyter": {
     "source_hidden": true
    },
    "papermill": {
     "duration": 0.023109,
     "end_time": "2024-11-17T22:48:19.939726",
     "exception": false,
     "start_time": "2024-11-17T22:48:19.916617",
     "status": "completed"
    },
    "tags": []
   },
   "outputs": [
    {
     "data": {
      "text/html": [
       "<img src=\"https://github.com/pparkitn/kaggle/blob/main/Images/Pandas_To_Excel.png?raw=true\" alt=\"Customer Matching\" style=\"max-width:100%;\">"
      ],
      "text/plain": [
       "<IPython.core.display.HTML object>"
      ]
     },
     "metadata": {},
     "output_type": "display_data"
    }
   ],
   "source": [
    "from IPython.display import HTML, display\n",
    "\n",
    "url = \"https://github.com/pparkitn/kaggle/blob/main/Images/Pandas_To_Excel.png?raw=true\"\n",
    "display(HTML(f'<img src=\"{url}\" alt=\"Customer Matching\" style=\"max-width:100%;\">'))"
   ]
  },
  {
   "cell_type": "code",
   "execution_count": 2,
   "id": "7ebb5f34",
   "metadata": {
    "_kg_hide-input": true,
    "collapsed": true,
    "execution": {
     "iopub.execute_input": "2024-11-17T22:48:19.950114Z",
     "iopub.status.busy": "2024-11-17T22:48:19.949036Z",
     "iopub.status.idle": "2024-11-17T22:48:33.233248Z",
     "shell.execute_reply": "2024-11-17T22:48:33.231894Z"
    },
    "jupyter": {
     "outputs_hidden": true
    },
    "papermill": {
     "duration": 13.292231,
     "end_time": "2024-11-17T22:48:33.236087",
     "exception": false,
     "start_time": "2024-11-17T22:48:19.943856",
     "status": "completed"
    },
    "tags": []
   },
   "outputs": [
    {
     "name": "stdout",
     "output_type": "stream",
     "text": [
      "Collecting xlsxwriter\r\n",
      "  Downloading XlsxWriter-3.2.0-py3-none-any.whl.metadata (2.6 kB)\r\n",
      "Downloading XlsxWriter-3.2.0-py3-none-any.whl (159 kB)\r\n",
      "\u001b[2K   \u001b[90m━━━━━━━━━━━━━━━━━━━━━━━━━━━━━━━━━━━━━━━━\u001b[0m \u001b[32m159.9/159.9 kB\u001b[0m \u001b[31m8.0 MB/s\u001b[0m eta \u001b[36m0:00:00\u001b[0m\r\n",
      "\u001b[?25hInstalling collected packages: xlsxwriter\r\n",
      "Successfully installed xlsxwriter-3.2.0\r\n"
     ]
    }
   ],
   "source": [
    "!pip install xlsxwriter"
   ]
  },
  {
   "cell_type": "code",
   "execution_count": 3,
   "id": "1cdc65cf",
   "metadata": {
    "_cell_guid": "b1076dfc-b9ad-4769-8c92-a6c4dae69d19",
    "_kg_hide-input": true,
    "_uuid": "8f2839f25d086af736a60e9eeb907d3b93b6e0e5",
    "execution": {
     "iopub.execute_input": "2024-11-17T22:48:33.246899Z",
     "iopub.status.busy": "2024-11-17T22:48:33.246456Z",
     "iopub.status.idle": "2024-11-17T22:48:34.121158Z",
     "shell.execute_reply": "2024-11-17T22:48:34.119690Z"
    },
    "jupyter": {
     "source_hidden": true
    },
    "papermill": {
     "duration": 0.883976,
     "end_time": "2024-11-17T22:48:34.124299",
     "exception": false,
     "start_time": "2024-11-17T22:48:33.240323",
     "status": "completed"
    },
    "tags": []
   },
   "outputs": [],
   "source": [
    "import pandas as pd\n",
    "import numpy as np\n",
    "import glob, os\n",
    "from time import strftime\n",
    "from xlsxwriter.utility import xl_rowcol_to_cell\n",
    "# Database interaction imports\n",
    "import csv, sqlite3\n",
    "\n",
    "pd.set_option('display.max_rows', 999)\n",
    "pd.set_option('display.max_colwidth', 999)\n",
    "pd.set_option('display.max_columns', 999)\n",
    "pd.options.display.max_seq_items = 2000\n",
    "pd.options.display.float_format = '{:20,.2f}'.format\n"
   ]
  },
  {
   "cell_type": "code",
   "execution_count": 4,
   "id": "cb97330a",
   "metadata": {
    "execution": {
     "iopub.execute_input": "2024-11-17T22:48:34.134611Z",
     "iopub.status.busy": "2024-11-17T22:48:34.134050Z",
     "iopub.status.idle": "2024-11-17T22:48:34.385785Z",
     "shell.execute_reply": "2024-11-17T22:48:34.384540Z"
    },
    "papermill": {
     "duration": 0.260011,
     "end_time": "2024-11-17T22:48:34.388542",
     "exception": false,
     "start_time": "2024-11-17T22:48:34.128531",
     "status": "completed"
    },
    "tags": []
   },
   "outputs": [
    {
     "data": {
      "text/html": [
       "<div>\n",
       "<style scoped>\n",
       "    .dataframe tbody tr th:only-of-type {\n",
       "        vertical-align: middle;\n",
       "    }\n",
       "\n",
       "    .dataframe tbody tr th {\n",
       "        vertical-align: top;\n",
       "    }\n",
       "\n",
       "    .dataframe thead th {\n",
       "        text-align: right;\n",
       "    }\n",
       "</style>\n",
       "<table border=\"1\" class=\"dataframe\">\n",
       "  <thead>\n",
       "    <tr style=\"text-align: right;\">\n",
       "      <th></th>\n",
       "      <th>Customer_ID</th>\n",
       "      <th>Country</th>\n",
       "      <th>Province</th>\n",
       "      <th>email</th>\n",
       "      <th>FirstName</th>\n",
       "      <th>LastName</th>\n",
       "    </tr>\n",
       "  </thead>\n",
       "  <tbody>\n",
       "    <tr>\n",
       "      <th>0</th>\n",
       "      <td>100000</td>\n",
       "      <td>Canada</td>\n",
       "      <td>Prince Edward Island</td>\n",
       "      <td>Grace</td>\n",
       "      <td>Taylor</td>\n",
       "      <td>grace.taylor@gmail.com</td>\n",
       "    </tr>\n",
       "  </tbody>\n",
       "</table>\n",
       "</div>"
      ],
      "text/plain": [
       "   Customer_ID Country              Province  email FirstName  \\\n",
       "0       100000  Canada  Prince Edward Island  Grace    Taylor   \n",
       "\n",
       "                 LastName  \n",
       "0  grace.taylor@gmail.com  "
      ]
     },
     "execution_count": 4,
     "metadata": {},
     "output_type": "execute_result"
    }
   ],
   "source": [
    "db_file = \"/kaggle/input/synthetic-data-sonify/Sonify_DB.db\"\n",
    "\n",
    "con = sqlite3.connect(db_file) \n",
    "Dim_Customers_df = pd.read_sql_query(\"\"\"SELECT * from Dim_Customers\"\"\", con)\n",
    "con.close()\n",
    "Dim_Customers_df = Dim_Customers_df.head(500)\n",
    "Dim_Customers_df.head(1)"
   ]
  },
  {
   "cell_type": "code",
   "execution_count": 5,
   "id": "e18003dc",
   "metadata": {
    "execution": {
     "iopub.execute_input": "2024-11-17T22:48:34.399681Z",
     "iopub.status.busy": "2024-11-17T22:48:34.399251Z",
     "iopub.status.idle": "2024-11-17T22:48:34.563845Z",
     "shell.execute_reply": "2024-11-17T22:48:34.562749Z"
    },
    "papermill": {
     "duration": 0.173534,
     "end_time": "2024-11-17T22:48:34.566545",
     "exception": false,
     "start_time": "2024-11-17T22:48:34.393011",
     "status": "completed"
    },
    "tags": []
   },
   "outputs": [],
   "source": [
    "writer = pd.ExcelWriter(\"RPT_\"+strftime(\"%Y-%m-%d_%H-%M-%S\")+\".xlsx\", engine='xlsxwriter')\n",
    "Dim_Customers_df.to_excel(writer,index=True, sheet_name='Legend')\n",
    "Dim_Customers_df.to_excel(writer,index=True, sheet_name='Data')\n",
    "Dim_Customers_df.to_excel(writer,index=True, sheet_name='Summary')\n",
    "number_rows = len(Dim_Customers_df.index)"
   ]
  },
  {
   "cell_type": "code",
   "execution_count": 6,
   "id": "0093fb66",
   "metadata": {
    "execution": {
     "iopub.execute_input": "2024-11-17T22:48:34.577406Z",
     "iopub.status.busy": "2024-11-17T22:48:34.576624Z",
     "iopub.status.idle": "2024-11-17T22:48:34.585384Z",
     "shell.execute_reply": "2024-11-17T22:48:34.584297Z"
    },
    "papermill": {
     "duration": 0.01671,
     "end_time": "2024-11-17T22:48:34.587616",
     "exception": false,
     "start_time": "2024-11-17T22:48:34.570906",
     "status": "completed"
    },
    "tags": []
   },
   "outputs": [
    {
     "data": {
      "text/plain": [
       "0"
      ]
     },
     "execution_count": 6,
     "metadata": {},
     "output_type": "execute_result"
    }
   ],
   "source": [
    "workbook = writer.book\n",
    "worksheet = writer.sheets['Summary']\n",
    "worksheet.set_column('A:B', 40)\n",
    "worksheet.set_column('B:B', 40)\n",
    "worksheet.write_string('A1', 'COL_NAME')\n",
    "worksheet.write_string('B1', 'MATCH_COUNTER')"
   ]
  },
  {
   "cell_type": "code",
   "execution_count": 7,
   "id": "b33c455b",
   "metadata": {
    "execution": {
     "iopub.execute_input": "2024-11-17T22:48:34.597894Z",
     "iopub.status.busy": "2024-11-17T22:48:34.597489Z",
     "iopub.status.idle": "2024-11-17T22:48:34.603417Z",
     "shell.execute_reply": "2024-11-17T22:48:34.602315Z"
    },
    "papermill": {
     "duration": 0.013623,
     "end_time": "2024-11-17T22:48:34.605619",
     "exception": false,
     "start_time": "2024-11-17T22:48:34.591996",
     "status": "completed"
    },
    "tags": []
   },
   "outputs": [],
   "source": [
    "workbook = writer.book\n",
    "worksheet = writer.sheets['Data']\n",
    "worksheet.set_zoom(100)\n",
    "worksheet.set_column('A:LM', 30)\n",
    "worksheet.set_column('LN:RS', 10)\n",
    "\n",
    "# Define our range for the color formatting\n",
    "color_range = \"LN2:RS{}\".format(number_rows+1)"
   ]
  },
  {
   "cell_type": "code",
   "execution_count": 8,
   "id": "9fbee177",
   "metadata": {
    "execution": {
     "iopub.execute_input": "2024-11-17T22:48:34.616138Z",
     "iopub.status.busy": "2024-11-17T22:48:34.615691Z",
     "iopub.status.idle": "2024-11-17T22:48:34.621894Z",
     "shell.execute_reply": "2024-11-17T22:48:34.620731Z"
    },
    "papermill": {
     "duration": 0.014555,
     "end_time": "2024-11-17T22:48:34.624553",
     "exception": false,
     "start_time": "2024-11-17T22:48:34.609998",
     "status": "completed"
    },
    "tags": []
   },
   "outputs": [],
   "source": [
    "# Add a format. Light red fill with dark red text.\n",
    "format1 = workbook.add_format({'bg_color': '#FFC7CE',\n",
    "                               'font_color': '#9C0006'})\n",
    "\n",
    "# Add a format. Green fill with dark green text.\n",
    "format2 = workbook.add_format({'bg_color': '#C6EFCE',\n",
    "                               'font_color': '#006100'})"
   ]
  },
  {
   "cell_type": "code",
   "execution_count": 9,
   "id": "7f42b980",
   "metadata": {
    "execution": {
     "iopub.execute_input": "2024-11-17T22:48:34.635635Z",
     "iopub.status.busy": "2024-11-17T22:48:34.634787Z",
     "iopub.status.idle": "2024-11-17T22:48:34.643010Z",
     "shell.execute_reply": "2024-11-17T22:48:34.641724Z"
    },
    "papermill": {
     "duration": 0.016492,
     "end_time": "2024-11-17T22:48:34.645566",
     "exception": false,
     "start_time": "2024-11-17T22:48:34.629074",
     "status": "completed"
    },
    "tags": []
   },
   "outputs": [
    {
     "data": {
      "text/plain": [
       "0"
      ]
     },
     "execution_count": 9,
     "metadata": {},
     "output_type": "execute_result"
    }
   ],
   "source": [
    "worksheet.conditional_format(color_range, {'type': 'cell','criteria': '=','value': 'TRUE','format': format2})\n",
    "worksheet.conditional_format(color_range, {'type': 'cell','criteria': '=','value': 'FALSE','format': format1})"
   ]
  },
  {
   "cell_type": "code",
   "execution_count": 10,
   "id": "0fbe9bcc",
   "metadata": {
    "execution": {
     "iopub.execute_input": "2024-11-17T22:48:34.656226Z",
     "iopub.status.busy": "2024-11-17T22:48:34.655814Z",
     "iopub.status.idle": "2024-11-17T22:48:34.661689Z",
     "shell.execute_reply": "2024-11-17T22:48:34.660330Z"
    },
    "papermill": {
     "duration": 0.014104,
     "end_time": "2024-11-17T22:48:34.664220",
     "exception": false,
     "start_time": "2024-11-17T22:48:34.650116",
     "status": "completed"
    },
    "tags": []
   },
   "outputs": [],
   "source": [
    "worksheet.write_string('A1', 'ACCOUNT_ID')\n",
    "worksheet.freeze_panes(1, 0)  # Freeze the first row.\n",
    "worksheet.autofilter('A1:ZZ1')"
   ]
  },
  {
   "cell_type": "code",
   "execution_count": 11,
   "id": "441af554",
   "metadata": {
    "execution": {
     "iopub.execute_input": "2024-11-17T22:48:34.676685Z",
     "iopub.status.busy": "2024-11-17T22:48:34.675592Z",
     "iopub.status.idle": "2024-11-17T22:48:34.751440Z",
     "shell.execute_reply": "2024-11-17T22:48:34.750270Z"
    },
    "papermill": {
     "duration": 0.084385,
     "end_time": "2024-11-17T22:48:34.754167",
     "exception": false,
     "start_time": "2024-11-17T22:48:34.669782",
     "status": "completed"
    },
    "tags": []
   },
   "outputs": [],
   "source": [
    "writer.close()"
   ]
  }
 ],
 "metadata": {
  "kaggle": {
   "accelerator": "none",
   "dataSources": [
    {
     "sourceId": 205431842,
     "sourceType": "kernelVersion"
    }
   ],
   "dockerImageVersionId": 30786,
   "isGpuEnabled": false,
   "isInternetEnabled": true,
   "language": "python",
   "sourceType": "notebook"
  },
  "kernelspec": {
   "display_name": "Python 3",
   "language": "python",
   "name": "python3"
  },
  "language_info": {
   "codemirror_mode": {
    "name": "ipython",
    "version": 3
   },
   "file_extension": ".py",
   "mimetype": "text/x-python",
   "name": "python",
   "nbconvert_exporter": "python",
   "pygments_lexer": "ipython3",
   "version": "3.10.14"
  },
  "papermill": {
   "default_parameters": {},
   "duration": 18.186615,
   "end_time": "2024-11-17T22:48:35.280409",
   "environment_variables": {},
   "exception": null,
   "input_path": "__notebook__.ipynb",
   "output_path": "__notebook__.ipynb",
   "parameters": {},
   "start_time": "2024-11-17T22:48:17.093794",
   "version": "2.6.0"
  }
 },
 "nbformat": 4,
 "nbformat_minor": 5
}
