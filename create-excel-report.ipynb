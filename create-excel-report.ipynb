{
 "cells": [
  {
   "cell_type": "code",
   "execution_count": 1,
   "id": "c3e8193a",
   "metadata": {
    "execution": {
     "iopub.execute_input": "2024-11-17T14:42:21.932987Z",
     "iopub.status.busy": "2024-11-17T14:42:21.932421Z",
     "iopub.status.idle": "2024-11-17T14:42:38.382425Z",
     "shell.execute_reply": "2024-11-17T14:42:38.381100Z"
    },
    "papermill": {
     "duration": 16.460078,
     "end_time": "2024-11-17T14:42:38.385601",
     "exception": false,
     "start_time": "2024-11-17T14:42:21.925523",
     "status": "completed"
    },
    "tags": []
   },
   "outputs": [
    {
     "name": "stdout",
     "output_type": "stream",
     "text": [
      "Collecting xlsxwriter\r\n",
      "  Downloading XlsxWriter-3.2.0-py3-none-any.whl.metadata (2.6 kB)\r\n",
      "Downloading XlsxWriter-3.2.0-py3-none-any.whl (159 kB)\r\n",
      "\u001b[2K   \u001b[90m━━━━━━━━━━━━━━━━━━━━━━━━━━━━━━━━━━━━━━━━\u001b[0m \u001b[32m159.9/159.9 kB\u001b[0m \u001b[31m5.3 MB/s\u001b[0m eta \u001b[36m0:00:00\u001b[0m\r\n",
      "\u001b[?25hInstalling collected packages: xlsxwriter\r\n",
      "Successfully installed xlsxwriter-3.2.0\r\n"
     ]
    }
   ],
   "source": [
    "!pip install xlsxwriter"
   ]
  },
  {
   "cell_type": "code",
   "execution_count": 2,
   "id": "5fd459f5",
   "metadata": {
    "_cell_guid": "b1076dfc-b9ad-4769-8c92-a6c4dae69d19",
    "_uuid": "8f2839f25d086af736a60e9eeb907d3b93b6e0e5",
    "execution": {
     "iopub.execute_input": "2024-11-17T14:42:38.398308Z",
     "iopub.status.busy": "2024-11-17T14:42:38.397836Z",
     "iopub.status.idle": "2024-11-17T14:42:39.414592Z",
     "shell.execute_reply": "2024-11-17T14:42:39.413437Z"
    },
    "papermill": {
     "duration": 1.026248,
     "end_time": "2024-11-17T14:42:39.417406",
     "exception": false,
     "start_time": "2024-11-17T14:42:38.391158",
     "status": "completed"
    },
    "tags": []
   },
   "outputs": [],
   "source": [
    "import pandas as pd\n",
    "import numpy as np\n",
    "import glob, os\n",
    "from time import strftime\n",
    "from xlsxwriter.utility import xl_rowcol_to_cell\n",
    "# Database interaction imports\n",
    "import csv, sqlite3\n",
    "\n",
    "pd.set_option('display.max_rows', 999)\n",
    "pd.set_option('display.max_colwidth', 999)\n",
    "pd.set_option('display.max_columns', 999)\n",
    "pd.options.display.max_seq_items = 2000\n",
    "pd.options.display.float_format = '{:20,.2f}'.format\n"
   ]
  },
  {
   "cell_type": "code",
   "execution_count": 3,
   "id": "8995ad00",
   "metadata": {
    "execution": {
     "iopub.execute_input": "2024-11-17T14:42:39.430207Z",
     "iopub.status.busy": "2024-11-17T14:42:39.429180Z",
     "iopub.status.idle": "2024-11-17T14:42:39.819057Z",
     "shell.execute_reply": "2024-11-17T14:42:39.817765Z"
    },
    "papermill": {
     "duration": 0.399256,
     "end_time": "2024-11-17T14:42:39.821731",
     "exception": false,
     "start_time": "2024-11-17T14:42:39.422475",
     "status": "completed"
    },
    "tags": []
   },
   "outputs": [
    {
     "data": {
      "text/html": [
       "<div>\n",
       "<style scoped>\n",
       "    .dataframe tbody tr th:only-of-type {\n",
       "        vertical-align: middle;\n",
       "    }\n",
       "\n",
       "    .dataframe tbody tr th {\n",
       "        vertical-align: top;\n",
       "    }\n",
       "\n",
       "    .dataframe thead th {\n",
       "        text-align: right;\n",
       "    }\n",
       "</style>\n",
       "<table border=\"1\" class=\"dataframe\">\n",
       "  <thead>\n",
       "    <tr style=\"text-align: right;\">\n",
       "      <th></th>\n",
       "      <th>Customer_ID</th>\n",
       "      <th>Country</th>\n",
       "      <th>Province</th>\n",
       "      <th>email</th>\n",
       "      <th>FirstName</th>\n",
       "      <th>LastName</th>\n",
       "    </tr>\n",
       "  </thead>\n",
       "  <tbody>\n",
       "    <tr>\n",
       "      <th>0</th>\n",
       "      <td>100000</td>\n",
       "      <td>Canada</td>\n",
       "      <td>Quebec</td>\n",
       "      <td>Michael</td>\n",
       "      <td>Parker</td>\n",
       "      <td>michael.parker@gmail.com</td>\n",
       "    </tr>\n",
       "  </tbody>\n",
       "</table>\n",
       "</div>"
      ],
      "text/plain": [
       "   Customer_ID Country Province    email FirstName                  LastName\n",
       "0       100000  Canada   Quebec  Michael    Parker  michael.parker@gmail.com"
      ]
     },
     "execution_count": 3,
     "metadata": {},
     "output_type": "execute_result"
    }
   ],
   "source": [
    "db_file = \"/kaggle/input/synthetic-data-sonify/Sonify_DB.db\"\n",
    "\n",
    "con = sqlite3.connect(db_file) \n",
    "Dim_Customers_df = pd.read_sql_query(\"\"\"SELECT * from Dim_Customers\"\"\", con)\n",
    "con.close()\n",
    "Dim_Customers_df = Dim_Customers_df.head(500)\n",
    "Dim_Customers_df.head(1)"
   ]
  },
  {
   "cell_type": "code",
   "execution_count": 4,
   "id": "d6e72c1b",
   "metadata": {
    "execution": {
     "iopub.execute_input": "2024-11-17T14:42:39.835553Z",
     "iopub.status.busy": "2024-11-17T14:42:39.835091Z",
     "iopub.status.idle": "2024-11-17T14:42:40.089133Z",
     "shell.execute_reply": "2024-11-17T14:42:40.087774Z"
    },
    "papermill": {
     "duration": 0.264861,
     "end_time": "2024-11-17T14:42:40.092040",
     "exception": false,
     "start_time": "2024-11-17T14:42:39.827179",
     "status": "completed"
    },
    "tags": []
   },
   "outputs": [],
   "source": [
    "writer = pd.ExcelWriter(\"RPT_\"+strftime(\"%Y-%m-%d_%H-%M-%S\")+\".xlsx\", engine='xlsxwriter')\n",
    "Dim_Customers_df.to_excel(writer,index=True, sheet_name='Legend')\n",
    "Dim_Customers_df.to_excel(writer,index=True, sheet_name='Data')\n",
    "Dim_Customers_df.to_excel(writer,index=True, sheet_name='Summary')\n",
    "number_rows = len(Dim_Customers_df.index)"
   ]
  },
  {
   "cell_type": "code",
   "execution_count": 5,
   "id": "cb5f0f5d",
   "metadata": {
    "execution": {
     "iopub.execute_input": "2024-11-17T14:42:40.104440Z",
     "iopub.status.busy": "2024-11-17T14:42:40.104010Z",
     "iopub.status.idle": "2024-11-17T14:42:40.113003Z",
     "shell.execute_reply": "2024-11-17T14:42:40.111775Z"
    },
    "papermill": {
     "duration": 0.018275,
     "end_time": "2024-11-17T14:42:40.115651",
     "exception": false,
     "start_time": "2024-11-17T14:42:40.097376",
     "status": "completed"
    },
    "tags": []
   },
   "outputs": [
    {
     "data": {
      "text/plain": [
       "0"
      ]
     },
     "execution_count": 5,
     "metadata": {},
     "output_type": "execute_result"
    }
   ],
   "source": [
    "workbook = writer.book\n",
    "worksheet = writer.sheets['Summary']\n",
    "worksheet.set_column('A:B', 40)\n",
    "worksheet.set_column('B:B', 40)\n",
    "worksheet.write_string('A1', 'COL_NAME')\n",
    "worksheet.write_string('B1', 'MATCH_COUNTER')"
   ]
  },
  {
   "cell_type": "code",
   "execution_count": 6,
   "id": "ffa46502",
   "metadata": {
    "execution": {
     "iopub.execute_input": "2024-11-17T14:42:40.128414Z",
     "iopub.status.busy": "2024-11-17T14:42:40.127978Z",
     "iopub.status.idle": "2024-11-17T14:42:40.134545Z",
     "shell.execute_reply": "2024-11-17T14:42:40.133324Z"
    },
    "papermill": {
     "duration": 0.01574,
     "end_time": "2024-11-17T14:42:40.136914",
     "exception": false,
     "start_time": "2024-11-17T14:42:40.121174",
     "status": "completed"
    },
    "tags": []
   },
   "outputs": [],
   "source": [
    "workbook = writer.book\n",
    "worksheet = writer.sheets['Data']\n",
    "worksheet.set_zoom(100)\n",
    "worksheet.set_column('A:LM', 30)\n",
    "worksheet.set_column('LN:RS', 10)\n",
    "\n",
    "# Define our range for the color formatting\n",
    "color_range = \"LN2:RS{}\".format(number_rows+1)"
   ]
  },
  {
   "cell_type": "code",
   "execution_count": 7,
   "id": "1847d46b",
   "metadata": {
    "execution": {
     "iopub.execute_input": "2024-11-17T14:42:40.149990Z",
     "iopub.status.busy": "2024-11-17T14:42:40.149506Z",
     "iopub.status.idle": "2024-11-17T14:42:40.156370Z",
     "shell.execute_reply": "2024-11-17T14:42:40.155002Z"
    },
    "papermill": {
     "duration": 0.016808,
     "end_time": "2024-11-17T14:42:40.159314",
     "exception": false,
     "start_time": "2024-11-17T14:42:40.142506",
     "status": "completed"
    },
    "tags": []
   },
   "outputs": [],
   "source": [
    "# Add a format. Light red fill with dark red text.\n",
    "format1 = workbook.add_format({'bg_color': '#FFC7CE',\n",
    "                               'font_color': '#9C0006'})\n",
    "\n",
    "# Add a format. Green fill with dark green text.\n",
    "format2 = workbook.add_format({'bg_color': '#C6EFCE',\n",
    "                               'font_color': '#006100'})"
   ]
  },
  {
   "cell_type": "code",
   "execution_count": 8,
   "id": "75eef9f8",
   "metadata": {
    "execution": {
     "iopub.execute_input": "2024-11-17T14:42:40.172071Z",
     "iopub.status.busy": "2024-11-17T14:42:40.171605Z",
     "iopub.status.idle": "2024-11-17T14:42:40.181121Z",
     "shell.execute_reply": "2024-11-17T14:42:40.179956Z"
    },
    "papermill": {
     "duration": 0.019072,
     "end_time": "2024-11-17T14:42:40.183818",
     "exception": false,
     "start_time": "2024-11-17T14:42:40.164746",
     "status": "completed"
    },
    "tags": []
   },
   "outputs": [
    {
     "data": {
      "text/plain": [
       "0"
      ]
     },
     "execution_count": 8,
     "metadata": {},
     "output_type": "execute_result"
    }
   ],
   "source": [
    "worksheet.conditional_format(color_range, {'type': 'cell','criteria': '=','value': 'TRUE','format': format2})\n",
    "worksheet.conditional_format(color_range, {'type': 'cell','criteria': '=','value': 'FALSE','format': format1})"
   ]
  },
  {
   "cell_type": "code",
   "execution_count": 9,
   "id": "78071dd9",
   "metadata": {
    "execution": {
     "iopub.execute_input": "2024-11-17T14:42:40.197458Z",
     "iopub.status.busy": "2024-11-17T14:42:40.197030Z",
     "iopub.status.idle": "2024-11-17T14:42:40.203223Z",
     "shell.execute_reply": "2024-11-17T14:42:40.202100Z"
    },
    "papermill": {
     "duration": 0.016283,
     "end_time": "2024-11-17T14:42:40.205776",
     "exception": false,
     "start_time": "2024-11-17T14:42:40.189493",
     "status": "completed"
    },
    "tags": []
   },
   "outputs": [],
   "source": [
    "worksheet.write_string('A1', 'ACCOUNT_ID')\n",
    "worksheet.freeze_panes(1, 0)  # Freeze the first row.\n",
    "worksheet.autofilter('A1:ZZ1')"
   ]
  },
  {
   "cell_type": "code",
   "execution_count": 10,
   "id": "de6675ab",
   "metadata": {
    "execution": {
     "iopub.execute_input": "2024-11-17T14:42:40.218776Z",
     "iopub.status.busy": "2024-11-17T14:42:40.218305Z",
     "iopub.status.idle": "2024-11-17T14:42:40.326047Z",
     "shell.execute_reply": "2024-11-17T14:42:40.324572Z"
    },
    "papermill": {
     "duration": 0.118345,
     "end_time": "2024-11-17T14:42:40.329716",
     "exception": false,
     "start_time": "2024-11-17T14:42:40.211371",
     "status": "completed"
    },
    "tags": []
   },
   "outputs": [],
   "source": [
    "writer.close()"
   ]
  }
 ],
 "metadata": {
  "kaggle": {
   "accelerator": "none",
   "dataSources": [
    {
     "sourceId": 205431842,
     "sourceType": "kernelVersion"
    }
   ],
   "dockerImageVersionId": 30786,
   "isGpuEnabled": false,
   "isInternetEnabled": true,
   "language": "python",
   "sourceType": "notebook"
  },
  "kernelspec": {
   "display_name": "Python 3",
   "language": "python",
   "name": "python3"
  },
  "language_info": {
   "codemirror_mode": {
    "name": "ipython",
    "version": 3
   },
   "file_extension": ".py",
   "mimetype": "text/x-python",
   "name": "python",
   "nbconvert_exporter": "python",
   "pygments_lexer": "ipython3",
   "version": "3.10.14"
  },
  "papermill": {
   "default_parameters": {},
   "duration": 22.202812,
   "end_time": "2024-11-17T14:42:40.959023",
   "environment_variables": {},
   "exception": null,
   "input_path": "__notebook__.ipynb",
   "output_path": "__notebook__.ipynb",
   "parameters": {},
   "start_time": "2024-11-17T14:42:18.756211",
   "version": "2.6.0"
  }
 },
 "nbformat": 4,
 "nbformat_minor": 5
}
