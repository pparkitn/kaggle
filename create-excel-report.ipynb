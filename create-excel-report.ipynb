{
 "cells": [
  {
   "cell_type": "code",
   "execution_count": 1,
   "id": "05d53688",
   "metadata": {
    "execution": {
     "iopub.execute_input": "2024-11-16T16:19:22.879470Z",
     "iopub.status.busy": "2024-11-16T16:19:22.879093Z",
     "iopub.status.idle": "2024-11-16T16:19:36.530010Z",
     "shell.execute_reply": "2024-11-16T16:19:36.528661Z"
    },
    "papermill": {
     "duration": 13.659587,
     "end_time": "2024-11-16T16:19:36.532795",
     "exception": false,
     "start_time": "2024-11-16T16:19:22.873208",
     "status": "completed"
    },
    "tags": []
   },
   "outputs": [
    {
     "name": "stdout",
     "output_type": "stream",
     "text": [
      "Collecting xlsxwriter\r\n",
      "  Downloading XlsxWriter-3.2.0-py3-none-any.whl.metadata (2.6 kB)\r\n",
      "Downloading XlsxWriter-3.2.0-py3-none-any.whl (159 kB)\r\n",
      "\u001b[2K   \u001b[90m━━━━━━━━━━━━━━━━━━━━━━━━━━━━━━━━━━━━━━━━\u001b[0m \u001b[32m159.9/159.9 kB\u001b[0m \u001b[31m8.7 MB/s\u001b[0m eta \u001b[36m0:00:00\u001b[0m\r\n",
      "\u001b[?25hInstalling collected packages: xlsxwriter\r\n",
      "Successfully installed xlsxwriter-3.2.0\r\n"
     ]
    }
   ],
   "source": [
    "!pip install xlsxwriter"
   ]
  },
  {
   "cell_type": "code",
   "execution_count": 2,
   "id": "83536aa7",
   "metadata": {
    "_cell_guid": "b1076dfc-b9ad-4769-8c92-a6c4dae69d19",
    "_uuid": "8f2839f25d086af736a60e9eeb907d3b93b6e0e5",
    "execution": {
     "iopub.execute_input": "2024-11-16T16:19:36.542482Z",
     "iopub.status.busy": "2024-11-16T16:19:36.542070Z",
     "iopub.status.idle": "2024-11-16T16:19:37.415559Z",
     "shell.execute_reply": "2024-11-16T16:19:37.414385Z"
    },
    "papermill": {
     "duration": 0.881189,
     "end_time": "2024-11-16T16:19:37.418002",
     "exception": false,
     "start_time": "2024-11-16T16:19:36.536813",
     "status": "completed"
    },
    "tags": []
   },
   "outputs": [],
   "source": [
    "import pandas as pd\n",
    "import numpy as np\n",
    "import glob, os\n",
    "from time import strftime\n",
    "from xlsxwriter.utility import xl_rowcol_to_cell\n",
    "# Database interaction imports\n",
    "import csv, sqlite3\n",
    "\n",
    "pd.set_option('display.max_rows', 999)\n",
    "pd.set_option('display.max_colwidth', 999)\n",
    "pd.set_option('display.max_columns', 999)\n",
    "pd.options.display.max_seq_items = 2000\n",
    "pd.options.display.float_format = '{:20,.2f}'.format\n"
   ]
  },
  {
   "cell_type": "code",
   "execution_count": 3,
   "id": "146e7f06",
   "metadata": {
    "execution": {
     "iopub.execute_input": "2024-11-16T16:19:37.427387Z",
     "iopub.status.busy": "2024-11-16T16:19:37.426832Z",
     "iopub.status.idle": "2024-11-16T16:19:37.708359Z",
     "shell.execute_reply": "2024-11-16T16:19:37.707266Z"
    },
    "papermill": {
     "duration": 0.28921,
     "end_time": "2024-11-16T16:19:37.710979",
     "exception": false,
     "start_time": "2024-11-16T16:19:37.421769",
     "status": "completed"
    },
    "tags": []
   },
   "outputs": [
    {
     "data": {
      "text/html": [
       "<div>\n",
       "<style scoped>\n",
       "    .dataframe tbody tr th:only-of-type {\n",
       "        vertical-align: middle;\n",
       "    }\n",
       "\n",
       "    .dataframe tbody tr th {\n",
       "        vertical-align: top;\n",
       "    }\n",
       "\n",
       "    .dataframe thead th {\n",
       "        text-align: right;\n",
       "    }\n",
       "</style>\n",
       "<table border=\"1\" class=\"dataframe\">\n",
       "  <thead>\n",
       "    <tr style=\"text-align: right;\">\n",
       "      <th></th>\n",
       "      <th>Customer_ID</th>\n",
       "      <th>Country</th>\n",
       "      <th>Province</th>\n",
       "      <th>email</th>\n",
       "      <th>FirstName</th>\n",
       "      <th>LastName</th>\n",
       "    </tr>\n",
       "  </thead>\n",
       "  <tbody>\n",
       "    <tr>\n",
       "      <th>0</th>\n",
       "      <td>100000</td>\n",
       "      <td>Canada</td>\n",
       "      <td>Quebec</td>\n",
       "      <td>Michael</td>\n",
       "      <td>Parker</td>\n",
       "      <td>michael.parker@gmail.com</td>\n",
       "    </tr>\n",
       "  </tbody>\n",
       "</table>\n",
       "</div>"
      ],
      "text/plain": [
       "   Customer_ID Country Province    email FirstName                  LastName\n",
       "0       100000  Canada   Quebec  Michael    Parker  michael.parker@gmail.com"
      ]
     },
     "execution_count": 3,
     "metadata": {},
     "output_type": "execute_result"
    }
   ],
   "source": [
    "db_file = \"/kaggle/input/synthetic-data-sonify/Sonify_DB.db\"\n",
    "\n",
    "con = sqlite3.connect(db_file) \n",
    "Dim_Customers_df = pd.read_sql_query(\"\"\"SELECT * from Dim_Customers\"\"\", con)\n",
    "con.close()\n",
    "Dim_Customers_df = Dim_Customers_df.head(500)\n",
    "Dim_Customers_df.head(1)"
   ]
  },
  {
   "cell_type": "code",
   "execution_count": 4,
   "id": "06a0592c",
   "metadata": {
    "execution": {
     "iopub.execute_input": "2024-11-16T16:19:37.720738Z",
     "iopub.status.busy": "2024-11-16T16:19:37.720322Z",
     "iopub.status.idle": "2024-11-16T16:19:37.885536Z",
     "shell.execute_reply": "2024-11-16T16:19:37.884368Z"
    },
    "papermill": {
     "duration": 0.173092,
     "end_time": "2024-11-16T16:19:37.888178",
     "exception": false,
     "start_time": "2024-11-16T16:19:37.715086",
     "status": "completed"
    },
    "tags": []
   },
   "outputs": [],
   "source": [
    "writer = pd.ExcelWriter(\"RPT_\"+strftime(\"%Y-%m-%d_%H-%M-%S\")+\".xlsx\", engine='xlsxwriter')\n",
    "Dim_Customers_df.to_excel(writer,index=True, sheet_name='Legend')\n",
    "Dim_Customers_df.to_excel(writer,index=True, sheet_name='Data')\n",
    "Dim_Customers_df.to_excel(writer,index=True, sheet_name='Summary')\n",
    "number_rows = len(Dim_Customers_df.index)"
   ]
  },
  {
   "cell_type": "code",
   "execution_count": 5,
   "id": "466e2a58",
   "metadata": {
    "execution": {
     "iopub.execute_input": "2024-11-16T16:19:37.898272Z",
     "iopub.status.busy": "2024-11-16T16:19:37.897201Z",
     "iopub.status.idle": "2024-11-16T16:19:37.904923Z",
     "shell.execute_reply": "2024-11-16T16:19:37.903998Z"
    },
    "papermill": {
     "duration": 0.015091,
     "end_time": "2024-11-16T16:19:37.907158",
     "exception": false,
     "start_time": "2024-11-16T16:19:37.892067",
     "status": "completed"
    },
    "tags": []
   },
   "outputs": [
    {
     "data": {
      "text/plain": [
       "0"
      ]
     },
     "execution_count": 5,
     "metadata": {},
     "output_type": "execute_result"
    }
   ],
   "source": [
    "workbook = writer.book\n",
    "worksheet = writer.sheets['Summary']\n",
    "worksheet.set_column('A:B', 40)\n",
    "worksheet.set_column('B:B', 40)\n",
    "worksheet.write_string('A1', 'COL_NAME')\n",
    "worksheet.write_string('B1', 'MATCH_COUNTER')"
   ]
  },
  {
   "cell_type": "code",
   "execution_count": 6,
   "id": "9901717e",
   "metadata": {
    "execution": {
     "iopub.execute_input": "2024-11-16T16:19:37.916733Z",
     "iopub.status.busy": "2024-11-16T16:19:37.916305Z",
     "iopub.status.idle": "2024-11-16T16:19:37.923144Z",
     "shell.execute_reply": "2024-11-16T16:19:37.921961Z"
    },
    "papermill": {
     "duration": 0.014834,
     "end_time": "2024-11-16T16:19:37.925945",
     "exception": false,
     "start_time": "2024-11-16T16:19:37.911111",
     "status": "completed"
    },
    "tags": []
   },
   "outputs": [],
   "source": [
    "workbook = writer.book\n",
    "worksheet = writer.sheets['Data']\n",
    "worksheet.set_zoom(100)\n",
    "worksheet.set_column('A:LM', 30)\n",
    "worksheet.set_column('LN:RS', 10)\n",
    "\n",
    "# Define our range for the color formatting\n",
    "color_range = \"LN2:RS{}\".format(number_rows+1)"
   ]
  },
  {
   "cell_type": "code",
   "execution_count": 7,
   "id": "03868843",
   "metadata": {
    "execution": {
     "iopub.execute_input": "2024-11-16T16:19:37.935890Z",
     "iopub.status.busy": "2024-11-16T16:19:37.935330Z",
     "iopub.status.idle": "2024-11-16T16:19:37.941018Z",
     "shell.execute_reply": "2024-11-16T16:19:37.939822Z"
    },
    "papermill": {
     "duration": 0.01322,
     "end_time": "2024-11-16T16:19:37.943350",
     "exception": false,
     "start_time": "2024-11-16T16:19:37.930130",
     "status": "completed"
    },
    "tags": []
   },
   "outputs": [],
   "source": [
    "# Add a format. Light red fill with dark red text.\n",
    "format1 = workbook.add_format({'bg_color': '#FFC7CE',\n",
    "                               'font_color': '#9C0006'})\n",
    "\n",
    "# Add a format. Green fill with dark green text.\n",
    "format2 = workbook.add_format({'bg_color': '#C6EFCE',\n",
    "                               'font_color': '#006100'})"
   ]
  },
  {
   "cell_type": "code",
   "execution_count": 8,
   "id": "e425a2a4",
   "metadata": {
    "execution": {
     "iopub.execute_input": "2024-11-16T16:19:37.953052Z",
     "iopub.status.busy": "2024-11-16T16:19:37.952572Z",
     "iopub.status.idle": "2024-11-16T16:19:37.960307Z",
     "shell.execute_reply": "2024-11-16T16:19:37.959297Z"
    },
    "papermill": {
     "duration": 0.015233,
     "end_time": "2024-11-16T16:19:37.962586",
     "exception": false,
     "start_time": "2024-11-16T16:19:37.947353",
     "status": "completed"
    },
    "tags": []
   },
   "outputs": [
    {
     "data": {
      "text/plain": [
       "0"
      ]
     },
     "execution_count": 8,
     "metadata": {},
     "output_type": "execute_result"
    }
   ],
   "source": [
    "worksheet.conditional_format(color_range, {'type': 'cell','criteria': '=','value': 'TRUE','format': format2})\n",
    "worksheet.conditional_format(color_range, {'type': 'cell','criteria': '=','value': 'FALSE','format': format1})"
   ]
  },
  {
   "cell_type": "code",
   "execution_count": 9,
   "id": "10ce7b82",
   "metadata": {
    "execution": {
     "iopub.execute_input": "2024-11-16T16:19:37.973410Z",
     "iopub.status.busy": "2024-11-16T16:19:37.972355Z",
     "iopub.status.idle": "2024-11-16T16:19:37.978169Z",
     "shell.execute_reply": "2024-11-16T16:19:37.977187Z"
    },
    "papermill": {
     "duration": 0.01369,
     "end_time": "2024-11-16T16:19:37.980543",
     "exception": false,
     "start_time": "2024-11-16T16:19:37.966853",
     "status": "completed"
    },
    "tags": []
   },
   "outputs": [],
   "source": [
    "worksheet.write_string('A1', 'ACCOUNT_ID')\n",
    "worksheet.freeze_panes(1, 0)  # Freeze the first row.\n",
    "worksheet.autofilter('A1:ZZ1')"
   ]
  },
  {
   "cell_type": "code",
   "execution_count": 10,
   "id": "ee6a6a0e",
   "metadata": {
    "execution": {
     "iopub.execute_input": "2024-11-16T16:19:37.991220Z",
     "iopub.status.busy": "2024-11-16T16:19:37.990296Z",
     "iopub.status.idle": "2024-11-16T16:19:38.062839Z",
     "shell.execute_reply": "2024-11-16T16:19:38.061690Z"
    },
    "papermill": {
     "duration": 0.08095,
     "end_time": "2024-11-16T16:19:38.065587",
     "exception": false,
     "start_time": "2024-11-16T16:19:37.984637",
     "status": "completed"
    },
    "tags": []
   },
   "outputs": [],
   "source": [
    "writer.close()"
   ]
  }
 ],
 "metadata": {
  "kaggle": {
   "accelerator": "none",
   "dataSources": [
    {
     "sourceId": 205431842,
     "sourceType": "kernelVersion"
    }
   ],
   "dockerImageVersionId": 30786,
   "isGpuEnabled": false,
   "isInternetEnabled": true,
   "language": "python",
   "sourceType": "notebook"
  },
  "kernelspec": {
   "display_name": "Python 3",
   "language": "python",
   "name": "python3"
  },
  "language_info": {
   "codemirror_mode": {
    "name": "ipython",
    "version": 3
   },
   "file_extension": ".py",
   "mimetype": "text/x-python",
   "name": "python",
   "nbconvert_exporter": "python",
   "pygments_lexer": "ipython3",
   "version": "3.10.14"
  },
  "papermill": {
   "default_parameters": {},
   "duration": 18.516451,
   "end_time": "2024-11-16T16:19:38.590537",
   "environment_variables": {},
   "exception": null,
   "input_path": "__notebook__.ipynb",
   "output_path": "__notebook__.ipynb",
   "parameters": {},
   "start_time": "2024-11-16T16:19:20.074086",
   "version": "2.6.0"
  }
 },
 "nbformat": 4,
 "nbformat_minor": 5
}
