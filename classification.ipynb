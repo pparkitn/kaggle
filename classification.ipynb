{
 "cells": [
  {
   "cell_type": "code",
   "execution_count": 1,
   "id": "dfcf6e2a",
   "metadata": {
    "execution": {
     "iopub.execute_input": "2024-02-16T04:29:58.652420Z",
     "iopub.status.busy": "2024-02-16T04:29:58.651525Z",
     "iopub.status.idle": "2024-02-16T04:30:01.677860Z",
     "shell.execute_reply": "2024-02-16T04:30:01.678597Z",
     "shell.execute_reply.started": "2024-02-16T03:41:17.356149Z"
    },
    "jupyter": {
     "source_hidden": true
    },
    "papermill": {
     "duration": 3.063957,
     "end_time": "2024-02-16T04:30:01.678989",
     "exception": false,
     "start_time": "2024-02-16T04:29:58.615032",
     "status": "completed"
    },
    "tags": []
   },
   "outputs": [
    {
     "name": "stdout",
     "output_type": "stream",
     "text": [
      "/kaggle/input/heart-attack-analysis-prediction-dataset/o2Saturation.csv\n",
      "/kaggle/input/heart-attack-analysis-prediction-dataset/heart.csv\n"
     ]
    },
    {
     "data": {
      "text/html": [
       "<style type='text/css'>\n",
       ".datatable table.frame { margin-bottom: 0; }\n",
       ".datatable table.frame thead { border-bottom: none; }\n",
       ".datatable table.frame tr.coltypes td {  color: #FFFFFF;  line-height: 6px;  padding: 0 0.5em;}\n",
       ".datatable .bool    { background: #DDDD99; }\n",
       ".datatable .object  { background: #565656; }\n",
       ".datatable .int     { background: #5D9E5D; }\n",
       ".datatable .float   { background: #4040CC; }\n",
       ".datatable .str     { background: #CC4040; }\n",
       ".datatable .time    { background: #40CC40; }\n",
       ".datatable .row_index {  background: var(--jp-border-color3);  border-right: 1px solid var(--jp-border-color0);  color: var(--jp-ui-font-color3);  font-size: 9px;}\n",
       ".datatable .frame tbody td { text-align: left; }\n",
       ".datatable .frame tr.coltypes .row_index {  background: var(--jp-border-color0);}\n",
       ".datatable th:nth-child(2) { padding-left: 12px; }\n",
       ".datatable .hellipsis {  color: var(--jp-cell-editor-border-color);}\n",
       ".datatable .vellipsis {  background: var(--jp-layout-color0);  color: var(--jp-cell-editor-border-color);}\n",
       ".datatable .na {  color: var(--jp-cell-editor-border-color);  font-size: 80%;}\n",
       ".datatable .sp {  opacity: 0.25;}\n",
       ".datatable .footer { font-size: 9px; }\n",
       ".datatable .frame_dimensions {  background: var(--jp-border-color3);  border-top: 1px solid var(--jp-border-color0);  color: var(--jp-ui-font-color3);  display: inline-block;  opacity: 0.6;  padding: 1px 10px 1px 5px;}\n",
       "</style>\n"
      ],
      "text/plain": [
       "<IPython.core.display.HTML object>"
      ]
     },
     "metadata": {},
     "output_type": "display_data"
    },
    {
     "name": "stdout",
     "output_type": "stream",
     "text": [
      "4.0\n"
     ]
    }
   ],
   "source": [
    "# import packages\n",
    "import os\n",
    "import joblib\n",
    "import numpy as np\n",
    "import pandas as pd\n",
    "import warnings\n",
    "#import classification_report\n",
    "from sklearn.metrics import classification_report\n",
    "import matplotlib\n",
    "import matplotlib.pyplot as plt\n",
    "from matplotlib import ticker\n",
    "import seaborn as sns\n",
    "from sklearn.metrics import roc_curve\n",
    "#for model building\n",
    "from sklearn.metrics import accuracy_score\n",
    "from sklearn.ensemble import AdaBoostClassifier\n",
    "from sklearn.model_selection import train_test_split\n",
    "from sklearn.metrics import confusion_matrix\n",
    "from sklearn.linear_model import LogisticRegression\n",
    "from sklearn.neighbors import KNeighborsClassifier\n",
    "from sklearn.svm import SVC\n",
    "from sklearn.tree import DecisionTreeClassifier\n",
    "from sklearn.ensemble import RandomForestClassifier\n",
    "from sklearn.ensemble import GradientBoostingClassifier\n",
    "from sklearn.preprocessing import MinMaxScaler\n",
    "import xgboost as xgb\n",
    "from sklearn.metrics import roc_auc_score\n",
    "import seaborn as sns\n",
    "import numpy as np # linear algebra\n",
    "import pandas as pd # data processing, CSV file I/O (e.g. pd.read_csv)\n",
    "import matplotlib.pyplot as plt\n",
    "from sklearn.model_selection import train_test_split\n",
    "from sklearn.preprocessing import StandardScaler \n",
    "from sklearn.svm import SVC\n",
    "from sklearn.linear_model import LogisticRegression\n",
    "import xgboost as xgb\n",
    "from sklearn.metrics import accuracy_score\n",
    "from sklearn.neighbors import KNeighborsClassifier  \n",
    "from sklearn.ensemble import RandomForestRegressor\n",
    "from sklearn.neighbors import KNeighborsClassifier\n",
    "from sklearn.naive_bayes import BernoulliNB\n",
    "from sklearn.naive_bayes import GaussianNB\n",
    "from sklearn.metrics import confusion_matrix\n",
    "# Scaling\n",
    "from sklearn.preprocessing import RobustScaler\n",
    "import warnings\n",
    "warnings.filterwarnings(\"ignore\", category=DeprecationWarning)\n",
    "\n",
    "import os\n",
    "for dirname, _, filenames in os.walk('/kaggle/input'):\n",
    "    for filename in filenames:\n",
    "        print(os.path.join(dirname, filename))\n",
    "\n",
    "# setting up options\n",
    "pd.set_option('display.max_rows', None)\n",
    "pd.set_option('display.max_columns', None)\n",
    "pd.set_option('float_format', '{:f}'.format)\n",
    "warnings.filterwarnings('ignore')\n",
    "\n",
    "import warnings as wr\n",
    "wr.filterwarnings(\"ignore\") #to ignore the warnings\n",
    "\n",
    "import numpy as np \n",
    "import pandas as pd \n",
    "import seaborn as sns\n",
    "import matplotlib.pyplot as plt\n",
    "from sklearn.model_selection import StratifiedKFold\n",
    "\n",
    "import lightgbm\n",
    "from lightgbm import LGBMRegressor\n",
    "\n",
    "import pickle \n",
    "print(pickle.format_version)\n",
    "\n",
    "# Cross Validation\n",
    "from sklearn.model_selection import cross_val_score\n",
    "from sklearn.model_selection import GridSearchCV"
   ]
  },
  {
   "cell_type": "code",
   "execution_count": 2,
   "id": "a43d08f7",
   "metadata": {
    "execution": {
     "iopub.execute_input": "2024-02-16T04:30:01.712516Z",
     "iopub.status.busy": "2024-02-16T04:30:01.711244Z",
     "iopub.status.idle": "2024-02-16T04:30:01.765977Z",
     "shell.execute_reply": "2024-02-16T04:30:01.766728Z",
     "shell.execute_reply.started": "2024-02-16T03:41:19.977305Z"
    },
    "papermill": {
     "duration": 0.073976,
     "end_time": "2024-02-16T04:30:01.767036",
     "exception": false,
     "start_time": "2024-02-16T04:30:01.693060",
     "status": "completed"
    },
    "tags": []
   },
   "outputs": [
    {
     "data": {
      "text/html": [
       "<div>\n",
       "<style scoped>\n",
       "    .dataframe tbody tr th:only-of-type {\n",
       "        vertical-align: middle;\n",
       "    }\n",
       "\n",
       "    .dataframe tbody tr th {\n",
       "        vertical-align: top;\n",
       "    }\n",
       "\n",
       "    .dataframe thead th {\n",
       "        text-align: right;\n",
       "    }\n",
       "</style>\n",
       "<table border=\"1\" class=\"dataframe\">\n",
       "  <thead>\n",
       "    <tr style=\"text-align: right;\">\n",
       "      <th></th>\n",
       "      <th>age</th>\n",
       "      <th>sex</th>\n",
       "      <th>cp</th>\n",
       "      <th>trtbps</th>\n",
       "      <th>chol</th>\n",
       "      <th>fbs</th>\n",
       "      <th>restecg</th>\n",
       "      <th>thalachh</th>\n",
       "      <th>exng</th>\n",
       "      <th>oldpeak</th>\n",
       "      <th>slp</th>\n",
       "      <th>caa</th>\n",
       "      <th>thall</th>\n",
       "      <th>output</th>\n",
       "    </tr>\n",
       "  </thead>\n",
       "  <tbody>\n",
       "    <tr>\n",
       "      <th>0</th>\n",
       "      <td>63</td>\n",
       "      <td>1</td>\n",
       "      <td>3</td>\n",
       "      <td>145</td>\n",
       "      <td>233</td>\n",
       "      <td>1</td>\n",
       "      <td>0</td>\n",
       "      <td>150</td>\n",
       "      <td>0</td>\n",
       "      <td>2.300000</td>\n",
       "      <td>0</td>\n",
       "      <td>0</td>\n",
       "      <td>1</td>\n",
       "      <td>1</td>\n",
       "    </tr>\n",
       "    <tr>\n",
       "      <th>1</th>\n",
       "      <td>37</td>\n",
       "      <td>1</td>\n",
       "      <td>2</td>\n",
       "      <td>130</td>\n",
       "      <td>250</td>\n",
       "      <td>0</td>\n",
       "      <td>1</td>\n",
       "      <td>187</td>\n",
       "      <td>0</td>\n",
       "      <td>3.500000</td>\n",
       "      <td>0</td>\n",
       "      <td>0</td>\n",
       "      <td>2</td>\n",
       "      <td>1</td>\n",
       "    </tr>\n",
       "  </tbody>\n",
       "</table>\n",
       "</div>"
      ],
      "text/plain": [
       "   age  sex  cp  trtbps  chol  fbs  restecg  thalachh  exng  oldpeak  slp  \\\n",
       "0   63    1   3     145   233    1        0       150     0 2.300000    0   \n",
       "1   37    1   2     130   250    0        1       187     0 3.500000    0   \n",
       "\n",
       "   caa  thall  output  \n",
       "0    0      1       1  \n",
       "1    0      2       1  "
      ]
     },
     "execution_count": 2,
     "metadata": {},
     "output_type": "execute_result"
    }
   ],
   "source": [
    "df=pd.read_csv(\"../input/heart-attack-analysis-prediction-dataset/heart.csv\")\n",
    "df.head(2)"
   ]
  },
  {
   "cell_type": "code",
   "execution_count": 3,
   "id": "4a74d6fa",
   "metadata": {
    "execution": {
     "iopub.execute_input": "2024-02-16T04:30:01.809410Z",
     "iopub.status.busy": "2024-02-16T04:30:01.808436Z",
     "iopub.status.idle": "2024-02-16T04:30:01.874810Z",
     "shell.execute_reply": "2024-02-16T04:30:01.875799Z",
     "shell.execute_reply.started": "2024-02-16T03:41:20.013323Z"
    },
    "papermill": {
     "duration": 0.088206,
     "end_time": "2024-02-16T04:30:01.876103",
     "exception": false,
     "start_time": "2024-02-16T04:30:01.787897",
     "status": "completed"
    },
    "tags": []
   },
   "outputs": [
    {
     "name": "stdout",
     "output_type": "stream",
     "text": [
      "The first 5 rows of X are\n"
     ]
    },
    {
     "data": {
      "text/html": [
       "<div>\n",
       "<style scoped>\n",
       "    .dataframe tbody tr th:only-of-type {\n",
       "        vertical-align: middle;\n",
       "    }\n",
       "\n",
       "    .dataframe tbody tr th {\n",
       "        vertical-align: top;\n",
       "    }\n",
       "\n",
       "    .dataframe thead th {\n",
       "        text-align: right;\n",
       "    }\n",
       "</style>\n",
       "<table border=\"1\" class=\"dataframe\">\n",
       "  <thead>\n",
       "    <tr style=\"text-align: right;\">\n",
       "      <th></th>\n",
       "      <th>age</th>\n",
       "      <th>trtbps</th>\n",
       "      <th>chol</th>\n",
       "      <th>thalachh</th>\n",
       "      <th>oldpeak</th>\n",
       "      <th>sex_1</th>\n",
       "      <th>exng_1</th>\n",
       "      <th>caa_1</th>\n",
       "      <th>caa_2</th>\n",
       "      <th>caa_3</th>\n",
       "      <th>caa_4</th>\n",
       "      <th>cp_1</th>\n",
       "      <th>cp_2</th>\n",
       "      <th>cp_3</th>\n",
       "      <th>fbs_1</th>\n",
       "      <th>restecg_1</th>\n",
       "      <th>restecg_2</th>\n",
       "      <th>slp_1</th>\n",
       "      <th>slp_2</th>\n",
       "      <th>thall_1</th>\n",
       "      <th>thall_2</th>\n",
       "      <th>thall_3</th>\n",
       "    </tr>\n",
       "  </thead>\n",
       "  <tbody>\n",
       "    <tr>\n",
       "      <th>0</th>\n",
       "      <td>0.592593</td>\n",
       "      <td>0.750000</td>\n",
       "      <td>-0.110236</td>\n",
       "      <td>-0.092308</td>\n",
       "      <td>0.937500</td>\n",
       "      <td>1</td>\n",
       "      <td>0</td>\n",
       "      <td>0</td>\n",
       "      <td>0</td>\n",
       "      <td>0</td>\n",
       "      <td>0</td>\n",
       "      <td>0</td>\n",
       "      <td>0</td>\n",
       "      <td>1</td>\n",
       "      <td>1</td>\n",
       "      <td>0</td>\n",
       "      <td>0</td>\n",
       "      <td>0</td>\n",
       "      <td>0</td>\n",
       "      <td>1</td>\n",
       "      <td>0</td>\n",
       "      <td>0</td>\n",
       "    </tr>\n",
       "    <tr>\n",
       "      <th>1</th>\n",
       "      <td>-1.333333</td>\n",
       "      <td>0.000000</td>\n",
       "      <td>0.157480</td>\n",
       "      <td>1.046154</td>\n",
       "      <td>1.687500</td>\n",
       "      <td>1</td>\n",
       "      <td>0</td>\n",
       "      <td>0</td>\n",
       "      <td>0</td>\n",
       "      <td>0</td>\n",
       "      <td>0</td>\n",
       "      <td>0</td>\n",
       "      <td>1</td>\n",
       "      <td>0</td>\n",
       "      <td>0</td>\n",
       "      <td>1</td>\n",
       "      <td>0</td>\n",
       "      <td>0</td>\n",
       "      <td>0</td>\n",
       "      <td>0</td>\n",
       "      <td>1</td>\n",
       "      <td>0</td>\n",
       "    </tr>\n",
       "    <tr>\n",
       "      <th>2</th>\n",
       "      <td>-1.037037</td>\n",
       "      <td>0.000000</td>\n",
       "      <td>-0.566929</td>\n",
       "      <td>0.584615</td>\n",
       "      <td>0.375000</td>\n",
       "      <td>0</td>\n",
       "      <td>0</td>\n",
       "      <td>0</td>\n",
       "      <td>0</td>\n",
       "      <td>0</td>\n",
       "      <td>0</td>\n",
       "      <td>1</td>\n",
       "      <td>0</td>\n",
       "      <td>0</td>\n",
       "      <td>0</td>\n",
       "      <td>0</td>\n",
       "      <td>0</td>\n",
       "      <td>0</td>\n",
       "      <td>1</td>\n",
       "      <td>0</td>\n",
       "      <td>1</td>\n",
       "      <td>0</td>\n",
       "    </tr>\n",
       "    <tr>\n",
       "      <th>3</th>\n",
       "      <td>0.074074</td>\n",
       "      <td>-0.500000</td>\n",
       "      <td>-0.062992</td>\n",
       "      <td>0.769231</td>\n",
       "      <td>0.000000</td>\n",
       "      <td>1</td>\n",
       "      <td>0</td>\n",
       "      <td>0</td>\n",
       "      <td>0</td>\n",
       "      <td>0</td>\n",
       "      <td>0</td>\n",
       "      <td>1</td>\n",
       "      <td>0</td>\n",
       "      <td>0</td>\n",
       "      <td>0</td>\n",
       "      <td>1</td>\n",
       "      <td>0</td>\n",
       "      <td>0</td>\n",
       "      <td>1</td>\n",
       "      <td>0</td>\n",
       "      <td>1</td>\n",
       "      <td>0</td>\n",
       "    </tr>\n",
       "    <tr>\n",
       "      <th>4</th>\n",
       "      <td>0.148148</td>\n",
       "      <td>-0.500000</td>\n",
       "      <td>1.795276</td>\n",
       "      <td>0.307692</td>\n",
       "      <td>-0.125000</td>\n",
       "      <td>0</td>\n",
       "      <td>1</td>\n",
       "      <td>0</td>\n",
       "      <td>0</td>\n",
       "      <td>0</td>\n",
       "      <td>0</td>\n",
       "      <td>0</td>\n",
       "      <td>0</td>\n",
       "      <td>0</td>\n",
       "      <td>0</td>\n",
       "      <td>1</td>\n",
       "      <td>0</td>\n",
       "      <td>0</td>\n",
       "      <td>1</td>\n",
       "      <td>0</td>\n",
       "      <td>1</td>\n",
       "      <td>0</td>\n",
       "    </tr>\n",
       "  </tbody>\n",
       "</table>\n",
       "</div>"
      ],
      "text/plain": [
       "        age    trtbps      chol  thalachh   oldpeak  sex_1  exng_1  caa_1  \\\n",
       "0  0.592593  0.750000 -0.110236 -0.092308  0.937500      1       0      0   \n",
       "1 -1.333333  0.000000  0.157480  1.046154  1.687500      1       0      0   \n",
       "2 -1.037037  0.000000 -0.566929  0.584615  0.375000      0       0      0   \n",
       "3  0.074074 -0.500000 -0.062992  0.769231  0.000000      1       0      0   \n",
       "4  0.148148 -0.500000  1.795276  0.307692 -0.125000      0       1      0   \n",
       "\n",
       "   caa_2  caa_3  caa_4  cp_1  cp_2  cp_3  fbs_1  restecg_1  restecg_2  slp_1  \\\n",
       "0      0      0      0     0     0     1      1          0          0      0   \n",
       "1      0      0      0     0     1     0      0          1          0      0   \n",
       "2      0      0      0     1     0     0      0          0          0      0   \n",
       "3      0      0      0     1     0     0      0          1          0      0   \n",
       "4      0      0      0     0     0     0      0          1          0      0   \n",
       "\n",
       "   slp_2  thall_1  thall_2  thall_3  \n",
       "0      0        1        0        0  \n",
       "1      0        0        1        0  \n",
       "2      1        0        1        0  \n",
       "3      1        0        1        0  \n",
       "4      1        0        1        0  "
      ]
     },
     "execution_count": 3,
     "metadata": {},
     "output_type": "execute_result"
    }
   ],
   "source": [
    "# creating a copy of df\n",
    "df1 = df\n",
    "\n",
    "# define the columns to be encoded and scaled\n",
    "cat_cols = ['sex','exng','caa','cp','fbs','restecg','slp','thall']\n",
    "con_cols = [\"age\",\"trtbps\",\"chol\",\"thalachh\",\"oldpeak\"]\n",
    "\n",
    "# encoding the categorical columns\n",
    "df1 = pd.get_dummies(df1, columns = cat_cols, drop_first = True)\n",
    "\n",
    "# defining the features and target\n",
    "X = df1.drop(['output'],axis=1)\n",
    "y = df1[['output']]\n",
    "\n",
    "# instantiating the scaler\n",
    "scaler = RobustScaler()\n",
    "\n",
    "# scaling the continuous featuree\n",
    "X[con_cols] = scaler.fit_transform(X[con_cols])\n",
    "print(\"The first 5 rows of X are\")\n",
    "X.head()"
   ]
  },
  {
   "cell_type": "code",
   "execution_count": 4,
   "id": "03614787",
   "metadata": {
    "execution": {
     "iopub.execute_input": "2024-02-16T04:30:01.924465Z",
     "iopub.status.busy": "2024-02-16T04:30:01.922944Z",
     "iopub.status.idle": "2024-02-16T04:30:01.937015Z",
     "shell.execute_reply": "2024-02-16T04:30:01.937726Z",
     "shell.execute_reply.started": "2024-02-16T03:41:20.069450Z"
    },
    "papermill": {
     "duration": 0.038802,
     "end_time": "2024-02-16T04:30:01.937971",
     "exception": false,
     "start_time": "2024-02-16T04:30:01.899169",
     "status": "completed"
    },
    "tags": []
   },
   "outputs": [
    {
     "name": "stdout",
     "output_type": "stream",
     "text": [
      "The shape of X_train is       (242, 22)\n",
      "The shape of X_test is        (61, 22)\n",
      "The shape of y_train is       (242, 1)\n",
      "The shape of y_test is        (61, 1)\n"
     ]
    }
   ],
   "source": [
    "X_train, X_test, y_train, y_test = train_test_split(X,y, test_size = 0.2, random_state = 42)\n",
    "print(\"The shape of X_train is      \", X_train.shape)\n",
    "print(\"The shape of X_test is       \",X_test.shape)\n",
    "print(\"The shape of y_train is      \",y_train.shape)\n",
    "print(\"The shape of y_test is       \",y_test.shape)"
   ]
  },
  {
   "cell_type": "code",
   "execution_count": 5,
   "id": "f2c1d338",
   "metadata": {
    "execution": {
     "iopub.execute_input": "2024-02-16T04:30:01.979588Z",
     "iopub.status.busy": "2024-02-16T04:30:01.978657Z",
     "iopub.status.idle": "2024-02-16T04:30:01.988765Z",
     "shell.execute_reply": "2024-02-16T04:30:01.989467Z",
     "shell.execute_reply.started": "2024-02-16T03:41:20.082835Z"
    },
    "papermill": {
     "duration": 0.035351,
     "end_time": "2024-02-16T04:30:01.989792",
     "exception": false,
     "start_time": "2024-02-16T04:30:01.954441",
     "status": "completed"
    },
    "tags": []
   },
   "outputs": [],
   "source": [
    "key = ['AdaBoostClassifier','LogisticRegression','KNeighborsClassifier','SVC','DecisionTreeClassifier','RandomForestClassifier','GradientBoostingClassifier','XGBClassifier','BernoulliNB']\n",
    "value = [AdaBoostClassifier(),LogisticRegression(random_state=9), KNeighborsClassifier(), SVC(probability=True), DecisionTreeClassifier(), RandomForestClassifier(n_estimators = 100, random_state = 0), GradientBoostingClassifier(n_estimators = 300,max_depth=1,subsample=0.8,max_features=0.2), xgb.XGBClassifier(),BernoulliNB()]\n",
    "models = dict(zip(key,value))"
   ]
  },
  {
   "cell_type": "code",
   "execution_count": 6,
   "id": "2eea37d8",
   "metadata": {
    "execution": {
     "iopub.execute_input": "2024-02-16T04:30:02.035487Z",
     "iopub.status.busy": "2024-02-16T04:30:02.034570Z",
     "iopub.status.idle": "2024-02-16T04:30:05.391805Z",
     "shell.execute_reply": "2024-02-16T04:30:05.391089Z",
     "shell.execute_reply.started": "2024-02-16T03:42:32.518251Z"
    },
    "papermill": {
     "duration": 3.384359,
     "end_time": "2024-02-16T04:30:05.391969",
     "exception": false,
     "start_time": "2024-02-16T04:30:02.007610",
     "status": "completed"
    },
    "tags": []
   },
   "outputs": [
    {
     "name": "stdout",
     "output_type": "stream",
     "text": [
      "AdaBoostClassifier 0.7540983606557377\n",
      "[[24  5]\n",
      " [10 22]]\n",
      "0.8362068965517242\n",
      "              precision    recall  f1-score   support\n",
      "\n",
      "           0       0.71      0.83      0.76        29\n",
      "           1       0.81      0.69      0.75        32\n",
      "\n",
      "    accuracy                           0.75        61\n",
      "   macro avg       0.76      0.76      0.75        61\n",
      "weighted avg       0.76      0.75      0.75        61\n",
      "\n"
     ]
    },
    {
     "data": {
      "image/png": "[encoded data removed]",
      "text/plain": [
       "<Figure size 432x288 with 1 Axes>"
      ]
     },
     "metadata": {
      "needs_background": "light"
     },
     "output_type": "display_data"
    },
    {
     "name": "stdout",
     "output_type": "stream",
     "text": [
      "LogisticRegression 0.9016393442622951\n",
      "[[27  2]\n",
      " [ 4 28]]\n",
      "0.9396551724137931\n",
      "              precision    recall  f1-score   support\n",
      "\n",
      "           0       0.87      0.93      0.90        29\n",
      "           1       0.93      0.88      0.90        32\n",
      "\n",
      "    accuracy                           0.90        61\n",
      "   macro avg       0.90      0.90      0.90        61\n",
      "weighted avg       0.90      0.90      0.90        61\n",
      "\n"
     ]
    },
    {
     "data": {
      "image/png": "[encoded data removed]",
      "text/plain": [
       "<Figure size 432x288 with 1 Axes>"
      ]
     },
     "metadata": {
      "needs_background": "light"
     },
     "output_type": "display_data"
    },
    {
     "name": "stdout",
     "output_type": "stream",
     "text": [
      "KNeighborsClassifier 0.8688524590163934\n",
      "[[25  4]\n",
      " [ 4 28]]\n",
      "0.9337284482758621\n",
      "              precision    recall  f1-score   support\n",
      "\n",
      "           0       0.86      0.86      0.86        29\n",
      "           1       0.88      0.88      0.88        32\n",
      "\n",
      "    accuracy                           0.87        61\n",
      "   macro avg       0.87      0.87      0.87        61\n",
      "weighted avg       0.87      0.87      0.87        61\n",
      "\n"
     ]
    },
    {
     "data": {
      "image/png": "[encoded data removed]",
      "text/plain": [
       "<Figure size 432x288 with 1 Axes>"
      ]
     },
     "metadata": {
      "needs_background": "light"
     },
     "output_type": "display_data"
    },
    {
     "name": "stdout",
     "output_type": "stream",
     "text": [
      "SVC 0.8524590163934426\n",
      "[[27  2]\n",
      " [ 7 25]]\n",
      "0.9299568965517241\n",
      "              precision    recall  f1-score   support\n",
      "\n",
      "           0       0.79      0.93      0.86        29\n",
      "           1       0.93      0.78      0.85        32\n",
      "\n",
      "    accuracy                           0.85        61\n",
      "   macro avg       0.86      0.86      0.85        61\n",
      "weighted avg       0.86      0.85      0.85        61\n",
      "\n"
     ]
    },
    {
     "data": {
      "image/png": "[encoded data removed]",
      "text/plain": [
       "<Figure size 432x288 with 1 Axes>"
      ]
     },
     "metadata": {
      "needs_background": "light"
     },
     "output_type": "display_data"
    },
    {
     "name": "stdout",
     "output_type": "stream",
     "text": [
      "DecisionTreeClassifier 0.7377049180327869\n",
      "[[22  7]\n",
      " [ 9 23]]\n",
      "0.7386853448275862\n",
      "              precision    recall  f1-score   support\n",
      "\n",
      "           0       0.71      0.76      0.73        29\n",
      "           1       0.77      0.72      0.74        32\n",
      "\n",
      "    accuracy                           0.74        61\n",
      "   macro avg       0.74      0.74      0.74        61\n",
      "weighted avg       0.74      0.74      0.74        61\n",
      "\n"
     ]
    },
    {
     "data": {
      "image/png": "[encoded data removed]",
      "text/plain": [
       "<Figure size 432x288 with 1 Axes>"
      ]
     },
     "metadata": {
      "needs_background": "light"
     },
     "output_type": "display_data"
    },
    {
     "name": "stdout",
     "output_type": "stream",
     "text": [
      "RandomForestClassifier 0.8852459016393442\n",
      "[[26  3]\n",
      " [ 4 28]]\n",
      "0.9385775862068965\n",
      "              precision    recall  f1-score   support\n",
      "\n",
      "           0       0.87      0.90      0.88        29\n",
      "           1       0.90      0.88      0.89        32\n",
      "\n",
      "    accuracy                           0.89        61\n",
      "   macro avg       0.88      0.89      0.89        61\n",
      "weighted avg       0.89      0.89      0.89        61\n",
      "\n"
     ]
    },
    {
     "data": {
      "image/png": "[encoded data removed]",
      "text/plain": [
       "<Figure size 432x288 with 1 Axes>"
      ]
     },
     "metadata": {
      "needs_background": "light"
     },
     "output_type": "display_data"
    },
    {
     "name": "stdout",
     "output_type": "stream",
     "text": [
      "GradientBoostingClassifier 0.8688524590163934\n",
      "[[26  3]\n",
      " [ 5 27]]\n",
      "0.9148706896551725\n",
      "              precision    recall  f1-score   support\n",
      "\n",
      "           0       0.84      0.90      0.87        29\n",
      "           1       0.90      0.84      0.87        32\n",
      "\n",
      "    accuracy                           0.87        61\n",
      "   macro avg       0.87      0.87      0.87        61\n",
      "weighted avg       0.87      0.87      0.87        61\n",
      "\n"
     ]
    },
    {
     "data": {
      "image/png": "[encoded data removed]",
      "text/plain": [
       "<Figure size 432x288 with 1 Axes>"
      ]
     },
     "metadata": {
      "needs_background": "light"
     },
     "output_type": "display_data"
    },
    {
     "name": "stdout",
     "output_type": "stream",
     "text": [
      "[04:30:04] WARNING: ../src/learner.cc:1115: Starting in XGBoost 1.3.0, the default evaluation metric used with the objective 'binary:logistic' was changed from 'error' to 'logloss'. Explicitly set eval_metric if you'd like to restore the old behavior.\n",
      "XGBClassifier 0.8360655737704918\n",
      "[[26  3]\n",
      " [ 7 25]]\n",
      "0.9267241379310345\n",
      "              precision    recall  f1-score   support\n",
      "\n",
      "           0       0.79      0.90      0.84        29\n",
      "           1       0.89      0.78      0.83        32\n",
      "\n",
      "    accuracy                           0.84        61\n",
      "   macro avg       0.84      0.84      0.84        61\n",
      "weighted avg       0.84      0.84      0.84        61\n",
      "\n"
     ]
    },
    {
     "data": {
      "image/png": "[encoded data removed]",
      "text/plain": [
       "<Figure size 432x288 with 1 Axes>"
      ]
     },
     "metadata": {
      "needs_background": "light"
     },
     "output_type": "display_data"
    },
    {
     "name": "stdout",
     "output_type": "stream",
     "text": [
      "BernoulliNB 0.8524590163934426\n",
      "[[27  2]\n",
      " [ 7 25]]\n",
      "0.9364224137931034\n",
      "              precision    recall  f1-score   support\n",
      "\n",
      "           0       0.79      0.93      0.86        29\n",
      "           1       0.93      0.78      0.85        32\n",
      "\n",
      "    accuracy                           0.85        61\n",
      "   macro avg       0.86      0.86      0.85        61\n",
      "weighted avg       0.86      0.85      0.85        61\n",
      "\n"
     ]
    },
    {
     "data": {
      "image/png": "[encoded data removed]",
      "text/plain": [
       "<Figure size 432x288 with 1 Axes>"
      ]
     },
     "metadata": {
      "needs_background": "light"
     },
     "output_type": "display_data"
    }
   ],
   "source": [
    "model_results =[]\n",
    "\n",
    "for name,algo in models.items():\n",
    "    model=algo\n",
    "    model.fit(X_train,y_train)\n",
    "    predict = model.predict(X_test)\n",
    "    acc = accuracy_score(y_test, predict)\n",
    "    conf = confusion_matrix(y_test, predict)\n",
    "    \n",
    "    y_pred_proba = model.predict_proba(X_test)[:,1]\n",
    "    fpr, tpr, thresholds = roc_curve(y_test, y_pred_proba)\n",
    "    roc_auc = roc_auc_score(y_test,y_pred_proba)\n",
    "        \n",
    "    model_results.append((name,acc,conf,roc_auc))\n",
    "    print(name,acc)\n",
    "    print(conf)    \n",
    "    print(roc_auc)\n",
    "    print(classification_report(y_test,predict))\n",
    "    \n",
    "    plt.plot([0,1],[0,1],'k--')\n",
    "    plt.plot(fpr,tpr, label='Knn')\n",
    "    plt.xlabel('fpr')\n",
    "    plt.ylabel('tpr')\n",
    "    plt.title('ROC curve')\n",
    "    plt.show()"
   ]
  },
  {
   "cell_type": "code",
   "execution_count": 7,
   "id": "adff667a",
   "metadata": {
    "execution": {
     "iopub.execute_input": "2024-02-16T04:30:05.454827Z",
     "iopub.status.busy": "2024-02-16T04:30:05.453998Z",
     "iopub.status.idle": "2024-02-16T04:30:05.463333Z",
     "shell.execute_reply": "2024-02-16T04:30:05.463933Z",
     "shell.execute_reply.started": "2024-02-16T03:42:38.584678Z"
    },
    "papermill": {
     "duration": 0.042613,
     "end_time": "2024-02-16T04:30:05.464154",
     "exception": false,
     "start_time": "2024-02-16T04:30:05.421541",
     "status": "completed"
    },
    "tags": []
   },
   "outputs": [
    {
     "data": {
      "text/plain": [
       "[('AdaBoostClassifier',\n",
       "  0.7540983606557377,\n",
       "  array([[24,  5],\n",
       "         [10, 22]]),\n",
       "  0.8362068965517242),\n",
       " ('LogisticRegression',\n",
       "  0.9016393442622951,\n",
       "  array([[27,  2],\n",
       "         [ 4, 28]]),\n",
       "  0.9396551724137931),\n",
       " ('KNeighborsClassifier',\n",
       "  0.8688524590163934,\n",
       "  array([[25,  4],\n",
       "         [ 4, 28]]),\n",
       "  0.9337284482758621),\n",
       " ('SVC',\n",
       "  0.8524590163934426,\n",
       "  array([[27,  2],\n",
       "         [ 7, 25]]),\n",
       "  0.9299568965517241),\n",
       " ('DecisionTreeClassifier',\n",
       "  0.7377049180327869,\n",
       "  array([[22,  7],\n",
       "         [ 9, 23]]),\n",
       "  0.7386853448275862),\n",
       " ('RandomForestClassifier',\n",
       "  0.8852459016393442,\n",
       "  array([[26,  3],\n",
       "         [ 4, 28]]),\n",
       "  0.9385775862068965),\n",
       " ('GradientBoostingClassifier',\n",
       "  0.8688524590163934,\n",
       "  array([[26,  3],\n",
       "         [ 5, 27]]),\n",
       "  0.9148706896551725),\n",
       " ('XGBClassifier',\n",
       "  0.8360655737704918,\n",
       "  array([[26,  3],\n",
       "         [ 7, 25]]),\n",
       "  0.9267241379310345),\n",
       " ('BernoulliNB',\n",
       "  0.8524590163934426,\n",
       "  array([[27,  2],\n",
       "         [ 7, 25]]),\n",
       "  0.9364224137931034)]"
      ]
     },
     "execution_count": 7,
     "metadata": {},
     "output_type": "execute_result"
    }
   ],
   "source": [
    "model_results"
   ]
  },
  {
   "cell_type": "markdown",
   "id": "6feb8fc1",
   "metadata": {
    "papermill": {
     "duration": 0.030703,
     "end_time": "2024-02-16T04:30:05.524682",
     "exception": false,
     "start_time": "2024-02-16T04:30:05.493979",
     "status": "completed"
    },
    "tags": []
   },
   "source": [
    "# Hyperparameter Tuning"
   ]
  },
  {
   "cell_type": "code",
   "execution_count": 8,
   "id": "498842ac",
   "metadata": {
    "execution": {
     "iopub.execute_input": "2024-02-16T04:30:05.602792Z",
     "iopub.status.busy": "2024-02-16T04:30:05.601835Z",
     "iopub.status.idle": "2024-02-16T04:34:20.941837Z",
     "shell.execute_reply": "2024-02-16T04:34:20.942473Z"
    },
    "papermill": {
     "duration": 255.386697,
     "end_time": "2024-02-16T04:34:20.942724",
     "exception": false,
     "start_time": "2024-02-16T04:30:05.556027",
     "status": "completed"
    },
    "tags": []
   },
   "outputs": [
    {
     "name": "stdout",
     "output_type": "stream",
     "text": [
      "The best params are : {'max_depth': 15, 'min_samples_leaf': 1, 'min_samples_split': 10, 'n_estimators': 200}\n",
      "The best score is   : 0.8221938775510205\n",
      "The test accuracy score of model after hyper-parameter tuning is  0.8360655737704918\n"
     ]
    }
   ],
   "source": [
    "# instantiating the object\n",
    "model = RandomForestClassifier()\n",
    "\n",
    "# setting a grid - not so extensive\n",
    "parameters = {'n_estimators': [50, 100, 200],\n",
    "    'max_depth': [2,3,10,15,20,25, 30],\n",
    "    'min_samples_split': [2, 5, 10],\n",
    "    'min_samples_leaf': [1, 2, 4]}\n",
    "\n",
    "# instantiating the GridSearchCV object\n",
    "# For binary classification:\n",
    "# 'accuracy': Calculates the accuracy of the classifier.\n",
    "# 'precision': Measures the ability of the classifier not to label as positive a sample that is negative.\n",
    "# 'recall': Measures the ability of the classifier to capture all the positive samples.\n",
    "# 'f1': Combines precision and recall into a single metric.\n",
    "# 'roc_auc': Computes the area under the Receiver Operating Characteristic (ROC) curve.\n",
    "\n",
    "searcher = GridSearchCV(estimator = model, param_grid = parameters,cv=5, scoring='accuracy')\n",
    "\n",
    "# fitting the object\n",
    "searcher.fit(X_train, y_train)\n",
    "\n",
    "# the scores\n",
    "print(\"The best params are :\", searcher.best_params_)\n",
    "print(\"The best score is   :\", searcher.best_score_)\n",
    "\n",
    "# predicting the values\n",
    "y_pred = searcher.predict(X_test)\n",
    "\n",
    "# printing the test accuracy\n",
    "print(\"The test accuracy score of model after hyper-parameter tuning is \", accuracy_score(y_test, y_pred))"
   ]
  },
  {
   "cell_type": "code",
   "execution_count": null,
   "id": "705e8449",
   "metadata": {
    "papermill": {
     "duration": 0.03107,
     "end_time": "2024-02-16T04:34:21.003734",
     "exception": false,
     "start_time": "2024-02-16T04:34:20.972664",
     "status": "completed"
    },
    "tags": []
   },
   "outputs": [],
   "source": []
  }
 ],
 "metadata": {
  "kaggle": {
   "accelerator": "none",
   "dataSources": [
    {
     "datasetId": 1226038,
     "sourceId": 2047221,
     "sourceType": "datasetVersion"
    }
   ],
   "dockerImageVersionId": 30154,
   "isGpuEnabled": false,
   "isInternetEnabled": false,
   "language": "python",
   "sourceType": "notebook"
  },
  "kernelspec": {
   "display_name": "Python 3",
   "language": "python",
   "name": "python3"
  },
  "language_info": {
   "codemirror_mode": {
    "name": "ipython",
    "version": 3
   },
   "file_extension": ".py",
   "mimetype": "text/x-python",
   "name": "python",
   "nbconvert_exporter": "python",
   "pygments_lexer": "ipython3",
   "version": "3.7.12"
  },
  "papermill": {
   "default_parameters": {},
   "duration": 276.291123,
   "end_time": "2024-02-16T04:34:21.947125",
   "environment_variables": {},
   "exception": null,
   "input_path": "__notebook__.ipynb",
   "output_path": "__notebook__.ipynb",
   "parameters": {},
   "start_time": "2024-02-16T04:29:45.656002",
   "version": "2.3.3"
  }
 },
 "nbformat": 4,
 "nbformat_minor": 5
}
