{
 "cells": [
  {
   "cell_type": "code",
   "execution_count": 1,
   "id": "e9eb0bb4",
   "metadata": {
    "_cell_guid": "b1076dfc-b9ad-4769-8c92-a6c4dae69d19",
    "_uuid": "8f2839f25d086af736a60e9eeb907d3b93b6e0e5",
    "execution": {
     "iopub.execute_input": "2024-10-29T15:49:37.660236Z",
     "iopub.status.busy": "2024-10-29T15:49:37.659759Z",
     "iopub.status.idle": "2024-10-29T15:49:37.671677Z",
     "shell.execute_reply": "2024-10-29T15:49:37.670642Z"
    },
    "papermill": {
     "duration": 0.019716,
     "end_time": "2024-10-29T15:49:37.674401",
     "exception": false,
     "start_time": "2024-10-29T15:49:37.654685",
     "status": "completed"
    },
    "tags": []
   },
   "outputs": [],
   "source": [
    "def calculate_monthly_mortgage(principal, annual_interest_rate, loan_term_years):\n",
    "    # Convert annual interest rate to a monthly rate\n",
    "    monthly_interest_rate = annual_interest_rate / 100 / 12\n",
    "    # Total number of monthly payments\n",
    "    total_payments = loan_term_years * 12\n",
    "    \n",
    "    # Calculate monthly payment using the formula\n",
    "    monthly_payment = principal * (monthly_interest_rate * (1 + monthly_interest_rate) ** total_payments) / \\\n",
    "                      ((1 + monthly_interest_rate) ** total_payments - 1)\n",
    "    \n",
    "    return monthly_payment"
   ]
  },
  {
   "cell_type": "markdown",
   "id": "2de69729",
   "metadata": {
    "papermill": {
     "duration": 0.002101,
     "end_time": "2024-10-29T15:49:37.679306",
     "exception": false,
     "start_time": "2024-10-29T15:49:37.677205",
     "status": "completed"
    },
    "tags": []
   },
   "source": [
    "## RATE IMPACT"
   ]
  },
  {
   "cell_type": "code",
   "execution_count": 2,
   "id": "01df18de",
   "metadata": {
    "execution": {
     "iopub.execute_input": "2024-10-29T15:49:37.686328Z",
     "iopub.status.busy": "2024-10-29T15:49:37.685203Z",
     "iopub.status.idle": "2024-10-29T15:49:37.692908Z",
     "shell.execute_reply": "2024-10-29T15:49:37.691745Z"
    },
    "papermill": {
     "duration": 0.013999,
     "end_time": "2024-10-29T15:49:37.695602",
     "exception": false,
     "start_time": "2024-10-29T15:49:37.681603",
     "status": "completed"
    },
    "tags": []
   },
   "outputs": [
    {
     "name": "stdout",
     "output_type": "stream",
     "text": [
      "Monthly Mortgage Payment: $4238.54 with rate of 2.00\n",
      "Monthly Mortgage Payment: $4287.40 with rate of 2.10\n",
      "Monthly Mortgage Payment: $4336.59 with rate of 2.20\n",
      "Monthly Mortgage Payment: $4386.11 with rate of 2.30\n",
      "Monthly Mortgage Payment: $4435.97 with rate of 2.40\n",
      "Monthly Mortgage Payment: $4486.17 with rate of 2.50\n",
      "Monthly Mortgage Payment: $4536.70 with rate of 2.60\n",
      "Monthly Mortgage Payment: $4587.55 with rate of 2.70\n",
      "Monthly Mortgage Payment: $4638.74 with rate of 2.80\n",
      "Monthly Mortgage Payment: $4690.26 with rate of 2.90\n",
      "Monthly Mortgage Payment: $4742.11 with rate of 3.00\n",
      "Monthly Mortgage Payment: $4794.29 with rate of 3.10\n",
      "Monthly Mortgage Payment: $4846.79 with rate of 3.20\n",
      "Monthly Mortgage Payment: $4899.62 with rate of 3.30\n",
      "Monthly Mortgage Payment: $4952.76 with rate of 3.40\n",
      "Monthly Mortgage Payment: $5006.24 with rate of 3.50\n",
      "Monthly Mortgage Payment: $5060.03 with rate of 3.60\n",
      "Monthly Mortgage Payment: $5114.14 with rate of 3.70\n",
      "Monthly Mortgage Payment: $5168.57 with rate of 3.80\n",
      "Monthly Mortgage Payment: $5223.31 with rate of 3.90\n",
      "Monthly Mortgage Payment: $5278.37 with rate of 4.00\n",
      "Monthly Mortgage Payment: $5333.74 with rate of 4.10\n",
      "Monthly Mortgage Payment: $5389.42 with rate of 4.20\n",
      "Monthly Mortgage Payment: $5445.42 with rate of 4.30\n",
      "Monthly Mortgage Payment: $5501.72 with rate of 4.40\n",
      "Monthly Mortgage Payment: $5558.32 with rate of 4.50\n",
      "Monthly Mortgage Payment: $5615.24 with rate of 4.60\n",
      "Monthly Mortgage Payment: $5672.45 with rate of 4.70\n",
      "Monthly Mortgage Payment: $5729.97 with rate of 4.80\n",
      "Monthly Mortgage Payment: $5787.79 with rate of 4.90\n",
      "Monthly Mortgage Payment: $5845.90 with rate of 5.00\n",
      "Monthly Mortgage Payment: $5904.31 with rate of 5.10\n",
      "Monthly Mortgage Payment: $5963.02 with rate of 5.20\n",
      "Monthly Mortgage Payment: $6022.01 with rate of 5.30\n",
      "Monthly Mortgage Payment: $6081.30 with rate of 5.40\n",
      "Monthly Mortgage Payment: $6140.87 with rate of 5.50\n",
      "Monthly Mortgage Payment: $6200.74 with rate of 5.60\n",
      "Monthly Mortgage Payment: $6260.88 with rate of 5.70\n",
      "Monthly Mortgage Payment: $6321.31 with rate of 5.80\n",
      "Monthly Mortgage Payment: $6382.02 with rate of 5.90\n",
      "Monthly Mortgage Payment: $6443.01 with rate of 6.00\n",
      "Monthly Mortgage Payment: $6504.28 with rate of 6.10\n",
      "Monthly Mortgage Payment: $6565.82 with rate of 6.20\n",
      "Monthly Mortgage Payment: $6627.63 with rate of 6.30\n",
      "Monthly Mortgage Payment: $6689.72 with rate of 6.40\n",
      "Monthly Mortgage Payment: $6752.07 with rate of 6.50\n",
      "Monthly Mortgage Payment: $6814.69 with rate of 6.60\n",
      "Monthly Mortgage Payment: $6877.57 with rate of 6.70\n",
      "Monthly Mortgage Payment: $6940.72 with rate of 6.80\n",
      "Monthly Mortgage Payment: $7004.13 with rate of 6.90\n"
     ]
    }
   ],
   "source": [
    "principal = 1000000  # Example loan amount\n",
    "loan_term_years = 25  # Example loan term in years\n",
    "\n",
    "for rate in range(20,70,1):\n",
    "    rate = rate / 10\n",
    "    monthly_payment = calculate_monthly_mortgage(principal, rate, loan_term_years)\n",
    "    print(f\"Monthly Mortgage Payment: ${monthly_payment:.2f} with rate of {rate:.2f}\" )"
   ]
  },
  {
   "cell_type": "markdown",
   "id": "c02e65f4",
   "metadata": {
    "papermill": {
     "duration": 0.002183,
     "end_time": "2024-10-29T15:49:37.700431",
     "exception": false,
     "start_time": "2024-10-29T15:49:37.698248",
     "status": "completed"
    },
    "tags": []
   },
   "source": [
    "## TERM IMPACT"
   ]
  },
  {
   "cell_type": "code",
   "execution_count": 3,
   "id": "09af901b",
   "metadata": {
    "execution": {
     "iopub.execute_input": "2024-10-29T15:49:37.706940Z",
     "iopub.status.busy": "2024-10-29T15:49:37.706513Z",
     "iopub.status.idle": "2024-10-29T15:49:37.713345Z",
     "shell.execute_reply": "2024-10-29T15:49:37.712152Z"
    },
    "papermill": {
     "duration": 0.013069,
     "end_time": "2024-10-29T15:49:37.715909",
     "exception": false,
     "start_time": "2024-10-29T15:49:37.702840",
     "status": "completed"
    },
    "tags": []
   },
   "outputs": [
    {
     "name": "stdout",
     "output_type": "stream",
     "text": [
      "Monthly Mortgage Payment: $10124.51 with loan term of 10\n",
      "Monthly Mortgage Payment: $9376.67 with loan term of 11\n",
      "Monthly Mortgage Payment: $8755.28 with loan term of 12\n",
      "Monthly Mortgage Payment: $8231.16 with loan term of 13\n",
      "Monthly Mortgage Payment: $7783.46 with loan term of 14\n",
      "Monthly Mortgage Payment: $7396.88 with loan term of 15\n",
      "Monthly Mortgage Payment: $7059.96 with loan term of 16\n",
      "Monthly Mortgage Payment: $6763.93 with loan term of 17\n",
      "Monthly Mortgage Payment: $6501.98 with loan term of 18\n",
      "Monthly Mortgage Payment: $6268.70 with loan term of 19\n",
      "Monthly Mortgage Payment: $6059.80 with loan term of 20\n",
      "Monthly Mortgage Payment: $5871.79 with loan term of 21\n",
      "Monthly Mortgage Payment: $5701.81 with loan term of 22\n",
      "Monthly Mortgage Payment: $5547.50 with loan term of 23\n",
      "Monthly Mortgage Payment: $5406.91 with loan term of 24\n",
      "Monthly Mortgage Payment: $5278.37 with loan term of 25\n",
      "Monthly Mortgage Payment: $5160.49 with loan term of 26\n",
      "Monthly Mortgage Payment: $5052.08 with loan term of 27\n",
      "Monthly Mortgage Payment: $4952.12 with loan term of 28\n",
      "Monthly Mortgage Payment: $4859.73 with loan term of 29\n"
     ]
    }
   ],
   "source": [
    "principal = 1000000  # Example loan amount\n",
    "loan_term_years = 25  # Example loan term in years\n",
    "rate = 4\n",
    "\n",
    "for loan_term_years in range(10,30,1):\n",
    "    monthly_payment = calculate_monthly_mortgage(principal, rate, loan_term_years)\n",
    "    print(f\"Monthly Mortgage Payment: ${monthly_payment:.2f} with loan term of {loan_term_years:.0f}\" )"
   ]
  },
  {
   "cell_type": "code",
   "execution_count": null,
   "id": "adb0048c",
   "metadata": {
    "papermill": {
     "duration": 0.002297,
     "end_time": "2024-10-29T15:49:37.720808",
     "exception": false,
     "start_time": "2024-10-29T15:49:37.718511",
     "status": "completed"
    },
    "tags": []
   },
   "outputs": [],
   "source": []
  }
 ],
 "metadata": {
  "kaggle": {
   "accelerator": "none",
   "dataSources": [],
   "dockerImageVersionId": 30786,
   "isGpuEnabled": false,
   "isInternetEnabled": true,
   "language": "python",
   "sourceType": "notebook"
  },
  "kernelspec": {
   "display_name": "Python 3",
   "language": "python",
   "name": "python3"
  },
  "language_info": {
   "codemirror_mode": {
    "name": "ipython",
    "version": 3
   },
   "file_extension": ".py",
   "mimetype": "text/x-python",
   "name": "python",
   "nbconvert_exporter": "python",
   "pygments_lexer": "ipython3",
   "version": "3.10.14"
  },
  "papermill": {
   "default_parameters": {},
   "duration": 3.434693,
   "end_time": "2024-10-29T15:49:38.144106",
   "environment_variables": {},
   "exception": null,
   "input_path": "__notebook__.ipynb",
   "output_path": "__notebook__.ipynb",
   "parameters": {},
   "start_time": "2024-10-29T15:49:34.709413",
   "version": "2.6.0"
  }
 },
 "nbformat": 4,
 "nbformat_minor": 5
}
